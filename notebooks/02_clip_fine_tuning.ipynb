{
 "cells": [
  {
   "cell_type": "code",
   "execution_count": 1,
   "id": "9b6bdd37",
   "metadata": {},
   "outputs": [
    {
     "name": "stderr",
     "output_type": "stream",
     "text": [
      "/home/sysadm/Music/.venv/lib/python3.10/site-packages/tqdm/auto.py:21: TqdmWarning: IProgress not found. Please update jupyter and ipywidgets. See https://ipywidgets.readthedocs.io/en/stable/user_install.html\n",
      "  from .autonotebook import tqdm as notebook_tqdm\n",
      "Using a slow image processor as `use_fast` is unset and a slow processor was saved with this model. `use_fast=True` will be the default behavior in v4.52, even if the model was saved with a slow processor. This will result in minor differences in outputs. You'll still be able to use a slow processor with `use_fast=False`.\n"
     ]
    }
   ],
   "source": [
    "from transformers import CLIPProcessor, CLIPModel\n",
    "from datasets import load_dataset\n",
    "from torch.utils.data import DataLoader\n",
    "import torch\n",
    "from torch import nn\n",
    "from torch.optim import AdamW\n",
    "import torch\n",
    "import time\n",
    "from torch.utils.data import DataLoader\n",
    "from sklearn.metrics import accuracy_score\n",
    "from torch.nn.utils import clip_grad_norm_\n",
    "import sys\n",
    "import os\n",
    "sys.path.append(os.path.abspath(os.path.join(os.getcwd(), \"..\")))\n",
    "from scripts.preprocess_data import preprocess_dataset\n",
    "from datasets import load_dataset, DatasetDict\n",
    "from PIL import Image\n",
    "from sklearn.metrics import accuracy_score\n",
    "# Load pretrained CLIP\n",
    "model = CLIPModel.from_pretrained(\"openai/clip-vit-base-patch32\").cuda()\n",
    "processor = CLIPProcessor.from_pretrained(\"openai/clip-vit-base-patch32\")\n",
    "import torch\n",
    "import time\n",
    "import os\n",
    "from torch.utils.data import DataLoader\n",
    "from sklearn.metrics import accuracy_score\n",
    "from torch.nn.utils import clip_grad_norm_\n",
    "from torch.optim.lr_scheduler import CosineAnnealingLR, LinearLR, ReduceLROnPlateau\n",
    "import torch\n",
    "import torch.nn as nn\n",
    "import torch.nn.functional as F\n",
    "import time\n",
    "import os\n",
    "from torch.utils.data import DataLoader\n",
    "from sklearn.metrics import accuracy_score, top_k_accuracy_score\n",
    "from torch.nn.utils import clip_grad_norm_\n",
    "from torch.optim.lr_scheduler import CosineAnnealingLR, LinearLR, ReduceLROnPlateau\n",
    "from tqdm import tqdm\n",
    "\n"
   ]
  },
  {
   "cell_type": "code",
   "execution_count": 2,
   "id": "56f607f0",
   "metadata": {},
   "outputs": [],
   "source": [
    "# Load MIMIC-CXR dataset\n",
    "# dataset = load_dataset(\"ChayanM/MIMIC-Impression-Dataset\")\n",
    "\n",
    "# Check and handle splitting\n",
    "# if isinstance(dataset, DatasetDict):\n",
    "#     if all(split in dataset for split in [\"train\", \"val\", \"test\"]):\n",
    "#         train_dataset = dataset[\"train\"]\n",
    "#         val_dataset = dataset[\"val\"]\n",
    "#         test_dataset = dataset[\"test\"]\n",
    "#     elif all(split in dataset for split in [\"train\", \"test\"]):\n",
    "#         # Create validation split from part of train\n",
    "#         print(\"ℹ️ Found train/test, splitting validation from train...\")\n",
    "#         split_dataset = dataset[\"train\"].train_test_split(test_size=0.1, seed=42)\n",
    "#         train_dataset = split_dataset[\"train\"]\n",
    "#         val_dataset = split_dataset[\"test\"]\n",
    "#         test_dataset = dataset[\"test\"]\n",
    "#     else:\n",
    "#         print(\"⚠️ Only one split found. Splitting into train/val/test manually...\")\n",
    "#         temp_split = dataset[\"train\"].train_test_split(test_size=0.2, seed=42)\n",
    "#         val_test_split = temp_split[\"test\"].train_test_split(test_size=0.5, seed=42)\n",
    "#         train_dataset = temp_split[\"train\"]\n",
    "#         val_dataset = val_test_split[\"train\"]\n",
    "#         test_dataset = val_test_split[\"test\"]\n",
    "# else:\n",
    "#     raise ValueError(\"Unexpected dataset format. Please check your dataset.\")\n",
    "# raw_dataset = load_dataset(\"itsanmolgupta/mimic-cxr-dataset\")\n",
    "# print(\"Preprocessing dataset...\")\n",
    "# data_dir = \"data/raw\"\n",
    "# preprocess_dataset(raw_dataset, output_dir=data_dir)\n",
    "# print(\"Data preprocessing complete\")"
   ]
  },
  {
   "cell_type": "code",
   "execution_count": 3,
   "id": "b6131c10",
   "metadata": {},
   "outputs": [
    {
     "name": "stderr",
     "output_type": "stream",
     "text": [
      "Generating train split: 100%|██████████| 30633/30633 [00:06<00:00, 4770.23 examples/s]\n",
      "Filter: 100%|██████████| 24506/24506 [00:24<00:00, 1017.81 examples/s]\n",
      "Filter: 100%|██████████| 3064/3064 [00:03<00:00, 1017.27 examples/s]\n",
      "Filter: 100%|██████████| 3063/3063 [00:03<00:00, 947.47 examples/s]\n"
     ]
    }
   ],
   "source": [
    "train_dataset = load_dataset(\"itsanmolgupta/mimic-cxr-dataset\", split=\"train[:80%]\")\n",
    "val_datset = load_dataset(\"itsanmolgupta/mimic-cxr-dataset\", split=\"train[80%:90%]\")\n",
    "test_dataset = load_dataset(\"itsanmolgupta/mimic-cxr-dataset\", split=\"train[90%:]\")\n",
    "train_dataset = train_dataset.filter(lambda x: x['impression'] is not None)\n",
    "val_dataset = val_datset.filter(lambda x: x['impression'] is not None)\n",
    "test_dataset = test_dataset.filter(lambda x: x['impression'] is not None)\n"
   ]
  },
  {
   "cell_type": "code",
   "execution_count": 4,
   "id": "d0490b24",
   "metadata": {},
   "outputs": [
    {
     "name": "stdout",
     "output_type": "stream",
     "text": [
      "train dataset: Dataset({\n",
      "    features: ['image', 'findings', 'impression'],\n",
      "    num_rows: 24499\n",
      "})\n",
      "val dataset: Dataset({\n",
      "    features: ['image', 'findings', 'impression'],\n",
      "    num_rows: 3062\n",
      "})\n",
      "test dataset: Dataset({\n",
      "    features: ['image', 'findings', 'impression'],\n",
      "    num_rows: 3062\n",
      "})\n"
     ]
    }
   ],
   "source": [
    "print(\"train dataset:\",train_dataset)\n",
    "print(\"val dataset:\", val_dataset)\n",
    "print(\"test dataset:\", test_dataset)"
   ]
  },
  {
   "cell_type": "code",
   "execution_count": 5,
   "id": "f2c28d52",
   "metadata": {},
   "outputs": [
    {
     "name": "stdout",
     "output_type": "stream",
     "text": [
      "\n",
      " sample of train set {'image': <PIL.JpegImagePlugin.JpegImageFile image mode=RGB size=512x512 at 0x7EBCDC391E10>, 'findings': 'The lungs are clear of focal consolidation, pleural effusion or pneumothorax. The heart size is normal. The mediastinal contours are normal. Multiple surgical clips project over the left breast, and old left rib fractures are noted. ', 'impression': 'No acute cardiopulmonary process.'}\n",
      "\n",
      " sample of val set {'image': <PIL.JpegImagePlugin.JpegImageFile image mode=RGB size=512x512 at 0x7EBCDC3924A0>, 'findings': 'Lung volumes are low. Mild interstitial pulmonary edema is present. Compared with prior chest radiograph there is a new confluent opacity in the right lower lung, obscuring some portions of the right hemidiaphragm margin. The left lung is clear. There may be a small layering pleural effusion in the right and chronic pleural thickening is redemonstrated. There is no evidence of pneumothorax. Severe S type scoliosis is again seen and not significantly changed from prior. Cardiac size cannot be assessed in this AP view but appears stable compared with . ', 'impression': 'New right lower lobe opacity compatible with pneumonia vs atelectasis. Mild interstitial pulmonary edema unchanged from prior.'}\n",
      "\n",
      " sample of test set {'image': <PIL.JpegImagePlugin.JpegImageFile image mode=RGB size=512x512 at 0x7EBCDC391180>, 'findings': 'Single portable view of the chest. Exam is limited secondary to portable technique and overlying soft tissues. There is central pulmonary vascular engorgement but without evidence of frank pulmonary edema. Retrocardiac opacity is not well seen likely technical. Cardiac silhouette is enlarged but stable. ', 'impression': 'Central pulmonary vascular engorgement without evidence of frank pulmonary edema based on this limited portable exam as above.'}\n"
     ]
    }
   ],
   "source": [
    "print(\"\\n sample of train set\",train_dataset[0])\n",
    "print(\"\\n sample of val set\",val_dataset[0])\n",
    "print(\"\\n sample of test set\",test_dataset[0])"
   ]
  },
  {
   "cell_type": "code",
   "execution_count": 6,
   "id": "a4668bf0",
   "metadata": {},
   "outputs": [
    {
     "data": {
      "image/png": "[encoded data removed]",
      "text/plain": [
       "<Figure size 400x600 with 2 Axes>"
      ]
     },
     "metadata": {},
     "output_type": "display_data"
    },
    {
     "data": {
      "image/png": "[encoded data removed]",
      "text/plain": [
       "<Figure size 400x600 with 2 Axes>"
      ]
     },
     "metadata": {},
     "output_type": "display_data"
    },
    {
     "data": {
      "image/png": "[encoded data removed]",
      "text/plain": [
       "<Figure size 400x600 with 2 Axes>"
      ]
     },
     "metadata": {},
     "output_type": "display_data"
    }
   ],
   "source": [
    "import matplotlib.pyplot as plt\n",
    "\n",
    "# Assuming sample_data contains your data with the image\n",
    "def display_sample(sample_data):\n",
    "    # Extract components\n",
    "    image = sample_data['image']\n",
    "    findings = sample_data['findings']\n",
    "    impression = sample_data['impression']\n",
    "    \n",
    "    # Create figure\n",
    "    plt.figure(figsize=(4,6))\n",
    "    \n",
    "    # Display image\n",
    "    plt.subplot(2, 1, 1)\n",
    "    plt.imshow(image)\n",
    "    plt.axis('off')\n",
    "    plt.title('Chest X-ray')\n",
    "    \n",
    "    # Display text\n",
    "    plt.subplot(2, 1, 2)\n",
    "    plt.axis('off')\n",
    "    plt.text(0, 0.8, f\"Findings: {findings}\", wrap=True, fontsize=12)\n",
    "    plt.text(0, 0.2, f\"Impression: {impression}\", wrap=True, fontsize=12, fontweight='bold')\n",
    "    \n",
    "    plt.tight_layout()\n",
    "    plt.show()\n",
    "\n",
    "# Call the function with your sample data\n",
    "count = 0\n",
    "for sample in train_dataset:\n",
    "    count += 1\n",
    "    if count > 3:\n",
    "        break\n",
    "    display_sample(sample)  # Replace with your actual variable name\n",
    "# Replace with your actual variable name"
   ]
  },
  {
   "cell_type": "code",
   "execution_count": 7,
   "id": "9c47d4fa",
   "metadata": {},
   "outputs": [],
   "source": [
    "# from PIL import Image\n",
    "# import os\n",
    "\n",
    "# file_path = sample['File_Path']  # this exists\n",
    "# full_path = os.path.join(BASE_DIR, file_path)\n",
    "\n",
    "# image = Image.open(full_path).convert(\"RGB\")\n",
    "# image.show()\n"
   ]
  },
  {
   "cell_type": "code",
   "execution_count": 8,
   "id": "c22826f9",
   "metadata": {},
   "outputs": [],
   "source": [
    "# print(type(sample['image']))  # should be <class 'PIL.Image.Image'>\n",
    "# sample['image'].show() "
   ]
  },
  {
   "cell_type": "code",
   "execution_count": 9,
   "id": "daf52b1a",
   "metadata": {},
   "outputs": [],
   "source": [
    "# Preprocessing function\n",
    "def preprocess(examples):\n",
    "    images = [img.convert(\"RGB\") for img in examples[\"image\"]]\n",
    "    texts = [text if text else \"\" for text in examples[\"impression\"]]\n",
    "    inputs = processor(text=texts, images=images, return_tensors=\"pt\", padding=True, truncation=True)\n",
    "    return inputs\n",
    "\n",
    "# Custom PyTorch dataset wrapper\n",
    "class CLIPDataset(torch.utils.data.Dataset):\n",
    "    def __init__(self, hf_dataset):\n",
    "        self.dataset = hf_dataset\n",
    "\n",
    "    def __len__(self):\n",
    "        return len(self.dataset)\n",
    "\n",
    "    def __getitem__(self, idx):\n",
    "        example = self.dataset[idx]\n",
    "        image = example[\"image\"].convert(\"RGB\")\n",
    "        text = example[\"impression\"]\n",
    "        return {\"image\": image, \"text\": text}\n",
    "# from PIL import Image\n",
    "\n",
    "# class CLIPDataset(torch.utils.data.Dataset):\n",
    "#     def __init__(self, hf_dataset, root_dir=\"\"):\n",
    "#         self.dataset = hf_dataset\n",
    "#         self.root_dir = root_dir  # Path to \"MIMIC-CXR-JPG\" folder\n",
    "\n",
    "#     def __len__(self):\n",
    "#         return len(self.dataset)\n",
    "\n",
    "#     def __getitem__(self, idx):\n",
    "#         example = self.dataset[idx]\n",
    "#         img_path = os.path.join(self.root_dir, example[\"File_Path\"])\n",
    "#         image = Image.open(img_path).convert(\"RGB\")\n",
    "#         text = example[\"Impression\"]\n",
    "#         return {\"image\": image, \"text\": text}\n",
    "\n",
    "\n",
    "# # Collate function using CLIPProcessor\n",
    "def collate_fn(batch):\n",
    "    images = [b[\"image\"] for b in batch]\n",
    "    texts = [b[\"text\"] for b in batch]\n",
    "    return processor(text=texts, images=images, return_tensors=\"pt\", padding=True, truncation=True)\n",
    "\n"
   ]
  },
  {
   "cell_type": "code",
   "execution_count": 10,
   "id": "4f15dc88",
   "metadata": {},
   "outputs": [],
   "source": [
    "# DataLoader\n",
    "train_ds = CLIPDataset(train_dataset)\n",
    "train_loader = DataLoader(train_ds, batch_size=16, shuffle=True, collate_fn=collate_fn)\n",
    "# Validation DataLoader\n",
    "val_dataset = CLIPDataset(val_dataset)\n",
    "val_loader = DataLoader(val_dataset, batch_size=16, shuffle=False, collate_fn=collate_fn)\n",
    "# Test DataLoader\n",
    "test_dataset = CLIPDataset(test_dataset)\n",
    "test_loader = DataLoader(test_dataset, batch_size=16, shuffle=False, collate_fn=collate_fn)\n",
    "# Training loop\n",
    "# Optimizer\n",
    "optimizer = AdamW(model.parameters(), lr=5e-6)"
   ]
  },
  {
   "cell_type": "code",
   "execution_count": 11,
   "id": "3327c166",
   "metadata": {},
   "outputs": [],
   "source": [
    "# from models.clip.dataset import ProcessedCLIPDa"
   ]
  },
  {
   "cell_type": "code",
   "execution_count": 12,
   "id": "44d43d5e",
   "metadata": {},
   "outputs": [],
   "source": [
    "# train_ds = ProcessedCLIPDataset(\"data/raw/texts/train.json\", \"data/raw\")\n",
    "# val_ds = ProcessedCLIPDataset(\"data/raw/texts/validation.json\", \"data/raw\")\n",
    "# test_ds = ProcessedCLIPDataset(\"data/raw/texts/test.json\", \"data/raw\")"
   ]
  },
  {
   "cell_type": "code",
   "execution_count": 13,
   "id": "f47f3339",
   "metadata": {},
   "outputs": [],
   "source": [
    "# train_loader = DataLoader(train_ds, batch_size=16, shuffle=True, collate_fn=collate_fn)\n",
    "# val_loader = DataLoader(val_ds, batch_size=16, shuffle=False, collate_fn=collate_fn,drop_last=True)\n"
   ]
  },
  {
   "cell_type": "code",
   "execution_count": 14,
   "id": "eca9773d",
   "metadata": {},
   "outputs": [
    {
     "data": {
      "text/plain": [
       "<__main__.CLIPDataset at 0x7ebcd4572860>"
      ]
     },
     "execution_count": 14,
     "metadata": {},
     "output_type": "execute_result"
    }
   ],
   "source": [
    "train_ds"
   ]
  },
  {
   "cell_type": "code",
   "execution_count": 15,
   "id": "5c4d6d17",
   "metadata": {},
   "outputs": [
    {
     "data": {
      "text/plain": [
       "<torch.utils.data.dataloader.DataLoader at 0x7ebcd45728c0>"
      ]
     },
     "execution_count": 15,
     "metadata": {},
     "output_type": "execute_result"
    }
   ],
   "source": [
    "train_loader"
   ]
  },
  {
   "cell_type": "code",
   "execution_count": 16,
   "id": "6238c978",
   "metadata": {},
   "outputs": [
    {
     "data": {
      "text/plain": [
       "<torch.utils.data.dataloader.DataLoader at 0x7ebcd4572c50>"
      ]
     },
     "execution_count": 16,
     "metadata": {},
     "output_type": "execute_result"
    }
   ],
   "source": [
    "val_loader"
   ]
  },
  {
   "cell_type": "code",
   "execution_count": 17,
   "id": "14371517",
   "metadata": {},
   "outputs": [
    {
     "data": {
      "text/plain": [
       "<__main__.CLIPDataset at 0x7ebcd4572b60>"
      ]
     },
     "execution_count": 17,
     "metadata": {},
     "output_type": "execute_result"
    }
   ],
   "source": [
    "val_dataset"
   ]
  },
  {
   "cell_type": "markdown",
   "id": "f2e44d77",
   "metadata": {},
   "source": [
    "## CLAUDE SUGGESTION:"
   ]
  },
  {
   "cell_type": "code",
   "execution_count": 18,
   "id": "f2e82d8c",
   "metadata": {},
   "outputs": [],
   "source": [
    "# def do_train(model, train_loader, optimizer, epoch, device, scheduler=None, max_grad_norm=1.0):\n",
    "#     model.train()\n",
    "#     total_loss = 0.0\n",
    "#     start_time = time.time()\n",
    "\n",
    "#     for batch_idx, batch in enumerate(train_loader):\n",
    "#         batch = {k: v.to(device) for k, v in batch.items()}\n",
    "\n",
    "#         # Forward pass\n",
    "#         outputs = model(**batch, return_loss=True)\n",
    "#         loss = outputs.loss\n",
    "\n",
    "#         # Backward pass\n",
    "#         loss.backward()\n",
    "\n",
    "#         # Gradient clipping for stability\n",
    "#         if max_grad_norm > 0:\n",
    "#             clip_grad_norm_(model.parameters(), max_grad_norm)\n",
    "\n",
    "#         optimizer.step()\n",
    "#         optimizer.zero_grad()\n",
    "\n",
    "#         total_loss += loss.item()\n",
    "\n",
    "#         # Report progress for long epochs\n",
    "#         if batch_idx % 50 == 0:\n",
    "#             print(f\"  Batch {batch_idx}/{len(train_loader)} - Loss: {loss.item():.4f}\")\n",
    "\n",
    "#     # Step the scheduler if provided\n",
    "#     if scheduler is not None:\n",
    "#         scheduler.step()\n",
    "\n",
    "#     train_time = time.time() - start_time\n",
    "#     avg_train_loss = total_loss / len(train_loader)\n",
    "\n",
    "#     return avg_train_loss, train_time\n",
    "\n",
    "# @torch.no_grad()\n",
    "# def do_eval(model, val_loader, device):\n",
    "#     model.eval()\n",
    "#     total_loss = 0.0\n",
    "#     all_preds = []\n",
    "#     all_labels = []\n",
    "#     start_time = time.time()\n",
    "\n",
    "#     for batch in val_loader:\n",
    "#         batch = {k: v.to(device) for k, v in batch.items()}\n",
    "\n",
    "#         # Get loss\n",
    "#         outputs = model(**batch, return_loss=True)\n",
    "#         loss = outputs.loss\n",
    "#         total_loss += loss.item()\n",
    "\n",
    "#         # Get image and text features\n",
    "#         image_embeds = model.get_image_features(pixel_values=batch['pixel_values'])\n",
    "#         text_embeds = model.get_text_features(\n",
    "#             input_ids=batch['input_ids'],\n",
    "#             attention_mask=batch['attention_mask']\n",
    "#         )\n",
    "\n",
    "#         # Normalize\n",
    "#         image_embeds = image_embeds / image_embeds.norm(dim=-1, keepdim=True)\n",
    "#         text_embeds = text_embeds / text_embeds.norm(dim=-1, keepdim=True)\n",
    "\n",
    "#         # Compute similarity\n",
    "#         logits = torch.matmul(image_embeds, text_embeds.T) * model.logit_scale.exp()\n",
    "\n",
    "#         # Prediction (diagonal elements should be highest)\n",
    "#         preds = torch.argmax(logits, dim=1)\n",
    "#         labels = torch.arange(len(preds)).to(device)\n",
    "\n",
    "#         all_preds.extend(preds.cpu().tolist())\n",
    "#         all_labels.extend(labels.cpu().tolist())\n",
    "\n",
    "#     val_time = time.time() - start_time\n",
    "#     avg_val_loss = total_loss / len(val_loader)\n",
    "#     val_acc = accuracy_score(all_labels, all_preds)\n",
    "\n",
    "#     return avg_val_loss, val_acc, val_time"
   ]
  },
  {
   "cell_type": "code",
   "execution_count": 19,
   "id": "6ce3aaff",
   "metadata": {},
   "outputs": [],
   "source": [
    "def do_train(model, train_loader, optimizer, epoch, device, scheduler=None, max_grad_norm=1.0, log_interval=10):\n",
    "    model.train()\n",
    "    total_loss = 0.0\n",
    "    start_time = time.time()\n",
    "    \n",
    "    progress_bar = tqdm(train_loader, desc=f\"Epoch {epoch} Training\")\n",
    "    \n",
    "    for batch_idx, batch in enumerate(progress_bar):\n",
    "        batch = {k: v.to(device) for k, v in batch.items()}\n",
    "        \n",
    "        # Get image and text features\n",
    "        image_features = model.get_image_features(pixel_values=batch['pixel_values'])\n",
    "        text_features = model.get_text_features(\n",
    "            input_ids=batch['input_ids'],\n",
    "            attention_mask=batch.get('attention_mask', None)  # Handle if attention_mask isn't available\n",
    "        )\n",
    "        \n",
    "        # Normalize\n",
    "        image_features = image_features / image_features.norm(dim=-1, keepdim=True)\n",
    "        text_features = text_features / text_features.norm(dim=-1, keepdim=True)\n",
    "        \n",
    "        # Compute logits\n",
    "        logit_scale = model.logit_scale.exp()\n",
    "        logits_per_image = logit_scale * image_features @ text_features.T\n",
    "        logits_per_text = logits_per_image.T\n",
    "        \n",
    "        # Compute loss (bidirectional)\n",
    "        batch_size = image_features.size(0)\n",
    "        labels = torch.arange(batch_size, device=device)\n",
    "        loss = (F.cross_entropy(logits_per_image, labels) + F.cross_entropy(logits_per_text, labels)) / 2\n",
    "        \n",
    "        # Backward pass\n",
    "        optimizer.zero_grad()\n",
    "        loss.backward()\n",
    "        \n",
    "        # Gradient clipping for stability\n",
    "        if max_grad_norm > 0:\n",
    "            clip_grad_norm_(model.parameters(), max_grad_norm)\n",
    "        \n",
    "        optimizer.step()\n",
    "        \n",
    "        total_loss += loss.item()\n",
    "        progress_bar.set_postfix({\"loss\": loss.item()})\n",
    "        \n",
    "        if batch_idx % log_interval == 0:\n",
    "            lr = optimizer.param_groups[0]['lr']\n",
    "            print(f\"Epoch {epoch} [{batch_idx}/{len(train_loader)}] Loss: {loss.item():.4f}, LR: {lr:.6f}\")\n",
    "    \n",
    "    # Step the scheduler if provided\n",
    "    if scheduler is not None:\n",
    "        scheduler.step()\n",
    "    \n",
    "    train_time = time.time() - start_time\n",
    "    avg_train_loss = total_loss / len(train_loader)\n",
    "    print(f\"Epoch {epoch}: Avg Loss: {avg_train_loss:.4f}, Time: {train_time:.2f}s\")\n",
    "    \n",
    "    return avg_train_loss, train_time\n",
    "@torch.no_grad()\n",
    "def do_eval(model, val_loader, device):\n",
    "    model.eval()\n",
    "    total_loss = 0.0\n",
    "    all_image_to_text_preds, all_image_to_text_labels = [], []\n",
    "    all_text_to_image_preds, all_text_to_image_labels = [], []\n",
    "    all_logits_per_image, all_logits_per_text = [], []\n",
    "    start_time = time.time()\n",
    "    \n",
    "    for batch in val_loader:\n",
    "        batch = {k: v.to(device) for k, v in batch.items()}\n",
    "        \n",
    "        # Get loss\n",
    "        outputs = model(**batch, return_loss=True)\n",
    "        loss = outputs.loss\n",
    "        total_loss += loss.item()\n",
    "        \n",
    "        # Get image and text features\n",
    "        image_embeds = model.get_image_features(pixel_values=batch['pixel_values'])\n",
    "        text_embeds = model.get_text_features(\n",
    "            input_ids=batch['input_ids'],\n",
    "            attention_mask=batch.get('attention_mask', None)  # Handle if attention_mask isn't available\n",
    "        )\n",
    "        \n",
    "        # Normalize\n",
    "        image_embeds = image_embeds / image_embeds.norm(dim=-1, keepdim=True)\n",
    "        text_embeds = text_embeds / text_embeds.norm(dim=-1, keepdim=True)\n",
    "        \n",
    "        # Compute similarities in both directions\n",
    "        logit_scale = model.logit_scale.exp()\n",
    "        logits_per_image = logit_scale * torch.matmul(image_embeds, text_embeds.T)\n",
    "        logits_per_text = logits_per_image.T\n",
    "        \n",
    "        # Create labels (diagonal elements should match)\n",
    "        batch_size = image_embeds.size(0)\n",
    "        labels = torch.arange(batch_size).to(device)\n",
    "        \n",
    "        # Get predictions for both directions\n",
    "        image_to_text_preds = torch.argmax(logits_per_image, dim=1)\n",
    "        text_to_image_preds = torch.argmax(logits_per_text, dim=1)\n",
    "        \n",
    "        # Store results for later computation\n",
    "        all_image_to_text_preds.extend(image_to_text_preds.cpu().tolist())\n",
    "        all_image_to_text_labels.extend(labels.cpu().tolist())\n",
    "        all_text_to_image_preds.extend(text_to_image_preds.cpu().tolist())\n",
    "        all_text_to_image_labels.extend(labels.cpu().tolist())\n",
    "        \n",
    "        # Store logits for computing top-5 metrics\n",
    "        all_logits_per_image.append(logits_per_image.cpu())\n",
    "        all_logits_per_text.append(logits_per_text.cpu())\n",
    "    \n",
    "    # Compute metrics\n",
    "    val_time = time.time() - start_time\n",
    "    avg_val_loss = total_loss / len(val_loader)\n",
    "    \n",
    "    # Compute regular accuracy metrics\n",
    "    image_to_text_acc = accuracy_score(all_image_to_text_labels, all_image_to_text_preds)\n",
    "    text_to_image_acc = accuracy_score(all_text_to_image_labels, all_text_to_image_preds)\n",
    "    \n",
    "    # Compute top-5 metrics\n",
    "    top5_image_scores, top5_text_scores = [], []\n",
    "    for logits_img, logits_txt in zip(all_logits_per_image, all_logits_per_text):\n",
    "        batch_size = logits_img.shape[0]\n",
    "        labels = list(range(batch_size))\n",
    "        k = min(5, batch_size)  # Handle batches smaller than 5\n",
    "        \n",
    "        # Use sklearn's top_k_accuracy_score\n",
    "        top5_image_scores.append(top_k_accuracy_score(labels, logits_img.numpy(), k=k, labels=labels))\n",
    "        top5_text_scores.append(top_k_accuracy_score(labels, logits_txt.numpy(), k=k, labels=labels))\n",
    "    \n",
    "    # Average top-5 scores across batches\n",
    "    image_to_text_top5 = sum(top5_image_scores) / len(top5_image_scores) if top5_image_scores else 0\n",
    "    text_to_image_top5 = sum(top5_text_scores) / len(top5_text_scores) if top5_text_scores else 0\n",
    "    \n",
    "    # Display results\n",
    "    print(f\"Validation Results:\")\n",
    "    print(f\"  Loss: {avg_val_loss:.4f}\")\n",
    "    print(f\"  Image→Text Accuracy: {image_to_text_acc:.4f} (Top-5: {image_to_text_top5:.4f})\")\n",
    "    print(f\"  Text→Image Accuracy: {text_to_image_acc:.4f} (Top-5: {text_to_image_top5:.4f})\")\n",
    "    \n",
    "    # Return all metrics\n",
    "    return {\n",
    "        \"avg_val_loss\": avg_val_loss,\n",
    "        \"image_to_text_acc\": image_to_text_acc,\n",
    "        \"text_to_image_acc\": text_to_image_acc,\n",
    "        \"image_to_text_top5\": image_to_text_top5,\n",
    "        \"text_to_image_top5\": text_to_image_top5,\n",
    "        \"val_time\": val_time\n",
    "    }"
   ]
  },
  {
   "cell_type": "code",
   "execution_count": 20,
   "id": "4014d7c9",
   "metadata": {},
   "outputs": [],
   "source": [
    "import torch.nn.functional as F\n"
   ]
  },
  {
   "cell_type": "code",
   "execution_count": 21,
   "id": "7fc86fac",
   "metadata": {},
   "outputs": [],
   "source": [
    "# train_losses, val_losses, val_accuracies = [], [], []\n",
    "\n",
    "# EPOCHS=6\n",
    "# for epoch in range(EPOCHS):\n",
    "#     print(f\"\\n🚀 Epoch {epoch+1}/{EPOCHS}\")\n",
    "\n",
    "#     avg_train_loss, train_time = do_train(model, train_loader, optimizer, epoch, device=\"cuda\")\n",
    "#     avg_val_loss,val_acc, val_time = do_eval(model, val_loader, device=\"cuda\")\n",
    "#     print(f\"\\n🚀Epoch {epoch+1} Summary:\")\n",
    "#     print(f\"✅ Epoch {epoch+1} - Train Loss: {avg_train_loss:.4f} - Time: {train_time:.2f}s\")\n",
    "#     print(f\"📊 Validation Loss: {avg_val_loss:.4f} | val_Acc: {val_acc*100:.4f}% | Time: {val_time:.2f}s\")\n",
    "\n",
    "#     train_losses.append(avg_train_loss)\n",
    "#     val_losses.append(avg_val_loss)\n",
    "#     val_accuracies.append(val_acc)\n"
   ]
  },
  {
   "cell_type": "code",
   "execution_count": 22,
   "id": "269496d0",
   "metadata": {},
   "outputs": [
    {
     "name": "stdout",
     "output_type": "stream",
     "text": [
      "\n",
      "🚀 Epoch 1/5\n"
     ]
    },
    {
     "name": "stderr",
     "output_type": "stream",
     "text": [
      "Epoch 0 Training:   0%|          | 1/1532 [00:01<35:53,  1.41s/it, loss=4.16]"
     ]
    },
    {
     "name": "stdout",
     "output_type": "stream",
     "text": [
      "Epoch 0 [0/1532] Loss: 4.1584, LR: 0.000005\n"
     ]
    },
    {
     "name": "stderr",
     "output_type": "stream",
     "text": [
      "Epoch 0 Training:   1%|          | 12/1532 [00:03<04:46,  5.31it/s, loss=2.78]"
     ]
    },
    {
     "name": "stdout",
     "output_type": "stream",
     "text": [
      "Epoch 0 [10/1532] Loss: 2.9413, LR: 0.000005\n"
     ]
    },
    {
     "name": "stderr",
     "output_type": "stream",
     "text": [
      "Epoch 0 Training:   1%|▏         | 22/1532 [00:05<04:33,  5.52it/s, loss=2.75]"
     ]
    },
    {
     "name": "stdout",
     "output_type": "stream",
     "text": [
      "Epoch 0 [20/1532] Loss: 2.7775, LR: 0.000005\n"
     ]
    },
    {
     "name": "stderr",
     "output_type": "stream",
     "text": [
      "Epoch 0 Training:   2%|▏         | 32/1532 [00:07<04:29,  5.56it/s, loss=2.78]"
     ]
    },
    {
     "name": "stdout",
     "output_type": "stream",
     "text": [
      "Epoch 0 [30/1532] Loss: 2.7028, LR: 0.000005\n"
     ]
    },
    {
     "name": "stderr",
     "output_type": "stream",
     "text": [
      "Epoch 0 Training:   3%|▎         | 42/1532 [00:08<04:32,  5.46it/s, loss=2.89]"
     ]
    },
    {
     "name": "stdout",
     "output_type": "stream",
     "text": [
      "Epoch 0 [40/1532] Loss: 2.7364, LR: 0.000005\n"
     ]
    },
    {
     "name": "stderr",
     "output_type": "stream",
     "text": [
      "Epoch 0 Training:   3%|▎         | 52/1532 [00:10<04:33,  5.42it/s, loss=2.66]"
     ]
    },
    {
     "name": "stdout",
     "output_type": "stream",
     "text": [
      "Epoch 0 [50/1532] Loss: 2.7521, LR: 0.000005\n"
     ]
    },
    {
     "name": "stderr",
     "output_type": "stream",
     "text": [
      "Epoch 0 Training:   4%|▍         | 62/1532 [00:12<04:25,  5.55it/s, loss=2.44]"
     ]
    },
    {
     "name": "stdout",
     "output_type": "stream",
     "text": [
      "Epoch 0 [60/1532] Loss: 2.7830, LR: 0.000005\n"
     ]
    },
    {
     "name": "stderr",
     "output_type": "stream",
     "text": [
      "Epoch 0 Training:   5%|▍         | 72/1532 [00:14<04:30,  5.40it/s, loss=2.78]"
     ]
    },
    {
     "name": "stdout",
     "output_type": "stream",
     "text": [
      "Epoch 0 [70/1532] Loss: 2.7518, LR: 0.000005\n"
     ]
    },
    {
     "name": "stderr",
     "output_type": "stream",
     "text": [
      "Epoch 0 Training:   5%|▌         | 82/1532 [00:16<04:25,  5.45it/s, loss=2.51]"
     ]
    },
    {
     "name": "stdout",
     "output_type": "stream",
     "text": [
      "Epoch 0 [80/1532] Loss: 2.8327, LR: 0.000005\n"
     ]
    },
    {
     "name": "stderr",
     "output_type": "stream",
     "text": [
      "Epoch 0 Training:   6%|▌         | 92/1532 [00:18<04:20,  5.52it/s, loss=2.93]"
     ]
    },
    {
     "name": "stdout",
     "output_type": "stream",
     "text": [
      "Epoch 0 [90/1532] Loss: 2.5685, LR: 0.000005\n"
     ]
    },
    {
     "name": "stderr",
     "output_type": "stream",
     "text": [
      "Epoch 0 Training:   7%|▋         | 102/1532 [00:19<04:13,  5.64it/s, loss=2.35]"
     ]
    },
    {
     "name": "stdout",
     "output_type": "stream",
     "text": [
      "Epoch 0 [100/1532] Loss: 2.4487, LR: 0.000005\n"
     ]
    },
    {
     "name": "stderr",
     "output_type": "stream",
     "text": [
      "Epoch 0 Training:   7%|▋         | 112/1532 [00:21<04:24,  5.38it/s, loss=2.47]"
     ]
    },
    {
     "name": "stdout",
     "output_type": "stream",
     "text": [
      "Epoch 0 [110/1532] Loss: 2.9260, LR: 0.000005\n"
     ]
    },
    {
     "name": "stderr",
     "output_type": "stream",
     "text": [
      "Epoch 0 Training:   8%|▊         | 122/1532 [00:23<04:11,  5.61it/s, loss=2.64]"
     ]
    },
    {
     "name": "stdout",
     "output_type": "stream",
     "text": [
      "Epoch 0 [120/1532] Loss: 2.4769, LR: 0.000005\n"
     ]
    },
    {
     "name": "stderr",
     "output_type": "stream",
     "text": [
      "Epoch 0 Training:   9%|▊         | 132/1532 [00:25<04:16,  5.46it/s, loss=2.47]"
     ]
    },
    {
     "name": "stdout",
     "output_type": "stream",
     "text": [
      "Epoch 0 [130/1532] Loss: 2.6394, LR: 0.000005\n"
     ]
    },
    {
     "name": "stderr",
     "output_type": "stream",
     "text": [
      "Epoch 0 Training:   9%|▉         | 142/1532 [00:27<04:18,  5.37it/s, loss=2.49]"
     ]
    },
    {
     "name": "stdout",
     "output_type": "stream",
     "text": [
      "Epoch 0 [140/1532] Loss: 2.5333, LR: 0.000005\n"
     ]
    },
    {
     "name": "stderr",
     "output_type": "stream",
     "text": [
      "Epoch 0 Training:  10%|▉         | 152/1532 [00:28<04:12,  5.46it/s, loss=2.73]"
     ]
    },
    {
     "name": "stdout",
     "output_type": "stream",
     "text": [
      "Epoch 0 [150/1532] Loss: 2.4608, LR: 0.000005\n"
     ]
    },
    {
     "name": "stderr",
     "output_type": "stream",
     "text": [
      "Epoch 0 Training:  11%|█         | 162/1532 [00:30<04:10,  5.46it/s, loss=2.62]"
     ]
    },
    {
     "name": "stdout",
     "output_type": "stream",
     "text": [
      "Epoch 0 [160/1532] Loss: 2.5029, LR: 0.000005\n"
     ]
    },
    {
     "name": "stderr",
     "output_type": "stream",
     "text": [
      "Epoch 0 Training:  11%|█         | 172/1532 [00:32<04:10,  5.44it/s, loss=2.57]"
     ]
    },
    {
     "name": "stdout",
     "output_type": "stream",
     "text": [
      "Epoch 0 [170/1532] Loss: 2.4821, LR: 0.000005\n"
     ]
    },
    {
     "name": "stderr",
     "output_type": "stream",
     "text": [
      "Epoch 0 Training:  12%|█▏        | 182/1532 [00:34<04:08,  5.43it/s, loss=2.66]"
     ]
    },
    {
     "name": "stdout",
     "output_type": "stream",
     "text": [
      "Epoch 0 [180/1532] Loss: 2.2610, LR: 0.000005\n"
     ]
    },
    {
     "name": "stderr",
     "output_type": "stream",
     "text": [
      "Epoch 0 Training:  13%|█▎        | 192/1532 [00:36<04:02,  5.52it/s, loss=2.31]"
     ]
    },
    {
     "name": "stdout",
     "output_type": "stream",
     "text": [
      "Epoch 0 [190/1532] Loss: 2.3410, LR: 0.000005\n"
     ]
    },
    {
     "name": "stderr",
     "output_type": "stream",
     "text": [
      "Epoch 0 Training:  13%|█▎        | 202/1532 [00:38<03:55,  5.64it/s, loss=2.45]"
     ]
    },
    {
     "name": "stdout",
     "output_type": "stream",
     "text": [
      "Epoch 0 [200/1532] Loss: 2.2799, LR: 0.000005\n"
     ]
    },
    {
     "name": "stderr",
     "output_type": "stream",
     "text": [
      "Epoch 0 Training:  14%|█▍        | 212/1532 [00:39<04:04,  5.41it/s, loss=2.27]"
     ]
    },
    {
     "name": "stdout",
     "output_type": "stream",
     "text": [
      "Epoch 0 [210/1532] Loss: 2.4721, LR: 0.000005\n"
     ]
    },
    {
     "name": "stderr",
     "output_type": "stream",
     "text": [
      "Epoch 0 Training:  14%|█▍        | 222/1532 [00:41<03:53,  5.61it/s, loss=2.62]"
     ]
    },
    {
     "name": "stdout",
     "output_type": "stream",
     "text": [
      "Epoch 0 [220/1532] Loss: 2.6494, LR: 0.000005\n"
     ]
    },
    {
     "name": "stderr",
     "output_type": "stream",
     "text": [
      "Epoch 0 Training:  15%|█▌        | 232/1532 [00:43<03:54,  5.54it/s, loss=2.37]"
     ]
    },
    {
     "name": "stdout",
     "output_type": "stream",
     "text": [
      "Epoch 0 [230/1532] Loss: 2.4996, LR: 0.000005\n"
     ]
    },
    {
     "name": "stderr",
     "output_type": "stream",
     "text": [
      "Epoch 0 Training:  16%|█▌        | 242/1532 [00:45<03:48,  5.65it/s, loss=2.4] "
     ]
    },
    {
     "name": "stdout",
     "output_type": "stream",
     "text": [
      "Epoch 0 [240/1532] Loss: 2.3867, LR: 0.000005\n"
     ]
    },
    {
     "name": "stderr",
     "output_type": "stream",
     "text": [
      "Epoch 0 Training:  16%|█▋        | 252/1532 [00:47<03:55,  5.44it/s, loss=2.48]"
     ]
    },
    {
     "name": "stdout",
     "output_type": "stream",
     "text": [
      "Epoch 0 [250/1532] Loss: 2.1739, LR: 0.000005\n"
     ]
    },
    {
     "name": "stderr",
     "output_type": "stream",
     "text": [
      "Epoch 0 Training:  17%|█▋        | 262/1532 [00:49<03:49,  5.52it/s, loss=2.29]"
     ]
    },
    {
     "name": "stdout",
     "output_type": "stream",
     "text": [
      "Epoch 0 [260/1532] Loss: 2.5717, LR: 0.000005\n"
     ]
    },
    {
     "name": "stderr",
     "output_type": "stream",
     "text": [
      "Epoch 0 Training:  18%|█▊        | 272/1532 [00:50<03:55,  5.34it/s, loss=2.31]"
     ]
    },
    {
     "name": "stdout",
     "output_type": "stream",
     "text": [
      "Epoch 0 [270/1532] Loss: 2.4465, LR: 0.000005\n"
     ]
    },
    {
     "name": "stderr",
     "output_type": "stream",
     "text": [
      "Epoch 0 Training:  18%|█▊        | 282/1532 [00:52<03:44,  5.57it/s, loss=2.62]"
     ]
    },
    {
     "name": "stdout",
     "output_type": "stream",
     "text": [
      "Epoch 0 [280/1532] Loss: 2.4027, LR: 0.000005\n"
     ]
    },
    {
     "name": "stderr",
     "output_type": "stream",
     "text": [
      "Epoch 0 Training:  19%|█▉        | 292/1532 [00:54<03:49,  5.40it/s, loss=2.7] "
     ]
    },
    {
     "name": "stdout",
     "output_type": "stream",
     "text": [
      "Epoch 0 [290/1532] Loss: 2.2872, LR: 0.000005\n"
     ]
    },
    {
     "name": "stderr",
     "output_type": "stream",
     "text": [
      "Epoch 0 Training:  20%|█▉        | 302/1532 [00:56<03:46,  5.44it/s, loss=2.55]"
     ]
    },
    {
     "name": "stdout",
     "output_type": "stream",
     "text": [
      "Epoch 0 [300/1532] Loss: 2.7006, LR: 0.000005\n"
     ]
    },
    {
     "name": "stderr",
     "output_type": "stream",
     "text": [
      "Epoch 0 Training:  20%|██        | 312/1532 [00:58<03:43,  5.45it/s, loss=2.43]"
     ]
    },
    {
     "name": "stdout",
     "output_type": "stream",
     "text": [
      "Epoch 0 [310/1532] Loss: 2.4942, LR: 0.000005\n"
     ]
    },
    {
     "name": "stderr",
     "output_type": "stream",
     "text": [
      "Epoch 0 Training:  21%|██        | 322/1532 [01:00<03:47,  5.31it/s, loss=2.42]"
     ]
    },
    {
     "name": "stdout",
     "output_type": "stream",
     "text": [
      "Epoch 0 [320/1532] Loss: 2.1544, LR: 0.000005\n"
     ]
    },
    {
     "name": "stderr",
     "output_type": "stream",
     "text": [
      "Epoch 0 Training:  22%|██▏       | 332/1532 [01:01<03:37,  5.53it/s, loss=2.45]"
     ]
    },
    {
     "name": "stdout",
     "output_type": "stream",
     "text": [
      "Epoch 0 [330/1532] Loss: 2.1258, LR: 0.000005\n"
     ]
    },
    {
     "name": "stderr",
     "output_type": "stream",
     "text": [
      "Epoch 0 Training:  22%|██▏       | 342/1532 [01:03<03:35,  5.53it/s, loss=2.27]"
     ]
    },
    {
     "name": "stdout",
     "output_type": "stream",
     "text": [
      "Epoch 0 [340/1532] Loss: 2.4216, LR: 0.000005\n"
     ]
    },
    {
     "name": "stderr",
     "output_type": "stream",
     "text": [
      "Epoch 0 Training:  23%|██▎       | 352/1532 [01:05<03:35,  5.47it/s, loss=2.31]"
     ]
    },
    {
     "name": "stdout",
     "output_type": "stream",
     "text": [
      "Epoch 0 [350/1532] Loss: 2.2767, LR: 0.000005\n"
     ]
    },
    {
     "name": "stderr",
     "output_type": "stream",
     "text": [
      "Epoch 0 Training:  24%|██▎       | 362/1532 [01:07<03:35,  5.44it/s, loss=2.48]"
     ]
    },
    {
     "name": "stdout",
     "output_type": "stream",
     "text": [
      "Epoch 0 [360/1532] Loss: 2.5015, LR: 0.000005\n"
     ]
    },
    {
     "name": "stderr",
     "output_type": "stream",
     "text": [
      "Epoch 0 Training:  24%|██▍       | 372/1532 [01:09<03:36,  5.36it/s, loss=2.22]"
     ]
    },
    {
     "name": "stdout",
     "output_type": "stream",
     "text": [
      "Epoch 0 [370/1532] Loss: 2.4440, LR: 0.000005\n"
     ]
    },
    {
     "name": "stderr",
     "output_type": "stream",
     "text": [
      "Epoch 0 Training:  25%|██▍       | 382/1532 [01:11<03:37,  5.29it/s, loss=2.22]"
     ]
    },
    {
     "name": "stdout",
     "output_type": "stream",
     "text": [
      "Epoch 0 [380/1532] Loss: 2.0504, LR: 0.000005\n"
     ]
    },
    {
     "name": "stderr",
     "output_type": "stream",
     "text": [
      "Epoch 0 Training:  26%|██▌       | 392/1532 [01:13<03:42,  5.12it/s, loss=2.14]"
     ]
    },
    {
     "name": "stdout",
     "output_type": "stream",
     "text": [
      "Epoch 0 [390/1532] Loss: 2.2089, LR: 0.000005\n"
     ]
    },
    {
     "name": "stderr",
     "output_type": "stream",
     "text": [
      "Epoch 0 Training:  26%|██▌       | 402/1532 [01:15<03:33,  5.30it/s, loss=2.25]"
     ]
    },
    {
     "name": "stdout",
     "output_type": "stream",
     "text": [
      "Epoch 0 [400/1532] Loss: 2.1863, LR: 0.000005\n"
     ]
    },
    {
     "name": "stderr",
     "output_type": "stream",
     "text": [
      "Epoch 0 Training:  27%|██▋       | 411/1532 [01:17<03:36,  5.17it/s, loss=2.53]"
     ]
    },
    {
     "name": "stdout",
     "output_type": "stream",
     "text": [
      "Epoch 0 [410/1532] Loss: 2.2786, LR: 0.000005\n"
     ]
    },
    {
     "name": "stderr",
     "output_type": "stream",
     "text": [
      "Epoch 0 Training:  28%|██▊       | 422/1532 [01:18<03:31,  5.25it/s, loss=2.3] "
     ]
    },
    {
     "name": "stdout",
     "output_type": "stream",
     "text": [
      "Epoch 0 [420/1532] Loss: 2.5238, LR: 0.000005\n"
     ]
    },
    {
     "name": "stderr",
     "output_type": "stream",
     "text": [
      "Epoch 0 Training:  28%|██▊       | 432/1532 [01:20<03:36,  5.09it/s, loss=2.3] "
     ]
    },
    {
     "name": "stdout",
     "output_type": "stream",
     "text": [
      "Epoch 0 [430/1532] Loss: 1.9865, LR: 0.000005\n"
     ]
    },
    {
     "name": "stderr",
     "output_type": "stream",
     "text": [
      "Epoch 0 Training:  29%|██▉       | 442/1532 [01:22<03:27,  5.24it/s, loss=2.28]"
     ]
    },
    {
     "name": "stdout",
     "output_type": "stream",
     "text": [
      "Epoch 0 [440/1532] Loss: 2.6246, LR: 0.000005\n"
     ]
    },
    {
     "name": "stderr",
     "output_type": "stream",
     "text": [
      "Epoch 0 Training:  30%|██▉       | 452/1532 [01:24<03:21,  5.36it/s, loss=2.3] "
     ]
    },
    {
     "name": "stdout",
     "output_type": "stream",
     "text": [
      "Epoch 0 [450/1532] Loss: 2.6661, LR: 0.000005\n"
     ]
    },
    {
     "name": "stderr",
     "output_type": "stream",
     "text": [
      "Epoch 0 Training:  30%|███       | 462/1532 [01:26<03:23,  5.27it/s, loss=2.6] "
     ]
    },
    {
     "name": "stdout",
     "output_type": "stream",
     "text": [
      "Epoch 0 [460/1532] Loss: 2.5014, LR: 0.000005\n"
     ]
    },
    {
     "name": "stderr",
     "output_type": "stream",
     "text": [
      "Epoch 0 Training:  31%|███       | 472/1532 [01:28<03:23,  5.21it/s, loss=2.26]"
     ]
    },
    {
     "name": "stdout",
     "output_type": "stream",
     "text": [
      "Epoch 0 [470/1532] Loss: 2.2543, LR: 0.000005\n"
     ]
    },
    {
     "name": "stderr",
     "output_type": "stream",
     "text": [
      "Epoch 0 Training:  31%|███▏      | 482/1532 [01:30<03:21,  5.21it/s, loss=2.43]"
     ]
    },
    {
     "name": "stdout",
     "output_type": "stream",
     "text": [
      "Epoch 0 [480/1532] Loss: 2.2254, LR: 0.000005\n"
     ]
    },
    {
     "name": "stderr",
     "output_type": "stream",
     "text": [
      "Epoch 0 Training:  32%|███▏      | 492/1532 [01:32<03:18,  5.23it/s, loss=2.47]"
     ]
    },
    {
     "name": "stdout",
     "output_type": "stream",
     "text": [
      "Epoch 0 [490/1532] Loss: 1.9929, LR: 0.000005\n"
     ]
    },
    {
     "name": "stderr",
     "output_type": "stream",
     "text": [
      "Epoch 0 Training:  33%|███▎      | 502/1532 [01:34<03:14,  5.29it/s, loss=2.46]"
     ]
    },
    {
     "name": "stdout",
     "output_type": "stream",
     "text": [
      "Epoch 0 [500/1532] Loss: 2.1518, LR: 0.000005\n"
     ]
    },
    {
     "name": "stderr",
     "output_type": "stream",
     "text": [
      "Epoch 0 Training:  33%|███▎      | 512/1532 [01:36<03:09,  5.39it/s, loss=2.02]"
     ]
    },
    {
     "name": "stdout",
     "output_type": "stream",
     "text": [
      "Epoch 0 [510/1532] Loss: 2.5042, LR: 0.000005\n"
     ]
    },
    {
     "name": "stderr",
     "output_type": "stream",
     "text": [
      "Epoch 0 Training:  34%|███▍      | 522/1532 [01:37<03:07,  5.38it/s, loss=2.15]"
     ]
    },
    {
     "name": "stdout",
     "output_type": "stream",
     "text": [
      "Epoch 0 [520/1532] Loss: 2.5912, LR: 0.000005\n"
     ]
    },
    {
     "name": "stderr",
     "output_type": "stream",
     "text": [
      "Epoch 0 Training:  35%|███▍      | 532/1532 [01:39<03:08,  5.29it/s, loss=2.55]"
     ]
    },
    {
     "name": "stdout",
     "output_type": "stream",
     "text": [
      "Epoch 0 [530/1532] Loss: 2.2983, LR: 0.000005\n"
     ]
    },
    {
     "name": "stderr",
     "output_type": "stream",
     "text": [
      "Epoch 0 Training:  35%|███▌      | 542/1532 [01:41<03:05,  5.34it/s, loss=2.08]"
     ]
    },
    {
     "name": "stdout",
     "output_type": "stream",
     "text": [
      "Epoch 0 [540/1532] Loss: 2.4188, LR: 0.000005\n"
     ]
    },
    {
     "name": "stderr",
     "output_type": "stream",
     "text": [
      "Epoch 0 Training:  36%|███▌      | 552/1532 [01:43<03:09,  5.18it/s, loss=2.2] "
     ]
    },
    {
     "name": "stdout",
     "output_type": "stream",
     "text": [
      "Epoch 0 [550/1532] Loss: 2.6761, LR: 0.000005\n"
     ]
    },
    {
     "name": "stderr",
     "output_type": "stream",
     "text": [
      "Epoch 0 Training:  37%|███▋      | 562/1532 [01:45<03:04,  5.25it/s, loss=2.29]"
     ]
    },
    {
     "name": "stdout",
     "output_type": "stream",
     "text": [
      "Epoch 0 [560/1532] Loss: 1.9236, LR: 0.000005\n"
     ]
    },
    {
     "name": "stderr",
     "output_type": "stream",
     "text": [
      "Epoch 0 Training:  37%|███▋      | 572/1532 [01:47<03:03,  5.23it/s, loss=2]   "
     ]
    },
    {
     "name": "stdout",
     "output_type": "stream",
     "text": [
      "Epoch 0 [570/1532] Loss: 2.1793, LR: 0.000005\n"
     ]
    },
    {
     "name": "stderr",
     "output_type": "stream",
     "text": [
      "Epoch 0 Training:  38%|███▊      | 582/1532 [01:49<03:01,  5.25it/s, loss=2.11]"
     ]
    },
    {
     "name": "stdout",
     "output_type": "stream",
     "text": [
      "Epoch 0 [580/1532] Loss: 2.0955, LR: 0.000005\n"
     ]
    },
    {
     "name": "stderr",
     "output_type": "stream",
     "text": [
      "Epoch 0 Training:  39%|███▊      | 592/1532 [01:51<02:59,  5.23it/s, loss=2.68]"
     ]
    },
    {
     "name": "stdout",
     "output_type": "stream",
     "text": [
      "Epoch 0 [590/1532] Loss: 1.9129, LR: 0.000005\n"
     ]
    },
    {
     "name": "stderr",
     "output_type": "stream",
     "text": [
      "Epoch 0 Training:  39%|███▉      | 602/1532 [01:53<02:56,  5.26it/s, loss=2.4] "
     ]
    },
    {
     "name": "stdout",
     "output_type": "stream",
     "text": [
      "Epoch 0 [600/1532] Loss: 2.1307, LR: 0.000005\n"
     ]
    },
    {
     "name": "stderr",
     "output_type": "stream",
     "text": [
      "Epoch 0 Training:  40%|███▉      | 612/1532 [01:55<02:56,  5.22it/s, loss=2.39]"
     ]
    },
    {
     "name": "stdout",
     "output_type": "stream",
     "text": [
      "Epoch 0 [610/1532] Loss: 2.0878, LR: 0.000005\n"
     ]
    },
    {
     "name": "stderr",
     "output_type": "stream",
     "text": [
      "Epoch 0 Training:  41%|████      | 622/1532 [01:56<02:46,  5.48it/s, loss=2.04]"
     ]
    },
    {
     "name": "stdout",
     "output_type": "stream",
     "text": [
      "Epoch 0 [620/1532] Loss: 2.0931, LR: 0.000005\n"
     ]
    },
    {
     "name": "stderr",
     "output_type": "stream",
     "text": [
      "Epoch 0 Training:  41%|████▏     | 632/1532 [01:58<02:46,  5.41it/s, loss=2.23]"
     ]
    },
    {
     "name": "stdout",
     "output_type": "stream",
     "text": [
      "Epoch 0 [630/1532] Loss: 2.1842, LR: 0.000005\n"
     ]
    },
    {
     "name": "stderr",
     "output_type": "stream",
     "text": [
      "Epoch 0 Training:  42%|████▏     | 642/1532 [02:00<02:46,  5.36it/s, loss=2.56]"
     ]
    },
    {
     "name": "stdout",
     "output_type": "stream",
     "text": [
      "Epoch 0 [640/1532] Loss: 2.4520, LR: 0.000005\n"
     ]
    },
    {
     "name": "stderr",
     "output_type": "stream",
     "text": [
      "Epoch 0 Training:  43%|████▎     | 652/1532 [02:02<02:44,  5.34it/s, loss=2.04]"
     ]
    },
    {
     "name": "stdout",
     "output_type": "stream",
     "text": [
      "Epoch 0 [650/1532] Loss: 1.7015, LR: 0.000005\n"
     ]
    },
    {
     "name": "stderr",
     "output_type": "stream",
     "text": [
      "Epoch 0 Training:  43%|████▎     | 662/1532 [02:04<02:45,  5.26it/s, loss=2.18]"
     ]
    },
    {
     "name": "stdout",
     "output_type": "stream",
     "text": [
      "Epoch 0 [660/1532] Loss: 2.6089, LR: 0.000005\n"
     ]
    },
    {
     "name": "stderr",
     "output_type": "stream",
     "text": [
      "Epoch 0 Training:  44%|████▍     | 672/1532 [02:06<02:40,  5.35it/s, loss=2.32]"
     ]
    },
    {
     "name": "stdout",
     "output_type": "stream",
     "text": [
      "Epoch 0 [670/1532] Loss: 2.1177, LR: 0.000005\n"
     ]
    },
    {
     "name": "stderr",
     "output_type": "stream",
     "text": [
      "Epoch 0 Training:  45%|████▍     | 682/1532 [02:08<02:37,  5.41it/s, loss=2.38]"
     ]
    },
    {
     "name": "stdout",
     "output_type": "stream",
     "text": [
      "Epoch 0 [680/1532] Loss: 2.5283, LR: 0.000005\n"
     ]
    },
    {
     "name": "stderr",
     "output_type": "stream",
     "text": [
      "Epoch 0 Training:  45%|████▌     | 691/1532 [02:10<02:35,  5.42it/s, loss=2.52]"
     ]
    },
    {
     "name": "stdout",
     "output_type": "stream",
     "text": [
      "Epoch 0 [690/1532] Loss: 2.1040, LR: 0.000005\n"
     ]
    },
    {
     "name": "stderr",
     "output_type": "stream",
     "text": [
      "Epoch 0 Training:  46%|████▌     | 702/1532 [02:11<02:36,  5.30it/s, loss=1.77]"
     ]
    },
    {
     "name": "stdout",
     "output_type": "stream",
     "text": [
      "Epoch 0 [700/1532] Loss: 2.3140, LR: 0.000005\n"
     ]
    },
    {
     "name": "stderr",
     "output_type": "stream",
     "text": [
      "Epoch 0 Training:  46%|████▋     | 712/1532 [02:13<02:38,  5.18it/s, loss=2.31]"
     ]
    },
    {
     "name": "stdout",
     "output_type": "stream",
     "text": [
      "Epoch 0 [710/1532] Loss: 2.0802, LR: 0.000005\n"
     ]
    },
    {
     "name": "stderr",
     "output_type": "stream",
     "text": [
      "Epoch 0 Training:  47%|████▋     | 722/1532 [02:15<02:35,  5.21it/s, loss=2.4] "
     ]
    },
    {
     "name": "stdout",
     "output_type": "stream",
     "text": [
      "Epoch 0 [720/1532] Loss: 2.1531, LR: 0.000005\n"
     ]
    },
    {
     "name": "stderr",
     "output_type": "stream",
     "text": [
      "Epoch 0 Training:  48%|████▊     | 731/1532 [02:17<02:34,  5.19it/s, loss=2.29]"
     ]
    },
    {
     "name": "stdout",
     "output_type": "stream",
     "text": [
      "Epoch 0 [730/1532] Loss: 2.2945, LR: 0.000005\n"
     ]
    },
    {
     "name": "stderr",
     "output_type": "stream",
     "text": [
      "Epoch 0 Training:  48%|████▊     | 742/1532 [02:19<02:34,  5.10it/s, loss=1.81]"
     ]
    },
    {
     "name": "stdout",
     "output_type": "stream",
     "text": [
      "Epoch 0 [740/1532] Loss: 2.3585, LR: 0.000005\n"
     ]
    },
    {
     "name": "stderr",
     "output_type": "stream",
     "text": [
      "Epoch 0 Training:  49%|████▉     | 752/1532 [02:21<02:26,  5.31it/s, loss=2.57]"
     ]
    },
    {
     "name": "stdout",
     "output_type": "stream",
     "text": [
      "Epoch 0 [750/1532] Loss: 1.9380, LR: 0.000005\n"
     ]
    },
    {
     "name": "stderr",
     "output_type": "stream",
     "text": [
      "Epoch 0 Training:  50%|████▉     | 762/1532 [02:23<02:25,  5.28it/s, loss=2.22]"
     ]
    },
    {
     "name": "stdout",
     "output_type": "stream",
     "text": [
      "Epoch 0 [760/1532] Loss: 2.2136, LR: 0.000005\n"
     ]
    },
    {
     "name": "stderr",
     "output_type": "stream",
     "text": [
      "Epoch 0 Training:  50%|█████     | 772/1532 [02:25<02:24,  5.27it/s, loss=1.89]"
     ]
    },
    {
     "name": "stdout",
     "output_type": "stream",
     "text": [
      "Epoch 0 [770/1532] Loss: 1.9868, LR: 0.000005\n"
     ]
    },
    {
     "name": "stderr",
     "output_type": "stream",
     "text": [
      "Epoch 0 Training:  51%|█████     | 782/1532 [02:27<02:18,  5.40it/s, loss=2.73]"
     ]
    },
    {
     "name": "stdout",
     "output_type": "stream",
     "text": [
      "Epoch 0 [780/1532] Loss: 2.3434, LR: 0.000005\n"
     ]
    },
    {
     "name": "stderr",
     "output_type": "stream",
     "text": [
      "Epoch 0 Training:  52%|█████▏    | 792/1532 [02:29<02:18,  5.36it/s, loss=2.1] "
     ]
    },
    {
     "name": "stdout",
     "output_type": "stream",
     "text": [
      "Epoch 0 [790/1532] Loss: 1.9318, LR: 0.000005\n"
     ]
    },
    {
     "name": "stderr",
     "output_type": "stream",
     "text": [
      "Epoch 0 Training:  52%|█████▏    | 802/1532 [02:31<02:22,  5.14it/s, loss=2.16]"
     ]
    },
    {
     "name": "stdout",
     "output_type": "stream",
     "text": [
      "Epoch 0 [800/1532] Loss: 2.5059, LR: 0.000005\n"
     ]
    },
    {
     "name": "stderr",
     "output_type": "stream",
     "text": [
      "Epoch 0 Training:  53%|█████▎    | 812/1532 [02:33<02:18,  5.19it/s, loss=2.37]"
     ]
    },
    {
     "name": "stdout",
     "output_type": "stream",
     "text": [
      "Epoch 0 [810/1532] Loss: 1.8928, LR: 0.000005\n"
     ]
    },
    {
     "name": "stderr",
     "output_type": "stream",
     "text": [
      "Epoch 0 Training:  54%|█████▎    | 822/1532 [02:34<02:15,  5.26it/s, loss=2.6] "
     ]
    },
    {
     "name": "stdout",
     "output_type": "stream",
     "text": [
      "Epoch 0 [820/1532] Loss: 2.3176, LR: 0.000005\n"
     ]
    },
    {
     "name": "stderr",
     "output_type": "stream",
     "text": [
      "Epoch 0 Training:  54%|█████▍    | 832/1532 [02:36<02:14,  5.19it/s, loss=2.13]"
     ]
    },
    {
     "name": "stdout",
     "output_type": "stream",
     "text": [
      "Epoch 0 [830/1532] Loss: 1.9352, LR: 0.000005\n"
     ]
    },
    {
     "name": "stderr",
     "output_type": "stream",
     "text": [
      "Epoch 0 Training:  55%|█████▍    | 842/1532 [02:38<02:08,  5.37it/s, loss=2.59]"
     ]
    },
    {
     "name": "stdout",
     "output_type": "stream",
     "text": [
      "Epoch 0 [840/1532] Loss: 1.6573, LR: 0.000005\n"
     ]
    },
    {
     "name": "stderr",
     "output_type": "stream",
     "text": [
      "Epoch 0 Training:  56%|█████▌    | 852/1532 [02:40<02:09,  5.25it/s, loss=1.96]"
     ]
    },
    {
     "name": "stdout",
     "output_type": "stream",
     "text": [
      "Epoch 0 [850/1532] Loss: 1.6072, LR: 0.000005\n"
     ]
    },
    {
     "name": "stderr",
     "output_type": "stream",
     "text": [
      "Epoch 0 Training:  56%|█████▋    | 862/1532 [02:42<02:07,  5.25it/s, loss=2.2] "
     ]
    },
    {
     "name": "stdout",
     "output_type": "stream",
     "text": [
      "Epoch 0 [860/1532] Loss: 1.8510, LR: 0.000005\n"
     ]
    },
    {
     "name": "stderr",
     "output_type": "stream",
     "text": [
      "Epoch 0 Training:  57%|█████▋    | 872/1532 [02:44<02:04,  5.31it/s, loss=2.22]"
     ]
    },
    {
     "name": "stdout",
     "output_type": "stream",
     "text": [
      "Epoch 0 [870/1532] Loss: 2.1441, LR: 0.000005\n"
     ]
    },
    {
     "name": "stderr",
     "output_type": "stream",
     "text": [
      "Epoch 0 Training:  58%|█████▊    | 882/1532 [02:46<02:02,  5.31it/s, loss=2.34]"
     ]
    },
    {
     "name": "stdout",
     "output_type": "stream",
     "text": [
      "Epoch 0 [880/1532] Loss: 2.1661, LR: 0.000005\n"
     ]
    },
    {
     "name": "stderr",
     "output_type": "stream",
     "text": [
      "Epoch 0 Training:  58%|█████▊    | 892/1532 [02:48<02:00,  5.32it/s, loss=2.01]"
     ]
    },
    {
     "name": "stdout",
     "output_type": "stream",
     "text": [
      "Epoch 0 [890/1532] Loss: 2.5430, LR: 0.000005\n"
     ]
    },
    {
     "name": "stderr",
     "output_type": "stream",
     "text": [
      "Epoch 0 Training:  59%|█████▉    | 902/1532 [02:50<01:59,  5.29it/s, loss=2.2] "
     ]
    },
    {
     "name": "stdout",
     "output_type": "stream",
     "text": [
      "Epoch 0 [900/1532] Loss: 2.3689, LR: 0.000005\n"
     ]
    },
    {
     "name": "stderr",
     "output_type": "stream",
     "text": [
      "Epoch 0 Training:  60%|█████▉    | 912/1532 [02:51<01:57,  5.28it/s, loss=1.99]"
     ]
    },
    {
     "name": "stdout",
     "output_type": "stream",
     "text": [
      "Epoch 0 [910/1532] Loss: 2.4810, LR: 0.000005\n"
     ]
    },
    {
     "name": "stderr",
     "output_type": "stream",
     "text": [
      "Epoch 0 Training:  60%|██████    | 922/1532 [02:53<01:59,  5.11it/s, loss=1.91]"
     ]
    },
    {
     "name": "stdout",
     "output_type": "stream",
     "text": [
      "Epoch 0 [920/1532] Loss: 2.1264, LR: 0.000005\n"
     ]
    },
    {
     "name": "stderr",
     "output_type": "stream",
     "text": [
      "Epoch 0 Training:  61%|██████    | 932/1532 [02:55<01:55,  5.20it/s, loss=2.49]"
     ]
    },
    {
     "name": "stdout",
     "output_type": "stream",
     "text": [
      "Epoch 0 [930/1532] Loss: 2.2074, LR: 0.000005\n"
     ]
    },
    {
     "name": "stderr",
     "output_type": "stream",
     "text": [
      "Epoch 0 Training:  61%|██████▏   | 941/1532 [02:57<01:56,  5.06it/s, loss=2.17]"
     ]
    },
    {
     "name": "stdout",
     "output_type": "stream",
     "text": [
      "Epoch 0 [940/1532] Loss: 2.1723, LR: 0.000005\n"
     ]
    },
    {
     "name": "stderr",
     "output_type": "stream",
     "text": [
      "Epoch 0 Training:  62%|██████▏   | 952/1532 [02:59<01:50,  5.23it/s, loss=1.99]"
     ]
    },
    {
     "name": "stdout",
     "output_type": "stream",
     "text": [
      "Epoch 0 [950/1532] Loss: 2.1865, LR: 0.000005\n"
     ]
    },
    {
     "name": "stderr",
     "output_type": "stream",
     "text": [
      "Epoch 0 Training:  63%|██████▎   | 961/1532 [03:01<01:54,  5.00it/s, loss=2]   "
     ]
    },
    {
     "name": "stdout",
     "output_type": "stream",
     "text": [
      "Epoch 0 [960/1532] Loss: 2.0019, LR: 0.000005\n"
     ]
    },
    {
     "name": "stderr",
     "output_type": "stream",
     "text": [
      "Epoch 0 Training:  63%|██████▎   | 972/1532 [03:03<01:50,  5.07it/s, loss=2.21]"
     ]
    },
    {
     "name": "stdout",
     "output_type": "stream",
     "text": [
      "Epoch 0 [970/1532] Loss: 1.9711, LR: 0.000005\n"
     ]
    },
    {
     "name": "stderr",
     "output_type": "stream",
     "text": [
      "Epoch 0 Training:  64%|██████▍   | 982/1532 [03:05<01:46,  5.14it/s, loss=1.66]"
     ]
    },
    {
     "name": "stdout",
     "output_type": "stream",
     "text": [
      "Epoch 0 [980/1532] Loss: 2.0474, LR: 0.000005\n"
     ]
    },
    {
     "name": "stderr",
     "output_type": "stream",
     "text": [
      "Epoch 0 Training:  65%|██████▍   | 992/1532 [03:07<01:45,  5.10it/s, loss=1.94]"
     ]
    },
    {
     "name": "stdout",
     "output_type": "stream",
     "text": [
      "Epoch 0 [990/1532] Loss: 2.0361, LR: 0.000005\n"
     ]
    },
    {
     "name": "stderr",
     "output_type": "stream",
     "text": [
      "Epoch 0 Training:  65%|██████▌   | 1002/1532 [03:09<01:41,  5.21it/s, loss=2.11]"
     ]
    },
    {
     "name": "stdout",
     "output_type": "stream",
     "text": [
      "Epoch 0 [1000/1532] Loss: 2.0037, LR: 0.000005\n"
     ]
    },
    {
     "name": "stderr",
     "output_type": "stream",
     "text": [
      "Epoch 0 Training:  66%|██████▌   | 1012/1532 [03:11<01:37,  5.35it/s, loss=1.84]"
     ]
    },
    {
     "name": "stdout",
     "output_type": "stream",
     "text": [
      "Epoch 0 [1010/1532] Loss: 2.2794, LR: 0.000005\n"
     ]
    },
    {
     "name": "stderr",
     "output_type": "stream",
     "text": [
      "Epoch 0 Training:  67%|██████▋   | 1022/1532 [03:13<01:36,  5.29it/s, loss=2.07]"
     ]
    },
    {
     "name": "stdout",
     "output_type": "stream",
     "text": [
      "Epoch 0 [1020/1532] Loss: 1.9182, LR: 0.000005\n"
     ]
    },
    {
     "name": "stderr",
     "output_type": "stream",
     "text": [
      "Epoch 0 Training:  67%|██████▋   | 1031/1532 [03:15<01:43,  4.85it/s, loss=2.13]"
     ]
    },
    {
     "name": "stdout",
     "output_type": "stream",
     "text": [
      "Epoch 0 [1030/1532] Loss: 2.1295, LR: 0.000005\n"
     ]
    },
    {
     "name": "stderr",
     "output_type": "stream",
     "text": [
      "Epoch 0 Training:  68%|██████▊   | 1041/1532 [03:17<01:38,  5.01it/s, loss=1.99]"
     ]
    },
    {
     "name": "stdout",
     "output_type": "stream",
     "text": [
      "Epoch 0 [1040/1532] Loss: 1.9930, LR: 0.000005\n"
     ]
    },
    {
     "name": "stderr",
     "output_type": "stream",
     "text": [
      "Epoch 0 Training:  69%|██████▊   | 1052/1532 [03:19<01:34,  5.09it/s, loss=2.23]"
     ]
    },
    {
     "name": "stdout",
     "output_type": "stream",
     "text": [
      "Epoch 0 [1050/1532] Loss: 2.1296, LR: 0.000005\n"
     ]
    },
    {
     "name": "stderr",
     "output_type": "stream",
     "text": [
      "Epoch 0 Training:  69%|██████▉   | 1061/1532 [03:20<01:27,  5.36it/s, loss=1.8] "
     ]
    },
    {
     "name": "stdout",
     "output_type": "stream",
     "text": [
      "Epoch 0 [1060/1532] Loss: 1.7975, LR: 0.000005\n"
     ]
    },
    {
     "name": "stderr",
     "output_type": "stream",
     "text": [
      "Epoch 0 Training:  70%|██████▉   | 1071/1532 [03:22<01:27,  5.24it/s, loss=2.06]"
     ]
    },
    {
     "name": "stdout",
     "output_type": "stream",
     "text": [
      "Epoch 0 [1070/1532] Loss: 2.0595, LR: 0.000005\n"
     ]
    },
    {
     "name": "stderr",
     "output_type": "stream",
     "text": [
      "Epoch 0 Training:  71%|███████   | 1082/1532 [03:24<01:25,  5.24it/s, loss=2.01]"
     ]
    },
    {
     "name": "stdout",
     "output_type": "stream",
     "text": [
      "Epoch 0 [1080/1532] Loss: 1.9883, LR: 0.000005\n"
     ]
    },
    {
     "name": "stderr",
     "output_type": "stream",
     "text": [
      "Epoch 0 Training:  71%|███████▏  | 1092/1532 [03:26<01:21,  5.40it/s, loss=2.29]"
     ]
    },
    {
     "name": "stdout",
     "output_type": "stream",
     "text": [
      "Epoch 0 [1090/1532] Loss: 2.2441, LR: 0.000005\n"
     ]
    },
    {
     "name": "stderr",
     "output_type": "stream",
     "text": [
      "Epoch 0 Training:  72%|███████▏  | 1102/1532 [03:28<01:22,  5.18it/s, loss=2.31]"
     ]
    },
    {
     "name": "stdout",
     "output_type": "stream",
     "text": [
      "Epoch 0 [1100/1532] Loss: 1.8425, LR: 0.000005\n"
     ]
    },
    {
     "name": "stderr",
     "output_type": "stream",
     "text": [
      "Epoch 0 Training:  73%|███████▎  | 1112/1532 [03:30<01:21,  5.16it/s, loss=1.9] "
     ]
    },
    {
     "name": "stdout",
     "output_type": "stream",
     "text": [
      "Epoch 0 [1110/1532] Loss: 1.8700, LR: 0.000005\n"
     ]
    },
    {
     "name": "stderr",
     "output_type": "stream",
     "text": [
      "Epoch 0 Training:  73%|███████▎  | 1122/1532 [03:32<01:18,  5.20it/s, loss=2.13]"
     ]
    },
    {
     "name": "stdout",
     "output_type": "stream",
     "text": [
      "Epoch 0 [1120/1532] Loss: 2.0689, LR: 0.000005\n"
     ]
    },
    {
     "name": "stderr",
     "output_type": "stream",
     "text": [
      "Epoch 0 Training:  74%|███████▍  | 1132/1532 [03:34<01:17,  5.17it/s, loss=2.12]"
     ]
    },
    {
     "name": "stdout",
     "output_type": "stream",
     "text": [
      "Epoch 0 [1130/1532] Loss: 1.8073, LR: 0.000005\n"
     ]
    },
    {
     "name": "stderr",
     "output_type": "stream",
     "text": [
      "Epoch 0 Training:  75%|███████▍  | 1142/1532 [03:36<01:13,  5.30it/s, loss=2.12]"
     ]
    },
    {
     "name": "stdout",
     "output_type": "stream",
     "text": [
      "Epoch 0 [1140/1532] Loss: 2.1655, LR: 0.000005\n"
     ]
    },
    {
     "name": "stderr",
     "output_type": "stream",
     "text": [
      "Epoch 0 Training:  75%|███████▌  | 1152/1532 [03:38<01:13,  5.16it/s, loss=2.35]"
     ]
    },
    {
     "name": "stdout",
     "output_type": "stream",
     "text": [
      "Epoch 0 [1150/1532] Loss: 1.9515, LR: 0.000005\n"
     ]
    },
    {
     "name": "stderr",
     "output_type": "stream",
     "text": [
      "Epoch 0 Training:  76%|███████▌  | 1162/1532 [03:40<01:11,  5.18it/s, loss=2.02]"
     ]
    },
    {
     "name": "stdout",
     "output_type": "stream",
     "text": [
      "Epoch 0 [1160/1532] Loss: 2.4314, LR: 0.000005\n"
     ]
    },
    {
     "name": "stderr",
     "output_type": "stream",
     "text": [
      "Epoch 0 Training:  76%|███████▋  | 1171/1532 [03:42<01:09,  5.21it/s, loss=1.67]"
     ]
    },
    {
     "name": "stdout",
     "output_type": "stream",
     "text": [
      "Epoch 0 [1170/1532] Loss: 1.9540, LR: 0.000005\n"
     ]
    },
    {
     "name": "stderr",
     "output_type": "stream",
     "text": [
      "Epoch 0 Training:  77%|███████▋  | 1181/1532 [03:44<01:08,  5.11it/s, loss=2.19]"
     ]
    },
    {
     "name": "stdout",
     "output_type": "stream",
     "text": [
      "Epoch 0 [1180/1532] Loss: 2.1933, LR: 0.000005\n"
     ]
    },
    {
     "name": "stderr",
     "output_type": "stream",
     "text": [
      "Epoch 0 Training:  78%|███████▊  | 1191/1532 [03:46<01:07,  5.08it/s, loss=2.17]"
     ]
    },
    {
     "name": "stdout",
     "output_type": "stream",
     "text": [
      "Epoch 0 [1190/1532] Loss: 2.0141, LR: 0.000005\n"
     ]
    },
    {
     "name": "stderr",
     "output_type": "stream",
     "text": [
      "Epoch 0 Training:  78%|███████▊  | 1202/1532 [03:48<01:03,  5.18it/s, loss=2.26]"
     ]
    },
    {
     "name": "stdout",
     "output_type": "stream",
     "text": [
      "Epoch 0 [1200/1532] Loss: 2.0179, LR: 0.000005\n"
     ]
    },
    {
     "name": "stderr",
     "output_type": "stream",
     "text": [
      "Epoch 0 Training:  79%|███████▉  | 1212/1532 [03:50<01:01,  5.22it/s, loss=1.75]"
     ]
    },
    {
     "name": "stdout",
     "output_type": "stream",
     "text": [
      "Epoch 0 [1210/1532] Loss: 1.9193, LR: 0.000005\n"
     ]
    },
    {
     "name": "stderr",
     "output_type": "stream",
     "text": [
      "Epoch 0 Training:  80%|███████▉  | 1222/1532 [03:52<00:59,  5.18it/s, loss=2.07]"
     ]
    },
    {
     "name": "stdout",
     "output_type": "stream",
     "text": [
      "Epoch 0 [1220/1532] Loss: 2.1131, LR: 0.000005\n"
     ]
    },
    {
     "name": "stderr",
     "output_type": "stream",
     "text": [
      "Epoch 0 Training:  80%|████████  | 1231/1532 [03:54<00:55,  5.40it/s, loss=1.91]"
     ]
    },
    {
     "name": "stdout",
     "output_type": "stream",
     "text": [
      "Epoch 0 [1230/1532] Loss: 1.5201, LR: 0.000005\n"
     ]
    },
    {
     "name": "stderr",
     "output_type": "stream",
     "text": [
      "Epoch 0 Training:  81%|████████  | 1242/1532 [03:56<00:56,  5.15it/s, loss=2.09]"
     ]
    },
    {
     "name": "stdout",
     "output_type": "stream",
     "text": [
      "Epoch 0 [1240/1532] Loss: 1.9367, LR: 0.000005\n"
     ]
    },
    {
     "name": "stderr",
     "output_type": "stream",
     "text": [
      "Epoch 0 Training:  82%|████████▏ | 1252/1532 [03:57<00:53,  5.19it/s, loss=1.98]"
     ]
    },
    {
     "name": "stdout",
     "output_type": "stream",
     "text": [
      "Epoch 0 [1250/1532] Loss: 1.8421, LR: 0.000005\n"
     ]
    },
    {
     "name": "stderr",
     "output_type": "stream",
     "text": [
      "Epoch 0 Training:  82%|████████▏ | 1262/1532 [03:59<00:51,  5.21it/s, loss=2.08]"
     ]
    },
    {
     "name": "stdout",
     "output_type": "stream",
     "text": [
      "Epoch 0 [1260/1532] Loss: 1.8581, LR: 0.000005\n"
     ]
    },
    {
     "name": "stderr",
     "output_type": "stream",
     "text": [
      "Epoch 0 Training:  83%|████████▎ | 1272/1532 [04:01<00:50,  5.17it/s, loss=1.6] "
     ]
    },
    {
     "name": "stdout",
     "output_type": "stream",
     "text": [
      "Epoch 0 [1270/1532] Loss: 1.8700, LR: 0.000005\n"
     ]
    },
    {
     "name": "stderr",
     "output_type": "stream",
     "text": [
      "Epoch 0 Training:  84%|████████▎ | 1282/1532 [04:03<00:47,  5.25it/s, loss=1.91]"
     ]
    },
    {
     "name": "stdout",
     "output_type": "stream",
     "text": [
      "Epoch 0 [1280/1532] Loss: 2.5402, LR: 0.000005\n"
     ]
    },
    {
     "name": "stderr",
     "output_type": "stream",
     "text": [
      "Epoch 0 Training:  84%|████████▍ | 1292/1532 [04:05<00:47,  5.10it/s, loss=2]   "
     ]
    },
    {
     "name": "stdout",
     "output_type": "stream",
     "text": [
      "Epoch 0 [1290/1532] Loss: 2.3560, LR: 0.000005\n"
     ]
    },
    {
     "name": "stderr",
     "output_type": "stream",
     "text": [
      "Epoch 0 Training:  85%|████████▍ | 1302/1532 [04:07<00:44,  5.21it/s, loss=1.7] "
     ]
    },
    {
     "name": "stdout",
     "output_type": "stream",
     "text": [
      "Epoch 0 [1300/1532] Loss: 2.3690, LR: 0.000005\n"
     ]
    },
    {
     "name": "stderr",
     "output_type": "stream",
     "text": [
      "Epoch 0 Training:  86%|████████▌ | 1311/1532 [04:09<00:43,  5.04it/s, loss=2.3] "
     ]
    },
    {
     "name": "stdout",
     "output_type": "stream",
     "text": [
      "Epoch 0 [1310/1532] Loss: 2.2978, LR: 0.000005\n"
     ]
    },
    {
     "name": "stderr",
     "output_type": "stream",
     "text": [
      "Epoch 0 Training:  86%|████████▋ | 1322/1532 [04:11<00:40,  5.21it/s, loss=1.96]"
     ]
    },
    {
     "name": "stdout",
     "output_type": "stream",
     "text": [
      "Epoch 0 [1320/1532] Loss: 1.7907, LR: 0.000005\n"
     ]
    },
    {
     "name": "stderr",
     "output_type": "stream",
     "text": [
      "Epoch 0 Training:  87%|████████▋ | 1331/1532 [04:13<00:38,  5.18it/s, loss=1.91]"
     ]
    },
    {
     "name": "stdout",
     "output_type": "stream",
     "text": [
      "Epoch 0 [1330/1532] Loss: 1.9148, LR: 0.000005\n"
     ]
    },
    {
     "name": "stderr",
     "output_type": "stream",
     "text": [
      "Epoch 0 Training:  88%|████████▊ | 1342/1532 [04:15<00:36,  5.19it/s, loss=1.79]"
     ]
    },
    {
     "name": "stdout",
     "output_type": "stream",
     "text": [
      "Epoch 0 [1340/1532] Loss: 2.1053, LR: 0.000005\n"
     ]
    },
    {
     "name": "stderr",
     "output_type": "stream",
     "text": [
      "Epoch 0 Training:  88%|████████▊ | 1352/1532 [04:17<00:34,  5.23it/s, loss=2.17]"
     ]
    },
    {
     "name": "stdout",
     "output_type": "stream",
     "text": [
      "Epoch 0 [1350/1532] Loss: 2.2279, LR: 0.000005\n"
     ]
    },
    {
     "name": "stderr",
     "output_type": "stream",
     "text": [
      "Epoch 0 Training:  89%|████████▉ | 1362/1532 [04:19<00:32,  5.15it/s, loss=1.88]"
     ]
    },
    {
     "name": "stdout",
     "output_type": "stream",
     "text": [
      "Epoch 0 [1360/1532] Loss: 2.3926, LR: 0.000005\n"
     ]
    },
    {
     "name": "stderr",
     "output_type": "stream",
     "text": [
      "Epoch 0 Training:  89%|████████▉ | 1371/1532 [04:21<00:30,  5.22it/s, loss=2.12]"
     ]
    },
    {
     "name": "stdout",
     "output_type": "stream",
     "text": [
      "Epoch 0 [1370/1532] Loss: 2.0725, LR: 0.000005\n"
     ]
    },
    {
     "name": "stderr",
     "output_type": "stream",
     "text": [
      "Epoch 0 Training:  90%|█████████ | 1381/1532 [04:22<00:29,  5.18it/s, loss=2.12]"
     ]
    },
    {
     "name": "stdout",
     "output_type": "stream",
     "text": [
      "Epoch 0 [1380/1532] Loss: 2.1186, LR: 0.000005\n"
     ]
    },
    {
     "name": "stderr",
     "output_type": "stream",
     "text": [
      "Epoch 0 Training:  91%|█████████ | 1392/1532 [04:24<00:27,  5.17it/s, loss=1.79]"
     ]
    },
    {
     "name": "stdout",
     "output_type": "stream",
     "text": [
      "Epoch 0 [1390/1532] Loss: 2.2064, LR: 0.000005\n"
     ]
    },
    {
     "name": "stderr",
     "output_type": "stream",
     "text": [
      "Epoch 0 Training:  91%|█████████▏| 1401/1532 [04:26<00:25,  5.15it/s, loss=1.55]"
     ]
    },
    {
     "name": "stdout",
     "output_type": "stream",
     "text": [
      "Epoch 0 [1400/1532] Loss: 1.5493, LR: 0.000005\n"
     ]
    },
    {
     "name": "stderr",
     "output_type": "stream",
     "text": [
      "Epoch 0 Training:  92%|█████████▏| 1411/1532 [04:28<00:23,  5.10it/s, loss=1.97]"
     ]
    },
    {
     "name": "stdout",
     "output_type": "stream",
     "text": [
      "Epoch 0 [1410/1532] Loss: 1.9711, LR: 0.000005\n"
     ]
    },
    {
     "name": "stderr",
     "output_type": "stream",
     "text": [
      "Epoch 0 Training:  93%|█████████▎| 1422/1532 [04:30<00:21,  5.13it/s, loss=2.07]"
     ]
    },
    {
     "name": "stdout",
     "output_type": "stream",
     "text": [
      "Epoch 0 [1420/1532] Loss: 2.0018, LR: 0.000005\n"
     ]
    },
    {
     "name": "stderr",
     "output_type": "stream",
     "text": [
      "Epoch 0 Training:  93%|█████████▎| 1432/1532 [04:32<00:19,  5.10it/s, loss=1.82]"
     ]
    },
    {
     "name": "stdout",
     "output_type": "stream",
     "text": [
      "Epoch 0 [1430/1532] Loss: 2.0192, LR: 0.000005\n"
     ]
    },
    {
     "name": "stderr",
     "output_type": "stream",
     "text": [
      "Epoch 0 Training:  94%|█████████▍| 1442/1532 [04:34<00:17,  5.19it/s, loss=1.93]"
     ]
    },
    {
     "name": "stdout",
     "output_type": "stream",
     "text": [
      "Epoch 0 [1440/1532] Loss: 2.2703, LR: 0.000005\n"
     ]
    },
    {
     "name": "stderr",
     "output_type": "stream",
     "text": [
      "Epoch 0 Training:  95%|█████████▍| 1452/1532 [04:36<00:15,  5.11it/s, loss=2]   "
     ]
    },
    {
     "name": "stdout",
     "output_type": "stream",
     "text": [
      "Epoch 0 [1450/1532] Loss: 1.8740, LR: 0.000005\n"
     ]
    },
    {
     "name": "stderr",
     "output_type": "stream",
     "text": [
      "Epoch 0 Training:  95%|█████████▌| 1462/1532 [04:38<00:13,  5.24it/s, loss=2.16]"
     ]
    },
    {
     "name": "stdout",
     "output_type": "stream",
     "text": [
      "Epoch 0 [1460/1532] Loss: 2.3271, LR: 0.000005\n"
     ]
    },
    {
     "name": "stderr",
     "output_type": "stream",
     "text": [
      "Epoch 0 Training:  96%|█████████▌| 1471/1532 [04:40<00:11,  5.09it/s, loss=1.72]"
     ]
    },
    {
     "name": "stdout",
     "output_type": "stream",
     "text": [
      "Epoch 0 [1470/1532] Loss: 2.0433, LR: 0.000005\n"
     ]
    },
    {
     "name": "stderr",
     "output_type": "stream",
     "text": [
      "Epoch 0 Training:  97%|█████████▋| 1482/1532 [04:42<00:09,  5.14it/s, loss=1.7] "
     ]
    },
    {
     "name": "stdout",
     "output_type": "stream",
     "text": [
      "Epoch 0 [1480/1532] Loss: 1.8613, LR: 0.000005\n"
     ]
    },
    {
     "name": "stderr",
     "output_type": "stream",
     "text": [
      "Epoch 0 Training:  97%|█████████▋| 1492/1532 [04:44<00:07,  5.25it/s, loss=1.82]"
     ]
    },
    {
     "name": "stdout",
     "output_type": "stream",
     "text": [
      "Epoch 0 [1490/1532] Loss: 2.3897, LR: 0.000005\n"
     ]
    },
    {
     "name": "stderr",
     "output_type": "stream",
     "text": [
      "Epoch 0 Training:  98%|█████████▊| 1501/1532 [04:46<00:06,  5.01it/s, loss=1.61]"
     ]
    },
    {
     "name": "stdout",
     "output_type": "stream",
     "text": [
      "Epoch 0 [1500/1532] Loss: 1.6069, LR: 0.000005\n"
     ]
    },
    {
     "name": "stderr",
     "output_type": "stream",
     "text": [
      "Epoch 0 Training:  99%|█████████▊| 1512/1532 [04:48<00:03,  5.10it/s, loss=2.32]"
     ]
    },
    {
     "name": "stdout",
     "output_type": "stream",
     "text": [
      "Epoch 0 [1510/1532] Loss: 1.8455, LR: 0.000005\n"
     ]
    },
    {
     "name": "stderr",
     "output_type": "stream",
     "text": [
      "Epoch 0 Training:  99%|█████████▉| 1522/1532 [04:50<00:01,  5.25it/s, loss=1.97]"
     ]
    },
    {
     "name": "stdout",
     "output_type": "stream",
     "text": [
      "Epoch 0 [1520/1532] Loss: 1.9758, LR: 0.000005\n"
     ]
    },
    {
     "name": "stderr",
     "output_type": "stream",
     "text": [
      "Epoch 0 Training: 100%|██████████| 1532/1532 [04:52<00:00,  5.24it/s, loss=0.413]\n"
     ]
    },
    {
     "name": "stdout",
     "output_type": "stream",
     "text": [
      "Epoch 0 [1530/1532] Loss: 1.6495, LR: 0.000005\n",
      "Epoch 0: Avg Loss: 2.2383, Time: 292.12s\n",
      "Validation Results:\n",
      "  Loss: 2.0564\n",
      "  Image→Text Accuracy: 0.3031 (Top-5: 0.7586)\n",
      "  Text→Image Accuracy: 0.2965 (Top-5: 0.7614)\n",
      "💾 Saved new best model at epoch 1 with I→T Acc: 30.31%\n",
      "\n",
      "🚀 Epoch 2/5\n"
     ]
    },
    {
     "name": "stderr",
     "output_type": "stream",
     "text": [
      "Epoch 1 Training:   0%|          | 2/1532 [00:00<05:08,  4.96it/s, loss=1.54]"
     ]
    },
    {
     "name": "stdout",
     "output_type": "stream",
     "text": [
      "Epoch 1 [0/1532] Loss: 2.1653, LR: 0.000005\n"
     ]
    },
    {
     "name": "stderr",
     "output_type": "stream",
     "text": [
      "Epoch 1 Training:   1%|          | 12/1532 [00:02<04:36,  5.49it/s, loss=1.64]"
     ]
    },
    {
     "name": "stdout",
     "output_type": "stream",
     "text": [
      "Epoch 1 [10/1532] Loss: 1.9332, LR: 0.000005\n"
     ]
    },
    {
     "name": "stderr",
     "output_type": "stream",
     "text": [
      "Epoch 1 Training:   1%|▏         | 22/1532 [00:04<04:39,  5.40it/s, loss=1.55]"
     ]
    },
    {
     "name": "stdout",
     "output_type": "stream",
     "text": [
      "Epoch 1 [20/1532] Loss: 1.6086, LR: 0.000005\n"
     ]
    },
    {
     "name": "stderr",
     "output_type": "stream",
     "text": [
      "Epoch 1 Training:   2%|▏         | 32/1532 [00:05<04:44,  5.27it/s, loss=1.75]"
     ]
    },
    {
     "name": "stdout",
     "output_type": "stream",
     "text": [
      "Epoch 1 [30/1532] Loss: 1.7076, LR: 0.000005\n"
     ]
    },
    {
     "name": "stderr",
     "output_type": "stream",
     "text": [
      "Epoch 1 Training:   3%|▎         | 42/1532 [00:07<04:48,  5.16it/s, loss=1.56]"
     ]
    },
    {
     "name": "stdout",
     "output_type": "stream",
     "text": [
      "Epoch 1 [40/1532] Loss: 1.2774, LR: 0.000005\n"
     ]
    },
    {
     "name": "stderr",
     "output_type": "stream",
     "text": [
      "Epoch 1 Training:   3%|▎         | 52/1532 [00:09<04:33,  5.40it/s, loss=1.86]"
     ]
    },
    {
     "name": "stdout",
     "output_type": "stream",
     "text": [
      "Epoch 1 [50/1532] Loss: 2.2253, LR: 0.000005\n"
     ]
    },
    {
     "name": "stderr",
     "output_type": "stream",
     "text": [
      "Epoch 1 Training:   4%|▍         | 62/1532 [00:11<04:42,  5.20it/s, loss=1.83]"
     ]
    },
    {
     "name": "stdout",
     "output_type": "stream",
     "text": [
      "Epoch 1 [60/1532] Loss: 1.9897, LR: 0.000005\n"
     ]
    },
    {
     "name": "stderr",
     "output_type": "stream",
     "text": [
      "Epoch 1 Training:   5%|▍         | 72/1532 [00:13<04:26,  5.48it/s, loss=1.89]"
     ]
    },
    {
     "name": "stdout",
     "output_type": "stream",
     "text": [
      "Epoch 1 [70/1532] Loss: 1.6850, LR: 0.000005\n"
     ]
    },
    {
     "name": "stderr",
     "output_type": "stream",
     "text": [
      "Epoch 1 Training:   5%|▌         | 82/1532 [00:15<04:26,  5.44it/s, loss=1.78]"
     ]
    },
    {
     "name": "stdout",
     "output_type": "stream",
     "text": [
      "Epoch 1 [80/1532] Loss: 1.4113, LR: 0.000005\n"
     ]
    },
    {
     "name": "stderr",
     "output_type": "stream",
     "text": [
      "Epoch 1 Training:   6%|▌         | 92/1532 [00:17<04:32,  5.28it/s, loss=1.57]"
     ]
    },
    {
     "name": "stdout",
     "output_type": "stream",
     "text": [
      "Epoch 1 [90/1532] Loss: 1.9049, LR: 0.000005\n"
     ]
    },
    {
     "name": "stderr",
     "output_type": "stream",
     "text": [
      "Epoch 1 Training:   7%|▋         | 102/1532 [00:19<04:28,  5.32it/s, loss=1.91]"
     ]
    },
    {
     "name": "stdout",
     "output_type": "stream",
     "text": [
      "Epoch 1 [100/1532] Loss: 1.7768, LR: 0.000005\n"
     ]
    },
    {
     "name": "stderr",
     "output_type": "stream",
     "text": [
      "Epoch 1 Training:   7%|▋         | 112/1532 [00:21<04:24,  5.37it/s, loss=1.84]"
     ]
    },
    {
     "name": "stdout",
     "output_type": "stream",
     "text": [
      "Epoch 1 [110/1532] Loss: 1.7779, LR: 0.000005\n"
     ]
    },
    {
     "name": "stderr",
     "output_type": "stream",
     "text": [
      "Epoch 1 Training:   8%|▊         | 122/1532 [00:22<04:23,  5.34it/s, loss=1.46]"
     ]
    },
    {
     "name": "stdout",
     "output_type": "stream",
     "text": [
      "Epoch 1 [120/1532] Loss: 2.0142, LR: 0.000005\n"
     ]
    },
    {
     "name": "stderr",
     "output_type": "stream",
     "text": [
      "Epoch 1 Training:   9%|▊         | 132/1532 [00:24<04:23,  5.32it/s, loss=1.44]"
     ]
    },
    {
     "name": "stdout",
     "output_type": "stream",
     "text": [
      "Epoch 1 [130/1532] Loss: 1.5024, LR: 0.000005\n"
     ]
    },
    {
     "name": "stderr",
     "output_type": "stream",
     "text": [
      "Epoch 1 Training:   9%|▉         | 142/1532 [00:26<04:28,  5.18it/s, loss=1.54]"
     ]
    },
    {
     "name": "stdout",
     "output_type": "stream",
     "text": [
      "Epoch 1 [140/1532] Loss: 2.1844, LR: 0.000005\n"
     ]
    },
    {
     "name": "stderr",
     "output_type": "stream",
     "text": [
      "Epoch 1 Training:  10%|▉         | 152/1532 [00:28<04:21,  5.28it/s, loss=1.37]"
     ]
    },
    {
     "name": "stdout",
     "output_type": "stream",
     "text": [
      "Epoch 1 [150/1532] Loss: 2.0856, LR: 0.000005\n"
     ]
    },
    {
     "name": "stderr",
     "output_type": "stream",
     "text": [
      "Epoch 1 Training:  11%|█         | 162/1532 [00:30<04:23,  5.21it/s, loss=1.55]"
     ]
    },
    {
     "name": "stdout",
     "output_type": "stream",
     "text": [
      "Epoch 1 [160/1532] Loss: 1.8865, LR: 0.000005\n"
     ]
    },
    {
     "name": "stderr",
     "output_type": "stream",
     "text": [
      "Epoch 1 Training:  11%|█         | 172/1532 [00:32<04:16,  5.30it/s, loss=1.56]"
     ]
    },
    {
     "name": "stdout",
     "output_type": "stream",
     "text": [
      "Epoch 1 [170/1532] Loss: 1.6079, LR: 0.000005\n"
     ]
    },
    {
     "name": "stderr",
     "output_type": "stream",
     "text": [
      "Epoch 1 Training:  12%|█▏        | 182/1532 [00:34<04:16,  5.26it/s, loss=1.46]"
     ]
    },
    {
     "name": "stdout",
     "output_type": "stream",
     "text": [
      "Epoch 1 [180/1532] Loss: 1.4998, LR: 0.000005\n"
     ]
    },
    {
     "name": "stderr",
     "output_type": "stream",
     "text": [
      "Epoch 1 Training:  13%|█▎        | 192/1532 [00:36<04:12,  5.31it/s, loss=1.55]"
     ]
    },
    {
     "name": "stdout",
     "output_type": "stream",
     "text": [
      "Epoch 1 [190/1532] Loss: 1.7761, LR: 0.000005\n"
     ]
    },
    {
     "name": "stderr",
     "output_type": "stream",
     "text": [
      "Epoch 1 Training:  13%|█▎        | 202/1532 [00:38<04:07,  5.38it/s, loss=1.78]"
     ]
    },
    {
     "name": "stdout",
     "output_type": "stream",
     "text": [
      "Epoch 1 [200/1532] Loss: 2.1237, LR: 0.000005\n"
     ]
    },
    {
     "name": "stderr",
     "output_type": "stream",
     "text": [
      "Epoch 1 Training:  14%|█▍        | 212/1532 [00:39<04:10,  5.27it/s, loss=2.26]"
     ]
    },
    {
     "name": "stdout",
     "output_type": "stream",
     "text": [
      "Epoch 1 [210/1532] Loss: 1.9516, LR: 0.000005\n"
     ]
    },
    {
     "name": "stderr",
     "output_type": "stream",
     "text": [
      "Epoch 1 Training:  14%|█▍        | 222/1532 [00:41<04:13,  5.17it/s, loss=1.42]"
     ]
    },
    {
     "name": "stdout",
     "output_type": "stream",
     "text": [
      "Epoch 1 [220/1532] Loss: 1.5859, LR: 0.000005\n"
     ]
    },
    {
     "name": "stderr",
     "output_type": "stream",
     "text": [
      "Epoch 1 Training:  15%|█▌        | 232/1532 [00:43<04:01,  5.39it/s, loss=1.76]"
     ]
    },
    {
     "name": "stdout",
     "output_type": "stream",
     "text": [
      "Epoch 1 [230/1532] Loss: 1.1750, LR: 0.000005\n"
     ]
    },
    {
     "name": "stderr",
     "output_type": "stream",
     "text": [
      "Epoch 1 Training:  16%|█▌        | 242/1532 [00:45<04:08,  5.20it/s, loss=1.51]"
     ]
    },
    {
     "name": "stdout",
     "output_type": "stream",
     "text": [
      "Epoch 1 [240/1532] Loss: 1.4810, LR: 0.000005\n"
     ]
    },
    {
     "name": "stderr",
     "output_type": "stream",
     "text": [
      "Epoch 1 Training:  16%|█▋        | 252/1532 [00:47<04:00,  5.33it/s, loss=1.47]"
     ]
    },
    {
     "name": "stdout",
     "output_type": "stream",
     "text": [
      "Epoch 1 [250/1532] Loss: 1.7254, LR: 0.000005\n"
     ]
    },
    {
     "name": "stderr",
     "output_type": "stream",
     "text": [
      "Epoch 1 Training:  17%|█▋        | 262/1532 [00:49<03:52,  5.45it/s, loss=1.44]"
     ]
    },
    {
     "name": "stdout",
     "output_type": "stream",
     "text": [
      "Epoch 1 [260/1532] Loss: 1.6216, LR: 0.000005\n"
     ]
    },
    {
     "name": "stderr",
     "output_type": "stream",
     "text": [
      "Epoch 1 Training:  18%|█▊        | 272/1532 [00:51<03:56,  5.33it/s, loss=1.78]"
     ]
    },
    {
     "name": "stdout",
     "output_type": "stream",
     "text": [
      "Epoch 1 [270/1532] Loss: 1.9558, LR: 0.000005\n"
     ]
    },
    {
     "name": "stderr",
     "output_type": "stream",
     "text": [
      "Epoch 1 Training:  18%|█▊        | 282/1532 [00:53<03:58,  5.25it/s, loss=2.03]"
     ]
    },
    {
     "name": "stdout",
     "output_type": "stream",
     "text": [
      "Epoch 1 [280/1532] Loss: 1.5388, LR: 0.000005\n"
     ]
    },
    {
     "name": "stderr",
     "output_type": "stream",
     "text": [
      "Epoch 1 Training:  19%|█▉        | 292/1532 [00:55<04:03,  5.09it/s, loss=1.58]"
     ]
    },
    {
     "name": "stdout",
     "output_type": "stream",
     "text": [
      "Epoch 1 [290/1532] Loss: 1.8802, LR: 0.000005\n"
     ]
    },
    {
     "name": "stderr",
     "output_type": "stream",
     "text": [
      "Epoch 1 Training:  20%|█▉        | 302/1532 [00:56<03:50,  5.35it/s, loss=1.59]"
     ]
    },
    {
     "name": "stdout",
     "output_type": "stream",
     "text": [
      "Epoch 1 [300/1532] Loss: 1.5788, LR: 0.000005\n"
     ]
    },
    {
     "name": "stderr",
     "output_type": "stream",
     "text": [
      "Epoch 1 Training:  20%|██        | 312/1532 [00:58<03:55,  5.18it/s, loss=1.68]"
     ]
    },
    {
     "name": "stdout",
     "output_type": "stream",
     "text": [
      "Epoch 1 [310/1532] Loss: 1.7224, LR: 0.000005\n"
     ]
    },
    {
     "name": "stderr",
     "output_type": "stream",
     "text": [
      "Epoch 1 Training:  21%|██        | 322/1532 [01:00<03:56,  5.12it/s, loss=1.8] "
     ]
    },
    {
     "name": "stdout",
     "output_type": "stream",
     "text": [
      "Epoch 1 [320/1532] Loss: 1.4616, LR: 0.000005\n"
     ]
    },
    {
     "name": "stderr",
     "output_type": "stream",
     "text": [
      "Epoch 1 Training:  22%|██▏       | 332/1532 [01:02<03:51,  5.18it/s, loss=1.56]"
     ]
    },
    {
     "name": "stdout",
     "output_type": "stream",
     "text": [
      "Epoch 1 [330/1532] Loss: 1.6029, LR: 0.000005\n"
     ]
    },
    {
     "name": "stderr",
     "output_type": "stream",
     "text": [
      "Epoch 1 Training:  22%|██▏       | 342/1532 [01:04<03:44,  5.29it/s, loss=2.32]"
     ]
    },
    {
     "name": "stdout",
     "output_type": "stream",
     "text": [
      "Epoch 1 [340/1532] Loss: 1.7966, LR: 0.000005\n"
     ]
    },
    {
     "name": "stderr",
     "output_type": "stream",
     "text": [
      "Epoch 1 Training:  23%|██▎       | 352/1532 [01:06<03:43,  5.28it/s, loss=2.02]"
     ]
    },
    {
     "name": "stdout",
     "output_type": "stream",
     "text": [
      "Epoch 1 [350/1532] Loss: 1.6789, LR: 0.000005\n"
     ]
    },
    {
     "name": "stderr",
     "output_type": "stream",
     "text": [
      "Epoch 1 Training:  24%|██▎       | 362/1532 [01:08<03:42,  5.25it/s, loss=1.62]"
     ]
    },
    {
     "name": "stdout",
     "output_type": "stream",
     "text": [
      "Epoch 1 [360/1532] Loss: 1.5329, LR: 0.000005\n"
     ]
    },
    {
     "name": "stderr",
     "output_type": "stream",
     "text": [
      "Epoch 1 Training:  24%|██▍       | 372/1532 [01:10<03:37,  5.34it/s, loss=2.44]"
     ]
    },
    {
     "name": "stdout",
     "output_type": "stream",
     "text": [
      "Epoch 1 [370/1532] Loss: 1.7467, LR: 0.000005\n"
     ]
    },
    {
     "name": "stderr",
     "output_type": "stream",
     "text": [
      "Epoch 1 Training:  25%|██▍       | 382/1532 [01:12<03:34,  5.36it/s, loss=2.19]"
     ]
    },
    {
     "name": "stdout",
     "output_type": "stream",
     "text": [
      "Epoch 1 [380/1532] Loss: 1.8195, LR: 0.000005\n"
     ]
    },
    {
     "name": "stderr",
     "output_type": "stream",
     "text": [
      "Epoch 1 Training:  26%|██▌       | 391/1532 [01:14<03:31,  5.39it/s, loss=1.47]"
     ]
    },
    {
     "name": "stdout",
     "output_type": "stream",
     "text": [
      "Epoch 1 [390/1532] Loss: 1.3760, LR: 0.000005\n"
     ]
    },
    {
     "name": "stderr",
     "output_type": "stream",
     "text": [
      "Epoch 1 Training:  26%|██▌       | 402/1532 [01:16<03:34,  5.27it/s, loss=1.67]"
     ]
    },
    {
     "name": "stdout",
     "output_type": "stream",
     "text": [
      "Epoch 1 [400/1532] Loss: 1.7898, LR: 0.000005\n"
     ]
    },
    {
     "name": "stderr",
     "output_type": "stream",
     "text": [
      "Epoch 1 Training:  27%|██▋       | 412/1532 [01:17<03:36,  5.18it/s, loss=1.28]"
     ]
    },
    {
     "name": "stdout",
     "output_type": "stream",
     "text": [
      "Epoch 1 [410/1532] Loss: 1.4644, LR: 0.000005\n"
     ]
    },
    {
     "name": "stderr",
     "output_type": "stream",
     "text": [
      "Epoch 1 Training:  27%|██▋       | 421/1532 [01:19<03:34,  5.17it/s, loss=1.47] "
     ]
    },
    {
     "name": "stdout",
     "output_type": "stream",
     "text": [
      "Epoch 1 [420/1532] Loss: 1.9055, LR: 0.000005\n"
     ]
    },
    {
     "name": "stderr",
     "output_type": "stream",
     "text": [
      "Epoch 1 Training:  28%|██▊       | 432/1532 [01:21<03:33,  5.16it/s, loss=1.33]"
     ]
    },
    {
     "name": "stdout",
     "output_type": "stream",
     "text": [
      "Epoch 1 [430/1532] Loss: 1.9930, LR: 0.000005\n"
     ]
    },
    {
     "name": "stderr",
     "output_type": "stream",
     "text": [
      "Epoch 1 Training:  29%|██▉       | 442/1532 [01:23<03:33,  5.11it/s, loss=1.87]"
     ]
    },
    {
     "name": "stdout",
     "output_type": "stream",
     "text": [
      "Epoch 1 [440/1532] Loss: 1.5505, LR: 0.000005\n"
     ]
    },
    {
     "name": "stderr",
     "output_type": "stream",
     "text": [
      "Epoch 1 Training:  30%|██▉       | 452/1532 [01:25<03:29,  5.15it/s, loss=1.53]"
     ]
    },
    {
     "name": "stdout",
     "output_type": "stream",
     "text": [
      "Epoch 1 [450/1532] Loss: 1.8673, LR: 0.000005\n"
     ]
    },
    {
     "name": "stderr",
     "output_type": "stream",
     "text": [
      "Epoch 1 Training:  30%|███       | 462/1532 [01:27<03:25,  5.20it/s, loss=2.05]"
     ]
    },
    {
     "name": "stdout",
     "output_type": "stream",
     "text": [
      "Epoch 1 [460/1532] Loss: 1.6192, LR: 0.000005\n"
     ]
    },
    {
     "name": "stderr",
     "output_type": "stream",
     "text": [
      "Epoch 1 Training:  31%|███       | 472/1532 [01:29<03:22,  5.24it/s, loss=1.78]"
     ]
    },
    {
     "name": "stdout",
     "output_type": "stream",
     "text": [
      "Epoch 1 [470/1532] Loss: 1.7005, LR: 0.000005\n"
     ]
    },
    {
     "name": "stderr",
     "output_type": "stream",
     "text": [
      "Epoch 1 Training:  31%|███▏      | 482/1532 [01:31<03:11,  5.49it/s, loss=1.76]"
     ]
    },
    {
     "name": "stdout",
     "output_type": "stream",
     "text": [
      "Epoch 1 [480/1532] Loss: 1.5601, LR: 0.000005\n"
     ]
    },
    {
     "name": "stderr",
     "output_type": "stream",
     "text": [
      "Epoch 1 Training:  32%|███▏      | 492/1532 [01:33<03:12,  5.39it/s, loss=1.4] "
     ]
    },
    {
     "name": "stdout",
     "output_type": "stream",
     "text": [
      "Epoch 1 [490/1532] Loss: 1.3777, LR: 0.000005\n"
     ]
    },
    {
     "name": "stderr",
     "output_type": "stream",
     "text": [
      "Epoch 1 Training:  33%|███▎      | 502/1532 [01:35<03:15,  5.28it/s, loss=1.55]"
     ]
    },
    {
     "name": "stdout",
     "output_type": "stream",
     "text": [
      "Epoch 1 [500/1532] Loss: 1.5905, LR: 0.000005\n"
     ]
    },
    {
     "name": "stderr",
     "output_type": "stream",
     "text": [
      "Epoch 1 Training:  33%|███▎      | 511/1532 [01:37<03:07,  5.46it/s, loss=2.2] "
     ]
    },
    {
     "name": "stdout",
     "output_type": "stream",
     "text": [
      "Epoch 1 [510/1532] Loss: 2.1046, LR: 0.000005\n"
     ]
    },
    {
     "name": "stderr",
     "output_type": "stream",
     "text": [
      "Epoch 1 Training:  34%|███▍      | 522/1532 [01:38<03:15,  5.18it/s, loss=1.66]"
     ]
    },
    {
     "name": "stdout",
     "output_type": "stream",
     "text": [
      "Epoch 1 [520/1532] Loss: 1.6698, LR: 0.000005\n"
     ]
    },
    {
     "name": "stderr",
     "output_type": "stream",
     "text": [
      "Epoch 1 Training:  35%|███▍      | 532/1532 [01:40<03:03,  5.44it/s, loss=1.92]"
     ]
    },
    {
     "name": "stdout",
     "output_type": "stream",
     "text": [
      "Epoch 1 [530/1532] Loss: 1.5758, LR: 0.000005\n"
     ]
    },
    {
     "name": "stderr",
     "output_type": "stream",
     "text": [
      "Epoch 1 Training:  35%|███▌      | 542/1532 [01:42<03:10,  5.19it/s, loss=1.82]"
     ]
    },
    {
     "name": "stdout",
     "output_type": "stream",
     "text": [
      "Epoch 1 [540/1532] Loss: 1.6981, LR: 0.000005\n"
     ]
    },
    {
     "name": "stderr",
     "output_type": "stream",
     "text": [
      "Epoch 1 Training:  36%|███▌      | 552/1532 [01:44<03:04,  5.32it/s, loss=1.46]"
     ]
    },
    {
     "name": "stdout",
     "output_type": "stream",
     "text": [
      "Epoch 1 [550/1532] Loss: 1.8182, LR: 0.000005\n"
     ]
    },
    {
     "name": "stderr",
     "output_type": "stream",
     "text": [
      "Epoch 1 Training:  37%|███▋      | 562/1532 [01:46<03:05,  5.24it/s, loss=2.2] "
     ]
    },
    {
     "name": "stdout",
     "output_type": "stream",
     "text": [
      "Epoch 1 [560/1532] Loss: 1.5051, LR: 0.000005\n"
     ]
    },
    {
     "name": "stderr",
     "output_type": "stream",
     "text": [
      "Epoch 1 Training:  37%|███▋      | 572/1532 [01:48<03:00,  5.31it/s, loss=1.75]"
     ]
    },
    {
     "name": "stdout",
     "output_type": "stream",
     "text": [
      "Epoch 1 [570/1532] Loss: 1.3614, LR: 0.000005\n"
     ]
    },
    {
     "name": "stderr",
     "output_type": "stream",
     "text": [
      "Epoch 1 Training:  38%|███▊      | 582/1532 [01:50<02:57,  5.34it/s, loss=2]   "
     ]
    },
    {
     "name": "stdout",
     "output_type": "stream",
     "text": [
      "Epoch 1 [580/1532] Loss: 1.9361, LR: 0.000005\n"
     ]
    },
    {
     "name": "stderr",
     "output_type": "stream",
     "text": [
      "Epoch 1 Training:  39%|███▊      | 592/1532 [01:52<02:58,  5.28it/s, loss=1.85]"
     ]
    },
    {
     "name": "stdout",
     "output_type": "stream",
     "text": [
      "Epoch 1 [590/1532] Loss: 2.1526, LR: 0.000005\n"
     ]
    },
    {
     "name": "stderr",
     "output_type": "stream",
     "text": [
      "Epoch 1 Training:  39%|███▉      | 602/1532 [01:54<03:00,  5.15it/s, loss=1.98]"
     ]
    },
    {
     "name": "stdout",
     "output_type": "stream",
     "text": [
      "Epoch 1 [600/1532] Loss: 1.7484, LR: 0.000005\n"
     ]
    },
    {
     "name": "stderr",
     "output_type": "stream",
     "text": [
      "Epoch 1 Training:  40%|███▉      | 612/1532 [01:56<02:55,  5.24it/s, loss=1.59]"
     ]
    },
    {
     "name": "stdout",
     "output_type": "stream",
     "text": [
      "Epoch 1 [610/1532] Loss: 1.6299, LR: 0.000005\n"
     ]
    },
    {
     "name": "stderr",
     "output_type": "stream",
     "text": [
      "Epoch 1 Training:  41%|████      | 622/1532 [01:58<02:55,  5.18it/s, loss=1.97]"
     ]
    },
    {
     "name": "stdout",
     "output_type": "stream",
     "text": [
      "Epoch 1 [620/1532] Loss: 1.1775, LR: 0.000005\n"
     ]
    },
    {
     "name": "stderr",
     "output_type": "stream",
     "text": [
      "Epoch 1 Training:  41%|████▏     | 632/1532 [01:59<02:50,  5.27it/s, loss=1.6] "
     ]
    },
    {
     "name": "stdout",
     "output_type": "stream",
     "text": [
      "Epoch 1 [630/1532] Loss: 1.3614, LR: 0.000005\n"
     ]
    },
    {
     "name": "stderr",
     "output_type": "stream",
     "text": [
      "Epoch 1 Training:  42%|████▏     | 642/1532 [02:01<02:46,  5.34it/s, loss=1.23]"
     ]
    },
    {
     "name": "stdout",
     "output_type": "stream",
     "text": [
      "Epoch 1 [640/1532] Loss: 2.1484, LR: 0.000005\n"
     ]
    },
    {
     "name": "stderr",
     "output_type": "stream",
     "text": [
      "Epoch 1 Training:  43%|████▎     | 652/1532 [02:03<02:49,  5.19it/s, loss=1.94]"
     ]
    },
    {
     "name": "stdout",
     "output_type": "stream",
     "text": [
      "Epoch 1 [650/1532] Loss: 1.4012, LR: 0.000005\n"
     ]
    },
    {
     "name": "stderr",
     "output_type": "stream",
     "text": [
      "Epoch 1 Training:  43%|████▎     | 662/1532 [02:05<02:50,  5.12it/s, loss=1.79]"
     ]
    },
    {
     "name": "stdout",
     "output_type": "stream",
     "text": [
      "Epoch 1 [660/1532] Loss: 1.5634, LR: 0.000005\n"
     ]
    },
    {
     "name": "stderr",
     "output_type": "stream",
     "text": [
      "Epoch 1 Training:  44%|████▍     | 672/1532 [02:07<02:41,  5.33it/s, loss=1.85]"
     ]
    },
    {
     "name": "stdout",
     "output_type": "stream",
     "text": [
      "Epoch 1 [670/1532] Loss: 1.7327, LR: 0.000005\n"
     ]
    },
    {
     "name": "stderr",
     "output_type": "stream",
     "text": [
      "Epoch 1 Training:  45%|████▍     | 682/1532 [02:09<02:36,  5.43it/s, loss=1.65]"
     ]
    },
    {
     "name": "stdout",
     "output_type": "stream",
     "text": [
      "Epoch 1 [680/1532] Loss: 1.6580, LR: 0.000005\n"
     ]
    },
    {
     "name": "stderr",
     "output_type": "stream",
     "text": [
      "Epoch 1 Training:  45%|████▌     | 692/1532 [02:11<02:38,  5.29it/s, loss=2.08]"
     ]
    },
    {
     "name": "stdout",
     "output_type": "stream",
     "text": [
      "Epoch 1 [690/1532] Loss: 1.7493, LR: 0.000005\n"
     ]
    },
    {
     "name": "stderr",
     "output_type": "stream",
     "text": [
      "Epoch 1 Training:  46%|████▌     | 702/1532 [02:13<02:31,  5.48it/s, loss=1.97]"
     ]
    },
    {
     "name": "stdout",
     "output_type": "stream",
     "text": [
      "Epoch 1 [700/1532] Loss: 1.7851, LR: 0.000005\n"
     ]
    },
    {
     "name": "stderr",
     "output_type": "stream",
     "text": [
      "Epoch 1 Training:  46%|████▋     | 712/1532 [02:15<02:32,  5.38it/s, loss=1.88]"
     ]
    },
    {
     "name": "stdout",
     "output_type": "stream",
     "text": [
      "Epoch 1 [710/1532] Loss: 1.5956, LR: 0.000005\n"
     ]
    },
    {
     "name": "stderr",
     "output_type": "stream",
     "text": [
      "Epoch 1 Training:  47%|████▋     | 722/1532 [02:16<02:40,  5.06it/s, loss=1.58]"
     ]
    },
    {
     "name": "stdout",
     "output_type": "stream",
     "text": [
      "Epoch 1 [720/1532] Loss: 1.5385, LR: 0.000005\n"
     ]
    },
    {
     "name": "stderr",
     "output_type": "stream",
     "text": [
      "Epoch 1 Training:  48%|████▊     | 732/1532 [02:18<02:34,  5.18it/s, loss=1.87]"
     ]
    },
    {
     "name": "stdout",
     "output_type": "stream",
     "text": [
      "Epoch 1 [730/1532] Loss: 1.8164, LR: 0.000005\n"
     ]
    },
    {
     "name": "stderr",
     "output_type": "stream",
     "text": [
      "Epoch 1 Training:  48%|████▊     | 741/1532 [02:20<02:36,  5.05it/s, loss=1.86]"
     ]
    },
    {
     "name": "stdout",
     "output_type": "stream",
     "text": [
      "Epoch 1 [740/1532] Loss: 1.8645, LR: 0.000005\n"
     ]
    },
    {
     "name": "stderr",
     "output_type": "stream",
     "text": [
      "Epoch 1 Training:  49%|████▉     | 752/1532 [02:22<02:26,  5.33it/s, loss=1.63]"
     ]
    },
    {
     "name": "stdout",
     "output_type": "stream",
     "text": [
      "Epoch 1 [750/1532] Loss: 1.8030, LR: 0.000005\n"
     ]
    },
    {
     "name": "stderr",
     "output_type": "stream",
     "text": [
      "Epoch 1 Training:  50%|████▉     | 762/1532 [02:24<02:26,  5.27it/s, loss=1.62]"
     ]
    },
    {
     "name": "stdout",
     "output_type": "stream",
     "text": [
      "Epoch 1 [760/1532] Loss: 2.2550, LR: 0.000005\n"
     ]
    },
    {
     "name": "stderr",
     "output_type": "stream",
     "text": [
      "Epoch 1 Training:  50%|█████     | 772/1532 [02:26<02:23,  5.30it/s, loss=1.65]"
     ]
    },
    {
     "name": "stdout",
     "output_type": "stream",
     "text": [
      "Epoch 1 [770/1532] Loss: 1.8081, LR: 0.000005\n"
     ]
    },
    {
     "name": "stderr",
     "output_type": "stream",
     "text": [
      "Epoch 1 Training:  51%|█████     | 782/1532 [02:28<02:22,  5.27it/s, loss=1.64]"
     ]
    },
    {
     "name": "stdout",
     "output_type": "stream",
     "text": [
      "Epoch 1 [780/1532] Loss: 1.5940, LR: 0.000005\n"
     ]
    },
    {
     "name": "stderr",
     "output_type": "stream",
     "text": [
      "Epoch 1 Training:  52%|█████▏    | 792/1532 [02:30<02:21,  5.23it/s, loss=1.74]"
     ]
    },
    {
     "name": "stdout",
     "output_type": "stream",
     "text": [
      "Epoch 1 [790/1532] Loss: 1.6385, LR: 0.000005\n"
     ]
    },
    {
     "name": "stderr",
     "output_type": "stream",
     "text": [
      "Epoch 1 Training:  52%|█████▏    | 802/1532 [02:32<02:20,  5.19it/s, loss=1.61]"
     ]
    },
    {
     "name": "stdout",
     "output_type": "stream",
     "text": [
      "Epoch 1 [800/1532] Loss: 1.9491, LR: 0.000005\n"
     ]
    },
    {
     "name": "stderr",
     "output_type": "stream",
     "text": [
      "Epoch 1 Training:  53%|█████▎    | 812/1532 [02:34<02:18,  5.18it/s, loss=2.02]"
     ]
    },
    {
     "name": "stdout",
     "output_type": "stream",
     "text": [
      "Epoch 1 [810/1532] Loss: 2.0088, LR: 0.000005\n"
     ]
    },
    {
     "name": "stderr",
     "output_type": "stream",
     "text": [
      "Epoch 1 Training:  54%|█████▎    | 822/1532 [02:36<02:12,  5.36it/s, loss=1.47]"
     ]
    },
    {
     "name": "stdout",
     "output_type": "stream",
     "text": [
      "Epoch 1 [820/1532] Loss: 1.8518, LR: 0.000005\n"
     ]
    },
    {
     "name": "stderr",
     "output_type": "stream",
     "text": [
      "Epoch 1 Training:  54%|█████▍    | 832/1532 [02:38<02:13,  5.23it/s, loss=1.77]"
     ]
    },
    {
     "name": "stdout",
     "output_type": "stream",
     "text": [
      "Epoch 1 [830/1532] Loss: 2.0412, LR: 0.000005\n"
     ]
    },
    {
     "name": "stderr",
     "output_type": "stream",
     "text": [
      "Epoch 1 Training:  55%|█████▍    | 842/1532 [02:40<02:08,  5.35it/s, loss=1.74]"
     ]
    },
    {
     "name": "stdout",
     "output_type": "stream",
     "text": [
      "Epoch 1 [840/1532] Loss: 1.6345, LR: 0.000005\n"
     ]
    },
    {
     "name": "stderr",
     "output_type": "stream",
     "text": [
      "Epoch 1 Training:  56%|█████▌    | 852/1532 [02:41<02:11,  5.16it/s, loss=2.03]"
     ]
    },
    {
     "name": "stdout",
     "output_type": "stream",
     "text": [
      "Epoch 1 [850/1532] Loss: 1.8037, LR: 0.000005\n"
     ]
    },
    {
     "name": "stderr",
     "output_type": "stream",
     "text": [
      "Epoch 1 Training:  56%|█████▋    | 862/1532 [02:43<02:07,  5.24it/s, loss=1.58] "
     ]
    },
    {
     "name": "stdout",
     "output_type": "stream",
     "text": [
      "Epoch 1 [860/1532] Loss: 1.3492, LR: 0.000005\n"
     ]
    },
    {
     "name": "stderr",
     "output_type": "stream",
     "text": [
      "Epoch 1 Training:  57%|█████▋    | 872/1532 [02:45<02:07,  5.19it/s, loss=1.53]"
     ]
    },
    {
     "name": "stdout",
     "output_type": "stream",
     "text": [
      "Epoch 1 [870/1532] Loss: 1.9896, LR: 0.000005\n"
     ]
    },
    {
     "name": "stderr",
     "output_type": "stream",
     "text": [
      "Epoch 1 Training:  58%|█████▊    | 882/1532 [02:47<02:02,  5.30it/s, loss=1.85]"
     ]
    },
    {
     "name": "stdout",
     "output_type": "stream",
     "text": [
      "Epoch 1 [880/1532] Loss: 1.4176, LR: 0.000005\n"
     ]
    },
    {
     "name": "stderr",
     "output_type": "stream",
     "text": [
      "Epoch 1 Training:  58%|█████▊    | 892/1532 [02:49<02:03,  5.18it/s, loss=1.85]"
     ]
    },
    {
     "name": "stdout",
     "output_type": "stream",
     "text": [
      "Epoch 1 [890/1532] Loss: 1.4178, LR: 0.000005\n"
     ]
    },
    {
     "name": "stderr",
     "output_type": "stream",
     "text": [
      "Epoch 1 Training:  59%|█████▉    | 902/1532 [02:51<02:03,  5.12it/s, loss=1.61]"
     ]
    },
    {
     "name": "stdout",
     "output_type": "stream",
     "text": [
      "Epoch 1 [900/1532] Loss: 1.7924, LR: 0.000005\n"
     ]
    },
    {
     "name": "stderr",
     "output_type": "stream",
     "text": [
      "Epoch 1 Training:  60%|█████▉    | 912/1532 [02:53<01:58,  5.24it/s, loss=1.95]"
     ]
    },
    {
     "name": "stdout",
     "output_type": "stream",
     "text": [
      "Epoch 1 [910/1532] Loss: 1.5735, LR: 0.000005\n"
     ]
    },
    {
     "name": "stderr",
     "output_type": "stream",
     "text": [
      "Epoch 1 Training:  60%|██████    | 922/1532 [02:55<01:54,  5.32it/s, loss=1.93]"
     ]
    },
    {
     "name": "stdout",
     "output_type": "stream",
     "text": [
      "Epoch 1 [920/1532] Loss: 1.6333, LR: 0.000005\n"
     ]
    },
    {
     "name": "stderr",
     "output_type": "stream",
     "text": [
      "Epoch 1 Training:  61%|██████    | 932/1532 [02:57<01:54,  5.24it/s, loss=1.29]"
     ]
    },
    {
     "name": "stdout",
     "output_type": "stream",
     "text": [
      "Epoch 1 [930/1532] Loss: 1.3021, LR: 0.000005\n"
     ]
    },
    {
     "name": "stderr",
     "output_type": "stream",
     "text": [
      "Epoch 1 Training:  61%|██████▏   | 942/1532 [02:59<01:52,  5.26it/s, loss=1.94]"
     ]
    },
    {
     "name": "stdout",
     "output_type": "stream",
     "text": [
      "Epoch 1 [940/1532] Loss: 1.9598, LR: 0.000005\n"
     ]
    },
    {
     "name": "stderr",
     "output_type": "stream",
     "text": [
      "Epoch 1 Training:  62%|██████▏   | 952/1532 [03:00<01:50,  5.26it/s, loss=1.51]"
     ]
    },
    {
     "name": "stdout",
     "output_type": "stream",
     "text": [
      "Epoch 1 [950/1532] Loss: 1.4860, LR: 0.000005\n"
     ]
    },
    {
     "name": "stderr",
     "output_type": "stream",
     "text": [
      "Epoch 1 Training:  63%|██████▎   | 962/1532 [03:02<01:48,  5.23it/s, loss=1.87]"
     ]
    },
    {
     "name": "stdout",
     "output_type": "stream",
     "text": [
      "Epoch 1 [960/1532] Loss: 1.9351, LR: 0.000005\n"
     ]
    },
    {
     "name": "stderr",
     "output_type": "stream",
     "text": [
      "Epoch 1 Training:  63%|██████▎   | 972/1532 [03:04<01:48,  5.16it/s, loss=1.41]"
     ]
    },
    {
     "name": "stdout",
     "output_type": "stream",
     "text": [
      "Epoch 1 [970/1532] Loss: 1.4041, LR: 0.000005\n"
     ]
    },
    {
     "name": "stderr",
     "output_type": "stream",
     "text": [
      "Epoch 1 Training:  64%|██████▍   | 982/1532 [03:06<01:45,  5.24it/s, loss=1.76]"
     ]
    },
    {
     "name": "stdout",
     "output_type": "stream",
     "text": [
      "Epoch 1 [980/1532] Loss: 2.0011, LR: 0.000005\n"
     ]
    },
    {
     "name": "stderr",
     "output_type": "stream",
     "text": [
      "Epoch 1 Training:  65%|██████▍   | 992/1532 [03:08<01:40,  5.39it/s, loss=1.53]"
     ]
    },
    {
     "name": "stdout",
     "output_type": "stream",
     "text": [
      "Epoch 1 [990/1532] Loss: 1.6517, LR: 0.000005\n"
     ]
    },
    {
     "name": "stderr",
     "output_type": "stream",
     "text": [
      "Epoch 1 Training:  65%|██████▌   | 1002/1532 [03:10<01:40,  5.26it/s, loss=1.93]"
     ]
    },
    {
     "name": "stdout",
     "output_type": "stream",
     "text": [
      "Epoch 1 [1000/1532] Loss: 1.2764, LR: 0.000005\n"
     ]
    },
    {
     "name": "stderr",
     "output_type": "stream",
     "text": [
      "Epoch 1 Training:  66%|██████▌   | 1012/1532 [03:12<01:39,  5.22it/s, loss=2.2] "
     ]
    },
    {
     "name": "stdout",
     "output_type": "stream",
     "text": [
      "Epoch 1 [1010/1532] Loss: 1.8703, LR: 0.000005\n"
     ]
    },
    {
     "name": "stderr",
     "output_type": "stream",
     "text": [
      "Epoch 1 Training:  67%|██████▋   | 1022/1532 [03:14<01:39,  5.14it/s, loss=1.96]"
     ]
    },
    {
     "name": "stdout",
     "output_type": "stream",
     "text": [
      "Epoch 1 [1020/1532] Loss: 1.9575, LR: 0.000005\n"
     ]
    },
    {
     "name": "stderr",
     "output_type": "stream",
     "text": [
      "Epoch 1 Training:  67%|██████▋   | 1032/1532 [03:16<01:35,  5.22it/s, loss=1.76]"
     ]
    },
    {
     "name": "stdout",
     "output_type": "stream",
     "text": [
      "Epoch 1 [1030/1532] Loss: 1.6897, LR: 0.000005\n"
     ]
    },
    {
     "name": "stderr",
     "output_type": "stream",
     "text": [
      "Epoch 1 Training:  68%|██████▊   | 1042/1532 [03:18<01:31,  5.33it/s, loss=1.78]"
     ]
    },
    {
     "name": "stdout",
     "output_type": "stream",
     "text": [
      "Epoch 1 [1040/1532] Loss: 2.5244, LR: 0.000005\n"
     ]
    },
    {
     "name": "stderr",
     "output_type": "stream",
     "text": [
      "Epoch 1 Training:  69%|██████▊   | 1052/1532 [03:20<01:32,  5.20it/s, loss=1.99]"
     ]
    },
    {
     "name": "stdout",
     "output_type": "stream",
     "text": [
      "Epoch 1 [1050/1532] Loss: 1.2294, LR: 0.000005\n"
     ]
    },
    {
     "name": "stderr",
     "output_type": "stream",
     "text": [
      "Epoch 1 Training:  69%|██████▉   | 1062/1532 [03:22<01:26,  5.41it/s, loss=2.19]"
     ]
    },
    {
     "name": "stdout",
     "output_type": "stream",
     "text": [
      "Epoch 1 [1060/1532] Loss: 1.9674, LR: 0.000005\n"
     ]
    },
    {
     "name": "stderr",
     "output_type": "stream",
     "text": [
      "Epoch 1 Training:  70%|██████▉   | 1071/1532 [03:23<01:28,  5.24it/s, loss=1.57]"
     ]
    },
    {
     "name": "stdout",
     "output_type": "stream",
     "text": [
      "Epoch 1 [1070/1532] Loss: 1.5605, LR: 0.000005\n"
     ]
    },
    {
     "name": "stderr",
     "output_type": "stream",
     "text": [
      "Epoch 1 Training:  71%|███████   | 1082/1532 [03:25<01:26,  5.20it/s, loss=1.65]"
     ]
    },
    {
     "name": "stdout",
     "output_type": "stream",
     "text": [
      "Epoch 1 [1080/1532] Loss: 1.3689, LR: 0.000005\n"
     ]
    },
    {
     "name": "stderr",
     "output_type": "stream",
     "text": [
      "Epoch 1 Training:  71%|███████▏  | 1092/1532 [03:27<01:24,  5.21it/s, loss=1.45]"
     ]
    },
    {
     "name": "stdout",
     "output_type": "stream",
     "text": [
      "Epoch 1 [1090/1532] Loss: 1.6862, LR: 0.000005\n"
     ]
    },
    {
     "name": "stderr",
     "output_type": "stream",
     "text": [
      "Epoch 1 Training:  72%|███████▏  | 1102/1532 [03:29<01:19,  5.38it/s, loss=1.47]"
     ]
    },
    {
     "name": "stdout",
     "output_type": "stream",
     "text": [
      "Epoch 1 [1100/1532] Loss: 1.8846, LR: 0.000005\n"
     ]
    },
    {
     "name": "stderr",
     "output_type": "stream",
     "text": [
      "Epoch 1 Training:  73%|███████▎  | 1112/1532 [03:31<01:18,  5.37it/s, loss=1.57] "
     ]
    },
    {
     "name": "stdout",
     "output_type": "stream",
     "text": [
      "Epoch 1 [1110/1532] Loss: 1.1562, LR: 0.000005\n"
     ]
    },
    {
     "name": "stderr",
     "output_type": "stream",
     "text": [
      "Epoch 1 Training:  73%|███████▎  | 1122/1532 [03:33<01:18,  5.22it/s, loss=1.08]"
     ]
    },
    {
     "name": "stdout",
     "output_type": "stream",
     "text": [
      "Epoch 1 [1120/1532] Loss: 1.8979, LR: 0.000005\n"
     ]
    },
    {
     "name": "stderr",
     "output_type": "stream",
     "text": [
      "Epoch 1 Training:  74%|███████▍  | 1131/1532 [03:35<01:16,  5.22it/s, loss=1.93]"
     ]
    },
    {
     "name": "stdout",
     "output_type": "stream",
     "text": [
      "Epoch 1 [1130/1532] Loss: 1.5971, LR: 0.000005\n"
     ]
    },
    {
     "name": "stderr",
     "output_type": "stream",
     "text": [
      "Epoch 1 Training:  75%|███████▍  | 1142/1532 [03:37<01:16,  5.11it/s, loss=1.67]"
     ]
    },
    {
     "name": "stdout",
     "output_type": "stream",
     "text": [
      "Epoch 1 [1140/1532] Loss: 1.5700, LR: 0.000005\n"
     ]
    },
    {
     "name": "stderr",
     "output_type": "stream",
     "text": [
      "Epoch 1 Training:  75%|███████▌  | 1152/1532 [03:39<01:13,  5.20it/s, loss=2.04]"
     ]
    },
    {
     "name": "stdout",
     "output_type": "stream",
     "text": [
      "Epoch 1 [1150/1532] Loss: 1.2883, LR: 0.000005\n"
     ]
    },
    {
     "name": "stderr",
     "output_type": "stream",
     "text": [
      "Epoch 1 Training:  76%|███████▌  | 1162/1532 [03:41<01:10,  5.23it/s, loss=1.28]"
     ]
    },
    {
     "name": "stdout",
     "output_type": "stream",
     "text": [
      "Epoch 1 [1160/1532] Loss: 1.5831, LR: 0.000005\n"
     ]
    },
    {
     "name": "stderr",
     "output_type": "stream",
     "text": [
      "Epoch 1 Training:  77%|███████▋  | 1172/1532 [03:43<01:08,  5.27it/s, loss=1.63]"
     ]
    },
    {
     "name": "stdout",
     "output_type": "stream",
     "text": [
      "Epoch 1 [1170/1532] Loss: 1.5207, LR: 0.000005\n"
     ]
    },
    {
     "name": "stderr",
     "output_type": "stream",
     "text": [
      "Epoch 1 Training:  77%|███████▋  | 1182/1532 [03:45<01:07,  5.16it/s, loss=1.31]"
     ]
    },
    {
     "name": "stdout",
     "output_type": "stream",
     "text": [
      "Epoch 1 [1180/1532] Loss: 2.0555, LR: 0.000005\n"
     ]
    },
    {
     "name": "stderr",
     "output_type": "stream",
     "text": [
      "Epoch 1 Training:  78%|███████▊  | 1192/1532 [03:46<01:06,  5.13it/s, loss=1.92]"
     ]
    },
    {
     "name": "stdout",
     "output_type": "stream",
     "text": [
      "Epoch 1 [1190/1532] Loss: 2.0344, LR: 0.000005\n"
     ]
    },
    {
     "name": "stderr",
     "output_type": "stream",
     "text": [
      "Epoch 1 Training:  78%|███████▊  | 1202/1532 [03:48<01:02,  5.26it/s, loss=1.53]"
     ]
    },
    {
     "name": "stdout",
     "output_type": "stream",
     "text": [
      "Epoch 1 [1200/1532] Loss: 1.3292, LR: 0.000005\n"
     ]
    },
    {
     "name": "stderr",
     "output_type": "stream",
     "text": [
      "Epoch 1 Training:  79%|███████▉  | 1212/1532 [03:50<01:01,  5.19it/s, loss=1.89]"
     ]
    },
    {
     "name": "stdout",
     "output_type": "stream",
     "text": [
      "Epoch 1 [1210/1532] Loss: 2.3836, LR: 0.000005\n"
     ]
    },
    {
     "name": "stderr",
     "output_type": "stream",
     "text": [
      "Epoch 1 Training:  80%|███████▉  | 1222/1532 [03:52<01:00,  5.16it/s, loss=1.25]"
     ]
    },
    {
     "name": "stdout",
     "output_type": "stream",
     "text": [
      "Epoch 1 [1220/1532] Loss: 1.3421, LR: 0.000005\n"
     ]
    },
    {
     "name": "stderr",
     "output_type": "stream",
     "text": [
      "Epoch 1 Training:  80%|████████  | 1232/1532 [03:54<00:58,  5.12it/s, loss=1.54] "
     ]
    },
    {
     "name": "stdout",
     "output_type": "stream",
     "text": [
      "Epoch 1 [1230/1532] Loss: 1.9432, LR: 0.000005\n"
     ]
    },
    {
     "name": "stderr",
     "output_type": "stream",
     "text": [
      "Epoch 1 Training:  81%|████████  | 1242/1532 [03:56<00:55,  5.21it/s, loss=2.35]"
     ]
    },
    {
     "name": "stdout",
     "output_type": "stream",
     "text": [
      "Epoch 1 [1240/1532] Loss: 1.7321, LR: 0.000005\n"
     ]
    },
    {
     "name": "stderr",
     "output_type": "stream",
     "text": [
      "Epoch 1 Training:  82%|████████▏ | 1252/1532 [03:58<00:51,  5.39it/s, loss=1.34]"
     ]
    },
    {
     "name": "stdout",
     "output_type": "stream",
     "text": [
      "Epoch 1 [1250/1532] Loss: 1.2584, LR: 0.000005\n"
     ]
    },
    {
     "name": "stderr",
     "output_type": "stream",
     "text": [
      "Epoch 1 Training:  82%|████████▏ | 1262/1532 [04:00<00:51,  5.21it/s, loss=1.75]"
     ]
    },
    {
     "name": "stdout",
     "output_type": "stream",
     "text": [
      "Epoch 1 [1260/1532] Loss: 1.5953, LR: 0.000005\n"
     ]
    },
    {
     "name": "stderr",
     "output_type": "stream",
     "text": [
      "Epoch 1 Training:  83%|████████▎ | 1272/1532 [04:02<00:48,  5.41it/s, loss=2.33]"
     ]
    },
    {
     "name": "stdout",
     "output_type": "stream",
     "text": [
      "Epoch 1 [1270/1532] Loss: 1.7382, LR: 0.000005\n"
     ]
    },
    {
     "name": "stderr",
     "output_type": "stream",
     "text": [
      "Epoch 1 Training:  84%|████████▎ | 1282/1532 [04:04<00:48,  5.18it/s, loss=1.84]"
     ]
    },
    {
     "name": "stdout",
     "output_type": "stream",
     "text": [
      "Epoch 1 [1280/1532] Loss: 1.4080, LR: 0.000005\n"
     ]
    },
    {
     "name": "stderr",
     "output_type": "stream",
     "text": [
      "Epoch 1 Training:  84%|████████▍ | 1292/1532 [04:06<00:45,  5.32it/s, loss=1.88]"
     ]
    },
    {
     "name": "stdout",
     "output_type": "stream",
     "text": [
      "Epoch 1 [1290/1532] Loss: 1.7481, LR: 0.000005\n"
     ]
    },
    {
     "name": "stderr",
     "output_type": "stream",
     "text": [
      "Epoch 1 Training:  85%|████████▍ | 1302/1532 [04:08<00:44,  5.20it/s, loss=1.34]"
     ]
    },
    {
     "name": "stdout",
     "output_type": "stream",
     "text": [
      "Epoch 1 [1300/1532] Loss: 1.4279, LR: 0.000005\n"
     ]
    },
    {
     "name": "stderr",
     "output_type": "stream",
     "text": [
      "Epoch 1 Training:  86%|████████▌ | 1312/1532 [04:09<00:41,  5.24it/s, loss=1.46]"
     ]
    },
    {
     "name": "stdout",
     "output_type": "stream",
     "text": [
      "Epoch 1 [1310/1532] Loss: 1.9756, LR: 0.000005\n"
     ]
    },
    {
     "name": "stderr",
     "output_type": "stream",
     "text": [
      "Epoch 1 Training:  86%|████████▋ | 1322/1532 [04:11<00:40,  5.23it/s, loss=2.13]"
     ]
    },
    {
     "name": "stdout",
     "output_type": "stream",
     "text": [
      "Epoch 1 [1320/1532] Loss: 2.0196, LR: 0.000005\n"
     ]
    },
    {
     "name": "stderr",
     "output_type": "stream",
     "text": [
      "Epoch 1 Training:  87%|████████▋ | 1332/1532 [04:13<00:38,  5.16it/s, loss=1.95]"
     ]
    },
    {
     "name": "stdout",
     "output_type": "stream",
     "text": [
      "Epoch 1 [1330/1532] Loss: 1.7872, LR: 0.000005\n"
     ]
    },
    {
     "name": "stderr",
     "output_type": "stream",
     "text": [
      "Epoch 1 Training:  88%|████████▊ | 1342/1532 [04:15<00:37,  5.08it/s, loss=1.56]"
     ]
    },
    {
     "name": "stdout",
     "output_type": "stream",
     "text": [
      "Epoch 1 [1340/1532] Loss: 1.6143, LR: 0.000005\n"
     ]
    },
    {
     "name": "stderr",
     "output_type": "stream",
     "text": [
      "Epoch 1 Training:  88%|████████▊ | 1352/1532 [04:17<00:33,  5.36it/s, loss=1.95]"
     ]
    },
    {
     "name": "stdout",
     "output_type": "stream",
     "text": [
      "Epoch 1 [1350/1532] Loss: 1.4909, LR: 0.000005\n"
     ]
    },
    {
     "name": "stderr",
     "output_type": "stream",
     "text": [
      "Epoch 1 Training:  89%|████████▉ | 1362/1532 [04:19<00:32,  5.25it/s, loss=1.6] "
     ]
    },
    {
     "name": "stdout",
     "output_type": "stream",
     "text": [
      "Epoch 1 [1360/1532] Loss: 1.4101, LR: 0.000005\n"
     ]
    },
    {
     "name": "stderr",
     "output_type": "stream",
     "text": [
      "Epoch 1 Training:  90%|████████▉ | 1372/1532 [04:21<00:29,  5.37it/s, loss=1.76] "
     ]
    },
    {
     "name": "stdout",
     "output_type": "stream",
     "text": [
      "Epoch 1 [1370/1532] Loss: 1.5447, LR: 0.000005\n"
     ]
    },
    {
     "name": "stderr",
     "output_type": "stream",
     "text": [
      "Epoch 1 Training:  90%|█████████ | 1382/1532 [04:23<00:29,  5.16it/s, loss=2.36]"
     ]
    },
    {
     "name": "stdout",
     "output_type": "stream",
     "text": [
      "Epoch 1 [1380/1532] Loss: 1.7050, LR: 0.000005\n"
     ]
    },
    {
     "name": "stderr",
     "output_type": "stream",
     "text": [
      "Epoch 1 Training:  91%|█████████ | 1392/1532 [04:25<00:27,  5.12it/s, loss=1.44]"
     ]
    },
    {
     "name": "stdout",
     "output_type": "stream",
     "text": [
      "Epoch 1 [1390/1532] Loss: 1.3907, LR: 0.000005\n"
     ]
    },
    {
     "name": "stderr",
     "output_type": "stream",
     "text": [
      "Epoch 1 Training:  92%|█████████▏| 1402/1532 [04:27<00:24,  5.37it/s, loss=1.81]"
     ]
    },
    {
     "name": "stdout",
     "output_type": "stream",
     "text": [
      "Epoch 1 [1400/1532] Loss: 1.4013, LR: 0.000005\n"
     ]
    },
    {
     "name": "stderr",
     "output_type": "stream",
     "text": [
      "Epoch 1 Training:  92%|█████████▏| 1412/1532 [04:29<00:22,  5.24it/s, loss=1.64]"
     ]
    },
    {
     "name": "stdout",
     "output_type": "stream",
     "text": [
      "Epoch 1 [1410/1532] Loss: 1.4655, LR: 0.000005\n"
     ]
    },
    {
     "name": "stderr",
     "output_type": "stream",
     "text": [
      "Epoch 1 Training:  93%|█████████▎| 1422/1532 [04:30<00:21,  5.15it/s, loss=2.1] "
     ]
    },
    {
     "name": "stdout",
     "output_type": "stream",
     "text": [
      "Epoch 1 [1420/1532] Loss: 1.9341, LR: 0.000005\n"
     ]
    },
    {
     "name": "stderr",
     "output_type": "stream",
     "text": [
      "Epoch 1 Training:  93%|█████████▎| 1432/1532 [04:32<00:18,  5.31it/s, loss=1.34] "
     ]
    },
    {
     "name": "stdout",
     "output_type": "stream",
     "text": [
      "Epoch 1 [1430/1532] Loss: 2.0115, LR: 0.000005\n"
     ]
    },
    {
     "name": "stderr",
     "output_type": "stream",
     "text": [
      "Epoch 1 Training:  94%|█████████▍| 1442/1532 [04:34<00:17,  5.26it/s, loss=1.64]"
     ]
    },
    {
     "name": "stdout",
     "output_type": "stream",
     "text": [
      "Epoch 1 [1440/1532] Loss: 1.6573, LR: 0.000005\n"
     ]
    },
    {
     "name": "stderr",
     "output_type": "stream",
     "text": [
      "Epoch 1 Training:  95%|█████████▍| 1452/1532 [04:36<00:15,  5.14it/s, loss=1.63]"
     ]
    },
    {
     "name": "stdout",
     "output_type": "stream",
     "text": [
      "Epoch 1 [1450/1532] Loss: 1.5471, LR: 0.000005\n"
     ]
    },
    {
     "name": "stderr",
     "output_type": "stream",
     "text": [
      "Epoch 1 Training:  95%|█████████▌| 1462/1532 [04:38<00:13,  5.16it/s, loss=1.42]"
     ]
    },
    {
     "name": "stdout",
     "output_type": "stream",
     "text": [
      "Epoch 1 [1460/1532] Loss: 1.7154, LR: 0.000005\n"
     ]
    },
    {
     "name": "stderr",
     "output_type": "stream",
     "text": [
      "Epoch 1 Training:  96%|█████████▌| 1471/1532 [04:40<00:11,  5.15it/s, loss=1.87]"
     ]
    },
    {
     "name": "stdout",
     "output_type": "stream",
     "text": [
      "Epoch 1 [1470/1532] Loss: 1.8680, LR: 0.000005\n"
     ]
    },
    {
     "name": "stderr",
     "output_type": "stream",
     "text": [
      "Epoch 1 Training:  97%|█████████▋| 1482/1532 [04:42<00:09,  5.29it/s, loss=1.85]"
     ]
    },
    {
     "name": "stdout",
     "output_type": "stream",
     "text": [
      "Epoch 1 [1480/1532] Loss: 1.1683, LR: 0.000005\n"
     ]
    },
    {
     "name": "stderr",
     "output_type": "stream",
     "text": [
      "Epoch 1 Training:  97%|█████████▋| 1492/1532 [04:44<00:07,  5.27it/s, loss=1.8] "
     ]
    },
    {
     "name": "stdout",
     "output_type": "stream",
     "text": [
      "Epoch 1 [1490/1532] Loss: 1.6784, LR: 0.000005\n"
     ]
    },
    {
     "name": "stderr",
     "output_type": "stream",
     "text": [
      "Epoch 1 Training:  98%|█████████▊| 1502/1532 [04:46<00:05,  5.38it/s, loss=2.16]"
     ]
    },
    {
     "name": "stdout",
     "output_type": "stream",
     "text": [
      "Epoch 1 [1500/1532] Loss: 1.8201, LR: 0.000005\n"
     ]
    },
    {
     "name": "stderr",
     "output_type": "stream",
     "text": [
      "Epoch 1 Training:  99%|█████████▊| 1512/1532 [04:48<00:03,  5.28it/s, loss=2]   "
     ]
    },
    {
     "name": "stdout",
     "output_type": "stream",
     "text": [
      "Epoch 1 [1510/1532] Loss: 1.9795, LR: 0.000005\n"
     ]
    },
    {
     "name": "stderr",
     "output_type": "stream",
     "text": [
      "Epoch 1 Training:  99%|█████████▉| 1522/1532 [04:50<00:01,  5.25it/s, loss=1.55]"
     ]
    },
    {
     "name": "stdout",
     "output_type": "stream",
     "text": [
      "Epoch 1 [1520/1532] Loss: 1.4141, LR: 0.000005\n"
     ]
    },
    {
     "name": "stderr",
     "output_type": "stream",
     "text": [
      "Epoch 1 Training: 100%|██████████| 1532/1532 [04:51<00:00,  5.25it/s, loss=0.522]\n"
     ]
    },
    {
     "name": "stdout",
     "output_type": "stream",
     "text": [
      "Epoch 1 [1530/1532] Loss: 1.7365, LR: 0.000005\n",
      "Epoch 1: Avg Loss: 1.6880, Time: 291.91s\n",
      "Validation Results:\n",
      "  Loss: 1.9479\n",
      "  Image→Text Accuracy: 0.3383 (Top-5: 0.7996)\n",
      "  Text→Image Accuracy: 0.3570 (Top-5: 0.8044)\n",
      "💾 Saved new best model at epoch 2 with I→T Acc: 33.83%\n",
      "\n",
      "🚀 Epoch 3/5\n"
     ]
    },
    {
     "name": "stderr",
     "output_type": "stream",
     "text": [
      "Epoch 2 Training:   0%|          | 2/1532 [00:00<05:04,  5.03it/s, loss=1.32]"
     ]
    },
    {
     "name": "stdout",
     "output_type": "stream",
     "text": [
      "Epoch 2 [0/1532] Loss: 1.4110, LR: 0.000005\n"
     ]
    },
    {
     "name": "stderr",
     "output_type": "stream",
     "text": [
      "Epoch 2 Training:   1%|          | 12/1532 [00:02<04:38,  5.45it/s, loss=1.21]"
     ]
    },
    {
     "name": "stdout",
     "output_type": "stream",
     "text": [
      "Epoch 2 [10/1532] Loss: 1.7723, LR: 0.000005\n"
     ]
    },
    {
     "name": "stderr",
     "output_type": "stream",
     "text": [
      "Epoch 2 Training:   1%|▏         | 22/1532 [00:04<04:39,  5.40it/s, loss=1.29] "
     ]
    },
    {
     "name": "stdout",
     "output_type": "stream",
     "text": [
      "Epoch 2 [20/1532] Loss: 0.8749, LR: 0.000005\n"
     ]
    },
    {
     "name": "stderr",
     "output_type": "stream",
     "text": [
      "Epoch 2 Training:   2%|▏         | 32/1532 [00:05<04:41,  5.32it/s, loss=1.26] "
     ]
    },
    {
     "name": "stdout",
     "output_type": "stream",
     "text": [
      "Epoch 2 [30/1532] Loss: 0.8456, LR: 0.000005\n"
     ]
    },
    {
     "name": "stderr",
     "output_type": "stream",
     "text": [
      "Epoch 2 Training:   3%|▎         | 42/1532 [00:07<04:45,  5.22it/s, loss=1.69] "
     ]
    },
    {
     "name": "stdout",
     "output_type": "stream",
     "text": [
      "Epoch 2 [40/1532] Loss: 1.1570, LR: 0.000005\n"
     ]
    },
    {
     "name": "stderr",
     "output_type": "stream",
     "text": [
      "Epoch 2 Training:   3%|▎         | 52/1532 [00:09<04:40,  5.28it/s, loss=1.6]  "
     ]
    },
    {
     "name": "stdout",
     "output_type": "stream",
     "text": [
      "Epoch 2 [50/1532] Loss: 0.9548, LR: 0.000005\n"
     ]
    },
    {
     "name": "stderr",
     "output_type": "stream",
     "text": [
      "Epoch 2 Training:   4%|▍         | 62/1532 [00:11<04:37,  5.29it/s, loss=0.982]"
     ]
    },
    {
     "name": "stdout",
     "output_type": "stream",
     "text": [
      "Epoch 2 [60/1532] Loss: 1.7832, LR: 0.000005\n"
     ]
    },
    {
     "name": "stderr",
     "output_type": "stream",
     "text": [
      "Epoch 2 Training:   5%|▍         | 72/1532 [00:13<04:35,  5.30it/s, loss=0.947]"
     ]
    },
    {
     "name": "stdout",
     "output_type": "stream",
     "text": [
      "Epoch 2 [70/1532] Loss: 1.6391, LR: 0.000005\n"
     ]
    },
    {
     "name": "stderr",
     "output_type": "stream",
     "text": [
      "Epoch 2 Training:   5%|▌         | 82/1532 [00:15<04:32,  5.32it/s, loss=1.69] "
     ]
    },
    {
     "name": "stdout",
     "output_type": "stream",
     "text": [
      "Epoch 2 [80/1532] Loss: 1.1725, LR: 0.000005\n"
     ]
    },
    {
     "name": "stderr",
     "output_type": "stream",
     "text": [
      "Epoch 2 Training:   6%|▌         | 92/1532 [00:17<04:29,  5.33it/s, loss=0.966]"
     ]
    },
    {
     "name": "stdout",
     "output_type": "stream",
     "text": [
      "Epoch 2 [90/1532] Loss: 0.8854, LR: 0.000005\n"
     ]
    },
    {
     "name": "stderr",
     "output_type": "stream",
     "text": [
      "Epoch 2 Training:   7%|▋         | 102/1532 [00:19<04:31,  5.27it/s, loss=1.2] "
     ]
    },
    {
     "name": "stdout",
     "output_type": "stream",
     "text": [
      "Epoch 2 [100/1532] Loss: 1.4959, LR: 0.000005\n"
     ]
    },
    {
     "name": "stderr",
     "output_type": "stream",
     "text": [
      "Epoch 2 Training:   7%|▋         | 112/1532 [00:21<04:22,  5.42it/s, loss=1.17] "
     ]
    },
    {
     "name": "stdout",
     "output_type": "stream",
     "text": [
      "Epoch 2 [110/1532] Loss: 1.4159, LR: 0.000005\n"
     ]
    },
    {
     "name": "stderr",
     "output_type": "stream",
     "text": [
      "Epoch 2 Training:   8%|▊         | 122/1532 [00:23<04:20,  5.42it/s, loss=1.48] "
     ]
    },
    {
     "name": "stdout",
     "output_type": "stream",
     "text": [
      "Epoch 2 [120/1532] Loss: 0.8958, LR: 0.000005\n"
     ]
    },
    {
     "name": "stderr",
     "output_type": "stream",
     "text": [
      "Epoch 2 Training:   9%|▊         | 132/1532 [00:24<04:24,  5.29it/s, loss=1.64] "
     ]
    },
    {
     "name": "stdout",
     "output_type": "stream",
     "text": [
      "Epoch 2 [130/1532] Loss: 0.9922, LR: 0.000005\n"
     ]
    },
    {
     "name": "stderr",
     "output_type": "stream",
     "text": [
      "Epoch 2 Training:   9%|▉         | 142/1532 [00:26<04:21,  5.32it/s, loss=1.52] "
     ]
    },
    {
     "name": "stdout",
     "output_type": "stream",
     "text": [
      "Epoch 2 [140/1532] Loss: 1.6789, LR: 0.000005\n"
     ]
    },
    {
     "name": "stderr",
     "output_type": "stream",
     "text": [
      "Epoch 2 Training:  10%|▉         | 152/1532 [00:28<04:24,  5.22it/s, loss=1.18]"
     ]
    },
    {
     "name": "stdout",
     "output_type": "stream",
     "text": [
      "Epoch 2 [150/1532] Loss: 1.2440, LR: 0.000005\n"
     ]
    },
    {
     "name": "stderr",
     "output_type": "stream",
     "text": [
      "Epoch 2 Training:  11%|█         | 161/1532 [00:30<04:19,  5.29it/s, loss=1.39] "
     ]
    },
    {
     "name": "stdout",
     "output_type": "stream",
     "text": [
      "Epoch 2 [160/1532] Loss: 1.3913, LR: 0.000005\n"
     ]
    },
    {
     "name": "stderr",
     "output_type": "stream",
     "text": [
      "Epoch 2 Training:  11%|█         | 172/1532 [00:32<04:15,  5.32it/s, loss=1.01] "
     ]
    },
    {
     "name": "stdout",
     "output_type": "stream",
     "text": [
      "Epoch 2 [170/1532] Loss: 1.3898, LR: 0.000005\n"
     ]
    },
    {
     "name": "stderr",
     "output_type": "stream",
     "text": [
      "Epoch 2 Training:  12%|█▏        | 182/1532 [00:34<04:15,  5.28it/s, loss=1.21] "
     ]
    },
    {
     "name": "stdout",
     "output_type": "stream",
     "text": [
      "Epoch 2 [180/1532] Loss: 1.3135, LR: 0.000005\n"
     ]
    },
    {
     "name": "stderr",
     "output_type": "stream",
     "text": [
      "Epoch 2 Training:  13%|█▎        | 192/1532 [00:36<04:14,  5.27it/s, loss=0.872]"
     ]
    },
    {
     "name": "stdout",
     "output_type": "stream",
     "text": [
      "Epoch 2 [190/1532] Loss: 1.4098, LR: 0.000005\n"
     ]
    },
    {
     "name": "stderr",
     "output_type": "stream",
     "text": [
      "Epoch 2 Training:  13%|█▎        | 202/1532 [00:38<04:16,  5.18it/s, loss=0.835]"
     ]
    },
    {
     "name": "stdout",
     "output_type": "stream",
     "text": [
      "Epoch 2 [200/1532] Loss: 1.4150, LR: 0.000005\n"
     ]
    },
    {
     "name": "stderr",
     "output_type": "stream",
     "text": [
      "Epoch 2 Training:  14%|█▍        | 212/1532 [00:40<04:11,  5.25it/s, loss=1]    "
     ]
    },
    {
     "name": "stdout",
     "output_type": "stream",
     "text": [
      "Epoch 2 [210/1532] Loss: 1.3655, LR: 0.000005\n"
     ]
    },
    {
     "name": "stderr",
     "output_type": "stream",
     "text": [
      "Epoch 2 Training:  14%|█▍        | 222/1532 [00:41<04:12,  5.18it/s, loss=1.48] "
     ]
    },
    {
     "name": "stdout",
     "output_type": "stream",
     "text": [
      "Epoch 2 [220/1532] Loss: 1.4374, LR: 0.000005\n"
     ]
    },
    {
     "name": "stderr",
     "output_type": "stream",
     "text": [
      "Epoch 2 Training:  15%|█▌        | 232/1532 [00:43<04:00,  5.41it/s, loss=1.7] "
     ]
    },
    {
     "name": "stdout",
     "output_type": "stream",
     "text": [
      "Epoch 2 [230/1532] Loss: 1.1251, LR: 0.000005\n"
     ]
    },
    {
     "name": "stderr",
     "output_type": "stream",
     "text": [
      "Epoch 2 Training:  16%|█▌        | 242/1532 [00:45<03:56,  5.45it/s, loss=1.33]"
     ]
    },
    {
     "name": "stdout",
     "output_type": "stream",
     "text": [
      "Epoch 2 [240/1532] Loss: 1.2174, LR: 0.000005\n"
     ]
    },
    {
     "name": "stderr",
     "output_type": "stream",
     "text": [
      "Epoch 2 Training:  16%|█▋        | 252/1532 [00:47<04:01,  5.31it/s, loss=1.38]"
     ]
    },
    {
     "name": "stdout",
     "output_type": "stream",
     "text": [
      "Epoch 2 [250/1532] Loss: 1.8028, LR: 0.000005\n"
     ]
    },
    {
     "name": "stderr",
     "output_type": "stream",
     "text": [
      "Epoch 2 Training:  17%|█▋        | 262/1532 [00:49<04:03,  5.22it/s, loss=0.939]"
     ]
    },
    {
     "name": "stdout",
     "output_type": "stream",
     "text": [
      "Epoch 2 [260/1532] Loss: 0.9046, LR: 0.000005\n"
     ]
    },
    {
     "name": "stderr",
     "output_type": "stream",
     "text": [
      "Epoch 2 Training:  18%|█▊        | 272/1532 [00:51<03:55,  5.34it/s, loss=0.892]"
     ]
    },
    {
     "name": "stdout",
     "output_type": "stream",
     "text": [
      "Epoch 2 [270/1532] Loss: 1.3799, LR: 0.000005\n"
     ]
    },
    {
     "name": "stderr",
     "output_type": "stream",
     "text": [
      "Epoch 2 Training:  18%|█▊        | 282/1532 [00:53<04:00,  5.21it/s, loss=0.785]"
     ]
    },
    {
     "name": "stdout",
     "output_type": "stream",
     "text": [
      "Epoch 2 [280/1532] Loss: 1.3045, LR: 0.000005\n"
     ]
    },
    {
     "name": "stderr",
     "output_type": "stream",
     "text": [
      "Epoch 2 Training:  19%|█▉        | 292/1532 [00:55<04:02,  5.11it/s, loss=1.8]  "
     ]
    },
    {
     "name": "stdout",
     "output_type": "stream",
     "text": [
      "Epoch 2 [290/1532] Loss: 1.1237, LR: 0.000005\n"
     ]
    },
    {
     "name": "stderr",
     "output_type": "stream",
     "text": [
      "Epoch 2 Training:  20%|█▉        | 302/1532 [00:57<03:47,  5.40it/s, loss=1.26] "
     ]
    },
    {
     "name": "stdout",
     "output_type": "stream",
     "text": [
      "Epoch 2 [300/1532] Loss: 0.9500, LR: 0.000005\n"
     ]
    },
    {
     "name": "stderr",
     "output_type": "stream",
     "text": [
      "Epoch 2 Training:  20%|██        | 312/1532 [00:58<03:53,  5.22it/s, loss=1.07] "
     ]
    },
    {
     "name": "stdout",
     "output_type": "stream",
     "text": [
      "Epoch 2 [310/1532] Loss: 0.9116, LR: 0.000005\n"
     ]
    },
    {
     "name": "stderr",
     "output_type": "stream",
     "text": [
      "Epoch 2 Training:  21%|██        | 322/1532 [01:00<03:52,  5.21it/s, loss=1.34]"
     ]
    },
    {
     "name": "stdout",
     "output_type": "stream",
     "text": [
      "Epoch 2 [320/1532] Loss: 1.4388, LR: 0.000005\n"
     ]
    },
    {
     "name": "stderr",
     "output_type": "stream",
     "text": [
      "Epoch 2 Training:  22%|██▏       | 332/1532 [01:02<03:47,  5.27it/s, loss=1.01]"
     ]
    },
    {
     "name": "stdout",
     "output_type": "stream",
     "text": [
      "Epoch 2 [330/1532] Loss: 1.4847, LR: 0.000005\n"
     ]
    },
    {
     "name": "stderr",
     "output_type": "stream",
     "text": [
      "Epoch 2 Training:  22%|██▏       | 342/1532 [01:04<03:44,  5.30it/s, loss=0.935]"
     ]
    },
    {
     "name": "stdout",
     "output_type": "stream",
     "text": [
      "Epoch 2 [340/1532] Loss: 1.2647, LR: 0.000005\n"
     ]
    },
    {
     "name": "stderr",
     "output_type": "stream",
     "text": [
      "Epoch 2 Training:  23%|██▎       | 352/1532 [01:06<03:46,  5.21it/s, loss=1.18] "
     ]
    },
    {
     "name": "stdout",
     "output_type": "stream",
     "text": [
      "Epoch 2 [350/1532] Loss: 1.6397, LR: 0.000005\n"
     ]
    },
    {
     "name": "stderr",
     "output_type": "stream",
     "text": [
      "Epoch 2 Training:  24%|██▎       | 362/1532 [01:08<03:39,  5.34it/s, loss=1.95] "
     ]
    },
    {
     "name": "stdout",
     "output_type": "stream",
     "text": [
      "Epoch 2 [360/1532] Loss: 1.3250, LR: 0.000005\n"
     ]
    },
    {
     "name": "stderr",
     "output_type": "stream",
     "text": [
      "Epoch 2 Training:  24%|██▍       | 372/1532 [01:10<03:35,  5.37it/s, loss=1.37] "
     ]
    },
    {
     "name": "stdout",
     "output_type": "stream",
     "text": [
      "Epoch 2 [370/1532] Loss: 1.3305, LR: 0.000005\n"
     ]
    },
    {
     "name": "stderr",
     "output_type": "stream",
     "text": [
      "Epoch 2 Training:  25%|██▍       | 382/1532 [01:12<03:33,  5.40it/s, loss=1.34] "
     ]
    },
    {
     "name": "stdout",
     "output_type": "stream",
     "text": [
      "Epoch 2 [380/1532] Loss: 0.7881, LR: 0.000005\n"
     ]
    },
    {
     "name": "stderr",
     "output_type": "stream",
     "text": [
      "Epoch 2 Training:  26%|██▌       | 392/1532 [01:14<03:39,  5.18it/s, loss=0.785]"
     ]
    },
    {
     "name": "stdout",
     "output_type": "stream",
     "text": [
      "Epoch 2 [390/1532] Loss: 1.4369, LR: 0.000005\n"
     ]
    },
    {
     "name": "stderr",
     "output_type": "stream",
     "text": [
      "Epoch 2 Training:  26%|██▌       | 402/1532 [01:15<03:36,  5.22it/s, loss=1.84] "
     ]
    },
    {
     "name": "stdout",
     "output_type": "stream",
     "text": [
      "Epoch 2 [400/1532] Loss: 1.5194, LR: 0.000005\n"
     ]
    },
    {
     "name": "stderr",
     "output_type": "stream",
     "text": [
      "Epoch 2 Training:  27%|██▋       | 412/1532 [01:17<03:33,  5.24it/s, loss=1.47] "
     ]
    },
    {
     "name": "stdout",
     "output_type": "stream",
     "text": [
      "Epoch 2 [410/1532] Loss: 2.1210, LR: 0.000005\n"
     ]
    },
    {
     "name": "stderr",
     "output_type": "stream",
     "text": [
      "Epoch 2 Training:  27%|██▋       | 421/1532 [01:19<03:31,  5.24it/s, loss=1.15]"
     ]
    },
    {
     "name": "stdout",
     "output_type": "stream",
     "text": [
      "Epoch 2 [420/1532] Loss: 1.2825, LR: 0.000005\n"
     ]
    },
    {
     "name": "stderr",
     "output_type": "stream",
     "text": [
      "Epoch 2 Training:  28%|██▊       | 432/1532 [01:21<03:32,  5.19it/s, loss=1.48] "
     ]
    },
    {
     "name": "stdout",
     "output_type": "stream",
     "text": [
      "Epoch 2 [430/1532] Loss: 1.3006, LR: 0.000005\n"
     ]
    },
    {
     "name": "stderr",
     "output_type": "stream",
     "text": [
      "Epoch 2 Training:  29%|██▉       | 442/1532 [01:23<03:26,  5.28it/s, loss=1.33]"
     ]
    },
    {
     "name": "stdout",
     "output_type": "stream",
     "text": [
      "Epoch 2 [440/1532] Loss: 1.3368, LR: 0.000005\n"
     ]
    },
    {
     "name": "stderr",
     "output_type": "stream",
     "text": [
      "Epoch 2 Training:  30%|██▉       | 452/1532 [01:25<03:18,  5.44it/s, loss=1.58]"
     ]
    },
    {
     "name": "stdout",
     "output_type": "stream",
     "text": [
      "Epoch 2 [450/1532] Loss: 1.1540, LR: 0.000005\n"
     ]
    },
    {
     "name": "stderr",
     "output_type": "stream",
     "text": [
      "Epoch 2 Training:  30%|███       | 462/1532 [01:27<03:14,  5.51it/s, loss=0.771]"
     ]
    },
    {
     "name": "stdout",
     "output_type": "stream",
     "text": [
      "Epoch 2 [460/1532] Loss: 1.5195, LR: 0.000005\n"
     ]
    },
    {
     "name": "stderr",
     "output_type": "stream",
     "text": [
      "Epoch 2 Training:  31%|███       | 472/1532 [01:29<03:21,  5.25it/s, loss=1.15] "
     ]
    },
    {
     "name": "stdout",
     "output_type": "stream",
     "text": [
      "Epoch 2 [470/1532] Loss: 1.2755, LR: 0.000005\n"
     ]
    },
    {
     "name": "stderr",
     "output_type": "stream",
     "text": [
      "Epoch 2 Training:  31%|███▏      | 482/1532 [01:31<03:14,  5.40it/s, loss=1.44]"
     ]
    },
    {
     "name": "stdout",
     "output_type": "stream",
     "text": [
      "Epoch 2 [480/1532] Loss: 1.4545, LR: 0.000005\n"
     ]
    },
    {
     "name": "stderr",
     "output_type": "stream",
     "text": [
      "Epoch 2 Training:  32%|███▏      | 492/1532 [01:33<03:17,  5.27it/s, loss=1.03]"
     ]
    },
    {
     "name": "stdout",
     "output_type": "stream",
     "text": [
      "Epoch 2 [490/1532] Loss: 1.2315, LR: 0.000005\n"
     ]
    },
    {
     "name": "stderr",
     "output_type": "stream",
     "text": [
      "Epoch 2 Training:  33%|███▎      | 502/1532 [01:34<03:16,  5.25it/s, loss=1.18]"
     ]
    },
    {
     "name": "stdout",
     "output_type": "stream",
     "text": [
      "Epoch 2 [500/1532] Loss: 1.0116, LR: 0.000005\n"
     ]
    },
    {
     "name": "stderr",
     "output_type": "stream",
     "text": [
      "Epoch 2 Training:  33%|███▎      | 512/1532 [01:36<03:10,  5.35it/s, loss=1.39] "
     ]
    },
    {
     "name": "stdout",
     "output_type": "stream",
     "text": [
      "Epoch 2 [510/1532] Loss: 0.9308, LR: 0.000005\n"
     ]
    },
    {
     "name": "stderr",
     "output_type": "stream",
     "text": [
      "Epoch 2 Training:  34%|███▍      | 522/1532 [01:38<03:10,  5.29it/s, loss=1.38] "
     ]
    },
    {
     "name": "stdout",
     "output_type": "stream",
     "text": [
      "Epoch 2 [520/1532] Loss: 0.6837, LR: 0.000005\n"
     ]
    },
    {
     "name": "stderr",
     "output_type": "stream",
     "text": [
      "Epoch 2 Training:  35%|███▍      | 532/1532 [01:40<03:12,  5.19it/s, loss=1.05] "
     ]
    },
    {
     "name": "stdout",
     "output_type": "stream",
     "text": [
      "Epoch 2 [530/1532] Loss: 0.9238, LR: 0.000005\n"
     ]
    },
    {
     "name": "stderr",
     "output_type": "stream",
     "text": [
      "Epoch 2 Training:  35%|███▌      | 542/1532 [01:42<03:08,  5.26it/s, loss=1.23]"
     ]
    },
    {
     "name": "stdout",
     "output_type": "stream",
     "text": [
      "Epoch 2 [540/1532] Loss: 1.6231, LR: 0.000005\n"
     ]
    },
    {
     "name": "stderr",
     "output_type": "stream",
     "text": [
      "Epoch 2 Training:  36%|███▌      | 552/1532 [01:44<03:07,  5.23it/s, loss=1.52]"
     ]
    },
    {
     "name": "stdout",
     "output_type": "stream",
     "text": [
      "Epoch 2 [550/1532] Loss: 1.4707, LR: 0.000005\n"
     ]
    },
    {
     "name": "stderr",
     "output_type": "stream",
     "text": [
      "Epoch 2 Training:  37%|███▋      | 562/1532 [01:46<03:07,  5.16it/s, loss=0.938]"
     ]
    },
    {
     "name": "stdout",
     "output_type": "stream",
     "text": [
      "Epoch 2 [560/1532] Loss: 2.0043, LR: 0.000005\n"
     ]
    },
    {
     "name": "stderr",
     "output_type": "stream",
     "text": [
      "Epoch 2 Training:  37%|███▋      | 572/1532 [01:48<03:01,  5.28it/s, loss=1.01] "
     ]
    },
    {
     "name": "stdout",
     "output_type": "stream",
     "text": [
      "Epoch 2 [570/1532] Loss: 1.0772, LR: 0.000005\n"
     ]
    },
    {
     "name": "stderr",
     "output_type": "stream",
     "text": [
      "Epoch 2 Training:  38%|███▊      | 582/1532 [01:50<02:56,  5.37it/s, loss=1.49]"
     ]
    },
    {
     "name": "stdout",
     "output_type": "stream",
     "text": [
      "Epoch 2 [580/1532] Loss: 1.9861, LR: 0.000005\n"
     ]
    },
    {
     "name": "stderr",
     "output_type": "stream",
     "text": [
      "Epoch 2 Training:  39%|███▊      | 592/1532 [01:52<02:58,  5.27it/s, loss=1.39]"
     ]
    },
    {
     "name": "stdout",
     "output_type": "stream",
     "text": [
      "Epoch 2 [590/1532] Loss: 1.6697, LR: 0.000005\n"
     ]
    },
    {
     "name": "stderr",
     "output_type": "stream",
     "text": [
      "Epoch 2 Training:  39%|███▉      | 602/1532 [01:53<02:56,  5.26it/s, loss=1.22]"
     ]
    },
    {
     "name": "stdout",
     "output_type": "stream",
     "text": [
      "Epoch 2 [600/1532] Loss: 1.0379, LR: 0.000005\n"
     ]
    },
    {
     "name": "stderr",
     "output_type": "stream",
     "text": [
      "Epoch 2 Training:  40%|███▉      | 612/1532 [01:55<02:56,  5.21it/s, loss=1.27] "
     ]
    },
    {
     "name": "stdout",
     "output_type": "stream",
     "text": [
      "Epoch 2 [610/1532] Loss: 1.2534, LR: 0.000005\n"
     ]
    },
    {
     "name": "stderr",
     "output_type": "stream",
     "text": [
      "Epoch 2 Training:  41%|████      | 622/1532 [01:57<02:52,  5.28it/s, loss=1.72] "
     ]
    },
    {
     "name": "stdout",
     "output_type": "stream",
     "text": [
      "Epoch 2 [620/1532] Loss: 1.4618, LR: 0.000005\n"
     ]
    },
    {
     "name": "stderr",
     "output_type": "stream",
     "text": [
      "Epoch 2 Training:  41%|████▏     | 632/1532 [01:59<02:48,  5.33it/s, loss=1.13]"
     ]
    },
    {
     "name": "stdout",
     "output_type": "stream",
     "text": [
      "Epoch 2 [630/1532] Loss: 1.1853, LR: 0.000005\n"
     ]
    },
    {
     "name": "stderr",
     "output_type": "stream",
     "text": [
      "Epoch 2 Training:  42%|████▏     | 642/1532 [02:01<02:52,  5.17it/s, loss=1.29] "
     ]
    },
    {
     "name": "stdout",
     "output_type": "stream",
     "text": [
      "Epoch 2 [640/1532] Loss: 1.2242, LR: 0.000005\n"
     ]
    },
    {
     "name": "stderr",
     "output_type": "stream",
     "text": [
      "Epoch 2 Training:  43%|████▎     | 652/1532 [02:03<02:50,  5.17it/s, loss=1.13] "
     ]
    },
    {
     "name": "stdout",
     "output_type": "stream",
     "text": [
      "Epoch 2 [650/1532] Loss: 0.7558, LR: 0.000005\n"
     ]
    },
    {
     "name": "stderr",
     "output_type": "stream",
     "text": [
      "Epoch 2 Training:  43%|████▎     | 662/1532 [02:05<02:43,  5.33it/s, loss=0.761]"
     ]
    },
    {
     "name": "stdout",
     "output_type": "stream",
     "text": [
      "Epoch 2 [660/1532] Loss: 1.5113, LR: 0.000005\n"
     ]
    },
    {
     "name": "stderr",
     "output_type": "stream",
     "text": [
      "Epoch 2 Training:  44%|████▍     | 672/1532 [02:07<02:39,  5.38it/s, loss=1.32] "
     ]
    },
    {
     "name": "stdout",
     "output_type": "stream",
     "text": [
      "Epoch 2 [670/1532] Loss: 1.0133, LR: 0.000005\n"
     ]
    },
    {
     "name": "stderr",
     "output_type": "stream",
     "text": [
      "Epoch 2 Training:  45%|████▍     | 682/1532 [02:09<02:36,  5.44it/s, loss=1.81] "
     ]
    },
    {
     "name": "stdout",
     "output_type": "stream",
     "text": [
      "Epoch 2 [680/1532] Loss: 2.0829, LR: 0.000005\n"
     ]
    },
    {
     "name": "stderr",
     "output_type": "stream",
     "text": [
      "Epoch 2 Training:  45%|████▌     | 692/1532 [02:10<02:36,  5.37it/s, loss=1.1] "
     ]
    },
    {
     "name": "stdout",
     "output_type": "stream",
     "text": [
      "Epoch 2 [690/1532] Loss: 1.0243, LR: 0.000005\n"
     ]
    },
    {
     "name": "stderr",
     "output_type": "stream",
     "text": [
      "Epoch 2 Training:  46%|████▌     | 701/1532 [02:12<02:43,  5.08it/s, loss=1.3]  "
     ]
    },
    {
     "name": "stdout",
     "output_type": "stream",
     "text": [
      "Epoch 2 [700/1532] Loss: 1.2993, LR: 0.000005\n"
     ]
    },
    {
     "name": "stderr",
     "output_type": "stream",
     "text": [
      "Epoch 2 Training:  46%|████▋     | 712/1532 [02:14<02:31,  5.43it/s, loss=1.11] "
     ]
    },
    {
     "name": "stdout",
     "output_type": "stream",
     "text": [
      "Epoch 2 [710/1532] Loss: 1.2846, LR: 0.000005\n"
     ]
    },
    {
     "name": "stderr",
     "output_type": "stream",
     "text": [
      "Epoch 2 Training:  47%|████▋     | 722/1532 [02:16<02:30,  5.38it/s, loss=1.79]"
     ]
    },
    {
     "name": "stdout",
     "output_type": "stream",
     "text": [
      "Epoch 2 [720/1532] Loss: 1.3036, LR: 0.000005\n"
     ]
    },
    {
     "name": "stderr",
     "output_type": "stream",
     "text": [
      "Epoch 2 Training:  48%|████▊     | 732/1532 [02:18<02:27,  5.42it/s, loss=1.3] "
     ]
    },
    {
     "name": "stdout",
     "output_type": "stream",
     "text": [
      "Epoch 2 [730/1532] Loss: 1.0394, LR: 0.000005\n"
     ]
    },
    {
     "name": "stderr",
     "output_type": "stream",
     "text": [
      "Epoch 2 Training:  48%|████▊     | 742/1532 [02:20<02:29,  5.29it/s, loss=1.43] "
     ]
    },
    {
     "name": "stdout",
     "output_type": "stream",
     "text": [
      "Epoch 2 [740/1532] Loss: 0.6892, LR: 0.000005\n"
     ]
    },
    {
     "name": "stderr",
     "output_type": "stream",
     "text": [
      "Epoch 2 Training:  49%|████▉     | 752/1532 [02:22<02:22,  5.47it/s, loss=1.02]"
     ]
    },
    {
     "name": "stdout",
     "output_type": "stream",
     "text": [
      "Epoch 2 [750/1532] Loss: 1.1571, LR: 0.000005\n"
     ]
    },
    {
     "name": "stderr",
     "output_type": "stream",
     "text": [
      "Epoch 2 Training:  50%|████▉     | 762/1532 [02:24<02:22,  5.39it/s, loss=1.31] "
     ]
    },
    {
     "name": "stdout",
     "output_type": "stream",
     "text": [
      "Epoch 2 [760/1532] Loss: 1.6903, LR: 0.000005\n"
     ]
    },
    {
     "name": "stderr",
     "output_type": "stream",
     "text": [
      "Epoch 2 Training:  50%|█████     | 772/1532 [02:26<02:26,  5.20it/s, loss=1.29] "
     ]
    },
    {
     "name": "stdout",
     "output_type": "stream",
     "text": [
      "Epoch 2 [770/1532] Loss: 0.9603, LR: 0.000005\n"
     ]
    },
    {
     "name": "stderr",
     "output_type": "stream",
     "text": [
      "Epoch 2 Training:  51%|█████     | 782/1532 [02:27<02:21,  5.29it/s, loss=1.53]"
     ]
    },
    {
     "name": "stdout",
     "output_type": "stream",
     "text": [
      "Epoch 2 [780/1532] Loss: 1.4058, LR: 0.000005\n"
     ]
    },
    {
     "name": "stderr",
     "output_type": "stream",
     "text": [
      "Epoch 2 Training:  52%|█████▏    | 792/1532 [02:29<02:19,  5.32it/s, loss=1.09] "
     ]
    },
    {
     "name": "stdout",
     "output_type": "stream",
     "text": [
      "Epoch 2 [790/1532] Loss: 1.4982, LR: 0.000005\n"
     ]
    },
    {
     "name": "stderr",
     "output_type": "stream",
     "text": [
      "Epoch 2 Training:  52%|█████▏    | 802/1532 [02:31<02:19,  5.24it/s, loss=1.05] "
     ]
    },
    {
     "name": "stdout",
     "output_type": "stream",
     "text": [
      "Epoch 2 [800/1532] Loss: 1.1442, LR: 0.000005\n"
     ]
    },
    {
     "name": "stderr",
     "output_type": "stream",
     "text": [
      "Epoch 2 Training:  53%|█████▎    | 812/1532 [02:33<02:18,  5.19it/s, loss=1.43] "
     ]
    },
    {
     "name": "stdout",
     "output_type": "stream",
     "text": [
      "Epoch 2 [810/1532] Loss: 1.4131, LR: 0.000005\n"
     ]
    },
    {
     "name": "stderr",
     "output_type": "stream",
     "text": [
      "Epoch 2 Training:  54%|█████▎    | 822/1532 [02:35<02:14,  5.29it/s, loss=1.19] "
     ]
    },
    {
     "name": "stdout",
     "output_type": "stream",
     "text": [
      "Epoch 2 [820/1532] Loss: 1.4756, LR: 0.000005\n"
     ]
    },
    {
     "name": "stderr",
     "output_type": "stream",
     "text": [
      "Epoch 2 Training:  54%|█████▍    | 832/1532 [02:37<02:10,  5.37it/s, loss=1.83] "
     ]
    },
    {
     "name": "stdout",
     "output_type": "stream",
     "text": [
      "Epoch 2 [830/1532] Loss: 0.9685, LR: 0.000005\n"
     ]
    },
    {
     "name": "stderr",
     "output_type": "stream",
     "text": [
      "Epoch 2 Training:  55%|█████▍    | 842/1532 [02:39<02:10,  5.31it/s, loss=1.54] "
     ]
    },
    {
     "name": "stdout",
     "output_type": "stream",
     "text": [
      "Epoch 2 [840/1532] Loss: 1.7129, LR: 0.000005\n"
     ]
    },
    {
     "name": "stderr",
     "output_type": "stream",
     "text": [
      "Epoch 2 Training:  56%|█████▌    | 852/1532 [02:41<02:10,  5.21it/s, loss=1.3]  "
     ]
    },
    {
     "name": "stdout",
     "output_type": "stream",
     "text": [
      "Epoch 2 [850/1532] Loss: 1.7856, LR: 0.000005\n"
     ]
    },
    {
     "name": "stderr",
     "output_type": "stream",
     "text": [
      "Epoch 2 Training:  56%|█████▋    | 862/1532 [02:43<02:07,  5.27it/s, loss=1.07] "
     ]
    },
    {
     "name": "stdout",
     "output_type": "stream",
     "text": [
      "Epoch 2 [860/1532] Loss: 0.8407, LR: 0.000005\n"
     ]
    },
    {
     "name": "stderr",
     "output_type": "stream",
     "text": [
      "Epoch 2 Training:  57%|█████▋    | 872/1532 [02:44<02:02,  5.37it/s, loss=1.5] "
     ]
    },
    {
     "name": "stdout",
     "output_type": "stream",
     "text": [
      "Epoch 2 [870/1532] Loss: 1.0756, LR: 0.000005\n"
     ]
    },
    {
     "name": "stderr",
     "output_type": "stream",
     "text": [
      "Epoch 2 Training:  58%|█████▊    | 882/1532 [02:46<02:03,  5.25it/s, loss=0.922]"
     ]
    },
    {
     "name": "stdout",
     "output_type": "stream",
     "text": [
      "Epoch 2 [880/1532] Loss: 1.5324, LR: 0.000005\n"
     ]
    },
    {
     "name": "stderr",
     "output_type": "stream",
     "text": [
      "Epoch 2 Training:  58%|█████▊    | 892/1532 [02:48<02:04,  5.16it/s, loss=1.43] "
     ]
    },
    {
     "name": "stdout",
     "output_type": "stream",
     "text": [
      "Epoch 2 [890/1532] Loss: 1.3605, LR: 0.000005\n"
     ]
    },
    {
     "name": "stderr",
     "output_type": "stream",
     "text": [
      "Epoch 2 Training:  59%|█████▉    | 902/1532 [02:50<02:02,  5.14it/s, loss=1.85] "
     ]
    },
    {
     "name": "stdout",
     "output_type": "stream",
     "text": [
      "Epoch 2 [900/1532] Loss: 0.8629, LR: 0.000005\n"
     ]
    },
    {
     "name": "stderr",
     "output_type": "stream",
     "text": [
      "Epoch 2 Training:  60%|█████▉    | 912/1532 [02:52<01:59,  5.17it/s, loss=1.78] "
     ]
    },
    {
     "name": "stdout",
     "output_type": "stream",
     "text": [
      "Epoch 2 [910/1532] Loss: 1.2922, LR: 0.000005\n"
     ]
    },
    {
     "name": "stderr",
     "output_type": "stream",
     "text": [
      "Epoch 2 Training:  60%|██████    | 922/1532 [02:54<01:57,  5.18it/s, loss=0.848]"
     ]
    },
    {
     "name": "stdout",
     "output_type": "stream",
     "text": [
      "Epoch 2 [920/1532] Loss: 1.6504, LR: 0.000005\n"
     ]
    },
    {
     "name": "stderr",
     "output_type": "stream",
     "text": [
      "Epoch 2 Training:  61%|██████    | 932/1532 [02:56<01:52,  5.35it/s, loss=1.04] "
     ]
    },
    {
     "name": "stdout",
     "output_type": "stream",
     "text": [
      "Epoch 2 [930/1532] Loss: 1.5193, LR: 0.000005\n"
     ]
    },
    {
     "name": "stderr",
     "output_type": "stream",
     "text": [
      "Epoch 2 Training:  61%|██████▏   | 942/1532 [02:58<01:50,  5.35it/s, loss=1.32]"
     ]
    },
    {
     "name": "stdout",
     "output_type": "stream",
     "text": [
      "Epoch 2 [940/1532] Loss: 1.7882, LR: 0.000005\n"
     ]
    },
    {
     "name": "stderr",
     "output_type": "stream",
     "text": [
      "Epoch 2 Training:  62%|██████▏   | 952/1532 [03:00<01:51,  5.22it/s, loss=0.916]"
     ]
    },
    {
     "name": "stdout",
     "output_type": "stream",
     "text": [
      "Epoch 2 [950/1532] Loss: 1.8527, LR: 0.000005\n"
     ]
    },
    {
     "name": "stderr",
     "output_type": "stream",
     "text": [
      "Epoch 2 Training:  63%|██████▎   | 962/1532 [03:02<01:48,  5.27it/s, loss=1.59] "
     ]
    },
    {
     "name": "stdout",
     "output_type": "stream",
     "text": [
      "Epoch 2 [960/1532] Loss: 1.2534, LR: 0.000005\n"
     ]
    },
    {
     "name": "stderr",
     "output_type": "stream",
     "text": [
      "Epoch 2 Training:  63%|██████▎   | 972/1532 [03:04<01:44,  5.36it/s, loss=1.2]  "
     ]
    },
    {
     "name": "stdout",
     "output_type": "stream",
     "text": [
      "Epoch 2 [970/1532] Loss: 1.4742, LR: 0.000005\n"
     ]
    },
    {
     "name": "stderr",
     "output_type": "stream",
     "text": [
      "Epoch 2 Training:  64%|██████▍   | 982/1532 [03:05<01:46,  5.18it/s, loss=0.907]"
     ]
    },
    {
     "name": "stdout",
     "output_type": "stream",
     "text": [
      "Epoch 2 [980/1532] Loss: 0.9768, LR: 0.000005\n"
     ]
    },
    {
     "name": "stderr",
     "output_type": "stream",
     "text": [
      "Epoch 2 Training:  65%|██████▍   | 992/1532 [03:07<01:44,  5.17it/s, loss=1.02] "
     ]
    },
    {
     "name": "stdout",
     "output_type": "stream",
     "text": [
      "Epoch 2 [990/1532] Loss: 1.7190, LR: 0.000005\n"
     ]
    },
    {
     "name": "stderr",
     "output_type": "stream",
     "text": [
      "Epoch 2 Training:  65%|██████▌   | 1002/1532 [03:09<01:39,  5.32it/s, loss=1.37]"
     ]
    },
    {
     "name": "stdout",
     "output_type": "stream",
     "text": [
      "Epoch 2 [1000/1532] Loss: 1.0396, LR: 0.000005\n"
     ]
    },
    {
     "name": "stderr",
     "output_type": "stream",
     "text": [
      "Epoch 2 Training:  66%|██████▌   | 1012/1532 [03:11<01:36,  5.41it/s, loss=1.29]"
     ]
    },
    {
     "name": "stdout",
     "output_type": "stream",
     "text": [
      "Epoch 2 [1010/1532] Loss: 1.1221, LR: 0.000005\n"
     ]
    },
    {
     "name": "stderr",
     "output_type": "stream",
     "text": [
      "Epoch 2 Training:  67%|██████▋   | 1022/1532 [03:13<01:35,  5.32it/s, loss=1.65] "
     ]
    },
    {
     "name": "stdout",
     "output_type": "stream",
     "text": [
      "Epoch 2 [1020/1532] Loss: 1.0722, LR: 0.000005\n"
     ]
    },
    {
     "name": "stderr",
     "output_type": "stream",
     "text": [
      "Epoch 2 Training:  67%|██████▋   | 1032/1532 [03:15<01:35,  5.24it/s, loss=1.26] "
     ]
    },
    {
     "name": "stdout",
     "output_type": "stream",
     "text": [
      "Epoch 2 [1030/1532] Loss: 1.0256, LR: 0.000005\n"
     ]
    },
    {
     "name": "stderr",
     "output_type": "stream",
     "text": [
      "Epoch 2 Training:  68%|██████▊   | 1042/1532 [03:17<01:33,  5.22it/s, loss=1]    "
     ]
    },
    {
     "name": "stdout",
     "output_type": "stream",
     "text": [
      "Epoch 2 [1040/1532] Loss: 1.7874, LR: 0.000005\n"
     ]
    },
    {
     "name": "stderr",
     "output_type": "stream",
     "text": [
      "Epoch 2 Training:  69%|██████▊   | 1052/1532 [03:19<01:33,  5.11it/s, loss=0.765]"
     ]
    },
    {
     "name": "stdout",
     "output_type": "stream",
     "text": [
      "Epoch 2 [1050/1532] Loss: 1.2811, LR: 0.000005\n"
     ]
    },
    {
     "name": "stderr",
     "output_type": "stream",
     "text": [
      "Epoch 2 Training:  69%|██████▉   | 1062/1532 [03:21<01:29,  5.25it/s, loss=1.43] "
     ]
    },
    {
     "name": "stdout",
     "output_type": "stream",
     "text": [
      "Epoch 2 [1060/1532] Loss: 0.9998, LR: 0.000005\n"
     ]
    },
    {
     "name": "stderr",
     "output_type": "stream",
     "text": [
      "Epoch 2 Training:  70%|██████▉   | 1072/1532 [03:23<01:26,  5.29it/s, loss=1.35] "
     ]
    },
    {
     "name": "stdout",
     "output_type": "stream",
     "text": [
      "Epoch 2 [1070/1532] Loss: 1.5556, LR: 0.000005\n"
     ]
    },
    {
     "name": "stderr",
     "output_type": "stream",
     "text": [
      "Epoch 2 Training:  71%|███████   | 1082/1532 [03:25<01:26,  5.17it/s, loss=1.12] "
     ]
    },
    {
     "name": "stdout",
     "output_type": "stream",
     "text": [
      "Epoch 2 [1080/1532] Loss: 1.5231, LR: 0.000005\n"
     ]
    },
    {
     "name": "stderr",
     "output_type": "stream",
     "text": [
      "Epoch 2 Training:  71%|███████▏  | 1092/1532 [03:26<01:25,  5.12it/s, loss=1.09]"
     ]
    },
    {
     "name": "stdout",
     "output_type": "stream",
     "text": [
      "Epoch 2 [1090/1532] Loss: 1.8655, LR: 0.000005\n"
     ]
    },
    {
     "name": "stderr",
     "output_type": "stream",
     "text": [
      "Epoch 2 Training:  72%|███████▏  | 1102/1532 [03:28<01:20,  5.36it/s, loss=1.46] "
     ]
    },
    {
     "name": "stdout",
     "output_type": "stream",
     "text": [
      "Epoch 2 [1100/1532] Loss: 1.2036, LR: 0.000005\n"
     ]
    },
    {
     "name": "stderr",
     "output_type": "stream",
     "text": [
      "Epoch 2 Training:  73%|███████▎  | 1112/1532 [03:30<01:16,  5.46it/s, loss=1.78]"
     ]
    },
    {
     "name": "stdout",
     "output_type": "stream",
     "text": [
      "Epoch 2 [1110/1532] Loss: 1.7192, LR: 0.000005\n"
     ]
    },
    {
     "name": "stderr",
     "output_type": "stream",
     "text": [
      "Epoch 2 Training:  73%|███████▎  | 1122/1532 [03:32<01:15,  5.41it/s, loss=1.59] "
     ]
    },
    {
     "name": "stdout",
     "output_type": "stream",
     "text": [
      "Epoch 2 [1120/1532] Loss: 1.7456, LR: 0.000005\n"
     ]
    },
    {
     "name": "stderr",
     "output_type": "stream",
     "text": [
      "Epoch 2 Training:  74%|███████▍  | 1131/1532 [03:34<01:16,  5.21it/s, loss=1.35]"
     ]
    },
    {
     "name": "stdout",
     "output_type": "stream",
     "text": [
      "Epoch 2 [1130/1532] Loss: 1.0560, LR: 0.000005\n"
     ]
    },
    {
     "name": "stderr",
     "output_type": "stream",
     "text": [
      "Epoch 2 Training:  75%|███████▍  | 1142/1532 [03:36<01:14,  5.26it/s, loss=1.68] "
     ]
    },
    {
     "name": "stdout",
     "output_type": "stream",
     "text": [
      "Epoch 2 [1140/1532] Loss: 1.3891, LR: 0.000005\n"
     ]
    },
    {
     "name": "stderr",
     "output_type": "stream",
     "text": [
      "Epoch 2 Training:  75%|███████▌  | 1152/1532 [03:38<01:12,  5.27it/s, loss=1.12]"
     ]
    },
    {
     "name": "stdout",
     "output_type": "stream",
     "text": [
      "Epoch 2 [1150/1532] Loss: 1.3137, LR: 0.000005\n"
     ]
    },
    {
     "name": "stderr",
     "output_type": "stream",
     "text": [
      "Epoch 2 Training:  76%|███████▌  | 1162/1532 [03:40<01:10,  5.27it/s, loss=0.875]"
     ]
    },
    {
     "name": "stdout",
     "output_type": "stream",
     "text": [
      "Epoch 2 [1160/1532] Loss: 1.3631, LR: 0.000005\n"
     ]
    },
    {
     "name": "stderr",
     "output_type": "stream",
     "text": [
      "Epoch 2 Training:  77%|███████▋  | 1172/1532 [03:42<01:09,  5.16it/s, loss=1.98] "
     ]
    },
    {
     "name": "stdout",
     "output_type": "stream",
     "text": [
      "Epoch 2 [1170/1532] Loss: 1.5729, LR: 0.000005\n"
     ]
    },
    {
     "name": "stderr",
     "output_type": "stream",
     "text": [
      "Epoch 2 Training:  77%|███████▋  | 1182/1532 [03:43<01:06,  5.28it/s, loss=1.01] "
     ]
    },
    {
     "name": "stdout",
     "output_type": "stream",
     "text": [
      "Epoch 2 [1180/1532] Loss: 1.5378, LR: 0.000005\n"
     ]
    },
    {
     "name": "stderr",
     "output_type": "stream",
     "text": [
      "Epoch 2 Training:  78%|███████▊  | 1192/1532 [03:45<01:04,  5.29it/s, loss=1.19]"
     ]
    },
    {
     "name": "stdout",
     "output_type": "stream",
     "text": [
      "Epoch 2 [1190/1532] Loss: 1.1974, LR: 0.000005\n"
     ]
    },
    {
     "name": "stderr",
     "output_type": "stream",
     "text": [
      "Epoch 2 Training:  78%|███████▊  | 1202/1532 [03:47<01:02,  5.27it/s, loss=0.787]"
     ]
    },
    {
     "name": "stdout",
     "output_type": "stream",
     "text": [
      "Epoch 2 [1200/1532] Loss: 0.9445, LR: 0.000005\n"
     ]
    },
    {
     "name": "stderr",
     "output_type": "stream",
     "text": [
      "Epoch 2 Training:  79%|███████▉  | 1212/1532 [03:49<01:01,  5.17it/s, loss=0.712]"
     ]
    },
    {
     "name": "stdout",
     "output_type": "stream",
     "text": [
      "Epoch 2 [1210/1532] Loss: 1.0442, LR: 0.000005\n"
     ]
    },
    {
     "name": "stderr",
     "output_type": "stream",
     "text": [
      "Epoch 2 Training:  80%|███████▉  | 1222/1532 [03:51<00:59,  5.18it/s, loss=1.19] "
     ]
    },
    {
     "name": "stdout",
     "output_type": "stream",
     "text": [
      "Epoch 2 [1220/1532] Loss: 1.4388, LR: 0.000005\n"
     ]
    },
    {
     "name": "stderr",
     "output_type": "stream",
     "text": [
      "Epoch 2 Training:  80%|████████  | 1232/1532 [03:53<00:56,  5.30it/s, loss=0.984]"
     ]
    },
    {
     "name": "stdout",
     "output_type": "stream",
     "text": [
      "Epoch 2 [1230/1532] Loss: 1.1128, LR: 0.000005\n"
     ]
    },
    {
     "name": "stderr",
     "output_type": "stream",
     "text": [
      "Epoch 2 Training:  81%|████████  | 1242/1532 [03:55<00:53,  5.39it/s, loss=0.979]"
     ]
    },
    {
     "name": "stdout",
     "output_type": "stream",
     "text": [
      "Epoch 2 [1240/1532] Loss: 1.3489, LR: 0.000005\n"
     ]
    },
    {
     "name": "stderr",
     "output_type": "stream",
     "text": [
      "Epoch 2 Training:  82%|████████▏ | 1252/1532 [03:57<00:52,  5.32it/s, loss=1.17] "
     ]
    },
    {
     "name": "stdout",
     "output_type": "stream",
     "text": [
      "Epoch 2 [1250/1532] Loss: 1.0307, LR: 0.000005\n"
     ]
    },
    {
     "name": "stderr",
     "output_type": "stream",
     "text": [
      "Epoch 2 Training:  82%|████████▏ | 1262/1532 [03:59<00:51,  5.20it/s, loss=1.73] "
     ]
    },
    {
     "name": "stdout",
     "output_type": "stream",
     "text": [
      "Epoch 2 [1260/1532] Loss: 2.1833, LR: 0.000005\n"
     ]
    },
    {
     "name": "stderr",
     "output_type": "stream",
     "text": [
      "Epoch 2 Training:  83%|████████▎ | 1272/1532 [04:01<00:49,  5.29it/s, loss=1.87] "
     ]
    },
    {
     "name": "stdout",
     "output_type": "stream",
     "text": [
      "Epoch 2 [1270/1532] Loss: 0.9017, LR: 0.000005\n"
     ]
    },
    {
     "name": "stderr",
     "output_type": "stream",
     "text": [
      "Epoch 2 Training:  84%|████████▎ | 1282/1532 [04:03<00:47,  5.21it/s, loss=1.24] "
     ]
    },
    {
     "name": "stdout",
     "output_type": "stream",
     "text": [
      "Epoch 2 [1280/1532] Loss: 1.5123, LR: 0.000005\n"
     ]
    },
    {
     "name": "stderr",
     "output_type": "stream",
     "text": [
      "Epoch 2 Training:  84%|████████▍ | 1292/1532 [04:04<00:46,  5.15it/s, loss=1.53] "
     ]
    },
    {
     "name": "stdout",
     "output_type": "stream",
     "text": [
      "Epoch 2 [1290/1532] Loss: 1.2430, LR: 0.000005\n"
     ]
    },
    {
     "name": "stderr",
     "output_type": "stream",
     "text": [
      "Epoch 2 Training:  85%|████████▍ | 1302/1532 [04:06<00:44,  5.19it/s, loss=1.29] "
     ]
    },
    {
     "name": "stdout",
     "output_type": "stream",
     "text": [
      "Epoch 2 [1300/1532] Loss: 1.1401, LR: 0.000005\n"
     ]
    },
    {
     "name": "stderr",
     "output_type": "stream",
     "text": [
      "Epoch 2 Training:  86%|████████▌ | 1312/1532 [04:08<00:40,  5.44it/s, loss=0.993]"
     ]
    },
    {
     "name": "stdout",
     "output_type": "stream",
     "text": [
      "Epoch 2 [1310/1532] Loss: 1.3346, LR: 0.000005\n"
     ]
    },
    {
     "name": "stderr",
     "output_type": "stream",
     "text": [
      "Epoch 2 Training:  86%|████████▋ | 1322/1532 [04:10<00:40,  5.19it/s, loss=1.36] "
     ]
    },
    {
     "name": "stdout",
     "output_type": "stream",
     "text": [
      "Epoch 2 [1320/1532] Loss: 1.3822, LR: 0.000005\n"
     ]
    },
    {
     "name": "stderr",
     "output_type": "stream",
     "text": [
      "Epoch 2 Training:  87%|████████▋ | 1332/1532 [04:12<00:38,  5.13it/s, loss=1.5]  "
     ]
    },
    {
     "name": "stdout",
     "output_type": "stream",
     "text": [
      "Epoch 2 [1330/1532] Loss: 1.5205, LR: 0.000005\n"
     ]
    },
    {
     "name": "stderr",
     "output_type": "stream",
     "text": [
      "Epoch 2 Training:  88%|████████▊ | 1342/1532 [04:14<00:36,  5.22it/s, loss=1.24] "
     ]
    },
    {
     "name": "stdout",
     "output_type": "stream",
     "text": [
      "Epoch 2 [1340/1532] Loss: 1.2167, LR: 0.000005\n"
     ]
    },
    {
     "name": "stderr",
     "output_type": "stream",
     "text": [
      "Epoch 2 Training:  88%|████████▊ | 1352/1532 [04:16<00:33,  5.36it/s, loss=1.69]"
     ]
    },
    {
     "name": "stdout",
     "output_type": "stream",
     "text": [
      "Epoch 2 [1350/1532] Loss: 1.3495, LR: 0.000005\n"
     ]
    },
    {
     "name": "stderr",
     "output_type": "stream",
     "text": [
      "Epoch 2 Training:  89%|████████▉ | 1362/1532 [04:18<00:32,  5.27it/s, loss=1.37]"
     ]
    },
    {
     "name": "stdout",
     "output_type": "stream",
     "text": [
      "Epoch 2 [1360/1532] Loss: 1.0918, LR: 0.000005\n"
     ]
    },
    {
     "name": "stderr",
     "output_type": "stream",
     "text": [
      "Epoch 2 Training:  90%|████████▉ | 1372/1532 [04:20<00:30,  5.18it/s, loss=1.11] "
     ]
    },
    {
     "name": "stdout",
     "output_type": "stream",
     "text": [
      "Epoch 2 [1370/1532] Loss: 1.0623, LR: 0.000005\n"
     ]
    },
    {
     "name": "stderr",
     "output_type": "stream",
     "text": [
      "Epoch 2 Training:  90%|█████████ | 1382/1532 [04:22<00:28,  5.23it/s, loss=1.1]  "
     ]
    },
    {
     "name": "stdout",
     "output_type": "stream",
     "text": [
      "Epoch 2 [1380/1532] Loss: 0.9768, LR: 0.000005\n"
     ]
    },
    {
     "name": "stderr",
     "output_type": "stream",
     "text": [
      "Epoch 2 Training:  91%|█████████ | 1391/1532 [04:23<00:27,  5.19it/s, loss=1.69] "
     ]
    },
    {
     "name": "stdout",
     "output_type": "stream",
     "text": [
      "Epoch 2 [1390/1532] Loss: 1.6934, LR: 0.000005\n"
     ]
    },
    {
     "name": "stderr",
     "output_type": "stream",
     "text": [
      "Epoch 2 Training:  92%|█████████▏| 1402/1532 [04:25<00:24,  5.23it/s, loss=1.57] "
     ]
    },
    {
     "name": "stdout",
     "output_type": "stream",
     "text": [
      "Epoch 2 [1400/1532] Loss: 1.3689, LR: 0.000005\n"
     ]
    },
    {
     "name": "stderr",
     "output_type": "stream",
     "text": [
      "Epoch 2 Training:  92%|█████████▏| 1412/1532 [04:27<00:23,  5.16it/s, loss=1.56] "
     ]
    },
    {
     "name": "stdout",
     "output_type": "stream",
     "text": [
      "Epoch 2 [1410/1532] Loss: 0.9032, LR: 0.000005\n"
     ]
    },
    {
     "name": "stderr",
     "output_type": "stream",
     "text": [
      "Epoch 2 Training:  93%|█████████▎| 1422/1532 [04:29<00:21,  5.22it/s, loss=1.5]  "
     ]
    },
    {
     "name": "stdout",
     "output_type": "stream",
     "text": [
      "Epoch 2 [1420/1532] Loss: 1.0401, LR: 0.000005\n"
     ]
    },
    {
     "name": "stderr",
     "output_type": "stream",
     "text": [
      "Epoch 2 Training:  93%|█████████▎| 1432/1532 [04:31<00:19,  5.23it/s, loss=1.49] "
     ]
    },
    {
     "name": "stdout",
     "output_type": "stream",
     "text": [
      "Epoch 2 [1430/1532] Loss: 1.0225, LR: 0.000005\n"
     ]
    },
    {
     "name": "stderr",
     "output_type": "stream",
     "text": [
      "Epoch 2 Training:  94%|█████████▍| 1442/1532 [04:33<00:17,  5.22it/s, loss=1.21] "
     ]
    },
    {
     "name": "stdout",
     "output_type": "stream",
     "text": [
      "Epoch 2 [1440/1532] Loss: 0.7471, LR: 0.000005\n"
     ]
    },
    {
     "name": "stderr",
     "output_type": "stream",
     "text": [
      "Epoch 2 Training:  95%|█████████▍| 1452/1532 [04:35<00:15,  5.27it/s, loss=1.33]"
     ]
    },
    {
     "name": "stdout",
     "output_type": "stream",
     "text": [
      "Epoch 2 [1450/1532] Loss: 2.3786, LR: 0.000005\n"
     ]
    },
    {
     "name": "stderr",
     "output_type": "stream",
     "text": [
      "Epoch 2 Training:  95%|█████████▌| 1462/1532 [04:37<00:13,  5.20it/s, loss=0.715]"
     ]
    },
    {
     "name": "stdout",
     "output_type": "stream",
     "text": [
      "Epoch 2 [1460/1532] Loss: 0.9505, LR: 0.000005\n"
     ]
    },
    {
     "name": "stderr",
     "output_type": "stream",
     "text": [
      "Epoch 2 Training:  96%|█████████▌| 1472/1532 [04:39<00:11,  5.29it/s, loss=0.822]"
     ]
    },
    {
     "name": "stdout",
     "output_type": "stream",
     "text": [
      "Epoch 2 [1470/1532] Loss: 1.1179, LR: 0.000005\n"
     ]
    },
    {
     "name": "stderr",
     "output_type": "stream",
     "text": [
      "Epoch 2 Training:  97%|█████████▋| 1482/1532 [04:41<00:09,  5.19it/s, loss=1.7]  "
     ]
    },
    {
     "name": "stdout",
     "output_type": "stream",
     "text": [
      "Epoch 2 [1480/1532] Loss: 1.0985, LR: 0.000005\n"
     ]
    },
    {
     "name": "stderr",
     "output_type": "stream",
     "text": [
      "Epoch 2 Training:  97%|█████████▋| 1492/1532 [04:43<00:07,  5.39it/s, loss=1.34] "
     ]
    },
    {
     "name": "stdout",
     "output_type": "stream",
     "text": [
      "Epoch 2 [1490/1532] Loss: 0.8941, LR: 0.000005\n"
     ]
    },
    {
     "name": "stderr",
     "output_type": "stream",
     "text": [
      "Epoch 2 Training:  98%|█████████▊| 1502/1532 [04:44<00:05,  5.48it/s, loss=1.23] "
     ]
    },
    {
     "name": "stdout",
     "output_type": "stream",
     "text": [
      "Epoch 2 [1500/1532] Loss: 1.3323, LR: 0.000005\n"
     ]
    },
    {
     "name": "stderr",
     "output_type": "stream",
     "text": [
      "Epoch 2 Training:  99%|█████████▊| 1512/1532 [04:46<00:03,  5.29it/s, loss=1.64]"
     ]
    },
    {
     "name": "stdout",
     "output_type": "stream",
     "text": [
      "Epoch 2 [1510/1532] Loss: 1.7198, LR: 0.000005\n"
     ]
    },
    {
     "name": "stderr",
     "output_type": "stream",
     "text": [
      "Epoch 2 Training:  99%|█████████▉| 1522/1532 [04:48<00:01,  5.57it/s, loss=1.63] "
     ]
    },
    {
     "name": "stdout",
     "output_type": "stream",
     "text": [
      "Epoch 2 [1520/1532] Loss: 1.3244, LR: 0.000005\n"
     ]
    },
    {
     "name": "stderr",
     "output_type": "stream",
     "text": [
      "Epoch 2 Training: 100%|██████████| 1532/1532 [04:50<00:00,  5.27it/s, loss=0.335]\n"
     ]
    },
    {
     "name": "stdout",
     "output_type": "stream",
     "text": [
      "Epoch 2 [1530/1532] Loss: 1.2406, LR: 0.000005\n",
      "Epoch 2: Avg Loss: 1.2927, Time: 290.55s\n",
      "Validation Results:\n",
      "  Loss: 2.0613\n",
      "  Image→Text Accuracy: 0.3423 (Top-5: 0.7993)\n",
      "  Text→Image Accuracy: 0.3563 (Top-5: 0.8053)\n",
      "💾 Saved new best model at epoch 3 with I→T Acc: 34.23%\n",
      "\n",
      "🚀 Epoch 4/5\n"
     ]
    },
    {
     "name": "stderr",
     "output_type": "stream",
     "text": [
      "Epoch 3 Training:   0%|          | 1/1532 [00:00<05:38,  4.52it/s, loss=0.71]"
     ]
    },
    {
     "name": "stdout",
     "output_type": "stream",
     "text": [
      "Epoch 3 [0/1532] Loss: 0.7104, LR: 0.000005\n"
     ]
    },
    {
     "name": "stderr",
     "output_type": "stream",
     "text": [
      "Epoch 3 Training:   1%|          | 12/1532 [00:02<04:44,  5.34it/s, loss=0.618]"
     ]
    },
    {
     "name": "stdout",
     "output_type": "stream",
     "text": [
      "Epoch 3 [10/1532] Loss: 1.0162, LR: 0.000005\n"
     ]
    },
    {
     "name": "stderr",
     "output_type": "stream",
     "text": [
      "Epoch 3 Training:   1%|▏         | 22/1532 [00:04<04:41,  5.35it/s, loss=0.942]"
     ]
    },
    {
     "name": "stdout",
     "output_type": "stream",
     "text": [
      "Epoch 3 [20/1532] Loss: 1.2610, LR: 0.000005\n"
     ]
    },
    {
     "name": "stderr",
     "output_type": "stream",
     "text": [
      "Epoch 3 Training:   2%|▏         | 32/1532 [00:06<04:43,  5.29it/s, loss=0.981]"
     ]
    },
    {
     "name": "stdout",
     "output_type": "stream",
     "text": [
      "Epoch 3 [30/1532] Loss: 0.6227, LR: 0.000005\n"
     ]
    },
    {
     "name": "stderr",
     "output_type": "stream",
     "text": [
      "Epoch 3 Training:   3%|▎         | 42/1532 [00:07<04:50,  5.14it/s, loss=0.455]"
     ]
    },
    {
     "name": "stdout",
     "output_type": "stream",
     "text": [
      "Epoch 3 [40/1532] Loss: 1.0473, LR: 0.000005\n"
     ]
    },
    {
     "name": "stderr",
     "output_type": "stream",
     "text": [
      "Epoch 3 Training:   3%|▎         | 51/1532 [00:09<04:45,  5.19it/s, loss=0.869]"
     ]
    },
    {
     "name": "stdout",
     "output_type": "stream",
     "text": [
      "Epoch 3 [50/1532] Loss: 1.0858, LR: 0.000005\n"
     ]
    },
    {
     "name": "stderr",
     "output_type": "stream",
     "text": [
      "Epoch 3 Training:   4%|▍         | 62/1532 [00:11<04:25,  5.53it/s, loss=0.818]"
     ]
    },
    {
     "name": "stdout",
     "output_type": "stream",
     "text": [
      "Epoch 3 [60/1532] Loss: 0.9315, LR: 0.000005\n"
     ]
    },
    {
     "name": "stderr",
     "output_type": "stream",
     "text": [
      "Epoch 3 Training:   5%|▍         | 72/1532 [00:13<04:30,  5.41it/s, loss=0.977]"
     ]
    },
    {
     "name": "stdout",
     "output_type": "stream",
     "text": [
      "Epoch 3 [70/1532] Loss: 0.7168, LR: 0.000005\n"
     ]
    },
    {
     "name": "stderr",
     "output_type": "stream",
     "text": [
      "Epoch 3 Training:   5%|▌         | 82/1532 [00:15<04:34,  5.29it/s, loss=1.1]  "
     ]
    },
    {
     "name": "stdout",
     "output_type": "stream",
     "text": [
      "Epoch 3 [80/1532] Loss: 0.9173, LR: 0.000005\n"
     ]
    },
    {
     "name": "stderr",
     "output_type": "stream",
     "text": [
      "Epoch 3 Training:   6%|▌         | 92/1532 [00:17<04:31,  5.31it/s, loss=1.43] "
     ]
    },
    {
     "name": "stdout",
     "output_type": "stream",
     "text": [
      "Epoch 3 [90/1532] Loss: 0.9803, LR: 0.000005\n"
     ]
    },
    {
     "name": "stderr",
     "output_type": "stream",
     "text": [
      "Epoch 3 Training:   7%|▋         | 102/1532 [00:19<04:35,  5.18it/s, loss=0.407]"
     ]
    },
    {
     "name": "stdout",
     "output_type": "stream",
     "text": [
      "Epoch 3 [100/1532] Loss: 0.7395, LR: 0.000005\n"
     ]
    },
    {
     "name": "stderr",
     "output_type": "stream",
     "text": [
      "Epoch 3 Training:   7%|▋         | 112/1532 [00:21<04:26,  5.34it/s, loss=1.19] "
     ]
    },
    {
     "name": "stdout",
     "output_type": "stream",
     "text": [
      "Epoch 3 [110/1532] Loss: 1.3367, LR: 0.000005\n"
     ]
    },
    {
     "name": "stderr",
     "output_type": "stream",
     "text": [
      "Epoch 3 Training:   8%|▊         | 122/1532 [00:23<04:22,  5.37it/s, loss=1.61] "
     ]
    },
    {
     "name": "stdout",
     "output_type": "stream",
     "text": [
      "Epoch 3 [120/1532] Loss: 0.9221, LR: 0.000005\n"
     ]
    },
    {
     "name": "stderr",
     "output_type": "stream",
     "text": [
      "Epoch 3 Training:   9%|▊         | 132/1532 [00:24<04:28,  5.22it/s, loss=1.11] "
     ]
    },
    {
     "name": "stdout",
     "output_type": "stream",
     "text": [
      "Epoch 3 [130/1532] Loss: 0.8614, LR: 0.000005\n"
     ]
    },
    {
     "name": "stderr",
     "output_type": "stream",
     "text": [
      "Epoch 3 Training:   9%|▉         | 142/1532 [00:26<04:18,  5.37it/s, loss=1.39] "
     ]
    },
    {
     "name": "stdout",
     "output_type": "stream",
     "text": [
      "Epoch 3 [140/1532] Loss: 0.9422, LR: 0.000005\n"
     ]
    },
    {
     "name": "stderr",
     "output_type": "stream",
     "text": [
      "Epoch 3 Training:  10%|▉         | 152/1532 [00:28<04:20,  5.29it/s, loss=0.985]"
     ]
    },
    {
     "name": "stdout",
     "output_type": "stream",
     "text": [
      "Epoch 3 [150/1532] Loss: 0.9912, LR: 0.000005\n"
     ]
    },
    {
     "name": "stderr",
     "output_type": "stream",
     "text": [
      "Epoch 3 Training:  11%|█         | 162/1532 [00:30<04:27,  5.12it/s, loss=0.575]"
     ]
    },
    {
     "name": "stdout",
     "output_type": "stream",
     "text": [
      "Epoch 3 [160/1532] Loss: 1.2141, LR: 0.000005\n"
     ]
    },
    {
     "name": "stderr",
     "output_type": "stream",
     "text": [
      "Epoch 3 Training:  11%|█         | 172/1532 [00:32<04:19,  5.23it/s, loss=0.88] "
     ]
    },
    {
     "name": "stdout",
     "output_type": "stream",
     "text": [
      "Epoch 3 [170/1532] Loss: 0.7453, LR: 0.000005\n"
     ]
    },
    {
     "name": "stderr",
     "output_type": "stream",
     "text": [
      "Epoch 3 Training:  12%|█▏        | 181/1532 [00:34<04:20,  5.18it/s, loss=0.985]"
     ]
    },
    {
     "name": "stdout",
     "output_type": "stream",
     "text": [
      "Epoch 3 [180/1532] Loss: 0.9853, LR: 0.000005\n"
     ]
    },
    {
     "name": "stderr",
     "output_type": "stream",
     "text": [
      "Epoch 3 Training:  13%|█▎        | 192/1532 [00:36<04:16,  5.22it/s, loss=0.913]"
     ]
    },
    {
     "name": "stdout",
     "output_type": "stream",
     "text": [
      "Epoch 3 [190/1532] Loss: 0.6401, LR: 0.000005\n"
     ]
    },
    {
     "name": "stderr",
     "output_type": "stream",
     "text": [
      "Epoch 3 Training:  13%|█▎        | 202/1532 [00:38<04:12,  5.27it/s, loss=0.446]"
     ]
    },
    {
     "name": "stdout",
     "output_type": "stream",
     "text": [
      "Epoch 3 [200/1532] Loss: 0.7059, LR: 0.000005\n"
     ]
    },
    {
     "name": "stderr",
     "output_type": "stream",
     "text": [
      "Epoch 3 Training:  14%|█▍        | 211/1532 [00:40<04:07,  5.33it/s, loss=1.26] "
     ]
    },
    {
     "name": "stdout",
     "output_type": "stream",
     "text": [
      "Epoch 3 [210/1532] Loss: 1.2627, LR: 0.000005\n"
     ]
    },
    {
     "name": "stderr",
     "output_type": "stream",
     "text": [
      "Epoch 3 Training:  14%|█▍        | 222/1532 [00:42<04:12,  5.19it/s, loss=0.439]"
     ]
    },
    {
     "name": "stdout",
     "output_type": "stream",
     "text": [
      "Epoch 3 [220/1532] Loss: 0.9490, LR: 0.000005\n"
     ]
    },
    {
     "name": "stderr",
     "output_type": "stream",
     "text": [
      "Epoch 3 Training:  15%|█▌        | 232/1532 [00:44<04:09,  5.21it/s, loss=0.693]"
     ]
    },
    {
     "name": "stdout",
     "output_type": "stream",
     "text": [
      "Epoch 3 [230/1532] Loss: 0.7313, LR: 0.000005\n"
     ]
    },
    {
     "name": "stderr",
     "output_type": "stream",
     "text": [
      "Epoch 3 Training:  16%|█▌        | 242/1532 [00:46<04:09,  5.17it/s, loss=0.895]"
     ]
    },
    {
     "name": "stdout",
     "output_type": "stream",
     "text": [
      "Epoch 3 [240/1532] Loss: 0.9835, LR: 0.000005\n"
     ]
    },
    {
     "name": "stderr",
     "output_type": "stream",
     "text": [
      "Epoch 3 Training:  16%|█▋        | 252/1532 [00:48<04:07,  5.18it/s, loss=1.62] "
     ]
    },
    {
     "name": "stdout",
     "output_type": "stream",
     "text": [
      "Epoch 3 [250/1532] Loss: 0.4454, LR: 0.000005\n"
     ]
    },
    {
     "name": "stderr",
     "output_type": "stream",
     "text": [
      "Epoch 3 Training:  17%|█▋        | 262/1532 [00:49<03:58,  5.33it/s, loss=1.03] "
     ]
    },
    {
     "name": "stdout",
     "output_type": "stream",
     "text": [
      "Epoch 3 [260/1532] Loss: 1.1836, LR: 0.000005\n"
     ]
    },
    {
     "name": "stderr",
     "output_type": "stream",
     "text": [
      "Epoch 3 Training:  18%|█▊        | 272/1532 [00:51<03:57,  5.30it/s, loss=0.767]"
     ]
    },
    {
     "name": "stdout",
     "output_type": "stream",
     "text": [
      "Epoch 3 [270/1532] Loss: 1.2553, LR: 0.000005\n"
     ]
    },
    {
     "name": "stderr",
     "output_type": "stream",
     "text": [
      "Epoch 3 Training:  18%|█▊        | 282/1532 [00:53<03:59,  5.21it/s, loss=0.518]"
     ]
    },
    {
     "name": "stdout",
     "output_type": "stream",
     "text": [
      "Epoch 3 [280/1532] Loss: 0.7878, LR: 0.000005\n"
     ]
    },
    {
     "name": "stderr",
     "output_type": "stream",
     "text": [
      "Epoch 3 Training:  19%|█▉        | 292/1532 [00:55<03:59,  5.18it/s, loss=1.66] "
     ]
    },
    {
     "name": "stdout",
     "output_type": "stream",
     "text": [
      "Epoch 3 [290/1532] Loss: 0.8454, LR: 0.000005\n"
     ]
    },
    {
     "name": "stderr",
     "output_type": "stream",
     "text": [
      "Epoch 3 Training:  20%|█▉        | 302/1532 [00:57<03:57,  5.18it/s, loss=0.51] "
     ]
    },
    {
     "name": "stdout",
     "output_type": "stream",
     "text": [
      "Epoch 3 [300/1532] Loss: 1.2888, LR: 0.000005\n"
     ]
    },
    {
     "name": "stderr",
     "output_type": "stream",
     "text": [
      "Epoch 3 Training:  20%|██        | 312/1532 [00:59<03:52,  5.26it/s, loss=1.29] "
     ]
    },
    {
     "name": "stdout",
     "output_type": "stream",
     "text": [
      "Epoch 3 [310/1532] Loss: 0.8166, LR: 0.000005\n"
     ]
    },
    {
     "name": "stderr",
     "output_type": "stream",
     "text": [
      "Epoch 3 Training:  21%|██        | 322/1532 [01:01<03:55,  5.14it/s, loss=1.23] "
     ]
    },
    {
     "name": "stdout",
     "output_type": "stream",
     "text": [
      "Epoch 3 [320/1532] Loss: 0.9749, LR: 0.000005\n"
     ]
    },
    {
     "name": "stderr",
     "output_type": "stream",
     "text": [
      "Epoch 3 Training:  22%|██▏       | 332/1532 [01:03<03:44,  5.33it/s, loss=0.55] "
     ]
    },
    {
     "name": "stdout",
     "output_type": "stream",
     "text": [
      "Epoch 3 [330/1532] Loss: 1.4953, LR: 0.000005\n"
     ]
    },
    {
     "name": "stderr",
     "output_type": "stream",
     "text": [
      "Epoch 3 Training:  22%|██▏       | 341/1532 [01:05<03:55,  5.06it/s, loss=0.581]"
     ]
    },
    {
     "name": "stdout",
     "output_type": "stream",
     "text": [
      "Epoch 3 [340/1532] Loss: 0.9099, LR: 0.000005\n"
     ]
    },
    {
     "name": "stderr",
     "output_type": "stream",
     "text": [
      "Epoch 3 Training:  23%|██▎       | 352/1532 [01:07<03:46,  5.22it/s, loss=0.795]"
     ]
    },
    {
     "name": "stdout",
     "output_type": "stream",
     "text": [
      "Epoch 3 [350/1532] Loss: 0.8721, LR: 0.000005\n"
     ]
    },
    {
     "name": "stderr",
     "output_type": "stream",
     "text": [
      "Epoch 3 Training:  24%|██▎       | 362/1532 [01:09<03:43,  5.25it/s, loss=0.89] "
     ]
    },
    {
     "name": "stdout",
     "output_type": "stream",
     "text": [
      "Epoch 3 [360/1532] Loss: 1.5766, LR: 0.000005\n"
     ]
    },
    {
     "name": "stderr",
     "output_type": "stream",
     "text": [
      "Epoch 3 Training:  24%|██▍       | 372/1532 [01:11<03:39,  5.29it/s, loss=0.936]"
     ]
    },
    {
     "name": "stdout",
     "output_type": "stream",
     "text": [
      "Epoch 3 [370/1532] Loss: 1.2321, LR: 0.000005\n"
     ]
    },
    {
     "name": "stderr",
     "output_type": "stream",
     "text": [
      "Epoch 3 Training:  25%|██▍       | 382/1532 [01:12<03:36,  5.30it/s, loss=0.925]"
     ]
    },
    {
     "name": "stdout",
     "output_type": "stream",
     "text": [
      "Epoch 3 [380/1532] Loss: 0.4241, LR: 0.000005\n"
     ]
    },
    {
     "name": "stderr",
     "output_type": "stream",
     "text": [
      "Epoch 3 Training:  26%|██▌       | 392/1532 [01:14<03:35,  5.30it/s, loss=0.732]"
     ]
    },
    {
     "name": "stdout",
     "output_type": "stream",
     "text": [
      "Epoch 3 [390/1532] Loss: 0.4763, LR: 0.000005\n"
     ]
    },
    {
     "name": "stderr",
     "output_type": "stream",
     "text": [
      "Epoch 3 Training:  26%|██▌       | 402/1532 [01:16<03:34,  5.27it/s, loss=1.21] "
     ]
    },
    {
     "name": "stdout",
     "output_type": "stream",
     "text": [
      "Epoch 3 [400/1532] Loss: 0.5241, LR: 0.000005\n"
     ]
    },
    {
     "name": "stderr",
     "output_type": "stream",
     "text": [
      "Epoch 3 Training:  27%|██▋       | 412/1532 [01:18<03:31,  5.30it/s, loss=0.956]"
     ]
    },
    {
     "name": "stdout",
     "output_type": "stream",
     "text": [
      "Epoch 3 [410/1532] Loss: 0.8603, LR: 0.000005\n"
     ]
    },
    {
     "name": "stderr",
     "output_type": "stream",
     "text": [
      "Epoch 3 Training:  28%|██▊       | 422/1532 [01:20<03:35,  5.15it/s, loss=1.12] "
     ]
    },
    {
     "name": "stdout",
     "output_type": "stream",
     "text": [
      "Epoch 3 [420/1532] Loss: 0.6197, LR: 0.000005\n"
     ]
    },
    {
     "name": "stderr",
     "output_type": "stream",
     "text": [
      "Epoch 3 Training:  28%|██▊       | 432/1532 [01:22<03:27,  5.31it/s, loss=0.882]"
     ]
    },
    {
     "name": "stdout",
     "output_type": "stream",
     "text": [
      "Epoch 3 [430/1532] Loss: 0.9585, LR: 0.000005\n"
     ]
    },
    {
     "name": "stderr",
     "output_type": "stream",
     "text": [
      "Epoch 3 Training:  29%|██▉       | 442/1532 [01:24<03:31,  5.15it/s, loss=1.17] "
     ]
    },
    {
     "name": "stdout",
     "output_type": "stream",
     "text": [
      "Epoch 3 [440/1532] Loss: 0.6669, LR: 0.000005\n"
     ]
    },
    {
     "name": "stderr",
     "output_type": "stream",
     "text": [
      "Epoch 3 Training:  30%|██▉       | 452/1532 [01:26<03:29,  5.14it/s, loss=0.482]"
     ]
    },
    {
     "name": "stdout",
     "output_type": "stream",
     "text": [
      "Epoch 3 [450/1532] Loss: 0.9915, LR: 0.000005\n"
     ]
    },
    {
     "name": "stderr",
     "output_type": "stream",
     "text": [
      "Epoch 3 Training:  30%|███       | 462/1532 [01:28<03:22,  5.27it/s, loss=0.97] "
     ]
    },
    {
     "name": "stdout",
     "output_type": "stream",
     "text": [
      "Epoch 3 [460/1532] Loss: 0.9806, LR: 0.000005\n"
     ]
    },
    {
     "name": "stderr",
     "output_type": "stream",
     "text": [
      "Epoch 3 Training:  31%|███       | 472/1532 [01:30<03:22,  5.25it/s, loss=0.863]"
     ]
    },
    {
     "name": "stdout",
     "output_type": "stream",
     "text": [
      "Epoch 3 [470/1532] Loss: 0.7040, LR: 0.000005\n"
     ]
    },
    {
     "name": "stderr",
     "output_type": "stream",
     "text": [
      "Epoch 3 Training:  31%|███▏      | 482/1532 [01:32<03:18,  5.29it/s, loss=0.802]"
     ]
    },
    {
     "name": "stdout",
     "output_type": "stream",
     "text": [
      "Epoch 3 [480/1532] Loss: 0.6299, LR: 0.000005\n"
     ]
    },
    {
     "name": "stderr",
     "output_type": "stream",
     "text": [
      "Epoch 3 Training:  32%|███▏      | 492/1532 [01:34<03:19,  5.20it/s, loss=0.913]"
     ]
    },
    {
     "name": "stdout",
     "output_type": "stream",
     "text": [
      "Epoch 3 [490/1532] Loss: 1.0051, LR: 0.000005\n"
     ]
    },
    {
     "name": "stderr",
     "output_type": "stream",
     "text": [
      "Epoch 3 Training:  33%|███▎      | 502/1532 [01:35<03:13,  5.33it/s, loss=1.77] "
     ]
    },
    {
     "name": "stdout",
     "output_type": "stream",
     "text": [
      "Epoch 3 [500/1532] Loss: 1.1695, LR: 0.000005\n"
     ]
    },
    {
     "name": "stderr",
     "output_type": "stream",
     "text": [
      "Epoch 3 Training:  33%|███▎      | 512/1532 [01:37<03:12,  5.31it/s, loss=1.41] "
     ]
    },
    {
     "name": "stdout",
     "output_type": "stream",
     "text": [
      "Epoch 3 [510/1532] Loss: 0.8118, LR: 0.000005\n"
     ]
    },
    {
     "name": "stderr",
     "output_type": "stream",
     "text": [
      "Epoch 3 Training:  34%|███▍      | 522/1532 [01:39<03:11,  5.26it/s, loss=0.939]"
     ]
    },
    {
     "name": "stdout",
     "output_type": "stream",
     "text": [
      "Epoch 3 [520/1532] Loss: 0.6267, LR: 0.000005\n"
     ]
    },
    {
     "name": "stderr",
     "output_type": "stream",
     "text": [
      "Epoch 3 Training:  35%|███▍      | 532/1532 [01:41<03:12,  5.20it/s, loss=1]    "
     ]
    },
    {
     "name": "stdout",
     "output_type": "stream",
     "text": [
      "Epoch 3 [530/1532] Loss: 0.4552, LR: 0.000005\n"
     ]
    },
    {
     "name": "stderr",
     "output_type": "stream",
     "text": [
      "Epoch 3 Training:  35%|███▌      | 542/1532 [01:43<03:14,  5.09it/s, loss=1.03] "
     ]
    },
    {
     "name": "stdout",
     "output_type": "stream",
     "text": [
      "Epoch 3 [540/1532] Loss: 1.2996, LR: 0.000005\n"
     ]
    },
    {
     "name": "stderr",
     "output_type": "stream",
     "text": [
      "Epoch 3 Training:  36%|███▌      | 552/1532 [01:45<03:03,  5.35it/s, loss=0.634]"
     ]
    },
    {
     "name": "stdout",
     "output_type": "stream",
     "text": [
      "Epoch 3 [550/1532] Loss: 1.1613, LR: 0.000005\n"
     ]
    },
    {
     "name": "stderr",
     "output_type": "stream",
     "text": [
      "Epoch 3 Training:  37%|███▋      | 562/1532 [01:47<03:00,  5.39it/s, loss=1.08] "
     ]
    },
    {
     "name": "stdout",
     "output_type": "stream",
     "text": [
      "Epoch 3 [560/1532] Loss: 0.8169, LR: 0.000005\n"
     ]
    },
    {
     "name": "stderr",
     "output_type": "stream",
     "text": [
      "Epoch 3 Training:  37%|███▋      | 572/1532 [01:49<03:04,  5.21it/s, loss=0.752]"
     ]
    },
    {
     "name": "stdout",
     "output_type": "stream",
     "text": [
      "Epoch 3 [570/1532] Loss: 0.8893, LR: 0.000005\n"
     ]
    },
    {
     "name": "stderr",
     "output_type": "stream",
     "text": [
      "Epoch 3 Training:  38%|███▊      | 582/1532 [01:51<03:03,  5.17it/s, loss=0.683]"
     ]
    },
    {
     "name": "stdout",
     "output_type": "stream",
     "text": [
      "Epoch 3 [580/1532] Loss: 1.1045, LR: 0.000005\n"
     ]
    },
    {
     "name": "stderr",
     "output_type": "stream",
     "text": [
      "Epoch 3 Training:  39%|███▊      | 592/1532 [01:53<03:02,  5.15it/s, loss=0.493]"
     ]
    },
    {
     "name": "stdout",
     "output_type": "stream",
     "text": [
      "Epoch 3 [590/1532] Loss: 0.6619, LR: 0.000005\n"
     ]
    },
    {
     "name": "stderr",
     "output_type": "stream",
     "text": [
      "Epoch 3 Training:  39%|███▉      | 602/1532 [01:54<03:02,  5.11it/s, loss=0.891]"
     ]
    },
    {
     "name": "stdout",
     "output_type": "stream",
     "text": [
      "Epoch 3 [600/1532] Loss: 0.8960, LR: 0.000005\n"
     ]
    },
    {
     "name": "stderr",
     "output_type": "stream",
     "text": [
      "Epoch 3 Training:  40%|███▉      | 612/1532 [01:56<02:54,  5.27it/s, loss=1.04] "
     ]
    },
    {
     "name": "stdout",
     "output_type": "stream",
     "text": [
      "Epoch 3 [610/1532] Loss: 0.7993, LR: 0.000005\n"
     ]
    },
    {
     "name": "stderr",
     "output_type": "stream",
     "text": [
      "Epoch 3 Training:  41%|████      | 621/1532 [01:58<02:54,  5.21it/s, loss=0.495]"
     ]
    },
    {
     "name": "stdout",
     "output_type": "stream",
     "text": [
      "Epoch 3 [620/1532] Loss: 0.8569, LR: 0.000005\n"
     ]
    },
    {
     "name": "stderr",
     "output_type": "stream",
     "text": [
      "Epoch 3 Training:  41%|████▏     | 632/1532 [02:00<02:52,  5.23it/s, loss=1.04] "
     ]
    },
    {
     "name": "stdout",
     "output_type": "stream",
     "text": [
      "Epoch 3 [630/1532] Loss: 0.7668, LR: 0.000005\n"
     ]
    },
    {
     "name": "stderr",
     "output_type": "stream",
     "text": [
      "Epoch 3 Training:  42%|████▏     | 642/1532 [02:02<02:48,  5.28it/s, loss=0.531]"
     ]
    },
    {
     "name": "stdout",
     "output_type": "stream",
     "text": [
      "Epoch 3 [640/1532] Loss: 0.7613, LR: 0.000005\n"
     ]
    },
    {
     "name": "stderr",
     "output_type": "stream",
     "text": [
      "Epoch 3 Training:  43%|████▎     | 652/1532 [02:04<02:46,  5.28it/s, loss=0.673]"
     ]
    },
    {
     "name": "stdout",
     "output_type": "stream",
     "text": [
      "Epoch 3 [650/1532] Loss: 0.9174, LR: 0.000005\n"
     ]
    },
    {
     "name": "stderr",
     "output_type": "stream",
     "text": [
      "Epoch 3 Training:  43%|████▎     | 662/1532 [02:06<02:41,  5.38it/s, loss=1.57] "
     ]
    },
    {
     "name": "stdout",
     "output_type": "stream",
     "text": [
      "Epoch 3 [660/1532] Loss: 1.1519, LR: 0.000005\n"
     ]
    },
    {
     "name": "stderr",
     "output_type": "stream",
     "text": [
      "Epoch 3 Training:  44%|████▍     | 672/1532 [02:08<02:44,  5.22it/s, loss=0.644]"
     ]
    },
    {
     "name": "stdout",
     "output_type": "stream",
     "text": [
      "Epoch 3 [670/1532] Loss: 1.0435, LR: 0.000005\n"
     ]
    },
    {
     "name": "stderr",
     "output_type": "stream",
     "text": [
      "Epoch 3 Training:  45%|████▍     | 682/1532 [02:10<02:47,  5.08it/s, loss=1.06] "
     ]
    },
    {
     "name": "stdout",
     "output_type": "stream",
     "text": [
      "Epoch 3 [680/1532] Loss: 1.2172, LR: 0.000005\n"
     ]
    },
    {
     "name": "stderr",
     "output_type": "stream",
     "text": [
      "Epoch 3 Training:  45%|████▌     | 692/1532 [02:12<02:34,  5.44it/s, loss=0.731]"
     ]
    },
    {
     "name": "stdout",
     "output_type": "stream",
     "text": [
      "Epoch 3 [690/1532] Loss: 0.6950, LR: 0.000005\n"
     ]
    },
    {
     "name": "stderr",
     "output_type": "stream",
     "text": [
      "Epoch 3 Training:  46%|████▌     | 702/1532 [02:13<02:39,  5.20it/s, loss=1.18] "
     ]
    },
    {
     "name": "stdout",
     "output_type": "stream",
     "text": [
      "Epoch 3 [700/1532] Loss: 0.6094, LR: 0.000005\n"
     ]
    },
    {
     "name": "stderr",
     "output_type": "stream",
     "text": [
      "Epoch 3 Training:  46%|████▋     | 712/1532 [02:15<02:35,  5.28it/s, loss=1.57] "
     ]
    },
    {
     "name": "stdout",
     "output_type": "stream",
     "text": [
      "Epoch 3 [710/1532] Loss: 1.0894, LR: 0.000005\n"
     ]
    },
    {
     "name": "stderr",
     "output_type": "stream",
     "text": [
      "Epoch 3 Training:  47%|████▋     | 722/1532 [02:17<02:36,  5.18it/s, loss=0.479]"
     ]
    },
    {
     "name": "stdout",
     "output_type": "stream",
     "text": [
      "Epoch 3 [720/1532] Loss: 1.0101, LR: 0.000005\n"
     ]
    },
    {
     "name": "stderr",
     "output_type": "stream",
     "text": [
      "Epoch 3 Training:  48%|████▊     | 732/1532 [02:19<02:29,  5.34it/s, loss=1.26] "
     ]
    },
    {
     "name": "stdout",
     "output_type": "stream",
     "text": [
      "Epoch 3 [730/1532] Loss: 1.0001, LR: 0.000005\n"
     ]
    },
    {
     "name": "stderr",
     "output_type": "stream",
     "text": [
      "Epoch 3 Training:  48%|████▊     | 742/1532 [02:21<02:33,  5.16it/s, loss=0.962]"
     ]
    },
    {
     "name": "stdout",
     "output_type": "stream",
     "text": [
      "Epoch 3 [740/1532] Loss: 0.9922, LR: 0.000005\n"
     ]
    },
    {
     "name": "stderr",
     "output_type": "stream",
     "text": [
      "Epoch 3 Training:  49%|████▉     | 752/1532 [02:23<02:26,  5.32it/s, loss=0.811]"
     ]
    },
    {
     "name": "stdout",
     "output_type": "stream",
     "text": [
      "Epoch 3 [750/1532] Loss: 1.2814, LR: 0.000005\n"
     ]
    },
    {
     "name": "stderr",
     "output_type": "stream",
     "text": [
      "Epoch 3 Training:  50%|████▉     | 762/1532 [02:25<02:27,  5.21it/s, loss=1.42] "
     ]
    },
    {
     "name": "stdout",
     "output_type": "stream",
     "text": [
      "Epoch 3 [760/1532] Loss: 0.8344, LR: 0.000005\n"
     ]
    },
    {
     "name": "stderr",
     "output_type": "stream",
     "text": [
      "Epoch 3 Training:  50%|█████     | 772/1532 [02:27<02:23,  5.28it/s, loss=1.06] "
     ]
    },
    {
     "name": "stdout",
     "output_type": "stream",
     "text": [
      "Epoch 3 [770/1532] Loss: 1.0456, LR: 0.000005\n"
     ]
    },
    {
     "name": "stderr",
     "output_type": "stream",
     "text": [
      "Epoch 3 Training:  51%|█████     | 782/1532 [02:29<02:23,  5.23it/s, loss=0.897]"
     ]
    },
    {
     "name": "stdout",
     "output_type": "stream",
     "text": [
      "Epoch 3 [780/1532] Loss: 0.8085, LR: 0.000005\n"
     ]
    },
    {
     "name": "stderr",
     "output_type": "stream",
     "text": [
      "Epoch 3 Training:  52%|█████▏    | 792/1532 [02:31<02:19,  5.29it/s, loss=1.1]  "
     ]
    },
    {
     "name": "stdout",
     "output_type": "stream",
     "text": [
      "Epoch 3 [790/1532] Loss: 1.1328, LR: 0.000005\n"
     ]
    },
    {
     "name": "stderr",
     "output_type": "stream",
     "text": [
      "Epoch 3 Training:  52%|█████▏    | 802/1532 [02:33<02:18,  5.28it/s, loss=1.17] "
     ]
    },
    {
     "name": "stdout",
     "output_type": "stream",
     "text": [
      "Epoch 3 [800/1532] Loss: 1.0400, LR: 0.000005\n"
     ]
    },
    {
     "name": "stderr",
     "output_type": "stream",
     "text": [
      "Epoch 3 Training:  53%|█████▎    | 812/1532 [02:34<02:14,  5.35it/s, loss=0.994]"
     ]
    },
    {
     "name": "stdout",
     "output_type": "stream",
     "text": [
      "Epoch 3 [810/1532] Loss: 1.3926, LR: 0.000005\n"
     ]
    },
    {
     "name": "stderr",
     "output_type": "stream",
     "text": [
      "Epoch 3 Training:  54%|█████▎    | 821/1532 [02:36<02:18,  5.14it/s, loss=0.624]"
     ]
    },
    {
     "name": "stdout",
     "output_type": "stream",
     "text": [
      "Epoch 3 [820/1532] Loss: 0.5972, LR: 0.000005\n"
     ]
    },
    {
     "name": "stderr",
     "output_type": "stream",
     "text": [
      "Epoch 3 Training:  54%|█████▍    | 832/1532 [02:38<02:11,  5.34it/s, loss=0.807]"
     ]
    },
    {
     "name": "stdout",
     "output_type": "stream",
     "text": [
      "Epoch 3 [830/1532] Loss: 0.8851, LR: 0.000005\n"
     ]
    },
    {
     "name": "stderr",
     "output_type": "stream",
     "text": [
      "Epoch 3 Training:  55%|█████▍    | 842/1532 [02:40<02:15,  5.11it/s, loss=0.695]"
     ]
    },
    {
     "name": "stdout",
     "output_type": "stream",
     "text": [
      "Epoch 3 [840/1532] Loss: 0.8060, LR: 0.000005\n"
     ]
    },
    {
     "name": "stderr",
     "output_type": "stream",
     "text": [
      "Epoch 3 Training:  56%|█████▌    | 852/1532 [02:42<02:09,  5.26it/s, loss=1.3]  "
     ]
    },
    {
     "name": "stdout",
     "output_type": "stream",
     "text": [
      "Epoch 3 [850/1532] Loss: 1.0091, LR: 0.000005\n"
     ]
    },
    {
     "name": "stderr",
     "output_type": "stream",
     "text": [
      "Epoch 3 Training:  56%|█████▋    | 862/1532 [02:44<02:09,  5.19it/s, loss=1.08] "
     ]
    },
    {
     "name": "stdout",
     "output_type": "stream",
     "text": [
      "Epoch 3 [860/1532] Loss: 0.7045, LR: 0.000005\n"
     ]
    },
    {
     "name": "stderr",
     "output_type": "stream",
     "text": [
      "Epoch 3 Training:  57%|█████▋    | 872/1532 [02:46<02:08,  5.14it/s, loss=0.807]"
     ]
    },
    {
     "name": "stdout",
     "output_type": "stream",
     "text": [
      "Epoch 3 [870/1532] Loss: 0.8255, LR: 0.000005\n"
     ]
    },
    {
     "name": "stderr",
     "output_type": "stream",
     "text": [
      "Epoch 3 Training:  58%|█████▊    | 882/1532 [02:48<02:04,  5.20it/s, loss=0.503]"
     ]
    },
    {
     "name": "stdout",
     "output_type": "stream",
     "text": [
      "Epoch 3 [880/1532] Loss: 0.7993, LR: 0.000005\n"
     ]
    },
    {
     "name": "stderr",
     "output_type": "stream",
     "text": [
      "Epoch 3 Training:  58%|█████▊    | 892/1532 [02:50<02:01,  5.29it/s, loss=0.793]"
     ]
    },
    {
     "name": "stdout",
     "output_type": "stream",
     "text": [
      "Epoch 3 [890/1532] Loss: 0.9431, LR: 0.000005\n"
     ]
    },
    {
     "name": "stderr",
     "output_type": "stream",
     "text": [
      "Epoch 3 Training:  59%|█████▉    | 902/1532 [02:52<01:57,  5.35it/s, loss=1.33] "
     ]
    },
    {
     "name": "stdout",
     "output_type": "stream",
     "text": [
      "Epoch 3 [900/1532] Loss: 0.5190, LR: 0.000005\n"
     ]
    },
    {
     "name": "stderr",
     "output_type": "stream",
     "text": [
      "Epoch 3 Training:  60%|█████▉    | 912/1532 [02:53<01:55,  5.35it/s, loss=0.816]"
     ]
    },
    {
     "name": "stdout",
     "output_type": "stream",
     "text": [
      "Epoch 3 [910/1532] Loss: 0.9661, LR: 0.000005\n"
     ]
    },
    {
     "name": "stderr",
     "output_type": "stream",
     "text": [
      "Epoch 3 Training:  60%|██████    | 922/1532 [02:55<01:56,  5.23it/s, loss=1.07] "
     ]
    },
    {
     "name": "stdout",
     "output_type": "stream",
     "text": [
      "Epoch 3 [920/1532] Loss: 1.5315, LR: 0.000005\n"
     ]
    },
    {
     "name": "stderr",
     "output_type": "stream",
     "text": [
      "Epoch 3 Training:  61%|██████    | 932/1532 [02:57<01:55,  5.19it/s, loss=0.863]"
     ]
    },
    {
     "name": "stdout",
     "output_type": "stream",
     "text": [
      "Epoch 3 [930/1532] Loss: 1.2027, LR: 0.000005\n"
     ]
    },
    {
     "name": "stderr",
     "output_type": "stream",
     "text": [
      "Epoch 3 Training:  61%|██████▏   | 942/1532 [02:59<01:50,  5.36it/s, loss=0.405]"
     ]
    },
    {
     "name": "stdout",
     "output_type": "stream",
     "text": [
      "Epoch 3 [940/1532] Loss: 1.3579, LR: 0.000005\n"
     ]
    },
    {
     "name": "stderr",
     "output_type": "stream",
     "text": [
      "Epoch 3 Training:  62%|██████▏   | 952/1532 [03:01<01:53,  5.13it/s, loss=1.91] "
     ]
    },
    {
     "name": "stdout",
     "output_type": "stream",
     "text": [
      "Epoch 3 [950/1532] Loss: 0.7326, LR: 0.000005\n"
     ]
    },
    {
     "name": "stderr",
     "output_type": "stream",
     "text": [
      "Epoch 3 Training:  63%|██████▎   | 962/1532 [03:03<01:48,  5.27it/s, loss=0.516]"
     ]
    },
    {
     "name": "stdout",
     "output_type": "stream",
     "text": [
      "Epoch 3 [960/1532] Loss: 0.6082, LR: 0.000005\n"
     ]
    },
    {
     "name": "stderr",
     "output_type": "stream",
     "text": [
      "Epoch 3 Training:  63%|██████▎   | 972/1532 [03:05<01:45,  5.33it/s, loss=1.07] "
     ]
    },
    {
     "name": "stdout",
     "output_type": "stream",
     "text": [
      "Epoch 3 [970/1532] Loss: 0.8462, LR: 0.000005\n"
     ]
    },
    {
     "name": "stderr",
     "output_type": "stream",
     "text": [
      "Epoch 3 Training:  64%|██████▍   | 982/1532 [03:07<01:43,  5.33it/s, loss=0.719]"
     ]
    },
    {
     "name": "stdout",
     "output_type": "stream",
     "text": [
      "Epoch 3 [980/1532] Loss: 0.6438, LR: 0.000005\n"
     ]
    },
    {
     "name": "stderr",
     "output_type": "stream",
     "text": [
      "Epoch 3 Training:  65%|██████▍   | 992/1532 [03:09<01:44,  5.19it/s, loss=0.932]"
     ]
    },
    {
     "name": "stdout",
     "output_type": "stream",
     "text": [
      "Epoch 3 [990/1532] Loss: 1.6580, LR: 0.000005\n"
     ]
    },
    {
     "name": "stderr",
     "output_type": "stream",
     "text": [
      "Epoch 3 Training:  65%|██████▌   | 1002/1532 [03:11<01:42,  5.16it/s, loss=1.28] "
     ]
    },
    {
     "name": "stdout",
     "output_type": "stream",
     "text": [
      "Epoch 3 [1000/1532] Loss: 0.7792, LR: 0.000005\n"
     ]
    },
    {
     "name": "stderr",
     "output_type": "stream",
     "text": [
      "Epoch 3 Training:  66%|██████▌   | 1012/1532 [03:13<01:39,  5.20it/s, loss=0.514]"
     ]
    },
    {
     "name": "stdout",
     "output_type": "stream",
     "text": [
      "Epoch 3 [1010/1532] Loss: 0.6432, LR: 0.000005\n"
     ]
    },
    {
     "name": "stderr",
     "output_type": "stream",
     "text": [
      "Epoch 3 Training:  67%|██████▋   | 1022/1532 [03:14<01:38,  5.16it/s, loss=0.995]"
     ]
    },
    {
     "name": "stdout",
     "output_type": "stream",
     "text": [
      "Epoch 3 [1020/1532] Loss: 1.1714, LR: 0.000005\n"
     ]
    },
    {
     "name": "stderr",
     "output_type": "stream",
     "text": [
      "Epoch 3 Training:  67%|██████▋   | 1031/1532 [03:16<01:36,  5.19it/s, loss=0.854]"
     ]
    },
    {
     "name": "stdout",
     "output_type": "stream",
     "text": [
      "Epoch 3 [1030/1532] Loss: 0.8545, LR: 0.000005\n"
     ]
    },
    {
     "name": "stderr",
     "output_type": "stream",
     "text": [
      "Epoch 3 Training:  68%|██████▊   | 1042/1532 [03:18<01:31,  5.38it/s, loss=1.11] "
     ]
    },
    {
     "name": "stdout",
     "output_type": "stream",
     "text": [
      "Epoch 3 [1040/1532] Loss: 0.8993, LR: 0.000005\n"
     ]
    },
    {
     "name": "stderr",
     "output_type": "stream",
     "text": [
      "Epoch 3 Training:  69%|██████▊   | 1052/1532 [03:20<01:31,  5.24it/s, loss=1.22] "
     ]
    },
    {
     "name": "stdout",
     "output_type": "stream",
     "text": [
      "Epoch 3 [1050/1532] Loss: 1.1438, LR: 0.000005\n"
     ]
    },
    {
     "name": "stderr",
     "output_type": "stream",
     "text": [
      "Epoch 3 Training:  69%|██████▉   | 1062/1532 [03:22<01:28,  5.30it/s, loss=1.58] "
     ]
    },
    {
     "name": "stdout",
     "output_type": "stream",
     "text": [
      "Epoch 3 [1060/1532] Loss: 0.9483, LR: 0.000005\n"
     ]
    },
    {
     "name": "stderr",
     "output_type": "stream",
     "text": [
      "Epoch 3 Training:  70%|██████▉   | 1072/1532 [03:24<01:27,  5.28it/s, loss=0.321]"
     ]
    },
    {
     "name": "stdout",
     "output_type": "stream",
     "text": [
      "Epoch 3 [1070/1532] Loss: 0.9226, LR: 0.000005\n"
     ]
    },
    {
     "name": "stderr",
     "output_type": "stream",
     "text": [
      "Epoch 3 Training:  71%|███████   | 1081/1532 [03:26<01:27,  5.18it/s, loss=0.743]"
     ]
    },
    {
     "name": "stdout",
     "output_type": "stream",
     "text": [
      "Epoch 3 [1080/1532] Loss: 0.7430, LR: 0.000005\n"
     ]
    },
    {
     "name": "stderr",
     "output_type": "stream",
     "text": [
      "Epoch 3 Training:  71%|███████▏  | 1092/1532 [03:28<01:24,  5.23it/s, loss=1.06] "
     ]
    },
    {
     "name": "stdout",
     "output_type": "stream",
     "text": [
      "Epoch 3 [1090/1532] Loss: 1.0052, LR: 0.000005\n"
     ]
    },
    {
     "name": "stderr",
     "output_type": "stream",
     "text": [
      "Epoch 3 Training:  72%|███████▏  | 1102/1532 [03:30<01:26,  4.99it/s, loss=1.26] "
     ]
    },
    {
     "name": "stdout",
     "output_type": "stream",
     "text": [
      "Epoch 3 [1100/1532] Loss: 1.0519, LR: 0.000005\n"
     ]
    },
    {
     "name": "stderr",
     "output_type": "stream",
     "text": [
      "Epoch 3 Training:  73%|███████▎  | 1112/1532 [03:32<01:20,  5.20it/s, loss=1]    "
     ]
    },
    {
     "name": "stdout",
     "output_type": "stream",
     "text": [
      "Epoch 3 [1110/1532] Loss: 0.8850, LR: 0.000005\n"
     ]
    },
    {
     "name": "stderr",
     "output_type": "stream",
     "text": [
      "Epoch 3 Training:  73%|███████▎  | 1122/1532 [03:34<01:18,  5.21it/s, loss=1.13] "
     ]
    },
    {
     "name": "stdout",
     "output_type": "stream",
     "text": [
      "Epoch 3 [1120/1532] Loss: 1.0086, LR: 0.000005\n"
     ]
    },
    {
     "name": "stderr",
     "output_type": "stream",
     "text": [
      "Epoch 3 Training:  74%|███████▍  | 1132/1532 [03:36<01:15,  5.27it/s, loss=1]    "
     ]
    },
    {
     "name": "stdout",
     "output_type": "stream",
     "text": [
      "Epoch 3 [1130/1532] Loss: 0.6783, LR: 0.000005\n"
     ]
    },
    {
     "name": "stderr",
     "output_type": "stream",
     "text": [
      "Epoch 3 Training:  75%|███████▍  | 1142/1532 [03:38<01:15,  5.15it/s, loss=0.65] "
     ]
    },
    {
     "name": "stdout",
     "output_type": "stream",
     "text": [
      "Epoch 3 [1140/1532] Loss: 0.5401, LR: 0.000005\n"
     ]
    },
    {
     "name": "stderr",
     "output_type": "stream",
     "text": [
      "Epoch 3 Training:  75%|███████▌  | 1152/1532 [03:39<01:08,  5.52it/s, loss=1.13] "
     ]
    },
    {
     "name": "stdout",
     "output_type": "stream",
     "text": [
      "Epoch 3 [1150/1532] Loss: 0.8154, LR: 0.000005\n"
     ]
    },
    {
     "name": "stderr",
     "output_type": "stream",
     "text": [
      "Epoch 3 Training:  76%|███████▌  | 1161/1532 [03:41<01:09,  5.31it/s, loss=0.614]"
     ]
    },
    {
     "name": "stdout",
     "output_type": "stream",
     "text": [
      "Epoch 3 [1160/1532] Loss: 0.5240, LR: 0.000005\n"
     ]
    },
    {
     "name": "stderr",
     "output_type": "stream",
     "text": [
      "Epoch 3 Training:  77%|███████▋  | 1172/1532 [03:43<01:06,  5.41it/s, loss=1.07] "
     ]
    },
    {
     "name": "stdout",
     "output_type": "stream",
     "text": [
      "Epoch 3 [1170/1532] Loss: 0.8572, LR: 0.000005\n"
     ]
    },
    {
     "name": "stderr",
     "output_type": "stream",
     "text": [
      "Epoch 3 Training:  77%|███████▋  | 1182/1532 [03:45<01:07,  5.21it/s, loss=0.976]"
     ]
    },
    {
     "name": "stdout",
     "output_type": "stream",
     "text": [
      "Epoch 3 [1180/1532] Loss: 0.9173, LR: 0.000005\n"
     ]
    },
    {
     "name": "stderr",
     "output_type": "stream",
     "text": [
      "Epoch 3 Training:  78%|███████▊  | 1192/1532 [03:47<01:03,  5.33it/s, loss=1]    "
     ]
    },
    {
     "name": "stdout",
     "output_type": "stream",
     "text": [
      "Epoch 3 [1190/1532] Loss: 1.2893, LR: 0.000005\n"
     ]
    },
    {
     "name": "stderr",
     "output_type": "stream",
     "text": [
      "Epoch 3 Training:  78%|███████▊  | 1202/1532 [03:49<01:03,  5.17it/s, loss=1.18] "
     ]
    },
    {
     "name": "stdout",
     "output_type": "stream",
     "text": [
      "Epoch 3 [1200/1532] Loss: 1.6284, LR: 0.000005\n"
     ]
    },
    {
     "name": "stderr",
     "output_type": "stream",
     "text": [
      "Epoch 3 Training:  79%|███████▉  | 1212/1532 [03:51<01:00,  5.29it/s, loss=0.948]"
     ]
    },
    {
     "name": "stdout",
     "output_type": "stream",
     "text": [
      "Epoch 3 [1210/1532] Loss: 1.3352, LR: 0.000005\n"
     ]
    },
    {
     "name": "stderr",
     "output_type": "stream",
     "text": [
      "Epoch 3 Training:  80%|███████▉  | 1221/1532 [03:53<00:59,  5.26it/s, loss=0.652]"
     ]
    },
    {
     "name": "stdout",
     "output_type": "stream",
     "text": [
      "Epoch 3 [1220/1532] Loss: 0.8601, LR: 0.000005\n"
     ]
    },
    {
     "name": "stderr",
     "output_type": "stream",
     "text": [
      "Epoch 3 Training:  80%|████████  | 1232/1532 [03:54<00:56,  5.28it/s, loss=1.05] "
     ]
    },
    {
     "name": "stdout",
     "output_type": "stream",
     "text": [
      "Epoch 3 [1230/1532] Loss: 1.2295, LR: 0.000005\n"
     ]
    },
    {
     "name": "stderr",
     "output_type": "stream",
     "text": [
      "Epoch 3 Training:  81%|████████  | 1242/1532 [03:56<00:55,  5.20it/s, loss=0.585]"
     ]
    },
    {
     "name": "stdout",
     "output_type": "stream",
     "text": [
      "Epoch 3 [1240/1532] Loss: 0.9735, LR: 0.000005\n"
     ]
    },
    {
     "name": "stderr",
     "output_type": "stream",
     "text": [
      "Epoch 3 Training:  82%|████████▏ | 1252/1532 [03:58<00:53,  5.26it/s, loss=0.978]"
     ]
    },
    {
     "name": "stdout",
     "output_type": "stream",
     "text": [
      "Epoch 3 [1250/1532] Loss: 0.7858, LR: 0.000005\n"
     ]
    },
    {
     "name": "stderr",
     "output_type": "stream",
     "text": [
      "Epoch 3 Training:  82%|████████▏ | 1262/1532 [04:00<00:51,  5.22it/s, loss=0.761]"
     ]
    },
    {
     "name": "stdout",
     "output_type": "stream",
     "text": [
      "Epoch 3 [1260/1532] Loss: 1.2362, LR: 0.000005\n"
     ]
    },
    {
     "name": "stderr",
     "output_type": "stream",
     "text": [
      "Epoch 3 Training:  83%|████████▎ | 1272/1532 [04:02<00:49,  5.24it/s, loss=0.534]"
     ]
    },
    {
     "name": "stdout",
     "output_type": "stream",
     "text": [
      "Epoch 3 [1270/1532] Loss: 0.8642, LR: 0.000005\n"
     ]
    },
    {
     "name": "stderr",
     "output_type": "stream",
     "text": [
      "Epoch 3 Training:  84%|████████▎ | 1282/1532 [04:04<00:47,  5.31it/s, loss=0.769]"
     ]
    },
    {
     "name": "stdout",
     "output_type": "stream",
     "text": [
      "Epoch 3 [1280/1532] Loss: 0.3421, LR: 0.000005\n"
     ]
    },
    {
     "name": "stderr",
     "output_type": "stream",
     "text": [
      "Epoch 3 Training:  84%|████████▍ | 1292/1532 [04:06<00:45,  5.27it/s, loss=0.903]"
     ]
    },
    {
     "name": "stdout",
     "output_type": "stream",
     "text": [
      "Epoch 3 [1290/1532] Loss: 1.4178, LR: 0.000005\n"
     ]
    },
    {
     "name": "stderr",
     "output_type": "stream",
     "text": [
      "Epoch 3 Training:  85%|████████▍ | 1302/1532 [04:08<00:44,  5.23it/s, loss=1.3]  "
     ]
    },
    {
     "name": "stdout",
     "output_type": "stream",
     "text": [
      "Epoch 3 [1300/1532] Loss: 0.5304, LR: 0.000005\n"
     ]
    },
    {
     "name": "stderr",
     "output_type": "stream",
     "text": [
      "Epoch 3 Training:  86%|████████▌ | 1312/1532 [04:10<00:41,  5.31it/s, loss=0.776]"
     ]
    },
    {
     "name": "stdout",
     "output_type": "stream",
     "text": [
      "Epoch 3 [1310/1532] Loss: 1.1219, LR: 0.000005\n"
     ]
    },
    {
     "name": "stderr",
     "output_type": "stream",
     "text": [
      "Epoch 3 Training:  86%|████████▋ | 1322/1532 [04:12<00:39,  5.38it/s, loss=1.32] "
     ]
    },
    {
     "name": "stdout",
     "output_type": "stream",
     "text": [
      "Epoch 3 [1320/1532] Loss: 1.1220, LR: 0.000005\n"
     ]
    },
    {
     "name": "stderr",
     "output_type": "stream",
     "text": [
      "Epoch 3 Training:  87%|████████▋ | 1332/1532 [04:13<00:38,  5.25it/s, loss=0.899]"
     ]
    },
    {
     "name": "stdout",
     "output_type": "stream",
     "text": [
      "Epoch 3 [1330/1532] Loss: 0.5707, LR: 0.000005\n"
     ]
    },
    {
     "name": "stderr",
     "output_type": "stream",
     "text": [
      "Epoch 3 Training:  88%|████████▊ | 1342/1532 [04:15<00:36,  5.26it/s, loss=0.989]"
     ]
    },
    {
     "name": "stdout",
     "output_type": "stream",
     "text": [
      "Epoch 3 [1340/1532] Loss: 0.9936, LR: 0.000005\n"
     ]
    },
    {
     "name": "stderr",
     "output_type": "stream",
     "text": [
      "Epoch 3 Training:  88%|████████▊ | 1352/1532 [04:17<00:35,  5.12it/s, loss=1.06] "
     ]
    },
    {
     "name": "stdout",
     "output_type": "stream",
     "text": [
      "Epoch 3 [1350/1532] Loss: 0.5844, LR: 0.000005\n"
     ]
    },
    {
     "name": "stderr",
     "output_type": "stream",
     "text": [
      "Epoch 3 Training:  89%|████████▉ | 1362/1532 [04:19<00:32,  5.23it/s, loss=0.878]"
     ]
    },
    {
     "name": "stdout",
     "output_type": "stream",
     "text": [
      "Epoch 3 [1360/1532] Loss: 1.3898, LR: 0.000005\n"
     ]
    },
    {
     "name": "stderr",
     "output_type": "stream",
     "text": [
      "Epoch 3 Training:  90%|████████▉ | 1372/1532 [04:21<00:30,  5.27it/s, loss=1.11] "
     ]
    },
    {
     "name": "stdout",
     "output_type": "stream",
     "text": [
      "Epoch 3 [1370/1532] Loss: 1.1756, LR: 0.000005\n"
     ]
    },
    {
     "name": "stderr",
     "output_type": "stream",
     "text": [
      "Epoch 3 Training:  90%|█████████ | 1382/1532 [04:23<00:28,  5.35it/s, loss=0.569]"
     ]
    },
    {
     "name": "stdout",
     "output_type": "stream",
     "text": [
      "Epoch 3 [1380/1532] Loss: 1.3243, LR: 0.000005\n"
     ]
    },
    {
     "name": "stderr",
     "output_type": "stream",
     "text": [
      "Epoch 3 Training:  91%|█████████ | 1392/1532 [04:25<00:26,  5.23it/s, loss=1.49] "
     ]
    },
    {
     "name": "stdout",
     "output_type": "stream",
     "text": [
      "Epoch 3 [1390/1532] Loss: 0.9435, LR: 0.000005\n"
     ]
    },
    {
     "name": "stderr",
     "output_type": "stream",
     "text": [
      "Epoch 3 Training:  92%|█████████▏| 1402/1532 [04:27<00:24,  5.32it/s, loss=1.02] "
     ]
    },
    {
     "name": "stdout",
     "output_type": "stream",
     "text": [
      "Epoch 3 [1400/1532] Loss: 0.4265, LR: 0.000005\n"
     ]
    },
    {
     "name": "stderr",
     "output_type": "stream",
     "text": [
      "Epoch 3 Training:  92%|█████████▏| 1412/1532 [04:29<00:23,  5.11it/s, loss=1.49] "
     ]
    },
    {
     "name": "stdout",
     "output_type": "stream",
     "text": [
      "Epoch 3 [1410/1532] Loss: 0.4420, LR: 0.000005\n"
     ]
    },
    {
     "name": "stderr",
     "output_type": "stream",
     "text": [
      "Epoch 3 Training:  93%|█████████▎| 1422/1532 [04:31<00:20,  5.29it/s, loss=0.822]"
     ]
    },
    {
     "name": "stdout",
     "output_type": "stream",
     "text": [
      "Epoch 3 [1420/1532] Loss: 0.4859, LR: 0.000005\n"
     ]
    },
    {
     "name": "stderr",
     "output_type": "stream",
     "text": [
      "Epoch 3 Training:  93%|█████████▎| 1432/1532 [04:33<00:19,  5.22it/s, loss=1.29] "
     ]
    },
    {
     "name": "stdout",
     "output_type": "stream",
     "text": [
      "Epoch 3 [1430/1532] Loss: 0.9598, LR: 0.000005\n"
     ]
    },
    {
     "name": "stderr",
     "output_type": "stream",
     "text": [
      "Epoch 3 Training:  94%|█████████▍| 1441/1532 [04:34<00:17,  5.35it/s, loss=0.772]"
     ]
    },
    {
     "name": "stdout",
     "output_type": "stream",
     "text": [
      "Epoch 3 [1440/1532] Loss: 0.9225, LR: 0.000005\n"
     ]
    },
    {
     "name": "stderr",
     "output_type": "stream",
     "text": [
      "Epoch 3 Training:  95%|█████████▍| 1452/1532 [04:36<00:14,  5.35it/s, loss=1.45] "
     ]
    },
    {
     "name": "stdout",
     "output_type": "stream",
     "text": [
      "Epoch 3 [1450/1532] Loss: 1.0770, LR: 0.000005\n"
     ]
    },
    {
     "name": "stderr",
     "output_type": "stream",
     "text": [
      "Epoch 3 Training:  95%|█████████▌| 1462/1532 [04:38<00:12,  5.41it/s, loss=0.791]"
     ]
    },
    {
     "name": "stdout",
     "output_type": "stream",
     "text": [
      "Epoch 3 [1460/1532] Loss: 1.1375, LR: 0.000005\n"
     ]
    },
    {
     "name": "stderr",
     "output_type": "stream",
     "text": [
      "Epoch 3 Training:  96%|█████████▌| 1472/1532 [04:40<00:11,  5.28it/s, loss=1.23] "
     ]
    },
    {
     "name": "stdout",
     "output_type": "stream",
     "text": [
      "Epoch 3 [1470/1532] Loss: 1.4690, LR: 0.000005\n"
     ]
    },
    {
     "name": "stderr",
     "output_type": "stream",
     "text": [
      "Epoch 3 Training:  97%|█████████▋| 1482/1532 [04:42<00:09,  5.20it/s, loss=0.512]"
     ]
    },
    {
     "name": "stdout",
     "output_type": "stream",
     "text": [
      "Epoch 3 [1480/1532] Loss: 0.8383, LR: 0.000005\n"
     ]
    },
    {
     "name": "stderr",
     "output_type": "stream",
     "text": [
      "Epoch 3 Training:  97%|█████████▋| 1492/1532 [04:44<00:07,  5.18it/s, loss=0.745]"
     ]
    },
    {
     "name": "stdout",
     "output_type": "stream",
     "text": [
      "Epoch 3 [1490/1532] Loss: 1.2786, LR: 0.000005\n"
     ]
    },
    {
     "name": "stderr",
     "output_type": "stream",
     "text": [
      "Epoch 3 Training:  98%|█████████▊| 1502/1532 [04:46<00:05,  5.25it/s, loss=0.916]"
     ]
    },
    {
     "name": "stdout",
     "output_type": "stream",
     "text": [
      "Epoch 3 [1500/1532] Loss: 1.5224, LR: 0.000005\n"
     ]
    },
    {
     "name": "stderr",
     "output_type": "stream",
     "text": [
      "Epoch 3 Training:  99%|█████████▊| 1512/1532 [04:48<00:03,  5.25it/s, loss=0.925]"
     ]
    },
    {
     "name": "stdout",
     "output_type": "stream",
     "text": [
      "Epoch 3 [1510/1532] Loss: 1.0898, LR: 0.000005\n"
     ]
    },
    {
     "name": "stderr",
     "output_type": "stream",
     "text": [
      "Epoch 3 Training:  99%|█████████▉| 1522/1532 [04:50<00:01,  5.18it/s, loss=0.674]"
     ]
    },
    {
     "name": "stdout",
     "output_type": "stream",
     "text": [
      "Epoch 3 [1520/1532] Loss: 1.2157, LR: 0.000005\n"
     ]
    },
    {
     "name": "stderr",
     "output_type": "stream",
     "text": [
      "Epoch 3 Training: 100%|██████████| 1532/1532 [04:51<00:00,  5.25it/s, loss=0.0447]\n"
     ]
    },
    {
     "name": "stdout",
     "output_type": "stream",
     "text": [
      "Epoch 3 [1530/1532] Loss: 0.9899, LR: 0.000005\n",
      "Epoch 3: Avg Loss: 0.9313, Time: 291.93s\n",
      "Validation Results:\n",
      "  Loss: 2.3382\n",
      "  Image→Text Accuracy: 0.3276 (Top-5: 0.7771)\n",
      "  Text→Image Accuracy: 0.3449 (Top-5: 0.8092)\n",
      "\n",
      "🚀 Epoch 5/5\n"
     ]
    },
    {
     "name": "stderr",
     "output_type": "stream",
     "text": [
      "Epoch 4 Training:   0%|          | 2/1532 [00:00<04:47,  5.31it/s, loss=0.806]"
     ]
    },
    {
     "name": "stdout",
     "output_type": "stream",
     "text": [
      "Epoch 4 [0/1532] Loss: 0.7056, LR: 0.000005\n"
     ]
    },
    {
     "name": "stderr",
     "output_type": "stream",
     "text": [
      "Epoch 4 Training:   1%|          | 12/1532 [00:02<04:55,  5.15it/s, loss=1.04] "
     ]
    },
    {
     "name": "stdout",
     "output_type": "stream",
     "text": [
      "Epoch 4 [10/1532] Loss: 0.6131, LR: 0.000005\n"
     ]
    },
    {
     "name": "stderr",
     "output_type": "stream",
     "text": [
      "Epoch 4 Training:   1%|▏         | 22/1532 [00:04<04:52,  5.16it/s, loss=0.979]"
     ]
    },
    {
     "name": "stdout",
     "output_type": "stream",
     "text": [
      "Epoch 4 [20/1532] Loss: 0.2754, LR: 0.000005\n"
     ]
    },
    {
     "name": "stderr",
     "output_type": "stream",
     "text": [
      "Epoch 4 Training:   2%|▏         | 32/1532 [00:06<04:50,  5.17it/s, loss=0.645]"
     ]
    },
    {
     "name": "stdout",
     "output_type": "stream",
     "text": [
      "Epoch 4 [30/1532] Loss: 0.9377, LR: 0.000005\n"
     ]
    },
    {
     "name": "stderr",
     "output_type": "stream",
     "text": [
      "Epoch 4 Training:   3%|▎         | 42/1532 [00:07<04:47,  5.19it/s, loss=0.651]"
     ]
    },
    {
     "name": "stdout",
     "output_type": "stream",
     "text": [
      "Epoch 4 [40/1532] Loss: 0.5894, LR: 0.000005\n"
     ]
    },
    {
     "name": "stderr",
     "output_type": "stream",
     "text": [
      "Epoch 4 Training:   3%|▎         | 52/1532 [00:09<04:34,  5.39it/s, loss=0.877]"
     ]
    },
    {
     "name": "stdout",
     "output_type": "stream",
     "text": [
      "Epoch 4 [50/1532] Loss: 0.4116, LR: 0.000005\n"
     ]
    },
    {
     "name": "stderr",
     "output_type": "stream",
     "text": [
      "Epoch 4 Training:   4%|▍         | 62/1532 [00:11<04:37,  5.30it/s, loss=0.954]"
     ]
    },
    {
     "name": "stdout",
     "output_type": "stream",
     "text": [
      "Epoch 4 [60/1532] Loss: 0.3407, LR: 0.000005\n"
     ]
    },
    {
     "name": "stderr",
     "output_type": "stream",
     "text": [
      "Epoch 4 Training:   5%|▍         | 72/1532 [00:13<04:32,  5.36it/s, loss=1.19] "
     ]
    },
    {
     "name": "stdout",
     "output_type": "stream",
     "text": [
      "Epoch 4 [70/1532] Loss: 0.2766, LR: 0.000005\n"
     ]
    },
    {
     "name": "stderr",
     "output_type": "stream",
     "text": [
      "Epoch 4 Training:   5%|▌         | 82/1532 [00:15<04:37,  5.22it/s, loss=0.25] "
     ]
    },
    {
     "name": "stdout",
     "output_type": "stream",
     "text": [
      "Epoch 4 [80/1532] Loss: 0.7118, LR: 0.000005\n"
     ]
    },
    {
     "name": "stderr",
     "output_type": "stream",
     "text": [
      "Epoch 4 Training:   6%|▌         | 92/1532 [00:17<04:38,  5.16it/s, loss=0.978]"
     ]
    },
    {
     "name": "stdout",
     "output_type": "stream",
     "text": [
      "Epoch 4 [90/1532] Loss: 0.9839, LR: 0.000005\n"
     ]
    },
    {
     "name": "stderr",
     "output_type": "stream",
     "text": [
      "Epoch 4 Training:   7%|▋         | 102/1532 [00:19<04:28,  5.33it/s, loss=1.2]  "
     ]
    },
    {
     "name": "stdout",
     "output_type": "stream",
     "text": [
      "Epoch 4 [100/1532] Loss: 0.9256, LR: 0.000005\n"
     ]
    },
    {
     "name": "stderr",
     "output_type": "stream",
     "text": [
      "Epoch 4 Training:   7%|▋         | 112/1532 [00:21<04:29,  5.28it/s, loss=0.661]"
     ]
    },
    {
     "name": "stdout",
     "output_type": "stream",
     "text": [
      "Epoch 4 [110/1532] Loss: 0.7006, LR: 0.000005\n"
     ]
    },
    {
     "name": "stderr",
     "output_type": "stream",
     "text": [
      "Epoch 4 Training:   8%|▊         | 122/1532 [00:23<04:31,  5.19it/s, loss=0.585]"
     ]
    },
    {
     "name": "stdout",
     "output_type": "stream",
     "text": [
      "Epoch 4 [120/1532] Loss: 0.7632, LR: 0.000005\n"
     ]
    },
    {
     "name": "stderr",
     "output_type": "stream",
     "text": [
      "Epoch 4 Training:   9%|▊         | 132/1532 [00:25<04:22,  5.33it/s, loss=0.759]"
     ]
    },
    {
     "name": "stdout",
     "output_type": "stream",
     "text": [
      "Epoch 4 [130/1532] Loss: 0.1790, LR: 0.000005\n"
     ]
    },
    {
     "name": "stderr",
     "output_type": "stream",
     "text": [
      "Epoch 4 Training:   9%|▉         | 142/1532 [00:26<04:26,  5.21it/s, loss=0.602]"
     ]
    },
    {
     "name": "stdout",
     "output_type": "stream",
     "text": [
      "Epoch 4 [140/1532] Loss: 0.7094, LR: 0.000005\n"
     ]
    },
    {
     "name": "stderr",
     "output_type": "stream",
     "text": [
      "Epoch 4 Training:  10%|▉         | 152/1532 [00:28<04:17,  5.35it/s, loss=0.578]"
     ]
    },
    {
     "name": "stdout",
     "output_type": "stream",
     "text": [
      "Epoch 4 [150/1532] Loss: 0.8525, LR: 0.000005\n"
     ]
    },
    {
     "name": "stderr",
     "output_type": "stream",
     "text": [
      "Epoch 4 Training:  11%|█         | 162/1532 [00:30<04:19,  5.27it/s, loss=0.881]"
     ]
    },
    {
     "name": "stdout",
     "output_type": "stream",
     "text": [
      "Epoch 4 [160/1532] Loss: 0.3838, LR: 0.000005\n"
     ]
    },
    {
     "name": "stderr",
     "output_type": "stream",
     "text": [
      "Epoch 4 Training:  11%|█         | 172/1532 [00:32<04:19,  5.24it/s, loss=0.733]"
     ]
    },
    {
     "name": "stdout",
     "output_type": "stream",
     "text": [
      "Epoch 4 [170/1532] Loss: 0.5032, LR: 0.000005\n"
     ]
    },
    {
     "name": "stderr",
     "output_type": "stream",
     "text": [
      "Epoch 4 Training:  12%|█▏        | 182/1532 [00:34<04:12,  5.34it/s, loss=0.576]"
     ]
    },
    {
     "name": "stdout",
     "output_type": "stream",
     "text": [
      "Epoch 4 [180/1532] Loss: 0.6037, LR: 0.000005\n"
     ]
    },
    {
     "name": "stderr",
     "output_type": "stream",
     "text": [
      "Epoch 4 Training:  13%|█▎        | 192/1532 [00:36<04:13,  5.28it/s, loss=1.42] "
     ]
    },
    {
     "name": "stdout",
     "output_type": "stream",
     "text": [
      "Epoch 4 [190/1532] Loss: 0.3834, LR: 0.000005\n"
     ]
    },
    {
     "name": "stderr",
     "output_type": "stream",
     "text": [
      "Epoch 4 Training:  13%|█▎        | 202/1532 [00:38<04:08,  5.36it/s, loss=0.541]"
     ]
    },
    {
     "name": "stdout",
     "output_type": "stream",
     "text": [
      "Epoch 4 [200/1532] Loss: 0.5208, LR: 0.000005\n"
     ]
    },
    {
     "name": "stderr",
     "output_type": "stream",
     "text": [
      "Epoch 4 Training:  14%|█▍        | 212/1532 [00:40<04:10,  5.27it/s, loss=0.585]"
     ]
    },
    {
     "name": "stdout",
     "output_type": "stream",
     "text": [
      "Epoch 4 [210/1532] Loss: 1.6828, LR: 0.000005\n"
     ]
    },
    {
     "name": "stderr",
     "output_type": "stream",
     "text": [
      "Epoch 4 Training:  14%|█▍        | 222/1532 [00:42<04:07,  5.28it/s, loss=0.555]"
     ]
    },
    {
     "name": "stdout",
     "output_type": "stream",
     "text": [
      "Epoch 4 [220/1532] Loss: 0.6870, LR: 0.000005\n"
     ]
    },
    {
     "name": "stderr",
     "output_type": "stream",
     "text": [
      "Epoch 4 Training:  15%|█▌        | 232/1532 [00:44<04:07,  5.26it/s, loss=0.573]"
     ]
    },
    {
     "name": "stdout",
     "output_type": "stream",
     "text": [
      "Epoch 4 [230/1532] Loss: 0.6726, LR: 0.000005\n"
     ]
    },
    {
     "name": "stderr",
     "output_type": "stream",
     "text": [
      "Epoch 4 Training:  16%|█▌        | 242/1532 [00:45<04:06,  5.23it/s, loss=0.343]"
     ]
    },
    {
     "name": "stdout",
     "output_type": "stream",
     "text": [
      "Epoch 4 [240/1532] Loss: 1.1177, LR: 0.000005\n"
     ]
    },
    {
     "name": "stderr",
     "output_type": "stream",
     "text": [
      "Epoch 4 Training:  16%|█▋        | 251/1532 [00:47<03:59,  5.36it/s, loss=0.441]"
     ]
    },
    {
     "name": "stdout",
     "output_type": "stream",
     "text": [
      "Epoch 4 [250/1532] Loss: 0.9970, LR: 0.000005\n"
     ]
    },
    {
     "name": "stderr",
     "output_type": "stream",
     "text": [
      "Epoch 4 Training:  17%|█▋        | 261/1532 [00:49<04:07,  5.14it/s, loss=0.704]"
     ]
    },
    {
     "name": "stdout",
     "output_type": "stream",
     "text": [
      "Epoch 4 [260/1532] Loss: 0.4637, LR: 0.000005\n"
     ]
    },
    {
     "name": "stderr",
     "output_type": "stream",
     "text": [
      "Epoch 4 Training:  18%|█▊        | 272/1532 [00:51<03:58,  5.28it/s, loss=0.604]"
     ]
    },
    {
     "name": "stdout",
     "output_type": "stream",
     "text": [
      "Epoch 4 [270/1532] Loss: 0.6139, LR: 0.000005\n"
     ]
    },
    {
     "name": "stderr",
     "output_type": "stream",
     "text": [
      "Epoch 4 Training:  18%|█▊        | 282/1532 [00:53<04:08,  5.02it/s, loss=0.748]"
     ]
    },
    {
     "name": "stdout",
     "output_type": "stream",
     "text": [
      "Epoch 4 [280/1532] Loss: 0.5326, LR: 0.000005\n"
     ]
    },
    {
     "name": "stderr",
     "output_type": "stream",
     "text": [
      "Epoch 4 Training:  19%|█▉        | 292/1532 [00:55<03:51,  5.36it/s, loss=0.628]"
     ]
    },
    {
     "name": "stdout",
     "output_type": "stream",
     "text": [
      "Epoch 4 [290/1532] Loss: 0.6931, LR: 0.000005\n"
     ]
    },
    {
     "name": "stderr",
     "output_type": "stream",
     "text": [
      "Epoch 4 Training:  20%|█▉        | 302/1532 [00:57<03:53,  5.28it/s, loss=0.705]"
     ]
    },
    {
     "name": "stdout",
     "output_type": "stream",
     "text": [
      "Epoch 4 [300/1532] Loss: 0.3497, LR: 0.000005\n"
     ]
    },
    {
     "name": "stderr",
     "output_type": "stream",
     "text": [
      "Epoch 4 Training:  20%|██        | 312/1532 [00:59<03:54,  5.21it/s, loss=0.277]"
     ]
    },
    {
     "name": "stdout",
     "output_type": "stream",
     "text": [
      "Epoch 4 [310/1532] Loss: 0.4042, LR: 0.000005\n"
     ]
    },
    {
     "name": "stderr",
     "output_type": "stream",
     "text": [
      "Epoch 4 Training:  21%|██        | 322/1532 [01:01<03:49,  5.28it/s, loss=0.542]"
     ]
    },
    {
     "name": "stdout",
     "output_type": "stream",
     "text": [
      "Epoch 4 [320/1532] Loss: 0.7837, LR: 0.000005\n"
     ]
    },
    {
     "name": "stderr",
     "output_type": "stream",
     "text": [
      "Epoch 4 Training:  22%|██▏       | 332/1532 [01:03<03:44,  5.34it/s, loss=0.615]"
     ]
    },
    {
     "name": "stdout",
     "output_type": "stream",
     "text": [
      "Epoch 4 [330/1532] Loss: 0.8540, LR: 0.000005\n"
     ]
    },
    {
     "name": "stderr",
     "output_type": "stream",
     "text": [
      "Epoch 4 Training:  22%|██▏       | 342/1532 [01:04<03:44,  5.31it/s, loss=0.624]"
     ]
    },
    {
     "name": "stdout",
     "output_type": "stream",
     "text": [
      "Epoch 4 [340/1532] Loss: 0.9217, LR: 0.000005\n"
     ]
    },
    {
     "name": "stderr",
     "output_type": "stream",
     "text": [
      "Epoch 4 Training:  23%|██▎       | 352/1532 [01:06<03:45,  5.23it/s, loss=0.887]"
     ]
    },
    {
     "name": "stdout",
     "output_type": "stream",
     "text": [
      "Epoch 4 [350/1532] Loss: 0.6615, LR: 0.000005\n"
     ]
    },
    {
     "name": "stderr",
     "output_type": "stream",
     "text": [
      "Epoch 4 Training:  24%|██▎       | 362/1532 [01:08<03:35,  5.42it/s, loss=0.539]"
     ]
    },
    {
     "name": "stdout",
     "output_type": "stream",
     "text": [
      "Epoch 4 [360/1532] Loss: 0.6543, LR: 0.000005\n"
     ]
    },
    {
     "name": "stderr",
     "output_type": "stream",
     "text": [
      "Epoch 4 Training:  24%|██▍       | 371/1532 [01:10<03:40,  5.27it/s, loss=1.37] "
     ]
    },
    {
     "name": "stdout",
     "output_type": "stream",
     "text": [
      "Epoch 4 [370/1532] Loss: 0.6201, LR: 0.000005\n"
     ]
    },
    {
     "name": "stderr",
     "output_type": "stream",
     "text": [
      "Epoch 4 Training:  25%|██▍       | 382/1532 [01:12<03:46,  5.07it/s, loss=0.853]"
     ]
    },
    {
     "name": "stdout",
     "output_type": "stream",
     "text": [
      "Epoch 4 [380/1532] Loss: 0.4553, LR: 0.000005\n"
     ]
    },
    {
     "name": "stderr",
     "output_type": "stream",
     "text": [
      "Epoch 4 Training:  26%|██▌       | 391/1532 [01:14<03:40,  5.17it/s, loss=0.226]"
     ]
    },
    {
     "name": "stdout",
     "output_type": "stream",
     "text": [
      "Epoch 4 [390/1532] Loss: 0.5281, LR: 0.000005\n"
     ]
    },
    {
     "name": "stderr",
     "output_type": "stream",
     "text": [
      "Epoch 4 Training:  26%|██▌       | 402/1532 [01:16<03:40,  5.12it/s, loss=0.816]"
     ]
    },
    {
     "name": "stdout",
     "output_type": "stream",
     "text": [
      "Epoch 4 [400/1532] Loss: 0.7625, LR: 0.000005\n"
     ]
    },
    {
     "name": "stderr",
     "output_type": "stream",
     "text": [
      "Epoch 4 Training:  27%|██▋       | 412/1532 [01:18<03:29,  5.33it/s, loss=1.2]  "
     ]
    },
    {
     "name": "stdout",
     "output_type": "stream",
     "text": [
      "Epoch 4 [410/1532] Loss: 0.4787, LR: 0.000005\n"
     ]
    },
    {
     "name": "stderr",
     "output_type": "stream",
     "text": [
      "Epoch 4 Training:  28%|██▊       | 422/1532 [01:20<03:31,  5.25it/s, loss=0.485]"
     ]
    },
    {
     "name": "stdout",
     "output_type": "stream",
     "text": [
      "Epoch 4 [420/1532] Loss: 0.9624, LR: 0.000005\n"
     ]
    },
    {
     "name": "stderr",
     "output_type": "stream",
     "text": [
      "Epoch 4 Training:  28%|██▊       | 432/1532 [01:22<03:33,  5.14it/s, loss=0.606]"
     ]
    },
    {
     "name": "stdout",
     "output_type": "stream",
     "text": [
      "Epoch 4 [430/1532] Loss: 0.6053, LR: 0.000005\n"
     ]
    },
    {
     "name": "stderr",
     "output_type": "stream",
     "text": [
      "Epoch 4 Training:  29%|██▉       | 442/1532 [01:24<03:21,  5.40it/s, loss=0.617]"
     ]
    },
    {
     "name": "stdout",
     "output_type": "stream",
     "text": [
      "Epoch 4 [440/1532] Loss: 0.5580, LR: 0.000005\n"
     ]
    },
    {
     "name": "stderr",
     "output_type": "stream",
     "text": [
      "Epoch 4 Training:  30%|██▉       | 452/1532 [01:25<03:23,  5.32it/s, loss=0.392]"
     ]
    },
    {
     "name": "stdout",
     "output_type": "stream",
     "text": [
      "Epoch 4 [450/1532] Loss: 0.8814, LR: 0.000005\n"
     ]
    },
    {
     "name": "stderr",
     "output_type": "stream",
     "text": [
      "Epoch 4 Training:  30%|███       | 462/1532 [01:27<03:25,  5.21it/s, loss=0.655]"
     ]
    },
    {
     "name": "stdout",
     "output_type": "stream",
     "text": [
      "Epoch 4 [460/1532] Loss: 0.6027, LR: 0.000005\n"
     ]
    },
    {
     "name": "stderr",
     "output_type": "stream",
     "text": [
      "Epoch 4 Training:  31%|███       | 472/1532 [01:29<03:14,  5.44it/s, loss=1.25] "
     ]
    },
    {
     "name": "stdout",
     "output_type": "stream",
     "text": [
      "Epoch 4 [470/1532] Loss: 0.2803, LR: 0.000005\n"
     ]
    },
    {
     "name": "stderr",
     "output_type": "stream",
     "text": [
      "Epoch 4 Training:  31%|███▏      | 482/1532 [01:31<03:09,  5.53it/s, loss=0.684]"
     ]
    },
    {
     "name": "stdout",
     "output_type": "stream",
     "text": [
      "Epoch 4 [480/1532] Loss: 0.9138, LR: 0.000005\n"
     ]
    },
    {
     "name": "stderr",
     "output_type": "stream",
     "text": [
      "Epoch 4 Training:  32%|███▏      | 492/1532 [01:33<03:21,  5.16it/s, loss=0.703]"
     ]
    },
    {
     "name": "stdout",
     "output_type": "stream",
     "text": [
      "Epoch 4 [490/1532] Loss: 0.6963, LR: 0.000005\n"
     ]
    },
    {
     "name": "stderr",
     "output_type": "stream",
     "text": [
      "Epoch 4 Training:  33%|███▎      | 502/1532 [01:35<03:16,  5.23it/s, loss=0.359]"
     ]
    },
    {
     "name": "stdout",
     "output_type": "stream",
     "text": [
      "Epoch 4 [500/1532] Loss: 0.6867, LR: 0.000005\n"
     ]
    },
    {
     "name": "stderr",
     "output_type": "stream",
     "text": [
      "Epoch 4 Training:  33%|███▎      | 512/1532 [01:37<03:14,  5.23it/s, loss=1.16] "
     ]
    },
    {
     "name": "stdout",
     "output_type": "stream",
     "text": [
      "Epoch 4 [510/1532] Loss: 0.7491, LR: 0.000005\n"
     ]
    },
    {
     "name": "stderr",
     "output_type": "stream",
     "text": [
      "Epoch 4 Training:  34%|███▍      | 522/1532 [01:39<03:12,  5.23it/s, loss=0.457]"
     ]
    },
    {
     "name": "stdout",
     "output_type": "stream",
     "text": [
      "Epoch 4 [520/1532] Loss: 0.6700, LR: 0.000005\n"
     ]
    },
    {
     "name": "stderr",
     "output_type": "stream",
     "text": [
      "Epoch 4 Training:  35%|███▍      | 532/1532 [01:41<03:04,  5.42it/s, loss=0.517]"
     ]
    },
    {
     "name": "stdout",
     "output_type": "stream",
     "text": [
      "Epoch 4 [530/1532] Loss: 0.3236, LR: 0.000005\n"
     ]
    },
    {
     "name": "stderr",
     "output_type": "stream",
     "text": [
      "Epoch 4 Training:  35%|███▌      | 542/1532 [01:42<03:09,  5.22it/s, loss=0.952]"
     ]
    },
    {
     "name": "stdout",
     "output_type": "stream",
     "text": [
      "Epoch 4 [540/1532] Loss: 0.8899, LR: 0.000005\n"
     ]
    },
    {
     "name": "stderr",
     "output_type": "stream",
     "text": [
      "Epoch 4 Training:  36%|███▌      | 552/1532 [01:44<03:05,  5.29it/s, loss=0.293]"
     ]
    },
    {
     "name": "stdout",
     "output_type": "stream",
     "text": [
      "Epoch 4 [550/1532] Loss: 0.7287, LR: 0.000005\n"
     ]
    },
    {
     "name": "stderr",
     "output_type": "stream",
     "text": [
      "Epoch 4 Training:  37%|███▋      | 562/1532 [01:46<03:05,  5.22it/s, loss=0.624]"
     ]
    },
    {
     "name": "stdout",
     "output_type": "stream",
     "text": [
      "Epoch 4 [560/1532] Loss: 0.6035, LR: 0.000005\n"
     ]
    },
    {
     "name": "stderr",
     "output_type": "stream",
     "text": [
      "Epoch 4 Training:  37%|███▋      | 572/1532 [01:48<03:05,  5.18it/s, loss=0.99] "
     ]
    },
    {
     "name": "stdout",
     "output_type": "stream",
     "text": [
      "Epoch 4 [570/1532] Loss: 0.6084, LR: 0.000005\n"
     ]
    },
    {
     "name": "stderr",
     "output_type": "stream",
     "text": [
      "Epoch 4 Training:  38%|███▊      | 582/1532 [01:50<03:00,  5.25it/s, loss=0.68] "
     ]
    },
    {
     "name": "stdout",
     "output_type": "stream",
     "text": [
      "Epoch 4 [580/1532] Loss: 0.8411, LR: 0.000005\n"
     ]
    },
    {
     "name": "stderr",
     "output_type": "stream",
     "text": [
      "Epoch 4 Training:  39%|███▊      | 592/1532 [01:52<02:55,  5.35it/s, loss=0.66] "
     ]
    },
    {
     "name": "stdout",
     "output_type": "stream",
     "text": [
      "Epoch 4 [590/1532] Loss: 0.6619, LR: 0.000005\n"
     ]
    },
    {
     "name": "stderr",
     "output_type": "stream",
     "text": [
      "Epoch 4 Training:  39%|███▉      | 602/1532 [01:54<03:04,  5.03it/s, loss=0.55] "
     ]
    },
    {
     "name": "stdout",
     "output_type": "stream",
     "text": [
      "Epoch 4 [600/1532] Loss: 1.0199, LR: 0.000005\n"
     ]
    },
    {
     "name": "stderr",
     "output_type": "stream",
     "text": [
      "Epoch 4 Training:  40%|███▉      | 612/1532 [01:56<02:54,  5.26it/s, loss=0.874]"
     ]
    },
    {
     "name": "stdout",
     "output_type": "stream",
     "text": [
      "Epoch 4 [610/1532] Loss: 0.7652, LR: 0.000005\n"
     ]
    },
    {
     "name": "stderr",
     "output_type": "stream",
     "text": [
      "Epoch 4 Training:  41%|████      | 622/1532 [01:58<02:53,  5.24it/s, loss=0.81] "
     ]
    },
    {
     "name": "stdout",
     "output_type": "stream",
     "text": [
      "Epoch 4 [620/1532] Loss: 0.6539, LR: 0.000005\n"
     ]
    },
    {
     "name": "stderr",
     "output_type": "stream",
     "text": [
      "Epoch 4 Training:  41%|████▏     | 632/1532 [02:00<02:51,  5.26it/s, loss=1.29] "
     ]
    },
    {
     "name": "stdout",
     "output_type": "stream",
     "text": [
      "Epoch 4 [630/1532] Loss: 0.6943, LR: 0.000005\n"
     ]
    },
    {
     "name": "stderr",
     "output_type": "stream",
     "text": [
      "Epoch 4 Training:  42%|████▏     | 642/1532 [02:02<02:47,  5.30it/s, loss=0.743]"
     ]
    },
    {
     "name": "stdout",
     "output_type": "stream",
     "text": [
      "Epoch 4 [640/1532] Loss: 0.6828, LR: 0.000005\n"
     ]
    },
    {
     "name": "stderr",
     "output_type": "stream",
     "text": [
      "Epoch 4 Training:  42%|████▏     | 651/1532 [02:03<02:42,  5.41it/s, loss=0.431]"
     ]
    },
    {
     "name": "stdout",
     "output_type": "stream",
     "text": [
      "Epoch 4 [650/1532] Loss: 0.4315, LR: 0.000005\n"
     ]
    },
    {
     "name": "stderr",
     "output_type": "stream",
     "text": [
      "Epoch 4 Training:  43%|████▎     | 662/1532 [02:05<02:44,  5.27it/s, loss=0.746]"
     ]
    },
    {
     "name": "stdout",
     "output_type": "stream",
     "text": [
      "Epoch 4 [660/1532] Loss: 1.6975, LR: 0.000005\n"
     ]
    },
    {
     "name": "stderr",
     "output_type": "stream",
     "text": [
      "Epoch 4 Training:  44%|████▍     | 672/1532 [02:07<02:38,  5.41it/s, loss=0.849]"
     ]
    },
    {
     "name": "stdout",
     "output_type": "stream",
     "text": [
      "Epoch 4 [670/1532] Loss: 0.3846, LR: 0.000005\n"
     ]
    },
    {
     "name": "stderr",
     "output_type": "stream",
     "text": [
      "Epoch 4 Training:  45%|████▍     | 682/1532 [02:09<02:39,  5.32it/s, loss=0.594]"
     ]
    },
    {
     "name": "stdout",
     "output_type": "stream",
     "text": [
      "Epoch 4 [680/1532] Loss: 0.8585, LR: 0.000005\n"
     ]
    },
    {
     "name": "stderr",
     "output_type": "stream",
     "text": [
      "Epoch 4 Training:  45%|████▌     | 692/1532 [02:11<02:42,  5.17it/s, loss=0.489]"
     ]
    },
    {
     "name": "stdout",
     "output_type": "stream",
     "text": [
      "Epoch 4 [690/1532] Loss: 0.5109, LR: 0.000005\n"
     ]
    },
    {
     "name": "stderr",
     "output_type": "stream",
     "text": [
      "Epoch 4 Training:  46%|████▌     | 702/1532 [02:13<02:39,  5.20it/s, loss=0.698]"
     ]
    },
    {
     "name": "stdout",
     "output_type": "stream",
     "text": [
      "Epoch 4 [700/1532] Loss: 1.2078, LR: 0.000005\n"
     ]
    },
    {
     "name": "stderr",
     "output_type": "stream",
     "text": [
      "Epoch 4 Training:  46%|████▋     | 712/1532 [02:15<02:37,  5.22it/s, loss=0.333]"
     ]
    },
    {
     "name": "stdout",
     "output_type": "stream",
     "text": [
      "Epoch 4 [710/1532] Loss: 0.8229, LR: 0.000005\n"
     ]
    },
    {
     "name": "stderr",
     "output_type": "stream",
     "text": [
      "Epoch 4 Training:  47%|████▋     | 722/1532 [02:17<02:36,  5.18it/s, loss=0.482]"
     ]
    },
    {
     "name": "stdout",
     "output_type": "stream",
     "text": [
      "Epoch 4 [720/1532] Loss: 1.0361, LR: 0.000005\n"
     ]
    },
    {
     "name": "stderr",
     "output_type": "stream",
     "text": [
      "Epoch 4 Training:  48%|████▊     | 732/1532 [02:19<02:33,  5.22it/s, loss=0.399]"
     ]
    },
    {
     "name": "stdout",
     "output_type": "stream",
     "text": [
      "Epoch 4 [730/1532] Loss: 0.4528, LR: 0.000005\n"
     ]
    },
    {
     "name": "stderr",
     "output_type": "stream",
     "text": [
      "Epoch 4 Training:  48%|████▊     | 742/1532 [02:21<02:31,  5.22it/s, loss=0.793]"
     ]
    },
    {
     "name": "stdout",
     "output_type": "stream",
     "text": [
      "Epoch 4 [740/1532] Loss: 0.3344, LR: 0.000005\n"
     ]
    },
    {
     "name": "stderr",
     "output_type": "stream",
     "text": [
      "Epoch 4 Training:  49%|████▉     | 752/1532 [02:23<02:26,  5.31it/s, loss=0.994]"
     ]
    },
    {
     "name": "stdout",
     "output_type": "stream",
     "text": [
      "Epoch 4 [750/1532] Loss: 1.3120, LR: 0.000005\n"
     ]
    },
    {
     "name": "stderr",
     "output_type": "stream",
     "text": [
      "Epoch 4 Training:  50%|████▉     | 762/1532 [02:24<02:30,  5.12it/s, loss=0.728]"
     ]
    },
    {
     "name": "stdout",
     "output_type": "stream",
     "text": [
      "Epoch 4 [760/1532] Loss: 0.5797, LR: 0.000005\n"
     ]
    },
    {
     "name": "stderr",
     "output_type": "stream",
     "text": [
      "Epoch 4 Training:  50%|█████     | 772/1532 [02:26<02:23,  5.30it/s, loss=0.27] "
     ]
    },
    {
     "name": "stdout",
     "output_type": "stream",
     "text": [
      "Epoch 4 [770/1532] Loss: 1.0370, LR: 0.000005\n"
     ]
    },
    {
     "name": "stderr",
     "output_type": "stream",
     "text": [
      "Epoch 4 Training:  51%|█████     | 782/1532 [02:28<02:26,  5.13it/s, loss=1.06] "
     ]
    },
    {
     "name": "stdout",
     "output_type": "stream",
     "text": [
      "Epoch 4 [780/1532] Loss: 0.9264, LR: 0.000005\n"
     ]
    },
    {
     "name": "stderr",
     "output_type": "stream",
     "text": [
      "Epoch 4 Training:  52%|█████▏    | 792/1532 [02:30<02:19,  5.31it/s, loss=0.631]"
     ]
    },
    {
     "name": "stdout",
     "output_type": "stream",
     "text": [
      "Epoch 4 [790/1532] Loss: 0.9082, LR: 0.000005\n"
     ]
    },
    {
     "name": "stderr",
     "output_type": "stream",
     "text": [
      "Epoch 4 Training:  52%|█████▏    | 802/1532 [02:32<02:15,  5.38it/s, loss=0.558]"
     ]
    },
    {
     "name": "stdout",
     "output_type": "stream",
     "text": [
      "Epoch 4 [800/1532] Loss: 0.7169, LR: 0.000005\n"
     ]
    },
    {
     "name": "stderr",
     "output_type": "stream",
     "text": [
      "Epoch 4 Training:  53%|█████▎    | 812/1532 [02:34<02:19,  5.16it/s, loss=1.13] "
     ]
    },
    {
     "name": "stdout",
     "output_type": "stream",
     "text": [
      "Epoch 4 [810/1532] Loss: 0.7432, LR: 0.000005\n"
     ]
    },
    {
     "name": "stderr",
     "output_type": "stream",
     "text": [
      "Epoch 4 Training:  54%|█████▎    | 822/1532 [02:36<02:15,  5.22it/s, loss=1.19] "
     ]
    },
    {
     "name": "stdout",
     "output_type": "stream",
     "text": [
      "Epoch 4 [820/1532] Loss: 0.8190, LR: 0.000005\n"
     ]
    },
    {
     "name": "stderr",
     "output_type": "stream",
     "text": [
      "Epoch 4 Training:  54%|█████▍    | 832/1532 [02:38<02:12,  5.27it/s, loss=1.12] "
     ]
    },
    {
     "name": "stdout",
     "output_type": "stream",
     "text": [
      "Epoch 4 [830/1532] Loss: 0.9693, LR: 0.000005\n"
     ]
    },
    {
     "name": "stderr",
     "output_type": "stream",
     "text": [
      "Epoch 4 Training:  55%|█████▍    | 841/1532 [02:40<02:13,  5.18it/s, loss=0.915]"
     ]
    },
    {
     "name": "stdout",
     "output_type": "stream",
     "text": [
      "Epoch 4 [840/1532] Loss: 0.9146, LR: 0.000005\n"
     ]
    },
    {
     "name": "stderr",
     "output_type": "stream",
     "text": [
      "Epoch 4 Training:  56%|█████▌    | 852/1532 [02:42<02:09,  5.27it/s, loss=0.356]"
     ]
    },
    {
     "name": "stdout",
     "output_type": "stream",
     "text": [
      "Epoch 4 [850/1532] Loss: 0.3884, LR: 0.000005\n"
     ]
    },
    {
     "name": "stderr",
     "output_type": "stream",
     "text": [
      "Epoch 4 Training:  56%|█████▋    | 862/1532 [02:44<02:09,  5.17it/s, loss=0.637]"
     ]
    },
    {
     "name": "stdout",
     "output_type": "stream",
     "text": [
      "Epoch 4 [860/1532] Loss: 0.2907, LR: 0.000005\n"
     ]
    },
    {
     "name": "stderr",
     "output_type": "stream",
     "text": [
      "Epoch 4 Training:  57%|█████▋    | 872/1532 [02:45<02:06,  5.23it/s, loss=0.955]"
     ]
    },
    {
     "name": "stdout",
     "output_type": "stream",
     "text": [
      "Epoch 4 [870/1532] Loss: 0.8328, LR: 0.000005\n"
     ]
    },
    {
     "name": "stderr",
     "output_type": "stream",
     "text": [
      "Epoch 4 Training:  58%|█████▊    | 881/1532 [02:47<02:03,  5.26it/s, loss=0.35] "
     ]
    },
    {
     "name": "stdout",
     "output_type": "stream",
     "text": [
      "Epoch 4 [880/1532] Loss: 0.3495, LR: 0.000005\n"
     ]
    },
    {
     "name": "stderr",
     "output_type": "stream",
     "text": [
      "Epoch 4 Training:  58%|█████▊    | 892/1532 [02:49<02:02,  5.24it/s, loss=0.417]"
     ]
    },
    {
     "name": "stdout",
     "output_type": "stream",
     "text": [
      "Epoch 4 [890/1532] Loss: 0.5553, LR: 0.000005\n"
     ]
    },
    {
     "name": "stderr",
     "output_type": "stream",
     "text": [
      "Epoch 4 Training:  59%|█████▉    | 901/1532 [02:51<02:00,  5.22it/s, loss=0.79] "
     ]
    },
    {
     "name": "stdout",
     "output_type": "stream",
     "text": [
      "Epoch 4 [900/1532] Loss: 0.4848, LR: 0.000005\n"
     ]
    },
    {
     "name": "stderr",
     "output_type": "stream",
     "text": [
      "Epoch 4 Training:  60%|█████▉    | 912/1532 [02:53<02:01,  5.11it/s, loss=0.647]"
     ]
    },
    {
     "name": "stdout",
     "output_type": "stream",
     "text": [
      "Epoch 4 [910/1532] Loss: 0.8299, LR: 0.000005\n"
     ]
    },
    {
     "name": "stderr",
     "output_type": "stream",
     "text": [
      "Epoch 4 Training:  60%|██████    | 922/1532 [02:55<01:56,  5.23it/s, loss=0.506]"
     ]
    },
    {
     "name": "stdout",
     "output_type": "stream",
     "text": [
      "Epoch 4 [920/1532] Loss: 0.2819, LR: 0.000005\n"
     ]
    },
    {
     "name": "stderr",
     "output_type": "stream",
     "text": [
      "Epoch 4 Training:  61%|██████    | 932/1532 [02:57<01:54,  5.25it/s, loss=0.731]"
     ]
    },
    {
     "name": "stdout",
     "output_type": "stream",
     "text": [
      "Epoch 4 [930/1532] Loss: 0.6911, LR: 0.000005\n"
     ]
    },
    {
     "name": "stderr",
     "output_type": "stream",
     "text": [
      "Epoch 4 Training:  61%|██████▏   | 942/1532 [02:59<01:54,  5.16it/s, loss=0.778]"
     ]
    },
    {
     "name": "stdout",
     "output_type": "stream",
     "text": [
      "Epoch 4 [940/1532] Loss: 0.4894, LR: 0.000005\n"
     ]
    },
    {
     "name": "stderr",
     "output_type": "stream",
     "text": [
      "Epoch 4 Training:  62%|██████▏   | 952/1532 [03:01<01:48,  5.33it/s, loss=0.634]"
     ]
    },
    {
     "name": "stdout",
     "output_type": "stream",
     "text": [
      "Epoch 4 [950/1532] Loss: 0.5964, LR: 0.000005\n"
     ]
    },
    {
     "name": "stderr",
     "output_type": "stream",
     "text": [
      "Epoch 4 Training:  63%|██████▎   | 962/1532 [03:03<01:46,  5.35it/s, loss=1.11] "
     ]
    },
    {
     "name": "stdout",
     "output_type": "stream",
     "text": [
      "Epoch 4 [960/1532] Loss: 0.3590, LR: 0.000005\n"
     ]
    },
    {
     "name": "stderr",
     "output_type": "stream",
     "text": [
      "Epoch 4 Training:  63%|██████▎   | 972/1532 [03:05<01:45,  5.30it/s, loss=0.415]"
     ]
    },
    {
     "name": "stdout",
     "output_type": "stream",
     "text": [
      "Epoch 4 [970/1532] Loss: 1.2510, LR: 0.000005\n"
     ]
    },
    {
     "name": "stderr",
     "output_type": "stream",
     "text": [
      "Epoch 4 Training:  64%|██████▍   | 982/1532 [03:07<01:47,  5.14it/s, loss=0.516]"
     ]
    },
    {
     "name": "stdout",
     "output_type": "stream",
     "text": [
      "Epoch 4 [980/1532] Loss: 0.6751, LR: 0.000005\n"
     ]
    },
    {
     "name": "stderr",
     "output_type": "stream",
     "text": [
      "Epoch 4 Training:  65%|██████▍   | 992/1532 [03:08<01:40,  5.36it/s, loss=0.711]"
     ]
    },
    {
     "name": "stdout",
     "output_type": "stream",
     "text": [
      "Epoch 4 [990/1532] Loss: 0.6193, LR: 0.000005\n"
     ]
    },
    {
     "name": "stderr",
     "output_type": "stream",
     "text": [
      "Epoch 4 Training:  65%|██████▌   | 1002/1532 [03:10<01:42,  5.15it/s, loss=0.663]"
     ]
    },
    {
     "name": "stdout",
     "output_type": "stream",
     "text": [
      "Epoch 4 [1000/1532] Loss: 0.6572, LR: 0.000005\n"
     ]
    },
    {
     "name": "stderr",
     "output_type": "stream",
     "text": [
      "Epoch 4 Training:  66%|██████▌   | 1012/1532 [03:12<01:43,  5.04it/s, loss=0.627]"
     ]
    },
    {
     "name": "stdout",
     "output_type": "stream",
     "text": [
      "Epoch 4 [1010/1532] Loss: 0.5566, LR: 0.000005\n"
     ]
    },
    {
     "name": "stderr",
     "output_type": "stream",
     "text": [
      "Epoch 4 Training:  67%|██████▋   | 1022/1532 [03:14<01:37,  5.21it/s, loss=0.744]"
     ]
    },
    {
     "name": "stdout",
     "output_type": "stream",
     "text": [
      "Epoch 4 [1020/1532] Loss: 0.5808, LR: 0.000005\n"
     ]
    },
    {
     "name": "stderr",
     "output_type": "stream",
     "text": [
      "Epoch 4 Training:  67%|██████▋   | 1032/1532 [03:16<01:35,  5.23it/s, loss=0.579]"
     ]
    },
    {
     "name": "stdout",
     "output_type": "stream",
     "text": [
      "Epoch 4 [1030/1532] Loss: 0.6451, LR: 0.000005\n"
     ]
    },
    {
     "name": "stderr",
     "output_type": "stream",
     "text": [
      "Epoch 4 Training:  68%|██████▊   | 1042/1532 [03:18<01:33,  5.25it/s, loss=1.43] "
     ]
    },
    {
     "name": "stdout",
     "output_type": "stream",
     "text": [
      "Epoch 4 [1040/1532] Loss: 0.6145, LR: 0.000005\n"
     ]
    },
    {
     "name": "stderr",
     "output_type": "stream",
     "text": [
      "Epoch 4 Training:  69%|██████▊   | 1052/1532 [03:20<01:31,  5.26it/s, loss=0.485]"
     ]
    },
    {
     "name": "stdout",
     "output_type": "stream",
     "text": [
      "Epoch 4 [1050/1532] Loss: 0.5245, LR: 0.000005\n"
     ]
    },
    {
     "name": "stderr",
     "output_type": "stream",
     "text": [
      "Epoch 4 Training:  69%|██████▉   | 1062/1532 [03:22<01:29,  5.27it/s, loss=0.438]"
     ]
    },
    {
     "name": "stdout",
     "output_type": "stream",
     "text": [
      "Epoch 4 [1060/1532] Loss: 0.3827, LR: 0.000005\n"
     ]
    },
    {
     "name": "stderr",
     "output_type": "stream",
     "text": [
      "Epoch 4 Training:  70%|██████▉   | 1072/1532 [03:24<01:28,  5.17it/s, loss=0.867]"
     ]
    },
    {
     "name": "stdout",
     "output_type": "stream",
     "text": [
      "Epoch 4 [1070/1532] Loss: 0.2031, LR: 0.000005\n"
     ]
    },
    {
     "name": "stderr",
     "output_type": "stream",
     "text": [
      "Epoch 4 Training:  71%|███████   | 1082/1532 [03:26<01:23,  5.40it/s, loss=0.897]"
     ]
    },
    {
     "name": "stdout",
     "output_type": "stream",
     "text": [
      "Epoch 4 [1080/1532] Loss: 0.9801, LR: 0.000005\n"
     ]
    },
    {
     "name": "stderr",
     "output_type": "stream",
     "text": [
      "Epoch 4 Training:  71%|███████▏  | 1092/1532 [03:28<01:24,  5.21it/s, loss=1.85] "
     ]
    },
    {
     "name": "stdout",
     "output_type": "stream",
     "text": [
      "Epoch 4 [1090/1532] Loss: 0.7648, LR: 0.000005\n"
     ]
    },
    {
     "name": "stderr",
     "output_type": "stream",
     "text": [
      "Epoch 4 Training:  72%|███████▏  | 1102/1532 [03:30<01:21,  5.25it/s, loss=0.848]"
     ]
    },
    {
     "name": "stdout",
     "output_type": "stream",
     "text": [
      "Epoch 4 [1100/1532] Loss: 0.6874, LR: 0.000005\n"
     ]
    },
    {
     "name": "stderr",
     "output_type": "stream",
     "text": [
      "Epoch 4 Training:  73%|███████▎  | 1112/1532 [03:31<01:20,  5.24it/s, loss=0.835]"
     ]
    },
    {
     "name": "stdout",
     "output_type": "stream",
     "text": [
      "Epoch 4 [1110/1532] Loss: 0.6566, LR: 0.000005\n"
     ]
    },
    {
     "name": "stderr",
     "output_type": "stream",
     "text": [
      "Epoch 4 Training:  73%|███████▎  | 1122/1532 [03:33<01:17,  5.32it/s, loss=0.57] "
     ]
    },
    {
     "name": "stdout",
     "output_type": "stream",
     "text": [
      "Epoch 4 [1120/1532] Loss: 0.8019, LR: 0.000005\n"
     ]
    },
    {
     "name": "stderr",
     "output_type": "stream",
     "text": [
      "Epoch 4 Training:  74%|███████▍  | 1132/1532 [03:35<01:16,  5.25it/s, loss=0.801]"
     ]
    },
    {
     "name": "stdout",
     "output_type": "stream",
     "text": [
      "Epoch 4 [1130/1532] Loss: 0.9347, LR: 0.000005\n"
     ]
    },
    {
     "name": "stderr",
     "output_type": "stream",
     "text": [
      "Epoch 4 Training:  75%|███████▍  | 1142/1532 [03:37<01:16,  5.11it/s, loss=0.602]"
     ]
    },
    {
     "name": "stdout",
     "output_type": "stream",
     "text": [
      "Epoch 4 [1140/1532] Loss: 0.9118, LR: 0.000005\n"
     ]
    },
    {
     "name": "stderr",
     "output_type": "stream",
     "text": [
      "Epoch 4 Training:  75%|███████▌  | 1152/1532 [03:39<01:11,  5.28it/s, loss=0.739]"
     ]
    },
    {
     "name": "stdout",
     "output_type": "stream",
     "text": [
      "Epoch 4 [1150/1532] Loss: 0.6262, LR: 0.000005\n"
     ]
    },
    {
     "name": "stderr",
     "output_type": "stream",
     "text": [
      "Epoch 4 Training:  76%|███████▌  | 1162/1532 [03:41<01:10,  5.22it/s, loss=0.551]"
     ]
    },
    {
     "name": "stdout",
     "output_type": "stream",
     "text": [
      "Epoch 4 [1160/1532] Loss: 0.6883, LR: 0.000005\n"
     ]
    },
    {
     "name": "stderr",
     "output_type": "stream",
     "text": [
      "Epoch 4 Training:  77%|███████▋  | 1172/1532 [03:43<01:09,  5.19it/s, loss=0.349]"
     ]
    },
    {
     "name": "stdout",
     "output_type": "stream",
     "text": [
      "Epoch 4 [1170/1532] Loss: 0.7383, LR: 0.000005\n"
     ]
    },
    {
     "name": "stderr",
     "output_type": "stream",
     "text": [
      "Epoch 4 Training:  77%|███████▋  | 1182/1532 [03:45<01:05,  5.35it/s, loss=1.09] "
     ]
    },
    {
     "name": "stdout",
     "output_type": "stream",
     "text": [
      "Epoch 4 [1180/1532] Loss: 0.7378, LR: 0.000005\n"
     ]
    },
    {
     "name": "stderr",
     "output_type": "stream",
     "text": [
      "Epoch 4 Training:  78%|███████▊  | 1192/1532 [03:47<01:02,  5.41it/s, loss=0.61] "
     ]
    },
    {
     "name": "stdout",
     "output_type": "stream",
     "text": [
      "Epoch 4 [1190/1532] Loss: 0.9390, LR: 0.000005\n"
     ]
    },
    {
     "name": "stderr",
     "output_type": "stream",
     "text": [
      "Epoch 4 Training:  78%|███████▊  | 1202/1532 [03:49<01:02,  5.29it/s, loss=0.526]"
     ]
    },
    {
     "name": "stdout",
     "output_type": "stream",
     "text": [
      "Epoch 4 [1200/1532] Loss: 0.9564, LR: 0.000005\n"
     ]
    },
    {
     "name": "stderr",
     "output_type": "stream",
     "text": [
      "Epoch 4 Training:  79%|███████▉  | 1212/1532 [03:50<01:00,  5.28it/s, loss=0.67] "
     ]
    },
    {
     "name": "stdout",
     "output_type": "stream",
     "text": [
      "Epoch 4 [1210/1532] Loss: 0.8552, LR: 0.000005\n"
     ]
    },
    {
     "name": "stderr",
     "output_type": "stream",
     "text": [
      "Epoch 4 Training:  80%|███████▉  | 1222/1532 [03:52<00:57,  5.36it/s, loss=0.7]  "
     ]
    },
    {
     "name": "stdout",
     "output_type": "stream",
     "text": [
      "Epoch 4 [1220/1532] Loss: 0.4841, LR: 0.000005\n"
     ]
    },
    {
     "name": "stderr",
     "output_type": "stream",
     "text": [
      "Epoch 4 Training:  80%|████████  | 1232/1532 [03:54<00:58,  5.14it/s, loss=0.848]"
     ]
    },
    {
     "name": "stdout",
     "output_type": "stream",
     "text": [
      "Epoch 4 [1230/1532] Loss: 0.3630, LR: 0.000005\n"
     ]
    },
    {
     "name": "stderr",
     "output_type": "stream",
     "text": [
      "Epoch 4 Training:  81%|████████  | 1242/1532 [03:56<00:56,  5.15it/s, loss=0.712]"
     ]
    },
    {
     "name": "stdout",
     "output_type": "stream",
     "text": [
      "Epoch 4 [1240/1532] Loss: 0.6698, LR: 0.000005\n"
     ]
    },
    {
     "name": "stderr",
     "output_type": "stream",
     "text": [
      "Epoch 4 Training:  82%|████████▏ | 1252/1532 [03:58<00:53,  5.27it/s, loss=0.818]"
     ]
    },
    {
     "name": "stdout",
     "output_type": "stream",
     "text": [
      "Epoch 4 [1250/1532] Loss: 0.6460, LR: 0.000005\n"
     ]
    },
    {
     "name": "stderr",
     "output_type": "stream",
     "text": [
      "Epoch 4 Training:  82%|████████▏ | 1262/1532 [04:00<00:52,  5.17it/s, loss=0.201]"
     ]
    },
    {
     "name": "stdout",
     "output_type": "stream",
     "text": [
      "Epoch 4 [1260/1532] Loss: 0.8413, LR: 0.000005\n"
     ]
    },
    {
     "name": "stderr",
     "output_type": "stream",
     "text": [
      "Epoch 4 Training:  83%|████████▎ | 1272/1532 [04:02<00:49,  5.21it/s, loss=0.396]"
     ]
    },
    {
     "name": "stdout",
     "output_type": "stream",
     "text": [
      "Epoch 4 [1270/1532] Loss: 0.4871, LR: 0.000005\n"
     ]
    },
    {
     "name": "stderr",
     "output_type": "stream",
     "text": [
      "Epoch 4 Training:  84%|████████▎ | 1282/1532 [04:04<00:46,  5.38it/s, loss=1.09] "
     ]
    },
    {
     "name": "stdout",
     "output_type": "stream",
     "text": [
      "Epoch 4 [1280/1532] Loss: 0.6558, LR: 0.000005\n"
     ]
    },
    {
     "name": "stderr",
     "output_type": "stream",
     "text": [
      "Epoch 4 Training:  84%|████████▍ | 1292/1532 [04:06<00:45,  5.22it/s, loss=1.03] "
     ]
    },
    {
     "name": "stdout",
     "output_type": "stream",
     "text": [
      "Epoch 4 [1290/1532] Loss: 0.7719, LR: 0.000005\n"
     ]
    },
    {
     "name": "stderr",
     "output_type": "stream",
     "text": [
      "Epoch 4 Training:  85%|████████▍ | 1302/1532 [04:08<00:44,  5.18it/s, loss=0.553]"
     ]
    },
    {
     "name": "stdout",
     "output_type": "stream",
     "text": [
      "Epoch 4 [1300/1532] Loss: 0.3482, LR: 0.000005\n"
     ]
    },
    {
     "name": "stderr",
     "output_type": "stream",
     "text": [
      "Epoch 4 Training:  86%|████████▌ | 1312/1532 [04:09<00:41,  5.36it/s, loss=1.01] "
     ]
    },
    {
     "name": "stdout",
     "output_type": "stream",
     "text": [
      "Epoch 4 [1310/1532] Loss: 0.6748, LR: 0.000005\n"
     ]
    },
    {
     "name": "stderr",
     "output_type": "stream",
     "text": [
      "Epoch 4 Training:  86%|████████▋ | 1322/1532 [04:11<00:39,  5.25it/s, loss=0.859]"
     ]
    },
    {
     "name": "stdout",
     "output_type": "stream",
     "text": [
      "Epoch 4 [1320/1532] Loss: 0.9959, LR: 0.000005\n"
     ]
    },
    {
     "name": "stderr",
     "output_type": "stream",
     "text": [
      "Epoch 4 Training:  87%|████████▋ | 1332/1532 [04:13<00:38,  5.24it/s, loss=0.609]"
     ]
    },
    {
     "name": "stdout",
     "output_type": "stream",
     "text": [
      "Epoch 4 [1330/1532] Loss: 1.3255, LR: 0.000005\n"
     ]
    },
    {
     "name": "stderr",
     "output_type": "stream",
     "text": [
      "Epoch 4 Training:  88%|████████▊ | 1342/1532 [04:15<00:35,  5.36it/s, loss=0.391]"
     ]
    },
    {
     "name": "stdout",
     "output_type": "stream",
     "text": [
      "Epoch 4 [1340/1532] Loss: 0.5390, LR: 0.000005\n"
     ]
    },
    {
     "name": "stderr",
     "output_type": "stream",
     "text": [
      "Epoch 4 Training:  88%|████████▊ | 1352/1532 [04:17<00:34,  5.29it/s, loss=0.881]"
     ]
    },
    {
     "name": "stdout",
     "output_type": "stream",
     "text": [
      "Epoch 4 [1350/1532] Loss: 0.5156, LR: 0.000005\n"
     ]
    },
    {
     "name": "stderr",
     "output_type": "stream",
     "text": [
      "Epoch 4 Training:  89%|████████▉ | 1362/1532 [04:19<00:32,  5.20it/s, loss=1.09] "
     ]
    },
    {
     "name": "stdout",
     "output_type": "stream",
     "text": [
      "Epoch 4 [1360/1532] Loss: 0.9466, LR: 0.000005\n"
     ]
    },
    {
     "name": "stderr",
     "output_type": "stream",
     "text": [
      "Epoch 4 Training:  90%|████████▉ | 1372/1532 [04:21<00:29,  5.38it/s, loss=0.689]"
     ]
    },
    {
     "name": "stdout",
     "output_type": "stream",
     "text": [
      "Epoch 4 [1370/1532] Loss: 0.3543, LR: 0.000005\n"
     ]
    },
    {
     "name": "stderr",
     "output_type": "stream",
     "text": [
      "Epoch 4 Training:  90%|█████████ | 1382/1532 [04:23<00:28,  5.31it/s, loss=0.311]"
     ]
    },
    {
     "name": "stdout",
     "output_type": "stream",
     "text": [
      "Epoch 4 [1380/1532] Loss: 1.1948, LR: 0.000005\n"
     ]
    },
    {
     "name": "stderr",
     "output_type": "stream",
     "text": [
      "Epoch 4 Training:  91%|█████████ | 1392/1532 [04:25<00:26,  5.29it/s, loss=0.551]"
     ]
    },
    {
     "name": "stdout",
     "output_type": "stream",
     "text": [
      "Epoch 4 [1390/1532] Loss: 0.8101, LR: 0.000005\n"
     ]
    },
    {
     "name": "stderr",
     "output_type": "stream",
     "text": [
      "Epoch 4 Training:  92%|█████████▏| 1402/1532 [04:27<00:24,  5.20it/s, loss=0.493]"
     ]
    },
    {
     "name": "stdout",
     "output_type": "stream",
     "text": [
      "Epoch 4 [1400/1532] Loss: 0.5111, LR: 0.000005\n"
     ]
    },
    {
     "name": "stderr",
     "output_type": "stream",
     "text": [
      "Epoch 4 Training:  92%|█████████▏| 1412/1532 [04:28<00:22,  5.23it/s, loss=0.628]"
     ]
    },
    {
     "name": "stdout",
     "output_type": "stream",
     "text": [
      "Epoch 4 [1410/1532] Loss: 1.1787, LR: 0.000005\n"
     ]
    },
    {
     "name": "stderr",
     "output_type": "stream",
     "text": [
      "Epoch 4 Training:  93%|█████████▎| 1422/1532 [04:30<00:21,  5.18it/s, loss=0.595]"
     ]
    },
    {
     "name": "stdout",
     "output_type": "stream",
     "text": [
      "Epoch 4 [1420/1532] Loss: 0.3245, LR: 0.000005\n"
     ]
    },
    {
     "name": "stderr",
     "output_type": "stream",
     "text": [
      "Epoch 4 Training:  93%|█████████▎| 1432/1532 [04:32<00:19,  5.24it/s, loss=0.501]"
     ]
    },
    {
     "name": "stdout",
     "output_type": "stream",
     "text": [
      "Epoch 4 [1430/1532] Loss: 0.5160, LR: 0.000005\n"
     ]
    },
    {
     "name": "stderr",
     "output_type": "stream",
     "text": [
      "Epoch 4 Training:  94%|█████████▍| 1442/1532 [04:34<00:16,  5.42it/s, loss=0.74] "
     ]
    },
    {
     "name": "stdout",
     "output_type": "stream",
     "text": [
      "Epoch 4 [1440/1532] Loss: 0.4003, LR: 0.000005\n"
     ]
    },
    {
     "name": "stderr",
     "output_type": "stream",
     "text": [
      "Epoch 4 Training:  95%|█████████▍| 1452/1532 [04:36<00:15,  5.25it/s, loss=0.709]"
     ]
    },
    {
     "name": "stdout",
     "output_type": "stream",
     "text": [
      "Epoch 4 [1450/1532] Loss: 1.0215, LR: 0.000005\n"
     ]
    },
    {
     "name": "stderr",
     "output_type": "stream",
     "text": [
      "Epoch 4 Training:  95%|█████████▌| 1462/1532 [04:38<00:13,  5.33it/s, loss=0.866]"
     ]
    },
    {
     "name": "stdout",
     "output_type": "stream",
     "text": [
      "Epoch 4 [1460/1532] Loss: 0.4176, LR: 0.000005\n"
     ]
    },
    {
     "name": "stderr",
     "output_type": "stream",
     "text": [
      "Epoch 4 Training:  96%|█████████▌| 1472/1532 [04:40<00:11,  5.33it/s, loss=0.521]"
     ]
    },
    {
     "name": "stdout",
     "output_type": "stream",
     "text": [
      "Epoch 4 [1470/1532] Loss: 0.8971, LR: 0.000005\n"
     ]
    },
    {
     "name": "stderr",
     "output_type": "stream",
     "text": [
      "Epoch 4 Training:  97%|█████████▋| 1482/1532 [04:42<00:09,  5.42it/s, loss=1.23] "
     ]
    },
    {
     "name": "stdout",
     "output_type": "stream",
     "text": [
      "Epoch 4 [1480/1532] Loss: 0.5279, LR: 0.000005\n"
     ]
    },
    {
     "name": "stderr",
     "output_type": "stream",
     "text": [
      "Epoch 4 Training:  97%|█████████▋| 1492/1532 [04:44<00:07,  5.24it/s, loss=0.455]"
     ]
    },
    {
     "name": "stdout",
     "output_type": "stream",
     "text": [
      "Epoch 4 [1490/1532] Loss: 0.3436, LR: 0.000005\n"
     ]
    },
    {
     "name": "stderr",
     "output_type": "stream",
     "text": [
      "Epoch 4 Training:  98%|█████████▊| 1502/1532 [04:46<00:05,  5.21it/s, loss=0.444]"
     ]
    },
    {
     "name": "stdout",
     "output_type": "stream",
     "text": [
      "Epoch 4 [1500/1532] Loss: 1.0203, LR: 0.000005\n"
     ]
    },
    {
     "name": "stderr",
     "output_type": "stream",
     "text": [
      "Epoch 4 Training:  99%|█████████▊| 1512/1532 [04:47<00:03,  5.29it/s, loss=0.376]"
     ]
    },
    {
     "name": "stdout",
     "output_type": "stream",
     "text": [
      "Epoch 4 [1510/1532] Loss: 0.5253, LR: 0.000005\n"
     ]
    },
    {
     "name": "stderr",
     "output_type": "stream",
     "text": [
      "Epoch 4 Training:  99%|█████████▉| 1522/1532 [04:49<00:01,  5.41it/s, loss=0.978]"
     ]
    },
    {
     "name": "stdout",
     "output_type": "stream",
     "text": [
      "Epoch 4 [1520/1532] Loss: 0.6600, LR: 0.000005\n"
     ]
    },
    {
     "name": "stderr",
     "output_type": "stream",
     "text": [
      "Epoch 4 Training: 100%|██████████| 1532/1532 [04:51<00:00,  5.25it/s, loss=0.0103]\n"
     ]
    },
    {
     "name": "stdout",
     "output_type": "stream",
     "text": [
      "Epoch 4 [1530/1532] Loss: 1.3640, LR: 0.000005\n",
      "Epoch 4: Avg Loss: 0.6719, Time: 291.57s\n",
      "Validation Results:\n",
      "  Loss: 2.7536\n",
      "  Image→Text Accuracy: 0.3501 (Top-5: 0.7963)\n",
      "  Text→Image Accuracy: 0.3514 (Top-5: 0.8057)\n",
      "💾 Saved new best model at epoch 5 with I→T Acc: 35.01%\n"
     ]
    }
   ],
   "source": [
    "import pandas as pd\n",
    "\n",
    "# Initialize DataFrame to store metrics\n",
    "metrics_df = pd.DataFrame(columns=[\n",
    "    \"epoch\", \"train_loss\", \"val_loss\", \"image_to_text_acc\", \"text_to_image_acc\",\n",
    "    \"image_to_text_top5\", \"text_to_image_top5\", \"train_time\", \"val_time\"\n",
    "])\n",
    "\n",
    "EPOCHS = 5\n",
    "import torch\n",
    "\n",
    "best_acc = 0.0  # Initialize best metric\n",
    "best_model_path = \"best_clip_model.pt\"\n",
    "\n",
    "for epoch in range(EPOCHS):\n",
    "    print(f\"\\n🚀 Epoch {epoch+1}/{EPOCHS}\")\n",
    "\n",
    "    avg_train_loss, train_time = do_train(model, train_loader, optimizer, epoch, device=\"cuda\")\n",
    "    eval_results = do_eval(model, val_loader, device=\"cuda\")\n",
    "\n",
    "    current_acc = eval_results[\"image_to_text_acc\"]\n",
    "    \n",
    "    # Save best model\n",
    "    if current_acc > best_acc:\n",
    "        best_acc = current_acc\n",
    "        torch.save(model.state_dict(), best_model_path)\n",
    "        print(f\"💾 Saved new best model at epoch {epoch+1} with I→T Acc: {current_acc*100:.2f}%\")\n",
    "\n",
    "    # Append metrics\n",
    "    metrics_df.loc[len(metrics_df)] = {\n",
    "        \"epoch\": epoch + 1,\n",
    "        \"train_loss\": avg_train_loss,\n",
    "        \"val_loss\": eval_results[\"avg_val_loss\"],\n",
    "        \"image_to_text_acc\": current_acc,\n",
    "        \"text_to_image_acc\": eval_results[\"text_to_image_acc\"],\n",
    "        \"image_to_text_top5\": eval_results[\"image_to_text_top5\"],\n",
    "        \"text_to_image_top5\": eval_results[\"text_to_image_top5\"],\n",
    "        \"train_time\": train_time,\n",
    "        \"val_time\": eval_results[\"val_time\"]\n",
    "    }\n"
   ]
  },
  {
   "cell_type": "code",
   "execution_count": 23,
   "id": "15ab8946",
   "metadata": {},
   "outputs": [
    {
     "data": {
      "application/vnd.microsoft.datawrangler.viewer.v0+json": {
       "columns": [
        {
         "name": "index",
         "rawType": "int64",
         "type": "integer"
        },
        {
         "name": "epoch",
         "rawType": "int64",
         "type": "integer"
        },
        {
         "name": "train_loss",
         "rawType": "float64",
         "type": "float"
        },
        {
         "name": "val_loss",
         "rawType": "float64",
         "type": "float"
        },
        {
         "name": "image_to_text_acc",
         "rawType": "float64",
         "type": "float"
        },
        {
         "name": "text_to_image_acc",
         "rawType": "float64",
         "type": "float"
        },
        {
         "name": "image_to_text_top5",
         "rawType": "float64",
         "type": "float"
        },
        {
         "name": "text_to_image_top5",
         "rawType": "float64",
         "type": "float"
        },
        {
         "name": "train_time",
         "rawType": "float64",
         "type": "float"
        },
        {
         "name": "val_time",
         "rawType": "float64",
         "type": "float"
        }
       ],
       "conversionMethod": "pd.DataFrame",
       "ref": "dcaedf22-11ed-4338-8af6-02d5d93ab0b9",
       "rows": [
        [
         "0",
         "1",
         "2.238295566903393",
         "2.0563578897466264",
         "0.3030698889614631",
         "0.29653821032005223",
         "0.7585720486111112",
         "0.7613932291666666",
         "292.1238362789154",
         "25.560664653778076"
        ],
        [
         "1",
         "2",
         "1.6880104730474732",
         "1.947868385662635",
         "0.33834095362508165",
         "0.35695623775310253",
         "0.7995876736111112",
         "0.8043619791666666",
         "291.91366624832153",
         "25.375778198242188"
        ],
        [
         "2",
         "3",
         "1.2926963523964035",
         "2.061258202418685",
         "0.34225996080992815",
         "0.3563030698889615",
         "0.7992621527777778",
         "0.8053385416666666",
         "290.55383801460266",
         "25.373822927474976"
        ],
        [
         "3",
         "4",
         "0.9312759765640252",
         "2.338239232699076",
         "0.3275636838667538",
         "0.3448726322664925",
         "0.7771267361111112",
         "0.8092447916666666",
         "291.9264118671417",
         "25.575944423675537"
        ],
        [
         "4",
         "5",
         "0.6719296662132049",
         "2.753634520495931",
         "0.35009797517962116",
         "0.3514043109079033",
         "0.7963324652777778",
         "0.8056640625",
         "291.5723671913147",
         "25.936352968215942"
        ]
       ],
       "shape": {
        "columns": 9,
        "rows": 5
       }
      },
      "text/html": [
       "<div>\n",
       "<style scoped>\n",
       "    .dataframe tbody tr th:only-of-type {\n",
       "        vertical-align: middle;\n",
       "    }\n",
       "\n",
       "    .dataframe tbody tr th {\n",
       "        vertical-align: top;\n",
       "    }\n",
       "\n",
       "    .dataframe thead th {\n",
       "        text-align: right;\n",
       "    }\n",
       "</style>\n",
       "<table border=\"1\" class=\"dataframe\">\n",
       "  <thead>\n",
       "    <tr style=\"text-align: right;\">\n",
       "      <th></th>\n",
       "      <th>epoch</th>\n",
       "      <th>train_loss</th>\n",
       "      <th>val_loss</th>\n",
       "      <th>image_to_text_acc</th>\n",
       "      <th>text_to_image_acc</th>\n",
       "      <th>image_to_text_top5</th>\n",
       "      <th>text_to_image_top5</th>\n",
       "      <th>train_time</th>\n",
       "      <th>val_time</th>\n",
       "    </tr>\n",
       "  </thead>\n",
       "  <tbody>\n",
       "    <tr>\n",
       "      <th>0</th>\n",
       "      <td>1</td>\n",
       "      <td>2.238296</td>\n",
       "      <td>2.056358</td>\n",
       "      <td>0.303070</td>\n",
       "      <td>0.296538</td>\n",
       "      <td>0.758572</td>\n",
       "      <td>0.761393</td>\n",
       "      <td>292.123836</td>\n",
       "      <td>25.560665</td>\n",
       "    </tr>\n",
       "    <tr>\n",
       "      <th>1</th>\n",
       "      <td>2</td>\n",
       "      <td>1.688010</td>\n",
       "      <td>1.947868</td>\n",
       "      <td>0.338341</td>\n",
       "      <td>0.356956</td>\n",
       "      <td>0.799588</td>\n",
       "      <td>0.804362</td>\n",
       "      <td>291.913666</td>\n",
       "      <td>25.375778</td>\n",
       "    </tr>\n",
       "    <tr>\n",
       "      <th>2</th>\n",
       "      <td>3</td>\n",
       "      <td>1.292696</td>\n",
       "      <td>2.061258</td>\n",
       "      <td>0.342260</td>\n",
       "      <td>0.356303</td>\n",
       "      <td>0.799262</td>\n",
       "      <td>0.805339</td>\n",
       "      <td>290.553838</td>\n",
       "      <td>25.373823</td>\n",
       "    </tr>\n",
       "    <tr>\n",
       "      <th>3</th>\n",
       "      <td>4</td>\n",
       "      <td>0.931276</td>\n",
       "      <td>2.338239</td>\n",
       "      <td>0.327564</td>\n",
       "      <td>0.344873</td>\n",
       "      <td>0.777127</td>\n",
       "      <td>0.809245</td>\n",
       "      <td>291.926412</td>\n",
       "      <td>25.575944</td>\n",
       "    </tr>\n",
       "    <tr>\n",
       "      <th>4</th>\n",
       "      <td>5</td>\n",
       "      <td>0.671930</td>\n",
       "      <td>2.753635</td>\n",
       "      <td>0.350098</td>\n",
       "      <td>0.351404</td>\n",
       "      <td>0.796332</td>\n",
       "      <td>0.805664</td>\n",
       "      <td>291.572367</td>\n",
       "      <td>25.936353</td>\n",
       "    </tr>\n",
       "  </tbody>\n",
       "</table>\n",
       "</div>"
      ],
      "text/plain": [
       "   epoch  train_loss  val_loss  image_to_text_acc  text_to_image_acc  \\\n",
       "0      1    2.238296  2.056358           0.303070           0.296538   \n",
       "1      2    1.688010  1.947868           0.338341           0.356956   \n",
       "2      3    1.292696  2.061258           0.342260           0.356303   \n",
       "3      4    0.931276  2.338239           0.327564           0.344873   \n",
       "4      5    0.671930  2.753635           0.350098           0.351404   \n",
       "\n",
       "   image_to_text_top5  text_to_image_top5  train_time   val_time  \n",
       "0            0.758572            0.761393  292.123836  25.560665  \n",
       "1            0.799588            0.804362  291.913666  25.375778  \n",
       "2            0.799262            0.805339  290.553838  25.373823  \n",
       "3            0.777127            0.809245  291.926412  25.575944  \n",
       "4            0.796332            0.805664  291.572367  25.936353  "
      ]
     },
     "execution_count": 23,
     "metadata": {},
     "output_type": "execute_result"
    }
   ],
   "source": [
    "metrics_df"
   ]
  },
  {
   "cell_type": "code",
   "execution_count": 24,
   "id": "c2636e02",
   "metadata": {},
   "outputs": [],
   "source": [
    "# import matplotlib.pyplot as plt\n",
    "\n",
    "# train_losses = []\n",
    "# val_losses = []\n",
    "# image_to_text_accs = []\n",
    "# text_to_image_accs = []\n",
    "\n",
    "# for epoch in range(1, 3):\n",
    "#     print(f\"\\nEpoch {epoch}/10\")\n",
    "\n",
    "#     train_loss, train_time = do_train(model, train_loader, optimizer, epoch, \"cuda\")\n",
    "#     train_losses.append(train_loss)\n",
    "\n",
    "#     eval_results = do_eval(model, val_loader, device=\"cuda\")\n",
    "#     val_losses.append(eval_results[\"avg_val_loss\"])\n",
    "#     image_to_text_accs.append(eval_results[\"image_to_text_acc\"])\n",
    "#     text_to_image_accs.append(eval_results[\"text_to_image_acc\"])\n",
    "\n",
    "#     print(f\"Train Loss: {train_loss:.4f} | Time: {train_time:.2f}s\")\n",
    "#     print(f\"Val Loss: {eval_results['avg_val_loss']:.4f}\")\n",
    "#     print(f\"I→T Acc: {eval_results['image_to_text_acc']:.4f} | T→I Acc: {eval_results['text_to_image_acc']:.4f}\")\n",
    "\n",
    "# # Plot after training\n",
    "# epochs = list(range(1, 11))\n",
    "\n",
    "# plt.figure(figsize=(12, 5))\n",
    "# plt.subplot(1, 2, 1)\n",
    "# plt.plot(epochs, train_losses, label=\"Train Loss\")\n",
    "# plt.plot(epochs, val_losses, label=\"Val Loss\")\n",
    "# plt.xlabel(\"Epoch\")\n",
    "# plt.ylabel(\"Loss\")\n",
    "# plt.title(\"Loss per Epoch\")\n",
    "# plt.legend()\n",
    "\n",
    "# plt.subplot(1, 2, 2)\n",
    "# plt.plot(epochs, image_to_text_accs, label=\"Image→Text Acc\")\n",
    "# plt.plot(epochs, text_to_image_accs, label=\"Text→Image Acc\")\n",
    "# plt.xlabel(\"Epoch\")\n",
    "# plt.ylabel(\"Accuracy\")\n",
    "# plt.title(\"Accuracy per Epoch\")\n",
    "# plt.legend()\n",
    "\n",
    "# plt.tight_layout()\n",
    "# plt.show()\n"
   ]
  },
  {
   "cell_type": "code",
   "execution_count": 25,
   "id": "47a0c415",
   "metadata": {},
   "outputs": [
    {
     "data": {
      "image/png": "[encoded data removed]",
      "text/plain": [
       "<Figure size 800x500 with 1 Axes>"
      ]
     },
     "metadata": {},
     "output_type": "display_data"
    },
    {
     "data": {
      "image/png": "[encoded data removed]",
      "text/plain": [
       "<Figure size 800x500 with 1 Axes>"
      ]
     },
     "metadata": {},
     "output_type": "display_data"
    },
    {
     "data": {
      "image/png": "[encoded data removed]",
      "text/plain": [
       "<Figure size 800x500 with 1 Axes>"
      ]
     },
     "metadata": {},
     "output_type": "display_data"
    }
   ],
   "source": [
    "import matplotlib.pyplot as plt\n",
    "\n",
    "# Plot Train and Validation Loss\n",
    "plt.figure(figsize=(8, 5))\n",
    "plt.plot(metrics_df[\"epoch\"], metrics_df[\"train_loss\"], label=\"Train Loss\", marker='o')\n",
    "plt.plot(metrics_df[\"epoch\"], metrics_df[\"val_loss\"], label=\"Validation Loss\", marker='o')\n",
    "plt.title(\"CLIP Training vs Validation Loss\")\n",
    "plt.xlabel(\"Epoch\")\n",
    "plt.ylabel(\"Loss\")\n",
    "plt.legend()\n",
    "plt.grid(True)\n",
    "plt.tight_layout()\n",
    "plt.show()\n",
    "\n",
    "# Plot Validation Accuracy (Image-to-Text & Text-to-Image)\n",
    "plt.figure(figsize=(8, 5))\n",
    "plt.plot(metrics_df[\"epoch\"], metrics_df[\"image_to_text_acc\"], label=\"Image→Text Accuracy\", marker='o')\n",
    "plt.plot(metrics_df[\"epoch\"], metrics_df[\"text_to_image_acc\"], label=\"Text→Image Accuracy\", marker='o')\n",
    "plt.title(\"CLIP Validation Accuracy\")\n",
    "plt.xlabel(\"Epoch\")\n",
    "plt.ylabel(\"Accuracy\")\n",
    "plt.legend()\n",
    "plt.grid(True)\n",
    "plt.tight_layout()\n",
    "plt.show()\n",
    "\n",
    "# Plot Top-5 Accuracies\n",
    "plt.figure(figsize=(8, 5))\n",
    "plt.plot(metrics_df[\"epoch\"], metrics_df[\"image_to_text_top5\"], label=\"Image→Text Top-5 Acc\", marker='o')\n",
    "plt.plot(metrics_df[\"epoch\"], metrics_df[\"text_to_image_top5\"], label=\"Text→Image Top-5 Acc\", marker='o')\n",
    "plt.title(\"CLIP Top-5 Accuracy\")\n",
    "plt.xlabel(\"Epoch\")\n",
    "plt.ylabel(\"Top-5 Accuracy\")\n",
    "plt.legend()\n",
    "plt.grid(True)\n",
    "plt.tight_layout()\n",
    "plt.show()\n"
   ]
  },
  {
   "cell_type": "code",
   "execution_count": 26,
   "id": "eda932ae",
   "metadata": {},
   "outputs": [],
   "source": [
    "# import matplotlib.pyplot as plt\n",
    "\n",
    "# plt.plot(train_losses, label=\"Train Loss\")\n",
    "# plt.plot(val_losses, label=\"Val Loss\")\n",
    "# plt.title(\"CLIP Fine-Tuning Loss\")\n",
    "# plt.legend()\n",
    "# plt.show()\n",
    "\n",
    "# plt.plot(val_accuracies, label=\"Val Accuracy\")\n",
    "# plt.title(\"CLIP Val Accuracy\")\n",
    "# plt.legend()\n",
    "# plt.show()\n"
   ]
  },
  {
   "cell_type": "code",
   "execution_count": 27,
   "id": "54b53609",
   "metadata": {},
   "outputs": [],
   "source": [
    "# import sys\n",
    "# import os\n",
    "# sys.path.append(os.path.abspath(os.path.join(os.getcwd(), \"..\")))\n",
    "\n",
    "# from scripts.datset import ProcessedCLIPDataset\n",
    "\n",
    "# ds = ProcessedCLIPDataset(\"texts/train.json\", \"images/\")\n",
    "# img = ds[0][\"image\"]\n",
    "# txt = ds[0][\"text\"]\n",
    "# print(txt)\n",
    "# img.show()\n"
   ]
  },
  {
   "cell_type": "code",
   "execution_count": null,
   "id": "9bda6230",
   "metadata": {},
   "outputs": [],
   "source": []
  },
  {
   "cell_type": "code",
   "execution_count": 28,
   "id": "cc550800",
   "metadata": {},
   "outputs": [],
   "source": [
    "# Same dataset used for retrieval\n",
    "retrieval_dataset = test_dataset\n",
    "\n",
    "def image_collate_fn(batch):\n",
    "    images = [item[\"image\"] for item in batch]\n",
    "    return processor(images=images, return_tensors=\"pt\", padding=True)\n",
    "\n",
    "def text_collate_fn(batch):\n",
    "    texts = [item[\"text\"] for item in batch]\n",
    "    return processor(text=texts, return_tensors=\"pt\", padding=True, truncation=True)\n",
    "\n",
    "image_loader = DataLoader(retrieval_dataset, batch_size=32, shuffle=False, collate_fn=image_collate_fn)\n",
    "text_loader = DataLoader(retrieval_dataset, batch_size=32, shuffle=False, collate_fn=text_collate_fn)\n"
   ]
  },
  {
   "cell_type": "code",
   "execution_count": 29,
   "id": "c5f4207f",
   "metadata": {},
   "outputs": [],
   "source": [
    "import torch.nn.functional as F\n",
    "\n",
    "def get_top_k_retrieval(model, image_loader, text_loader, k=5, device=\"cuda\"):\n",
    "    model.eval()\n",
    "    all_image_embs, all_text_embs = [], []\n",
    "\n",
    "    with torch.no_grad():\n",
    "        for batch in image_loader:\n",
    "            pixel_values = batch[\"pixel_values\"].to(device)\n",
    "            image_embs = model.get_image_features(pixel_values=pixel_values)\n",
    "            image_embs = F.normalize(image_embs, dim=-1)\n",
    "            all_image_embs.append(image_embs)\n",
    "\n",
    "        for batch in text_loader:\n",
    "            input_ids = batch[\"input_ids\"].to(device)\n",
    "            attention_mask = batch[\"attention_mask\"].to(device)\n",
    "            text_embs = model.get_text_features(input_ids=input_ids, attention_mask=attention_mask)\n",
    "            text_embs = F.normalize(text_embs, dim=-1)\n",
    "            all_text_embs.append(text_embs)\n",
    "\n",
    "    all_image_embs = torch.cat(all_image_embs, dim=0)\n",
    "    all_text_embs = torch.cat(all_text_embs, dim=0)\n",
    "\n",
    "    similarity = all_image_embs @ all_text_embs.T\n",
    "\n",
    "    topk_image_to_text = similarity.topk(k, dim=1)\n",
    "    topk_text_to_image = similarity.topk(k, dim=0)\n",
    "\n",
    "    return topk_image_to_text, topk_text_to_image\n"
   ]
  },
  {
   "cell_type": "code",
   "execution_count": 30,
   "id": "d7ddd446",
   "metadata": {},
   "outputs": [],
   "source": [
    "# Load your best model\n",
    "model.load_state_dict(torch.load(\"best_clip_model.pt\"))\n",
    "model.eval().cuda()\n",
    "\n",
    "# Compute retrieval\n",
    "topk_i2t, topk_t2i = get_top_k_retrieval(model, image_loader, text_loader, k=5)\n"
   ]
  },
  {
   "cell_type": "code",
   "execution_count": 31,
   "id": "a66b427a",
   "metadata": {},
   "outputs": [],
   "source": [
    "def compute_recall_at_k(topk_indices, k):\n",
    "    correct = 0\n",
    "    for i in range(len(topk_indices)):\n",
    "        if i in topk_indices[i][:k]:\n",
    "            correct += 1\n",
    "    return correct / len(topk_indices)\n"
   ]
  },
  {
   "cell_type": "code",
   "execution_count": 32,
   "id": "fdb8a789",
   "metadata": {},
   "outputs": [
    {
     "name": "stdout",
     "output_type": "stream",
     "text": [
      "Recall@1: 0.0137\n",
      "Recall@5: 0.0431\n"
     ]
    }
   ],
   "source": [
    "recall_at_1 = compute_recall_at_k(topk_i2t.indices, 1)\n",
    "recall_at_5 = compute_recall_at_k(topk_i2t.indices, 5)\n",
    "print(f\"Recall@1: {recall_at_1:.4f}\")\n",
    "print(f\"Recall@5: {recall_at_5:.4f}\")\n"
   ]
  },
  {
   "cell_type": "code",
   "execution_count": 33,
   "id": "df4c468f",
   "metadata": {},
   "outputs": [
    {
     "name": "stdout",
     "output_type": "stream",
     "text": [
      "MRR: 0.0238\n"
     ]
    }
   ],
   "source": [
    "def compute_mrr(topk_indices):\n",
    "    mrr = 0.0\n",
    "    for i in range(len(topk_indices)):\n",
    "        ranks = topk_indices[i].tolist()\n",
    "        if i in ranks:\n",
    "            rank = ranks.index(i) + 1\n",
    "            mrr += 1.0 / rank\n",
    "    return mrr / len(topk_indices)\n",
    "\n",
    "mrr_score = compute_mrr(topk_i2t.indices)\n",
    "print(f\"MRR: {mrr_score:.4f}\")\n"
   ]
  },
  {
   "cell_type": "code",
   "execution_count": 34,
   "id": "910f0e15",
   "metadata": {},
   "outputs": [],
   "source": [
    "from PIL import Image\n",
    "import matplotlib.pyplot as plt\n",
    "\n",
    "def visualize_image_to_text(idx, hf_dataset, topk_indices):\n",
    "    image = hf_dataset[idx][\"image\"]\n",
    "    top_text_indices = topk_indices[idx].cpu().tolist()\n",
    "\n",
    "    plt.imshow(image)\n",
    "    plt.axis('off')\n",
    "    plt.title(\"Query Image\")\n",
    "    plt.show()\n",
    "\n",
    "    print(\"Top-5 Retrieved Captions:\")\n",
    "    for rank, text_idx in enumerate(top_text_indices):\n",
    "        print(f\"{rank+1}: {hf_dataset[text_idx]['text']}\")\n"
   ]
  },
  {
   "cell_type": "code",
   "execution_count": 35,
   "id": "40c72ea7",
   "metadata": {},
   "outputs": [
    {
     "data": {
      "image/png": "[encoded data removed]",
      "text/plain": [
       "<Figure size 640x480 with 1 Axes>"
      ]
     },
     "metadata": {},
     "output_type": "display_data"
    },
    {
     "name": "stdout",
     "output_type": "stream",
     "text": [
      "Top-5 Retrieved Captions:\n",
      "1: Limited exam with cardiomegaly and mediastinal prominence, which in part could reflect technique. Recommend repeat with dedicated PA and laterals with improved/optimized inspiratory effort.\n",
      "2: Mild-to-moderate biventricular heart failure and/or volume overload.\n",
      "3: Severe cardiomegaly, pulmonary vascular engorgement, and mild interstitial edema consistent with congestive heart failure, less severe compared to .\n",
      "4: Limited exam as above with suspected pulmonary edema.\n",
      "5: Moderate cardiomegaly with perihilar vascular congestion, appears progressed from exam.\n"
     ]
    }
   ],
   "source": [
    "visualize_image_to_text(0, test_dataset, topk_i2t.indices)\n"
   ]
  }
 ],
 "metadata": {
  "kernelspec": {
   "display_name": ".venv",
   "language": "python",
   "name": "python3"
  },
  "language_info": {
   "codemirror_mode": {
    "name": "ipython",
    "version": 3
   },
   "file_extension": ".py",
   "mimetype": "text/x-python",
   "name": "python",
   "nbconvert_exporter": "python",
   "pygments_lexer": "ipython3",
   "version": "3.10.12"
  }
 },
 "nbformat": 4,
 "nbformat_minor": 5
}
