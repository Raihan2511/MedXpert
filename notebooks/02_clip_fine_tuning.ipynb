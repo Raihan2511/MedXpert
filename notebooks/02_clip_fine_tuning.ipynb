{
 "cells": [
  {
   "cell_type": "code",
   "execution_count": 42,
   "id": "9b6bdd37",
   "metadata": {},
   "outputs": [],
   "source": [
    "from transformers import CLIPProcessor, CLIPModel\n",
    "from datasets import load_dataset\n",
    "from torch.utils.data import DataLoader\n",
    "import torch\n",
    "from torch import nn\n",
    "from torch.optim import AdamW\n",
    "import torch\n",
    "import time\n",
    "from torch.utils.data import DataLoader\n",
    "from sklearn.metrics import accuracy_score\n",
    "from torch.nn.utils import clip_grad_norm_\n",
    "import sys\n",
    "import os\n",
    "sys.path.append(os.path.abspath(os.path.join(os.getcwd(), \"..\")))\n",
    "from scripts.preprocess_data import preprocess_dataset\n",
    "from datasets import load_dataset, DatasetDict\n",
    "from PIL import Image\n",
    "from sklearn.metrics import accuracy_score\n",
    "# Load pretrained CLIP\n",
    "model = CLIPModel.from_pretrained(\"openai/clip-vit-base-patch32\").cuda()\n",
    "processor = CLIPProcessor.from_pretrained(\"openai/clip-vit-base-patch32\")\n",
    "import torch\n",
    "import time\n",
    "import os\n",
    "from torch.utils.data import DataLoader\n",
    "from sklearn.metrics import accuracy_score\n",
    "from torch.nn.utils import clip_grad_norm_\n",
    "from torch.optim.lr_scheduler import CosineAnnealingLR, LinearLR, ReduceLROnPlateau\n",
    "import torch\n",
    "import torch.nn as nn\n",
    "import torch.nn.functional as F\n",
    "import time\n",
    "import os\n",
    "from torch.utils.data import DataLoader\n",
    "from sklearn.metrics import accuracy_score, top_k_accuracy_score\n",
    "from torch.nn.utils import clip_grad_norm_\n",
    "from torch.optim.lr_scheduler import CosineAnnealingLR, LinearLR, ReduceLROnPlateau\n",
    "from tqdm import tqdm\n",
    "\n"
   ]
  },
  {
   "cell_type": "code",
   "execution_count": 43,
   "id": "56f607f0",
   "metadata": {},
   "outputs": [],
   "source": [
    "# Load MIMIC-CXR dataset\n",
    "# dataset = load_dataset(\"ChayanM/MIMIC-Impression-Dataset\")\n",
    "\n",
    "# Check and handle splitting\n",
    "# if isinstance(dataset, DatasetDict):\n",
    "#     if all(split in dataset for split in [\"train\", \"val\", \"test\"]):\n",
    "#         train_dataset = dataset[\"train\"]\n",
    "#         val_dataset = dataset[\"val\"]\n",
    "#         test_dataset = dataset[\"test\"]\n",
    "#     elif all(split in dataset for split in [\"train\", \"test\"]):\n",
    "#         # Create validation split from part of train\n",
    "#         print(\"ℹ️ Found train/test, splitting validation from train...\")\n",
    "#         split_dataset = dataset[\"train\"].train_test_split(test_size=0.1, seed=42)\n",
    "#         train_dataset = split_dataset[\"train\"]\n",
    "#         val_dataset = split_dataset[\"test\"]\n",
    "#         test_dataset = dataset[\"test\"]\n",
    "#     else:\n",
    "#         print(\"⚠️ Only one split found. Splitting into train/val/test manually...\")\n",
    "#         temp_split = dataset[\"train\"].train_test_split(test_size=0.2, seed=42)\n",
    "#         val_test_split = temp_split[\"test\"].train_test_split(test_size=0.5, seed=42)\n",
    "#         train_dataset = temp_split[\"train\"]\n",
    "#         val_dataset = val_test_split[\"train\"]\n",
    "#         test_dataset = val_test_split[\"test\"]\n",
    "# else:\n",
    "#     raise ValueError(\"Unexpected dataset format. Please check your dataset.\")\n",
    "# raw_dataset = load_dataset(\"itsanmolgupta/mimic-cxr-dataset\")\n",
    "# print(\"Preprocessing dataset...\")\n",
    "# data_dir = \"data/raw\"\n",
    "# preprocess_dataset(raw_dataset, output_dir=data_dir)\n",
    "# print(\"Data preprocessing complete\")"
   ]
  },
  {
   "cell_type": "code",
   "execution_count": 44,
   "id": "b6131c10",
   "metadata": {},
   "outputs": [],
   "source": [
    "train_dataset = load_dataset(\"itsanmolgupta/mimic-cxr-dataset\", split=\"train[:80%]\")\n",
    "val_datset = load_dataset(\"itsanmolgupta/mimic-cxr-dataset\", split=\"train[80%:90%]\")\n",
    "test_dataset = load_dataset(\"itsanmolgupta/mimic-cxr-dataset\", split=\"train[90%:]\")\n",
    "train_dataset = train_dataset.filter(lambda x: x['impression'] is not None)\n",
    "val_dataset = val_datset.filter(lambda x: x['impression'] is not None)\n",
    "test_dataset = test_dataset.filter(lambda x: x['impression'] is not None)\n"
   ]
  },
  {
   "cell_type": "code",
   "execution_count": 45,
   "id": "d0490b24",
   "metadata": {},
   "outputs": [
    {
     "name": "stdout",
     "output_type": "stream",
     "text": [
      "train dataset: Dataset({\n",
      "    features: ['image', 'findings', 'impression'],\n",
      "    num_rows: 24499\n",
      "})\n",
      "val dataset: Dataset({\n",
      "    features: ['image', 'findings', 'impression'],\n",
      "    num_rows: 3062\n",
      "})\n",
      "test dataset: Dataset({\n",
      "    features: ['image', 'findings', 'impression'],\n",
      "    num_rows: 3062\n",
      "})\n"
     ]
    }
   ],
   "source": [
    "print(\"train dataset:\",train_dataset)\n",
    "print(\"val dataset:\", val_dataset)\n",
    "print(\"test dataset:\", test_dataset)"
   ]
  },
  {
   "cell_type": "code",
   "execution_count": 46,
   "id": "f2c28d52",
   "metadata": {},
   "outputs": [
    {
     "name": "stdout",
     "output_type": "stream",
     "text": [
      "\n",
      " sample of train set {'image': <PIL.JpegImagePlugin.JpegImageFile image mode=RGB size=512x512 at 0x78BB70104880>, 'findings': 'The lungs are clear of focal consolidation, pleural effusion or pneumothorax. The heart size is normal. The mediastinal contours are normal. Multiple surgical clips project over the left breast, and old left rib fractures are noted. ', 'impression': 'No acute cardiopulmonary process.'}\n",
      "\n",
      " sample of val set {'image': <PIL.JpegImagePlugin.JpegImageFile image mode=RGB size=512x512 at 0x78BB70106290>, 'findings': 'Lung volumes are low. Mild interstitial pulmonary edema is present. Compared with prior chest radiograph there is a new confluent opacity in the right lower lung, obscuring some portions of the right hemidiaphragm margin. The left lung is clear. There may be a small layering pleural effusion in the right and chronic pleural thickening is redemonstrated. There is no evidence of pneumothorax. Severe S type scoliosis is again seen and not significantly changed from prior. Cardiac size cannot be assessed in this AP view but appears stable compared with . ', 'impression': 'New right lower lobe opacity compatible with pneumonia vs atelectasis. Mild interstitial pulmonary edema unchanged from prior.'}\n",
      "\n",
      " sample of test set {'image': <PIL.JpegImagePlugin.JpegImageFile image mode=RGB size=512x512 at 0x78BB70106380>, 'findings': 'Single portable view of the chest. Exam is limited secondary to portable technique and overlying soft tissues. There is central pulmonary vascular engorgement but without evidence of frank pulmonary edema. Retrocardiac opacity is not well seen likely technical. Cardiac silhouette is enlarged but stable. ', 'impression': 'Central pulmonary vascular engorgement without evidence of frank pulmonary edema based on this limited portable exam as above.'}\n"
     ]
    }
   ],
   "source": [
    "print(\"\\n sample of train set\",train_dataset[0])\n",
    "print(\"\\n sample of val set\",val_dataset[0])\n",
    "print(\"\\n sample of test set\",test_dataset[0])"
   ]
  },
  {
   "cell_type": "code",
   "execution_count": 47,
   "id": "a4668bf0",
   "metadata": {},
   "outputs": [
    {
     "data": {
      "image/png": "[encoded data removed]",
      "text/plain": [
       "<Figure size 400x600 with 2 Axes>"
      ]
     },
     "metadata": {},
     "output_type": "display_data"
    },
    {
     "data": {
      "image/png": "[encoded data removed]",
      "text/plain": [
       "<Figure size 400x600 with 2 Axes>"
      ]
     },
     "metadata": {},
     "output_type": "display_data"
    },
    {
     "data": {
      "image/png": "[encoded data removed]",
      "text/plain": [
       "<Figure size 400x600 with 2 Axes>"
      ]
     },
     "metadata": {},
     "output_type": "display_data"
    }
   ],
   "source": [
    "import matplotlib.pyplot as plt\n",
    "\n",
    "# Assuming sample_data contains your data with the image\n",
    "def display_sample(sample_data):\n",
    "    # Extract components\n",
    "    image = sample_data['image']\n",
    "    findings = sample_data['findings']\n",
    "    impression = sample_data['impression']\n",
    "    \n",
    "    # Create figure\n",
    "    plt.figure(figsize=(4,6))\n",
    "    \n",
    "    # Display image\n",
    "    plt.subplot(2, 1, 1)\n",
    "    plt.imshow(image)\n",
    "    plt.axis('off')\n",
    "    plt.title('Chest X-ray')\n",
    "    \n",
    "    # Display text\n",
    "    plt.subplot(2, 1, 2)\n",
    "    plt.axis('off')\n",
    "    plt.text(0, 0.8, f\"Findings: {findings}\", wrap=True, fontsize=12)\n",
    "    plt.text(0, 0.2, f\"Impression: {impression}\", wrap=True, fontsize=12, fontweight='bold')\n",
    "    \n",
    "    plt.tight_layout()\n",
    "    plt.show()\n",
    "\n",
    "# Call the function with your sample data\n",
    "count = 0\n",
    "for sample in train_dataset:\n",
    "    count += 1\n",
    "    if count > 3:\n",
    "        break\n",
    "    display_sample(sample)  # Replace with your actual variable name\n",
    "# Replace with your actual variable name"
   ]
  },
  {
   "cell_type": "code",
   "execution_count": 48,
   "id": "9c47d4fa",
   "metadata": {},
   "outputs": [],
   "source": [
    "# from PIL import Image\n",
    "# import os\n",
    "\n",
    "# file_path = sample['File_Path']  # this exists\n",
    "# full_path = os.path.join(BASE_DIR, file_path)\n",
    "\n",
    "# image = Image.open(full_path).convert(\"RGB\")\n",
    "# image.show()\n"
   ]
  },
  {
   "cell_type": "code",
   "execution_count": 49,
   "id": "c22826f9",
   "metadata": {},
   "outputs": [],
   "source": [
    "# print(type(sample['image']))  # should be <class 'PIL.Image.Image'>\n",
    "# sample['image'].show() "
   ]
  },
  {
   "cell_type": "code",
   "execution_count": 50,
   "id": "daf52b1a",
   "metadata": {},
   "outputs": [],
   "source": [
    "# Preprocessing function\n",
    "def preprocess(examples):\n",
    "    images = [img.convert(\"RGB\") for img in examples[\"image\"]]\n",
    "    texts = [text if text else \"\" for text in examples[\"impression\"]]\n",
    "    inputs = processor(text=texts, images=images, return_tensors=\"pt\", padding=True, truncation=True)\n",
    "    return inputs\n",
    "\n",
    "# Custom PyTorch dataset wrapper\n",
    "class CLIPDataset(torch.utils.data.Dataset):\n",
    "    def __init__(self, hf_dataset):\n",
    "        self.dataset = hf_dataset\n",
    "\n",
    "    def __len__(self):\n",
    "        return len(self.dataset)\n",
    "\n",
    "    def __getitem__(self, idx):\n",
    "        example = self.dataset[idx]\n",
    "        image = example[\"image\"].convert(\"RGB\")\n",
    "        text = example[\"impression\"]\n",
    "        return {\"image\": image, \"text\": text}\n",
    "# from PIL import Image\n",
    "\n",
    "# class CLIPDataset(torch.utils.data.Dataset):\n",
    "#     def __init__(self, hf_dataset, root_dir=\"\"):\n",
    "#         self.dataset = hf_dataset\n",
    "#         self.root_dir = root_dir  # Path to \"MIMIC-CXR-JPG\" folder\n",
    "\n",
    "#     def __len__(self):\n",
    "#         return len(self.dataset)\n",
    "\n",
    "#     def __getitem__(self, idx):\n",
    "#         example = self.dataset[idx]\n",
    "#         img_path = os.path.join(self.root_dir, example[\"File_Path\"])\n",
    "#         image = Image.open(img_path).convert(\"RGB\")\n",
    "#         text = example[\"Impression\"]\n",
    "#         return {\"image\": image, \"text\": text}\n",
    "\n",
    "\n",
    "# # Collate function using CLIPProcessor\n",
    "def collate_fn(batch):\n",
    "    images = [b[\"image\"] for b in batch]\n",
    "    texts = [b[\"text\"] for b in batch]\n",
    "    return processor(text=texts, images=images, return_tensors=\"pt\", padding=True, truncation=True)\n",
    "\n"
   ]
  },
  {
   "cell_type": "code",
   "execution_count": 51,
   "id": "4f15dc88",
   "metadata": {},
   "outputs": [],
   "source": [
    "# DataLoader\n",
    "train_ds = CLIPDataset(train_dataset)\n",
    "train_loader = DataLoader(train_ds, batch_size=16, shuffle=True, collate_fn=collate_fn)\n",
    "# Validation DataLoader\n",
    "val_dataset = CLIPDataset(val_dataset)\n",
    "val_loader = DataLoader(val_dataset, batch_size=16, shuffle=False, collate_fn=collate_fn)\n",
    "# Test DataLoader\n",
    "test_dataset = CLIPDataset(test_dataset)\n",
    "test_loader = DataLoader(test_dataset, batch_size=16, shuffle=False, collate_fn=collate_fn)\n",
    "# Training loop\n",
    "# Optimizer\n",
    "optimizer = AdamW(model.parameters(), lr=5e-6)"
   ]
  },
  {
   "cell_type": "code",
   "execution_count": 52,
   "id": "3327c166",
   "metadata": {},
   "outputs": [],
   "source": [
    "# from models.clip.dataset import ProcessedCLIPDa"
   ]
  },
  {
   "cell_type": "code",
   "execution_count": 53,
   "id": "44d43d5e",
   "metadata": {},
   "outputs": [],
   "source": [
    "# train_ds = ProcessedCLIPDataset(\"data/raw/texts/train.json\", \"data/raw\")\n",
    "# val_ds = ProcessedCLIPDataset(\"data/raw/texts/validation.json\", \"data/raw\")\n",
    "# test_ds = ProcessedCLIPDataset(\"data/raw/texts/test.json\", \"data/raw\")"
   ]
  },
  {
   "cell_type": "code",
   "execution_count": 54,
   "id": "f47f3339",
   "metadata": {},
   "outputs": [],
   "source": [
    "# train_loader = DataLoader(train_ds, batch_size=16, shuffle=True, collate_fn=collate_fn)\n",
    "# val_loader = DataLoader(val_ds, batch_size=16, shuffle=False, collate_fn=collate_fn,drop_last=True)\n"
   ]
  },
  {
   "cell_type": "code",
   "execution_count": 55,
   "id": "eca9773d",
   "metadata": {},
   "outputs": [
    {
     "data": {
      "text/plain": [
       "<__main__.CLIPDataset at 0x78bb68bf44c0>"
      ]
     },
     "execution_count": 55,
     "metadata": {},
     "output_type": "execute_result"
    }
   ],
   "source": [
    "train_ds"
   ]
  },
  {
   "cell_type": "code",
   "execution_count": 56,
   "id": "5c4d6d17",
   "metadata": {},
   "outputs": [
    {
     "data": {
      "text/plain": [
       "<torch.utils.data.dataloader.DataLoader at 0x78bb68bf7cd0>"
      ]
     },
     "execution_count": 56,
     "metadata": {},
     "output_type": "execute_result"
    }
   ],
   "source": [
    "train_loader"
   ]
  },
  {
   "cell_type": "code",
   "execution_count": 57,
   "id": "6238c978",
   "metadata": {},
   "outputs": [
    {
     "data": {
      "text/plain": [
       "<torch.utils.data.dataloader.DataLoader at 0x78bb72dceb30>"
      ]
     },
     "execution_count": 57,
     "metadata": {},
     "output_type": "execute_result"
    }
   ],
   "source": [
    "val_loader"
   ]
  },
  {
   "cell_type": "code",
   "execution_count": 58,
   "id": "14371517",
   "metadata": {},
   "outputs": [
    {
     "data": {
      "text/plain": [
       "<__main__.CLIPDataset at 0x78bb7040bd00>"
      ]
     },
     "execution_count": 58,
     "metadata": {},
     "output_type": "execute_result"
    }
   ],
   "source": [
    "val_dataset"
   ]
  },
  {
   "cell_type": "markdown",
   "id": "f2e44d77",
   "metadata": {},
   "source": [
    "## CLAUDE SUGGESTION:"
   ]
  },
  {
   "cell_type": "code",
   "execution_count": 59,
   "id": "f2e82d8c",
   "metadata": {},
   "outputs": [],
   "source": [
    "# def do_train(model, train_loader, optimizer, epoch, device, scheduler=None, max_grad_norm=1.0):\n",
    "#     model.train()\n",
    "#     total_loss = 0.0\n",
    "#     start_time = time.time()\n",
    "\n",
    "#     for batch_idx, batch in enumerate(train_loader):\n",
    "#         batch = {k: v.to(device) for k, v in batch.items()}\n",
    "\n",
    "#         # Forward pass\n",
    "#         outputs = model(**batch, return_loss=True)\n",
    "#         loss = outputs.loss\n",
    "\n",
    "#         # Backward pass\n",
    "#         loss.backward()\n",
    "\n",
    "#         # Gradient clipping for stability\n",
    "#         if max_grad_norm > 0:\n",
    "#             clip_grad_norm_(model.parameters(), max_grad_norm)\n",
    "\n",
    "#         optimizer.step()\n",
    "#         optimizer.zero_grad()\n",
    "\n",
    "#         total_loss += loss.item()\n",
    "\n",
    "#         # Report progress for long epochs\n",
    "#         if batch_idx % 50 == 0:\n",
    "#             print(f\"  Batch {batch_idx}/{len(train_loader)} - Loss: {loss.item():.4f}\")\n",
    "\n",
    "#     # Step the scheduler if provided\n",
    "#     if scheduler is not None:\n",
    "#         scheduler.step()\n",
    "\n",
    "#     train_time = time.time() - start_time\n",
    "#     avg_train_loss = total_loss / len(train_loader)\n",
    "\n",
    "#     return avg_train_loss, train_time\n",
    "\n",
    "# @torch.no_grad()\n",
    "# def do_eval(model, val_loader, device):\n",
    "#     model.eval()\n",
    "#     total_loss = 0.0\n",
    "#     all_preds = []\n",
    "#     all_labels = []\n",
    "#     start_time = time.time()\n",
    "\n",
    "#     for batch in val_loader:\n",
    "#         batch = {k: v.to(device) for k, v in batch.items()}\n",
    "\n",
    "#         # Get loss\n",
    "#         outputs = model(**batch, return_loss=True)\n",
    "#         loss = outputs.loss\n",
    "#         total_loss += loss.item()\n",
    "\n",
    "#         # Get image and text features\n",
    "#         image_embeds = model.get_image_features(pixel_values=batch['pixel_values'])\n",
    "#         text_embeds = model.get_text_features(\n",
    "#             input_ids=batch['input_ids'],\n",
    "#             attention_mask=batch['attention_mask']\n",
    "#         )\n",
    "\n",
    "#         # Normalize\n",
    "#         image_embeds = image_embeds / image_embeds.norm(dim=-1, keepdim=True)\n",
    "#         text_embeds = text_embeds / text_embeds.norm(dim=-1, keepdim=True)\n",
    "\n",
    "#         # Compute similarity\n",
    "#         logits = torch.matmul(image_embeds, text_embeds.T) * model.logit_scale.exp()\n",
    "\n",
    "#         # Prediction (diagonal elements should be highest)\n",
    "#         preds = torch.argmax(logits, dim=1)\n",
    "#         labels = torch.arange(len(preds)).to(device)\n",
    "\n",
    "#         all_preds.extend(preds.cpu().tolist())\n",
    "#         all_labels.extend(labels.cpu().tolist())\n",
    "\n",
    "#     val_time = time.time() - start_time\n",
    "#     avg_val_loss = total_loss / len(val_loader)\n",
    "#     val_acc = accuracy_score(all_labels, all_preds)\n",
    "\n",
    "#     return avg_val_loss, val_acc, val_time"
   ]
  },
  {
   "cell_type": "code",
   "execution_count": 60,
   "id": "6ce3aaff",
   "metadata": {},
   "outputs": [],
   "source": [
    "def do_train(model, train_loader, optimizer, epoch, device, scheduler=None, max_grad_norm=1.0, log_interval=10):\n",
    "    model.train()\n",
    "    total_loss = 0.0\n",
    "    start_time = time.time()\n",
    "    \n",
    "    progress_bar = tqdm(train_loader, desc=f\"Epoch {epoch} Training\")\n",
    "    \n",
    "    for batch_idx, batch in enumerate(progress_bar):\n",
    "        batch = {k: v.to(device) for k, v in batch.items()}\n",
    "        \n",
    "        # Get image and text features\n",
    "        image_features = model.get_image_features(pixel_values=batch['pixel_values'])\n",
    "        text_features = model.get_text_features(\n",
    "            input_ids=batch['input_ids'],\n",
    "            attention_mask=batch.get('attention_mask', None)  # Handle if attention_mask isn't available\n",
    "        )\n",
    "        \n",
    "        # Normalize\n",
    "        image_features = image_features / image_features.norm(dim=-1, keepdim=True)\n",
    "        text_features = text_features / text_features.norm(dim=-1, keepdim=True)\n",
    "        \n",
    "        # Compute logits\n",
    "        logit_scale = model.logit_scale.exp()\n",
    "        logits_per_image = logit_scale * image_features @ text_features.T\n",
    "        logits_per_text = logits_per_image.T\n",
    "        \n",
    "        # Compute loss (bidirectional)\n",
    "        batch_size = image_features.size(0)\n",
    "        labels = torch.arange(batch_size, device=device)\n",
    "        loss = (F.cross_entropy(logits_per_image, labels) + F.cross_entropy(logits_per_text, labels)) / 2\n",
    "        \n",
    "        # Backward pass\n",
    "        optimizer.zero_grad()\n",
    "        loss.backward()\n",
    "        \n",
    "        # Gradient clipping for stability\n",
    "        if max_grad_norm > 0:\n",
    "            clip_grad_norm_(model.parameters(), max_grad_norm)\n",
    "        \n",
    "        optimizer.step()\n",
    "        \n",
    "        total_loss += loss.item()\n",
    "        progress_bar.set_postfix({\"loss\": loss.item()})\n",
    "        \n",
    "        if batch_idx % log_interval == 0:\n",
    "            lr = optimizer.param_groups[0]['lr']\n",
    "            print(f\"Epoch {epoch} [{batch_idx}/{len(train_loader)}] Loss: {loss.item():.4f}, LR: {lr:.6f}\")\n",
    "    \n",
    "    # Step the scheduler if provided\n",
    "    if scheduler is not None:\n",
    "        scheduler.step()\n",
    "    \n",
    "    train_time = time.time() - start_time\n",
    "    avg_train_loss = total_loss / len(train_loader)\n",
    "    print(f\"Epoch {epoch}: Avg Loss: {avg_train_loss:.4f}, Time: {train_time:.2f}s\")\n",
    "    \n",
    "    return avg_train_loss, train_time\n",
    "@torch.no_grad()\n",
    "def do_eval(model, val_loader, device):\n",
    "    model.eval()\n",
    "    total_loss = 0.0\n",
    "    all_image_to_text_preds, all_image_to_text_labels = [], []\n",
    "    all_text_to_image_preds, all_text_to_image_labels = [], []\n",
    "    all_logits_per_image, all_logits_per_text = [], []\n",
    "    start_time = time.time()\n",
    "    \n",
    "    for batch in val_loader:\n",
    "        batch = {k: v.to(device) for k, v in batch.items()}\n",
    "        \n",
    "        # Get loss\n",
    "        outputs = model(**batch, return_loss=True)\n",
    "        loss = outputs.loss\n",
    "        total_loss += loss.item()\n",
    "        \n",
    "        # Get image and text features\n",
    "        image_embeds = model.get_image_features(pixel_values=batch['pixel_values'])\n",
    "        text_embeds = model.get_text_features(\n",
    "            input_ids=batch['input_ids'],\n",
    "            attention_mask=batch.get('attention_mask', None)  # Handle if attention_mask isn't available\n",
    "        )\n",
    "        \n",
    "        # Normalize\n",
    "        image_embeds = image_embeds / image_embeds.norm(dim=-1, keepdim=True)\n",
    "        text_embeds = text_embeds / text_embeds.norm(dim=-1, keepdim=True)\n",
    "        \n",
    "        # Compute similarities in both directions\n",
    "        logit_scale = model.logit_scale.exp()\n",
    "        logits_per_image = logit_scale * torch.matmul(image_embeds, text_embeds.T)\n",
    "        logits_per_text = logits_per_image.T\n",
    "        \n",
    "        # Create labels (diagonal elements should match)\n",
    "        batch_size = image_embeds.size(0)\n",
    "        labels = torch.arange(batch_size).to(device)\n",
    "        \n",
    "        # Get predictions for both directions\n",
    "        image_to_text_preds = torch.argmax(logits_per_image, dim=1)\n",
    "        text_to_image_preds = torch.argmax(logits_per_text, dim=1)\n",
    "        \n",
    "        # Store results for later computation\n",
    "        all_image_to_text_preds.extend(image_to_text_preds.cpu().tolist())\n",
    "        all_image_to_text_labels.extend(labels.cpu().tolist())\n",
    "        all_text_to_image_preds.extend(text_to_image_preds.cpu().tolist())\n",
    "        all_text_to_image_labels.extend(labels.cpu().tolist())\n",
    "        \n",
    "        # Store logits for computing top-5 metrics\n",
    "        all_logits_per_image.append(logits_per_image.cpu())\n",
    "        all_logits_per_text.append(logits_per_text.cpu())\n",
    "    \n",
    "    # Compute metrics\n",
    "    val_time = time.time() - start_time\n",
    "    avg_val_loss = total_loss / len(val_loader)\n",
    "    \n",
    "    # Compute regular accuracy metrics\n",
    "    image_to_text_acc = accuracy_score(all_image_to_text_labels, all_image_to_text_preds)\n",
    "    text_to_image_acc = accuracy_score(all_text_to_image_labels, all_text_to_image_preds)\n",
    "    \n",
    "    # Compute top-5 metrics\n",
    "    top5_image_scores, top5_text_scores = [], []\n",
    "    for logits_img, logits_txt in zip(all_logits_per_image, all_logits_per_text):\n",
    "        batch_size = logits_img.shape[0]\n",
    "        labels = list(range(batch_size))\n",
    "        k = min(5, batch_size)  # Handle batches smaller than 5\n",
    "        \n",
    "        # Use sklearn's top_k_accuracy_score\n",
    "        top5_image_scores.append(top_k_accuracy_score(labels, logits_img.numpy(), k=k, labels=labels))\n",
    "        top5_text_scores.append(top_k_accuracy_score(labels, logits_txt.numpy(), k=k, labels=labels))\n",
    "    \n",
    "    # Average top-5 scores across batches\n",
    "    image_to_text_top5 = sum(top5_image_scores) / len(top5_image_scores) if top5_image_scores else 0\n",
    "    text_to_image_top5 = sum(top5_text_scores) / len(top5_text_scores) if top5_text_scores else 0\n",
    "    \n",
    "    # Display results\n",
    "    print(f\"Validation Results:\")\n",
    "    print(f\"  Loss: {avg_val_loss:.4f}\")\n",
    "    print(f\"  Image→Text Accuracy: {image_to_text_acc:.4f} (Top-5: {image_to_text_top5:.4f})\")\n",
    "    print(f\"  Text→Image Accuracy: {text_to_image_acc:.4f} (Top-5: {text_to_image_top5:.4f})\")\n",
    "    \n",
    "    # Return all metrics\n",
    "    return {\n",
    "        \"avg_val_loss\": avg_val_loss,\n",
    "        \"image_to_text_acc\": image_to_text_acc,\n",
    "        \"text_to_image_acc\": text_to_image_acc,\n",
    "        \"image_to_text_top5\": image_to_text_top5,\n",
    "        \"text_to_image_top5\": text_to_image_top5,\n",
    "        \"val_time\": val_time\n",
    "    }"
   ]
  },
  {
   "cell_type": "code",
   "execution_count": 61,
   "id": "4014d7c9",
   "metadata": {},
   "outputs": [],
   "source": [
    "import torch.nn.functional as F\n"
   ]
  },
  {
   "cell_type": "code",
   "execution_count": 62,
   "id": "7fc86fac",
   "metadata": {},
   "outputs": [],
   "source": [
    "# train_losses, val_losses, val_accuracies = [], [], []\n",
    "\n",
    "# EPOCHS=6\n",
    "# for epoch in range(EPOCHS):\n",
    "#     print(f\"\\n🚀 Epoch {epoch+1}/{EPOCHS}\")\n",
    "\n",
    "#     avg_train_loss, train_time = do_train(model, train_loader, optimizer, epoch, device=\"cuda\")\n",
    "#     avg_val_loss,val_acc, val_time = do_eval(model, val_loader, device=\"cuda\")\n",
    "#     print(f\"\\n🚀Epoch {epoch+1} Summary:\")\n",
    "#     print(f\"✅ Epoch {epoch+1} - Train Loss: {avg_train_loss:.4f} - Time: {train_time:.2f}s\")\n",
    "#     print(f\"📊 Validation Loss: {avg_val_loss:.4f} | val_Acc: {val_acc*100:.4f}% | Time: {val_time:.2f}s\")\n",
    "\n",
    "#     train_losses.append(avg_train_loss)\n",
    "#     val_losses.append(avg_val_loss)\n",
    "#     val_accuracies.append(val_acc)\n"
   ]
  },
  {
   "cell_type": "code",
   "execution_count": 63,
   "id": "269496d0",
   "metadata": {},
   "outputs": [
    {
     "name": "stdout",
     "output_type": "stream",
     "text": [
      "\n",
      "🚀 Epoch 1/3\n"
     ]
    },
    {
     "name": "stderr",
     "output_type": "stream",
     "text": [
      "Epoch 0 Training:   0%|          | 2/1532 [00:00<05:25,  4.70it/s, loss=3.73]"
     ]
    },
    {
     "name": "stdout",
     "output_type": "stream",
     "text": [
      "Epoch 0 [0/1532] Loss: 3.6468, LR: 0.000005\n"
     ]
    },
    {
     "name": "stderr",
     "output_type": "stream",
     "text": [
      "Epoch 0 Training:   1%|          | 12/1532 [00:02<04:33,  5.56it/s, loss=2.77]"
     ]
    },
    {
     "name": "stdout",
     "output_type": "stream",
     "text": [
      "Epoch 0 [10/1532] Loss: 2.7599, LR: 0.000005\n"
     ]
    },
    {
     "name": "stderr",
     "output_type": "stream",
     "text": [
      "Epoch 0 Training:   1%|          | 13/1532 [00:02<04:37,  5.48it/s, loss=2.89]"
     ]
    },
    {
     "name": "stderr",
     "output_type": "stream",
     "text": [
      "Epoch 0 Training:   1%|▏         | 22/1532 [00:04<04:35,  5.47it/s, loss=2.8] "
     ]
    },
    {
     "name": "stdout",
     "output_type": "stream",
     "text": [
      "Epoch 0 [20/1532] Loss: 2.8061, LR: 0.000005\n"
     ]
    },
    {
     "name": "stderr",
     "output_type": "stream",
     "text": [
      "Epoch 0 Training:   2%|▏         | 32/1532 [00:05<04:39,  5.36it/s, loss=2.77]"
     ]
    },
    {
     "name": "stdout",
     "output_type": "stream",
     "text": [
      "Epoch 0 [30/1532] Loss: 2.7788, LR: 0.000005\n"
     ]
    },
    {
     "name": "stderr",
     "output_type": "stream",
     "text": [
      "Epoch 0 Training:   3%|▎         | 42/1532 [00:07<04:34,  5.43it/s, loss=2.73]"
     ]
    },
    {
     "name": "stdout",
     "output_type": "stream",
     "text": [
      "Epoch 0 [40/1532] Loss: 2.7507, LR: 0.000005\n"
     ]
    },
    {
     "name": "stderr",
     "output_type": "stream",
     "text": [
      "Epoch 0 Training:   3%|▎         | 52/1532 [00:09<04:28,  5.51it/s, loss=2.37]"
     ]
    },
    {
     "name": "stdout",
     "output_type": "stream",
     "text": [
      "Epoch 0 [50/1532] Loss: 2.6627, LR: 0.000005\n"
     ]
    },
    {
     "name": "stderr",
     "output_type": "stream",
     "text": [
      "Epoch 0 Training:   4%|▍         | 62/1532 [00:11<04:28,  5.48it/s, loss=2.87]"
     ]
    },
    {
     "name": "stdout",
     "output_type": "stream",
     "text": [
      "Epoch 0 [60/1532] Loss: 2.8501, LR: 0.000005\n"
     ]
    },
    {
     "name": "stderr",
     "output_type": "stream",
     "text": [
      "Epoch 0 Training:   5%|▍         | 72/1532 [00:13<04:22,  5.57it/s, loss=2.75]"
     ]
    },
    {
     "name": "stdout",
     "output_type": "stream",
     "text": [
      "Epoch 0 [70/1532] Loss: 2.7376, LR: 0.000005\n"
     ]
    },
    {
     "name": "stderr",
     "output_type": "stream",
     "text": [
      "Epoch 0 Training:   5%|▌         | 82/1532 [00:15<04:25,  5.47it/s, loss=2.67]"
     ]
    },
    {
     "name": "stdout",
     "output_type": "stream",
     "text": [
      "Epoch 0 [80/1532] Loss: 2.6138, LR: 0.000005\n"
     ]
    },
    {
     "name": "stderr",
     "output_type": "stream",
     "text": [
      "Epoch 0 Training:   6%|▌         | 92/1532 [00:16<04:16,  5.62it/s, loss=2.7] "
     ]
    },
    {
     "name": "stdout",
     "output_type": "stream",
     "text": [
      "Epoch 0 [90/1532] Loss: 2.6266, LR: 0.000005\n"
     ]
    },
    {
     "name": "stderr",
     "output_type": "stream",
     "text": [
      "Epoch 0 Training:   7%|▋         | 102/1532 [00:18<04:17,  5.55it/s, loss=2.57]"
     ]
    },
    {
     "name": "stdout",
     "output_type": "stream",
     "text": [
      "Epoch 0 [100/1532] Loss: 2.6220, LR: 0.000005\n"
     ]
    },
    {
     "name": "stderr",
     "output_type": "stream",
     "text": [
      "Epoch 0 Training:   7%|▋         | 112/1532 [00:20<04:24,  5.38it/s, loss=2.62]"
     ]
    },
    {
     "name": "stdout",
     "output_type": "stream",
     "text": [
      "Epoch 0 [110/1532] Loss: 2.4720, LR: 0.000005\n"
     ]
    },
    {
     "name": "stderr",
     "output_type": "stream",
     "text": [
      "Epoch 0 Training:   8%|▊         | 122/1532 [00:22<04:25,  5.32it/s, loss=2.72]"
     ]
    },
    {
     "name": "stdout",
     "output_type": "stream",
     "text": [
      "Epoch 0 [120/1532] Loss: 2.7183, LR: 0.000005\n"
     ]
    },
    {
     "name": "stderr",
     "output_type": "stream",
     "text": [
      "Epoch 0 Training:   9%|▊         | 132/1532 [00:24<04:15,  5.49it/s, loss=2.6] "
     ]
    },
    {
     "name": "stdout",
     "output_type": "stream",
     "text": [
      "Epoch 0 [130/1532] Loss: 2.6655, LR: 0.000005\n"
     ]
    },
    {
     "name": "stderr",
     "output_type": "stream",
     "text": [
      "Epoch 0 Training:   9%|▉         | 142/1532 [00:26<04:17,  5.39it/s, loss=2.46]"
     ]
    },
    {
     "name": "stdout",
     "output_type": "stream",
     "text": [
      "Epoch 0 [140/1532] Loss: 2.5548, LR: 0.000005\n"
     ]
    },
    {
     "name": "stderr",
     "output_type": "stream",
     "text": [
      "Epoch 0 Training:  10%|▉         | 152/1532 [00:27<04:14,  5.43it/s, loss=2.49]"
     ]
    },
    {
     "name": "stdout",
     "output_type": "stream",
     "text": [
      "Epoch 0 [150/1532] Loss: 2.5174, LR: 0.000005\n"
     ]
    },
    {
     "name": "stderr",
     "output_type": "stream",
     "text": [
      "Epoch 0 Training:  11%|█         | 162/1532 [00:29<04:05,  5.57it/s, loss=2.5] "
     ]
    },
    {
     "name": "stdout",
     "output_type": "stream",
     "text": [
      "Epoch 0 [160/1532] Loss: 2.4841, LR: 0.000005\n"
     ]
    },
    {
     "name": "stderr",
     "output_type": "stream",
     "text": [
      "Epoch 0 Training:  11%|█         | 172/1532 [00:31<04:08,  5.46it/s, loss=2.26]"
     ]
    },
    {
     "name": "stdout",
     "output_type": "stream",
     "text": [
      "Epoch 0 [170/1532] Loss: 2.4845, LR: 0.000005\n"
     ]
    },
    {
     "name": "stderr",
     "output_type": "stream",
     "text": [
      "Epoch 0 Training:  12%|█▏        | 182/1532 [00:33<04:17,  5.25it/s, loss=2.54]"
     ]
    },
    {
     "name": "stdout",
     "output_type": "stream",
     "text": [
      "Epoch 0 [180/1532] Loss: 2.5469, LR: 0.000005\n"
     ]
    },
    {
     "name": "stderr",
     "output_type": "stream",
     "text": [
      "Epoch 0 Training:  13%|█▎        | 192/1532 [00:35<04:02,  5.52it/s, loss=2.3] "
     ]
    },
    {
     "name": "stdout",
     "output_type": "stream",
     "text": [
      "Epoch 0 [190/1532] Loss: 2.6010, LR: 0.000005\n"
     ]
    },
    {
     "name": "stderr",
     "output_type": "stream",
     "text": [
      "Epoch 0 Training:  13%|█▎        | 202/1532 [00:37<04:10,  5.32it/s, loss=2.49]"
     ]
    },
    {
     "name": "stdout",
     "output_type": "stream",
     "text": [
      "Epoch 0 [200/1532] Loss: 2.3937, LR: 0.000005\n"
     ]
    },
    {
     "name": "stderr",
     "output_type": "stream",
     "text": [
      "Epoch 0 Training:  14%|█▍        | 212/1532 [00:38<04:11,  5.25it/s, loss=2.52]"
     ]
    },
    {
     "name": "stdout",
     "output_type": "stream",
     "text": [
      "Epoch 0 [210/1532] Loss: 2.4579, LR: 0.000005\n"
     ]
    },
    {
     "name": "stderr",
     "output_type": "stream",
     "text": [
      "Epoch 0 Training:  14%|█▍        | 222/1532 [00:40<03:57,  5.53it/s, loss=2.28]"
     ]
    },
    {
     "name": "stdout",
     "output_type": "stream",
     "text": [
      "Epoch 0 [220/1532] Loss: 2.6613, LR: 0.000005\n"
     ]
    },
    {
     "name": "stderr",
     "output_type": "stream",
     "text": [
      "Epoch 0 Training:  15%|█▌        | 232/1532 [00:42<03:57,  5.47it/s, loss=2.4] "
     ]
    },
    {
     "name": "stdout",
     "output_type": "stream",
     "text": [
      "Epoch 0 [230/1532] Loss: 2.4905, LR: 0.000005\n"
     ]
    },
    {
     "name": "stderr",
     "output_type": "stream",
     "text": [
      "Epoch 0 Training:  16%|█▌        | 242/1532 [00:44<03:57,  5.44it/s, loss=2.45]"
     ]
    },
    {
     "name": "stdout",
     "output_type": "stream",
     "text": [
      "Epoch 0 [240/1532] Loss: 2.6370, LR: 0.000005\n"
     ]
    },
    {
     "name": "stderr",
     "output_type": "stream",
     "text": [
      "Epoch 0 Training:  16%|█▋        | 252/1532 [00:46<03:49,  5.59it/s, loss=2.41]"
     ]
    },
    {
     "name": "stdout",
     "output_type": "stream",
     "text": [
      "Epoch 0 [250/1532] Loss: 2.4036, LR: 0.000005\n"
     ]
    },
    {
     "name": "stderr",
     "output_type": "stream",
     "text": [
      "Epoch 0 Training:  17%|█▋        | 262/1532 [00:48<03:51,  5.47it/s, loss=2.57]"
     ]
    },
    {
     "name": "stdout",
     "output_type": "stream",
     "text": [
      "Epoch 0 [260/1532] Loss: 2.1214, LR: 0.000005\n"
     ]
    },
    {
     "name": "stderr",
     "output_type": "stream",
     "text": [
      "Epoch 0 Training:  18%|█▊        | 272/1532 [00:49<03:50,  5.47it/s, loss=2.5] "
     ]
    },
    {
     "name": "stdout",
     "output_type": "stream",
     "text": [
      "Epoch 0 [270/1532] Loss: 2.3607, LR: 0.000005\n"
     ]
    },
    {
     "name": "stderr",
     "output_type": "stream",
     "text": [
      "Epoch 0 Training:  18%|█▊        | 282/1532 [00:51<03:51,  5.40it/s, loss=2.36]"
     ]
    },
    {
     "name": "stdout",
     "output_type": "stream",
     "text": [
      "Epoch 0 [280/1532] Loss: 2.2700, LR: 0.000005\n"
     ]
    },
    {
     "name": "stderr",
     "output_type": "stream",
     "text": [
      "Epoch 0 Training:  19%|█▉        | 292/1532 [00:53<03:53,  5.32it/s, loss=2.3] "
     ]
    },
    {
     "name": "stdout",
     "output_type": "stream",
     "text": [
      "Epoch 0 [290/1532] Loss: 2.6067, LR: 0.000005\n"
     ]
    },
    {
     "name": "stderr",
     "output_type": "stream",
     "text": [
      "Epoch 0 Training:  20%|█▉        | 302/1532 [00:55<03:46,  5.42it/s, loss=2.15]"
     ]
    },
    {
     "name": "stdout",
     "output_type": "stream",
     "text": [
      "Epoch 0 [300/1532] Loss: 2.3067, LR: 0.000005\n"
     ]
    },
    {
     "name": "stderr",
     "output_type": "stream",
     "text": [
      "Epoch 0 Training:  20%|██        | 312/1532 [00:57<03:40,  5.53it/s, loss=2.7] "
     ]
    },
    {
     "name": "stdout",
     "output_type": "stream",
     "text": [
      "Epoch 0 [310/1532] Loss: 3.0453, LR: 0.000005\n"
     ]
    },
    {
     "name": "stderr",
     "output_type": "stream",
     "text": [
      "Epoch 0 Training:  21%|██        | 322/1532 [00:59<03:44,  5.39it/s, loss=2.24]"
     ]
    },
    {
     "name": "stdout",
     "output_type": "stream",
     "text": [
      "Epoch 0 [320/1532] Loss: 2.2927, LR: 0.000005\n"
     ]
    },
    {
     "name": "stderr",
     "output_type": "stream",
     "text": [
      "Epoch 0 Training:  22%|██▏       | 332/1532 [01:01<03:40,  5.44it/s, loss=2.66]"
     ]
    },
    {
     "name": "stdout",
     "output_type": "stream",
     "text": [
      "Epoch 0 [330/1532] Loss: 2.5260, LR: 0.000005\n"
     ]
    },
    {
     "name": "stderr",
     "output_type": "stream",
     "text": [
      "Epoch 0 Training:  22%|██▏       | 342/1532 [01:02<03:42,  5.35it/s, loss=2.27]"
     ]
    },
    {
     "name": "stdout",
     "output_type": "stream",
     "text": [
      "Epoch 0 [340/1532] Loss: 2.4300, LR: 0.000005\n"
     ]
    },
    {
     "name": "stderr",
     "output_type": "stream",
     "text": [
      "Epoch 0 Training:  23%|██▎       | 352/1532 [01:04<03:41,  5.32it/s, loss=2.49]"
     ]
    },
    {
     "name": "stdout",
     "output_type": "stream",
     "text": [
      "Epoch 0 [350/1532] Loss: 2.1751, LR: 0.000005\n"
     ]
    },
    {
     "name": "stderr",
     "output_type": "stream",
     "text": [
      "Epoch 0 Training:  24%|██▎       | 362/1532 [01:06<03:31,  5.53it/s, loss=2.56]"
     ]
    },
    {
     "name": "stdout",
     "output_type": "stream",
     "text": [
      "Epoch 0 [360/1532] Loss: 2.2433, LR: 0.000005\n"
     ]
    },
    {
     "name": "stderr",
     "output_type": "stream",
     "text": [
      "Epoch 0 Training:  24%|██▍       | 371/1532 [01:08<03:41,  5.24it/s, loss=2.51]"
     ]
    },
    {
     "name": "stdout",
     "output_type": "stream",
     "text": [
      "Epoch 0 [370/1532] Loss: 2.5081, LR: 0.000005\n"
     ]
    },
    {
     "name": "stderr",
     "output_type": "stream",
     "text": [
      "Epoch 0 Training:  25%|██▍       | 382/1532 [01:10<03:36,  5.31it/s, loss=2.13]"
     ]
    },
    {
     "name": "stdout",
     "output_type": "stream",
     "text": [
      "Epoch 0 [380/1532] Loss: 2.4193, LR: 0.000005\n"
     ]
    },
    {
     "name": "stderr",
     "output_type": "stream",
     "text": [
      "Epoch 0 Training:  26%|██▌       | 392/1532 [01:12<03:38,  5.22it/s, loss=2.06]"
     ]
    },
    {
     "name": "stdout",
     "output_type": "stream",
     "text": [
      "Epoch 0 [390/1532] Loss: 2.0235, LR: 0.000005\n"
     ]
    },
    {
     "name": "stderr",
     "output_type": "stream",
     "text": [
      "Epoch 0 Training:  26%|██▌       | 402/1532 [01:14<03:31,  5.34it/s, loss=2.66]"
     ]
    },
    {
     "name": "stdout",
     "output_type": "stream",
     "text": [
      "Epoch 0 [400/1532] Loss: 2.5132, LR: 0.000005\n"
     ]
    },
    {
     "name": "stderr",
     "output_type": "stream",
     "text": [
      "Epoch 0 Training:  27%|██▋       | 412/1532 [01:16<03:35,  5.21it/s, loss=2.26]"
     ]
    },
    {
     "name": "stdout",
     "output_type": "stream",
     "text": [
      "Epoch 0 [410/1532] Loss: 2.1231, LR: 0.000005\n"
     ]
    },
    {
     "name": "stderr",
     "output_type": "stream",
     "text": [
      "Epoch 0 Training:  28%|██▊       | 422/1532 [01:18<03:28,  5.33it/s, loss=2.32]"
     ]
    },
    {
     "name": "stdout",
     "output_type": "stream",
     "text": [
      "Epoch 0 [420/1532] Loss: 2.3426, LR: 0.000005\n"
     ]
    },
    {
     "name": "stderr",
     "output_type": "stream",
     "text": [
      "Epoch 0 Training:  28%|██▊       | 432/1532 [01:19<03:36,  5.09it/s, loss=2.29]"
     ]
    },
    {
     "name": "stdout",
     "output_type": "stream",
     "text": [
      "Epoch 0 [430/1532] Loss: 2.3547, LR: 0.000005\n"
     ]
    },
    {
     "name": "stderr",
     "output_type": "stream",
     "text": [
      "Epoch 0 Training:  29%|██▉       | 442/1532 [01:21<03:32,  5.14it/s, loss=2.24]"
     ]
    },
    {
     "name": "stdout",
     "output_type": "stream",
     "text": [
      "Epoch 0 [440/1532] Loss: 2.1326, LR: 0.000005\n"
     ]
    },
    {
     "name": "stderr",
     "output_type": "stream",
     "text": [
      "Epoch 0 Training:  30%|██▉       | 452/1532 [01:23<03:28,  5.19it/s, loss=2.09]"
     ]
    },
    {
     "name": "stdout",
     "output_type": "stream",
     "text": [
      "Epoch 0 [450/1532] Loss: 2.3199, LR: 0.000005\n"
     ]
    },
    {
     "name": "stderr",
     "output_type": "stream",
     "text": [
      "Epoch 0 Training:  30%|███       | 462/1532 [01:25<03:24,  5.24it/s, loss=2.55]"
     ]
    },
    {
     "name": "stdout",
     "output_type": "stream",
     "text": [
      "Epoch 0 [460/1532] Loss: 2.1862, LR: 0.000005\n"
     ]
    },
    {
     "name": "stderr",
     "output_type": "stream",
     "text": [
      "Epoch 0 Training:  31%|███       | 472/1532 [01:27<03:16,  5.38it/s, loss=2.68]"
     ]
    },
    {
     "name": "stdout",
     "output_type": "stream",
     "text": [
      "Epoch 0 [470/1532] Loss: 2.0703, LR: 0.000005\n"
     ]
    },
    {
     "name": "stderr",
     "output_type": "stream",
     "text": [
      "Epoch 0 Training:  31%|███▏      | 482/1532 [01:29<03:21,  5.21it/s, loss=2.89]"
     ]
    },
    {
     "name": "stdout",
     "output_type": "stream",
     "text": [
      "Epoch 0 [480/1532] Loss: 2.3534, LR: 0.000005\n"
     ]
    },
    {
     "name": "stderr",
     "output_type": "stream",
     "text": [
      "Epoch 0 Training:  32%|███▏      | 492/1532 [01:31<03:08,  5.52it/s, loss=2.3] "
     ]
    },
    {
     "name": "stdout",
     "output_type": "stream",
     "text": [
      "Epoch 0 [490/1532] Loss: 2.7476, LR: 0.000005\n"
     ]
    },
    {
     "name": "stderr",
     "output_type": "stream",
     "text": [
      "Epoch 0 Training:  33%|███▎      | 502/1532 [01:33<03:18,  5.19it/s, loss=2.61]"
     ]
    },
    {
     "name": "stdout",
     "output_type": "stream",
     "text": [
      "Epoch 0 [500/1532] Loss: 2.5656, LR: 0.000005\n"
     ]
    },
    {
     "name": "stderr",
     "output_type": "stream",
     "text": [
      "Epoch 0 Training:  33%|███▎      | 512/1532 [01:35<03:17,  5.16it/s, loss=2.23]"
     ]
    },
    {
     "name": "stdout",
     "output_type": "stream",
     "text": [
      "Epoch 0 [510/1532] Loss: 2.5232, LR: 0.000005\n"
     ]
    },
    {
     "name": "stderr",
     "output_type": "stream",
     "text": [
      "Epoch 0 Training:  34%|███▍      | 522/1532 [01:37<03:10,  5.29it/s, loss=2.26]"
     ]
    },
    {
     "name": "stdout",
     "output_type": "stream",
     "text": [
      "Epoch 0 [520/1532] Loss: 2.1572, LR: 0.000005\n"
     ]
    },
    {
     "name": "stderr",
     "output_type": "stream",
     "text": [
      "Epoch 0 Training:  35%|███▍      | 532/1532 [01:39<03:13,  5.17it/s, loss=2.3] "
     ]
    },
    {
     "name": "stdout",
     "output_type": "stream",
     "text": [
      "Epoch 0 [530/1532] Loss: 2.2719, LR: 0.000005\n"
     ]
    },
    {
     "name": "stderr",
     "output_type": "stream",
     "text": [
      "Epoch 0 Training:  35%|███▌      | 542/1532 [01:40<03:11,  5.16it/s, loss=2.41]"
     ]
    },
    {
     "name": "stdout",
     "output_type": "stream",
     "text": [
      "Epoch 0 [540/1532] Loss: 2.1379, LR: 0.000005\n"
     ]
    },
    {
     "name": "stderr",
     "output_type": "stream",
     "text": [
      "Epoch 0 Training:  36%|███▌      | 552/1532 [01:42<03:05,  5.29it/s, loss=2.67]"
     ]
    },
    {
     "name": "stdout",
     "output_type": "stream",
     "text": [
      "Epoch 0 [550/1532] Loss: 1.7865, LR: 0.000005\n"
     ]
    },
    {
     "name": "stderr",
     "output_type": "stream",
     "text": [
      "Epoch 0 Training:  37%|███▋      | 562/1532 [01:44<03:00,  5.37it/s, loss=2.43]"
     ]
    },
    {
     "name": "stdout",
     "output_type": "stream",
     "text": [
      "Epoch 0 [560/1532] Loss: 2.3694, LR: 0.000005\n"
     ]
    },
    {
     "name": "stderr",
     "output_type": "stream",
     "text": [
      "Epoch 0 Training:  37%|███▋      | 571/1532 [01:46<03:04,  5.21it/s, loss=2.56]"
     ]
    },
    {
     "name": "stdout",
     "output_type": "stream",
     "text": [
      "Epoch 0 [570/1532] Loss: 2.3049, LR: 0.000005\n"
     ]
    },
    {
     "name": "stderr",
     "output_type": "stream",
     "text": [
      "Epoch 0 Training:  38%|███▊      | 582/1532 [01:48<03:05,  5.12it/s, loss=1.97]"
     ]
    },
    {
     "name": "stdout",
     "output_type": "stream",
     "text": [
      "Epoch 0 [580/1532] Loss: 2.2911, LR: 0.000005\n"
     ]
    },
    {
     "name": "stderr",
     "output_type": "stream",
     "text": [
      "Epoch 0 Training:  39%|███▊      | 591/1532 [01:50<03:04,  5.11it/s, loss=2.33]"
     ]
    },
    {
     "name": "stdout",
     "output_type": "stream",
     "text": [
      "Epoch 0 [590/1532] Loss: 2.4632, LR: 0.000005\n"
     ]
    },
    {
     "name": "stderr",
     "output_type": "stream",
     "text": [
      "Epoch 0 Training:  39%|███▉      | 602/1532 [01:52<02:57,  5.24it/s, loss=2.18]"
     ]
    },
    {
     "name": "stdout",
     "output_type": "stream",
     "text": [
      "Epoch 0 [600/1532] Loss: 2.0904, LR: 0.000005\n"
     ]
    },
    {
     "name": "stderr",
     "output_type": "stream",
     "text": [
      "Epoch 0 Training:  40%|███▉      | 611/1532 [01:54<02:56,  5.22it/s, loss=2.29]"
     ]
    },
    {
     "name": "stdout",
     "output_type": "stream",
     "text": [
      "Epoch 0 [610/1532] Loss: 2.5927, LR: 0.000005\n"
     ]
    },
    {
     "name": "stderr",
     "output_type": "stream",
     "text": [
      "Epoch 0 Training:  41%|████      | 622/1532 [01:56<02:54,  5.20it/s, loss=2.4] "
     ]
    },
    {
     "name": "stdout",
     "output_type": "stream",
     "text": [
      "Epoch 0 [620/1532] Loss: 2.3001, LR: 0.000005\n"
     ]
    },
    {
     "name": "stderr",
     "output_type": "stream",
     "text": [
      "Epoch 0 Training:  41%|████▏     | 632/1532 [01:58<02:48,  5.33it/s, loss=2.75]"
     ]
    },
    {
     "name": "stdout",
     "output_type": "stream",
     "text": [
      "Epoch 0 [630/1532] Loss: 2.5466, LR: 0.000005\n"
     ]
    },
    {
     "name": "stderr",
     "output_type": "stream",
     "text": [
      "Epoch 0 Training:  42%|████▏     | 642/1532 [02:00<02:47,  5.31it/s, loss=2.1] "
     ]
    },
    {
     "name": "stdout",
     "output_type": "stream",
     "text": [
      "Epoch 0 [640/1532] Loss: 2.3138, LR: 0.000005\n"
     ]
    },
    {
     "name": "stderr",
     "output_type": "stream",
     "text": [
      "Epoch 0 Training:  43%|████▎     | 652/1532 [02:02<02:49,  5.19it/s, loss=2]   "
     ]
    },
    {
     "name": "stdout",
     "output_type": "stream",
     "text": [
      "Epoch 0 [650/1532] Loss: 2.3602, LR: 0.000005\n"
     ]
    },
    {
     "name": "stderr",
     "output_type": "stream",
     "text": [
      "Epoch 0 Training:  43%|████▎     | 662/1532 [02:03<02:42,  5.36it/s, loss=2.17]"
     ]
    },
    {
     "name": "stdout",
     "output_type": "stream",
     "text": [
      "Epoch 0 [660/1532] Loss: 2.0519, LR: 0.000005\n"
     ]
    },
    {
     "name": "stderr",
     "output_type": "stream",
     "text": [
      "Epoch 0 Training:  44%|████▍     | 672/1532 [02:05<02:35,  5.52it/s, loss=2.34]"
     ]
    },
    {
     "name": "stdout",
     "output_type": "stream",
     "text": [
      "Epoch 0 [670/1532] Loss: 2.1974, LR: 0.000005\n"
     ]
    },
    {
     "name": "stderr",
     "output_type": "stream",
     "text": [
      "Epoch 0 Training:  45%|████▍     | 682/1532 [02:07<02:39,  5.34it/s, loss=2.24]"
     ]
    },
    {
     "name": "stdout",
     "output_type": "stream",
     "text": [
      "Epoch 0 [680/1532] Loss: 2.1461, LR: 0.000005\n"
     ]
    },
    {
     "name": "stderr",
     "output_type": "stream",
     "text": [
      "Epoch 0 Training:  45%|████▌     | 692/1532 [02:09<02:37,  5.33it/s, loss=2.07]"
     ]
    },
    {
     "name": "stdout",
     "output_type": "stream",
     "text": [
      "Epoch 0 [690/1532] Loss: 2.0671, LR: 0.000005\n"
     ]
    },
    {
     "name": "stderr",
     "output_type": "stream",
     "text": [
      "Epoch 0 Training:  46%|████▌     | 702/1532 [02:11<02:33,  5.41it/s, loss=2.17]"
     ]
    },
    {
     "name": "stdout",
     "output_type": "stream",
     "text": [
      "Epoch 0 [700/1532] Loss: 2.0870, LR: 0.000005\n"
     ]
    },
    {
     "name": "stderr",
     "output_type": "stream",
     "text": [
      "Epoch 0 Training:  46%|████▋     | 712/1532 [02:13<02:37,  5.20it/s, loss=2.01]"
     ]
    },
    {
     "name": "stdout",
     "output_type": "stream",
     "text": [
      "Epoch 0 [710/1532] Loss: 2.0335, LR: 0.000005\n"
     ]
    },
    {
     "name": "stderr",
     "output_type": "stream",
     "text": [
      "Epoch 0 Training:  47%|████▋     | 722/1532 [02:15<02:31,  5.36it/s, loss=2.59]"
     ]
    },
    {
     "name": "stdout",
     "output_type": "stream",
     "text": [
      "Epoch 0 [720/1532] Loss: 2.0072, LR: 0.000005\n"
     ]
    },
    {
     "name": "stderr",
     "output_type": "stream",
     "text": [
      "Epoch 0 Training:  48%|████▊     | 731/1532 [02:17<02:35,  5.15it/s, loss=2.42]"
     ]
    },
    {
     "name": "stdout",
     "output_type": "stream",
     "text": [
      "Epoch 0 [730/1532] Loss: 1.9605, LR: 0.000005\n"
     ]
    },
    {
     "name": "stderr",
     "output_type": "stream",
     "text": [
      "Epoch 0 Training:  48%|████▊     | 742/1532 [02:19<02:25,  5.44it/s, loss=2]   "
     ]
    },
    {
     "name": "stdout",
     "output_type": "stream",
     "text": [
      "Epoch 0 [740/1532] Loss: 2.0885, LR: 0.000005\n"
     ]
    },
    {
     "name": "stderr",
     "output_type": "stream",
     "text": [
      "Epoch 0 Training:  49%|████▉     | 752/1532 [02:20<02:26,  5.31it/s, loss=3.23]"
     ]
    },
    {
     "name": "stdout",
     "output_type": "stream",
     "text": [
      "Epoch 0 [750/1532] Loss: 2.3038, LR: 0.000005\n"
     ]
    },
    {
     "name": "stderr",
     "output_type": "stream",
     "text": [
      "Epoch 0 Training:  50%|████▉     | 762/1532 [02:22<02:23,  5.36it/s, loss=2.03]"
     ]
    },
    {
     "name": "stdout",
     "output_type": "stream",
     "text": [
      "Epoch 0 [760/1532] Loss: 2.1114, LR: 0.000005\n"
     ]
    },
    {
     "name": "stderr",
     "output_type": "stream",
     "text": [
      "Epoch 0 Training:  50%|█████     | 772/1532 [02:24<02:19,  5.46it/s, loss=1.65]"
     ]
    },
    {
     "name": "stdout",
     "output_type": "stream",
     "text": [
      "Epoch 0 [770/1532] Loss: 1.9766, LR: 0.000005\n"
     ]
    },
    {
     "name": "stderr",
     "output_type": "stream",
     "text": [
      "Epoch 0 Training:  51%|█████     | 782/1532 [02:26<02:25,  5.16it/s, loss=2.03]"
     ]
    },
    {
     "name": "stdout",
     "output_type": "stream",
     "text": [
      "Epoch 0 [780/1532] Loss: 1.7900, LR: 0.000005\n"
     ]
    },
    {
     "name": "stderr",
     "output_type": "stream",
     "text": [
      "Epoch 0 Training:  52%|█████▏    | 792/1532 [02:28<02:24,  5.12it/s, loss=2.42]"
     ]
    },
    {
     "name": "stdout",
     "output_type": "stream",
     "text": [
      "Epoch 0 [790/1532] Loss: 2.1357, LR: 0.000005\n"
     ]
    },
    {
     "name": "stderr",
     "output_type": "stream",
     "text": [
      "Epoch 0 Training:  52%|█████▏    | 802/1532 [02:30<02:20,  5.19it/s, loss=2.31]"
     ]
    },
    {
     "name": "stdout",
     "output_type": "stream",
     "text": [
      "Epoch 0 [800/1532] Loss: 1.9178, LR: 0.000005\n"
     ]
    },
    {
     "name": "stderr",
     "output_type": "stream",
     "text": [
      "Epoch 0 Training:  53%|█████▎    | 812/1532 [02:32<02:15,  5.32it/s, loss=2.03]"
     ]
    },
    {
     "name": "stdout",
     "output_type": "stream",
     "text": [
      "Epoch 0 [810/1532] Loss: 2.3785, LR: 0.000005\n"
     ]
    },
    {
     "name": "stderr",
     "output_type": "stream",
     "text": [
      "Epoch 0 Training:  54%|█████▎    | 822/1532 [02:34<02:14,  5.26it/s, loss=1.78]"
     ]
    },
    {
     "name": "stdout",
     "output_type": "stream",
     "text": [
      "Epoch 0 [820/1532] Loss: 2.4389, LR: 0.000005\n"
     ]
    },
    {
     "name": "stderr",
     "output_type": "stream",
     "text": [
      "Epoch 0 Training:  54%|█████▍    | 832/1532 [02:36<02:15,  5.17it/s, loss=1.76]"
     ]
    },
    {
     "name": "stdout",
     "output_type": "stream",
     "text": [
      "Epoch 0 [830/1532] Loss: 1.9098, LR: 0.000005\n"
     ]
    },
    {
     "name": "stderr",
     "output_type": "stream",
     "text": [
      "Epoch 0 Training:  55%|█████▍    | 842/1532 [02:38<02:16,  5.05it/s, loss=2.33]"
     ]
    },
    {
     "name": "stdout",
     "output_type": "stream",
     "text": [
      "Epoch 0 [840/1532] Loss: 2.3812, LR: 0.000005\n"
     ]
    },
    {
     "name": "stderr",
     "output_type": "stream",
     "text": [
      "Epoch 0 Training:  56%|█████▌    | 852/1532 [02:39<02:10,  5.20it/s, loss=2.43]"
     ]
    },
    {
     "name": "stdout",
     "output_type": "stream",
     "text": [
      "Epoch 0 [850/1532] Loss: 2.3541, LR: 0.000005\n"
     ]
    },
    {
     "name": "stderr",
     "output_type": "stream",
     "text": [
      "Epoch 0 Training:  56%|█████▌    | 861/1532 [02:41<02:09,  5.20it/s, loss=2.25]"
     ]
    },
    {
     "name": "stdout",
     "output_type": "stream",
     "text": [
      "Epoch 0 [860/1532] Loss: 2.3092, LR: 0.000005\n"
     ]
    },
    {
     "name": "stderr",
     "output_type": "stream",
     "text": [
      "Epoch 0 Training:  57%|█████▋    | 872/1532 [02:43<02:05,  5.25it/s, loss=2.18]"
     ]
    },
    {
     "name": "stdout",
     "output_type": "stream",
     "text": [
      "Epoch 0 [870/1532] Loss: 2.3877, LR: 0.000005\n"
     ]
    },
    {
     "name": "stderr",
     "output_type": "stream",
     "text": [
      "Epoch 0 Training:  58%|█████▊    | 882/1532 [02:45<02:03,  5.28it/s, loss=2.55]"
     ]
    },
    {
     "name": "stdout",
     "output_type": "stream",
     "text": [
      "Epoch 0 [880/1532] Loss: 1.9888, LR: 0.000005\n"
     ]
    },
    {
     "name": "stderr",
     "output_type": "stream",
     "text": [
      "Epoch 0 Training:  58%|█████▊    | 892/1532 [02:47<02:05,  5.10it/s, loss=2.13]"
     ]
    },
    {
     "name": "stdout",
     "output_type": "stream",
     "text": [
      "Epoch 0 [890/1532] Loss: 1.8958, LR: 0.000005\n"
     ]
    },
    {
     "name": "stderr",
     "output_type": "stream",
     "text": [
      "Epoch 0 Training:  59%|█████▉    | 902/1532 [02:49<02:02,  5.12it/s, loss=2.22]"
     ]
    },
    {
     "name": "stdout",
     "output_type": "stream",
     "text": [
      "Epoch 0 [900/1532] Loss: 2.0121, LR: 0.000005\n"
     ]
    },
    {
     "name": "stderr",
     "output_type": "stream",
     "text": [
      "Epoch 0 Training:  60%|█████▉    | 912/1532 [02:51<01:59,  5.17it/s, loss=2.09]"
     ]
    },
    {
     "name": "stdout",
     "output_type": "stream",
     "text": [
      "Epoch 0 [910/1532] Loss: 2.0248, LR: 0.000005\n"
     ]
    },
    {
     "name": "stderr",
     "output_type": "stream",
     "text": [
      "Epoch 0 Training:  60%|██████    | 922/1532 [02:53<01:57,  5.20it/s, loss=2.16]"
     ]
    },
    {
     "name": "stdout",
     "output_type": "stream",
     "text": [
      "Epoch 0 [920/1532] Loss: 1.9665, LR: 0.000005\n"
     ]
    },
    {
     "name": "stderr",
     "output_type": "stream",
     "text": [
      "Epoch 0 Training:  61%|██████    | 932/1532 [02:55<01:54,  5.24it/s, loss=1.98]"
     ]
    },
    {
     "name": "stdout",
     "output_type": "stream",
     "text": [
      "Epoch 0 [930/1532] Loss: 1.8540, LR: 0.000005\n"
     ]
    },
    {
     "name": "stderr",
     "output_type": "stream",
     "text": [
      "Epoch 0 Training:  61%|██████▏   | 942/1532 [02:57<01:54,  5.15it/s, loss=2.05]"
     ]
    },
    {
     "name": "stdout",
     "output_type": "stream",
     "text": [
      "Epoch 0 [940/1532] Loss: 2.0364, LR: 0.000005\n"
     ]
    },
    {
     "name": "stderr",
     "output_type": "stream",
     "text": [
      "Epoch 0 Training:  62%|██████▏   | 952/1532 [02:59<01:52,  5.16it/s, loss=2.03]"
     ]
    },
    {
     "name": "stdout",
     "output_type": "stream",
     "text": [
      "Epoch 0 [950/1532] Loss: 2.4714, LR: 0.000005\n"
     ]
    },
    {
     "name": "stderr",
     "output_type": "stream",
     "text": [
      "Epoch 0 Training:  63%|██████▎   | 962/1532 [03:01<01:47,  5.30it/s, loss=1.8] "
     ]
    },
    {
     "name": "stdout",
     "output_type": "stream",
     "text": [
      "Epoch 0 [960/1532] Loss: 2.6248, LR: 0.000005\n"
     ]
    },
    {
     "name": "stderr",
     "output_type": "stream",
     "text": [
      "Epoch 0 Training:  63%|██████▎   | 972/1532 [03:02<01:48,  5.17it/s, loss=2.12]"
     ]
    },
    {
     "name": "stdout",
     "output_type": "stream",
     "text": [
      "Epoch 0 [970/1532] Loss: 1.9937, LR: 0.000005\n"
     ]
    },
    {
     "name": "stderr",
     "output_type": "stream",
     "text": [
      "Epoch 0 Training:  64%|██████▍   | 982/1532 [03:04<01:43,  5.34it/s, loss=2.44]"
     ]
    },
    {
     "name": "stdout",
     "output_type": "stream",
     "text": [
      "Epoch 0 [980/1532] Loss: 2.4940, LR: 0.000005\n"
     ]
    },
    {
     "name": "stderr",
     "output_type": "stream",
     "text": [
      "Epoch 0 Training:  65%|██████▍   | 992/1532 [03:06<01:42,  5.27it/s, loss=2.03]"
     ]
    },
    {
     "name": "stdout",
     "output_type": "stream",
     "text": [
      "Epoch 0 [990/1532] Loss: 1.7296, LR: 0.000005\n"
     ]
    },
    {
     "name": "stderr",
     "output_type": "stream",
     "text": [
      "Epoch 0 Training:  65%|██████▌   | 1001/1532 [03:08<01:43,  5.14it/s, loss=2.06]"
     ]
    },
    {
     "name": "stdout",
     "output_type": "stream",
     "text": [
      "Epoch 0 [1000/1532] Loss: 2.4014, LR: 0.000005\n"
     ]
    },
    {
     "name": "stderr",
     "output_type": "stream",
     "text": [
      "Epoch 0 Training:  66%|██████▌   | 1012/1532 [03:10<01:37,  5.34it/s, loss=2.21]"
     ]
    },
    {
     "name": "stdout",
     "output_type": "stream",
     "text": [
      "Epoch 0 [1010/1532] Loss: 2.2157, LR: 0.000005\n"
     ]
    },
    {
     "name": "stderr",
     "output_type": "stream",
     "text": [
      "Epoch 0 Training:  67%|██████▋   | 1022/1532 [03:12<01:38,  5.15it/s, loss=2.13]"
     ]
    },
    {
     "name": "stdout",
     "output_type": "stream",
     "text": [
      "Epoch 0 [1020/1532] Loss: 2.3376, LR: 0.000005\n"
     ]
    },
    {
     "name": "stderr",
     "output_type": "stream",
     "text": [
      "Epoch 0 Training:  67%|██████▋   | 1032/1532 [03:14<01:31,  5.44it/s, loss=2.27]"
     ]
    },
    {
     "name": "stdout",
     "output_type": "stream",
     "text": [
      "Epoch 0 [1030/1532] Loss: 2.3717, LR: 0.000005\n"
     ]
    },
    {
     "name": "stderr",
     "output_type": "stream",
     "text": [
      "Epoch 0 Training:  68%|██████▊   | 1042/1532 [03:16<01:31,  5.38it/s, loss=2.36]"
     ]
    },
    {
     "name": "stdout",
     "output_type": "stream",
     "text": [
      "Epoch 0 [1040/1532] Loss: 2.2764, LR: 0.000005\n"
     ]
    },
    {
     "name": "stderr",
     "output_type": "stream",
     "text": [
      "Epoch 0 Training:  69%|██████▊   | 1052/1532 [03:18<01:28,  5.43it/s, loss=2.41]"
     ]
    },
    {
     "name": "stdout",
     "output_type": "stream",
     "text": [
      "Epoch 0 [1050/1532] Loss: 2.1791, LR: 0.000005\n"
     ]
    },
    {
     "name": "stderr",
     "output_type": "stream",
     "text": [
      "Epoch 0 Training:  69%|██████▉   | 1062/1532 [03:19<01:29,  5.26it/s, loss=1.7] "
     ]
    },
    {
     "name": "stdout",
     "output_type": "stream",
     "text": [
      "Epoch 0 [1060/1532] Loss: 2.1165, LR: 0.000005\n"
     ]
    },
    {
     "name": "stderr",
     "output_type": "stream",
     "text": [
      "Epoch 0 Training:  70%|██████▉   | 1072/1532 [03:21<01:27,  5.27it/s, loss=2.16]"
     ]
    },
    {
     "name": "stdout",
     "output_type": "stream",
     "text": [
      "Epoch 0 [1070/1532] Loss: 2.3497, LR: 0.000005\n"
     ]
    },
    {
     "name": "stderr",
     "output_type": "stream",
     "text": [
      "Epoch 0 Training:  71%|███████   | 1082/1532 [03:23<01:25,  5.28it/s, loss=1.67]"
     ]
    },
    {
     "name": "stdout",
     "output_type": "stream",
     "text": [
      "Epoch 0 [1080/1532] Loss: 1.8250, LR: 0.000005\n"
     ]
    },
    {
     "name": "stderr",
     "output_type": "stream",
     "text": [
      "Epoch 0 Training:  71%|███████▏  | 1092/1532 [03:25<01:25,  5.13it/s, loss=2.22]"
     ]
    },
    {
     "name": "stdout",
     "output_type": "stream",
     "text": [
      "Epoch 0 [1090/1532] Loss: 1.5655, LR: 0.000005\n"
     ]
    },
    {
     "name": "stderr",
     "output_type": "stream",
     "text": [
      "Epoch 0 Training:  72%|███████▏  | 1102/1532 [03:27<01:21,  5.30it/s, loss=2.17]"
     ]
    },
    {
     "name": "stdout",
     "output_type": "stream",
     "text": [
      "Epoch 0 [1100/1532] Loss: 1.6758, LR: 0.000005\n"
     ]
    },
    {
     "name": "stderr",
     "output_type": "stream",
     "text": [
      "Epoch 0 Training:  73%|███████▎  | 1111/1532 [03:29<01:17,  5.42it/s, loss=1.79]"
     ]
    },
    {
     "name": "stdout",
     "output_type": "stream",
     "text": [
      "Epoch 0 [1110/1532] Loss: 2.0017, LR: 0.000005\n"
     ]
    },
    {
     "name": "stderr",
     "output_type": "stream",
     "text": [
      "Epoch 0 Training:  73%|███████▎  | 1122/1532 [03:31<01:20,  5.09it/s, loss=2.1] "
     ]
    },
    {
     "name": "stdout",
     "output_type": "stream",
     "text": [
      "Epoch 0 [1120/1532] Loss: 1.6402, LR: 0.000005\n"
     ]
    },
    {
     "name": "stderr",
     "output_type": "stream",
     "text": [
      "Epoch 0 Training:  74%|███████▍  | 1132/1532 [03:33<01:15,  5.28it/s, loss=2.27]"
     ]
    },
    {
     "name": "stdout",
     "output_type": "stream",
     "text": [
      "Epoch 0 [1130/1532] Loss: 1.8603, LR: 0.000005\n"
     ]
    },
    {
     "name": "stderr",
     "output_type": "stream",
     "text": [
      "Epoch 0 Training:  75%|███████▍  | 1142/1532 [03:35<01:14,  5.26it/s, loss=2.03]"
     ]
    },
    {
     "name": "stdout",
     "output_type": "stream",
     "text": [
      "Epoch 0 [1140/1532] Loss: 2.0900, LR: 0.000005\n"
     ]
    },
    {
     "name": "stderr",
     "output_type": "stream",
     "text": [
      "Epoch 0 Training:  75%|███████▌  | 1152/1532 [03:37<01:13,  5.20it/s, loss=1.85]"
     ]
    },
    {
     "name": "stdout",
     "output_type": "stream",
     "text": [
      "Epoch 0 [1150/1532] Loss: 1.8343, LR: 0.000005\n"
     ]
    },
    {
     "name": "stderr",
     "output_type": "stream",
     "text": [
      "Epoch 0 Training:  76%|███████▌  | 1162/1532 [03:39<01:11,  5.19it/s, loss=1.85]"
     ]
    },
    {
     "name": "stdout",
     "output_type": "stream",
     "text": [
      "Epoch 0 [1160/1532] Loss: 1.9618, LR: 0.000005\n"
     ]
    },
    {
     "name": "stderr",
     "output_type": "stream",
     "text": [
      "Epoch 0 Training:  76%|███████▋  | 1171/1532 [03:40<01:11,  5.06it/s, loss=2.02]"
     ]
    },
    {
     "name": "stdout",
     "output_type": "stream",
     "text": [
      "Epoch 0 [1170/1532] Loss: 2.0243, LR: 0.000005\n"
     ]
    },
    {
     "name": "stderr",
     "output_type": "stream",
     "text": [
      "Epoch 0 Training:  77%|███████▋  | 1182/1532 [03:43<01:08,  5.10it/s, loss=1.84]"
     ]
    },
    {
     "name": "stdout",
     "output_type": "stream",
     "text": [
      "Epoch 0 [1180/1532] Loss: 1.6737, LR: 0.000005\n"
     ]
    },
    {
     "name": "stderr",
     "output_type": "stream",
     "text": [
      "Epoch 0 Training:  78%|███████▊  | 1192/1532 [03:44<01:04,  5.26it/s, loss=2.05]"
     ]
    },
    {
     "name": "stdout",
     "output_type": "stream",
     "text": [
      "Epoch 0 [1190/1532] Loss: 1.9162, LR: 0.000005\n"
     ]
    },
    {
     "name": "stderr",
     "output_type": "stream",
     "text": [
      "Epoch 0 Training:  78%|███████▊  | 1202/1532 [03:46<01:08,  4.79it/s, loss=2.18]"
     ]
    },
    {
     "name": "stdout",
     "output_type": "stream",
     "text": [
      "Epoch 0 [1200/1532] Loss: 2.2063, LR: 0.000005\n"
     ]
    },
    {
     "name": "stderr",
     "output_type": "stream",
     "text": [
      "Epoch 0 Training:  79%|███████▉  | 1212/1532 [03:48<00:59,  5.38it/s, loss=2.16]"
     ]
    },
    {
     "name": "stdout",
     "output_type": "stream",
     "text": [
      "Epoch 0 [1210/1532] Loss: 1.6220, LR: 0.000005\n"
     ]
    },
    {
     "name": "stderr",
     "output_type": "stream",
     "text": [
      "Epoch 0 Training:  80%|███████▉  | 1222/1532 [03:50<00:58,  5.30it/s, loss=1.45]"
     ]
    },
    {
     "name": "stdout",
     "output_type": "stream",
     "text": [
      "Epoch 0 [1220/1532] Loss: 1.7316, LR: 0.000005\n"
     ]
    },
    {
     "name": "stderr",
     "output_type": "stream",
     "text": [
      "Epoch 0 Training:  80%|████████  | 1232/1532 [03:52<00:55,  5.36it/s, loss=2.08]"
     ]
    },
    {
     "name": "stdout",
     "output_type": "stream",
     "text": [
      "Epoch 0 [1230/1532] Loss: 1.7382, LR: 0.000005\n"
     ]
    },
    {
     "name": "stderr",
     "output_type": "stream",
     "text": [
      "Epoch 0 Training:  81%|████████  | 1242/1532 [03:54<00:56,  5.15it/s, loss=1.73]"
     ]
    },
    {
     "name": "stdout",
     "output_type": "stream",
     "text": [
      "Epoch 0 [1240/1532] Loss: 1.7731, LR: 0.000005\n"
     ]
    },
    {
     "name": "stderr",
     "output_type": "stream",
     "text": [
      "Epoch 0 Training:  82%|████████▏ | 1252/1532 [03:56<00:52,  5.36it/s, loss=2.21]"
     ]
    },
    {
     "name": "stdout",
     "output_type": "stream",
     "text": [
      "Epoch 0 [1250/1532] Loss: 2.2823, LR: 0.000005\n"
     ]
    },
    {
     "name": "stderr",
     "output_type": "stream",
     "text": [
      "Epoch 0 Training:  82%|████████▏ | 1262/1532 [03:58<00:52,  5.17it/s, loss=1.77]"
     ]
    },
    {
     "name": "stdout",
     "output_type": "stream",
     "text": [
      "Epoch 0 [1260/1532] Loss: 2.0968, LR: 0.000005\n"
     ]
    },
    {
     "name": "stderr",
     "output_type": "stream",
     "text": [
      "Epoch 0 Training:  83%|████████▎ | 1272/1532 [04:00<00:48,  5.34it/s, loss=2.16]"
     ]
    },
    {
     "name": "stdout",
     "output_type": "stream",
     "text": [
      "Epoch 0 [1270/1532] Loss: 1.8402, LR: 0.000005\n"
     ]
    },
    {
     "name": "stderr",
     "output_type": "stream",
     "text": [
      "Epoch 0 Training:  84%|████████▎ | 1282/1532 [04:02<00:48,  5.18it/s, loss=2.09]"
     ]
    },
    {
     "name": "stdout",
     "output_type": "stream",
     "text": [
      "Epoch 0 [1280/1532] Loss: 1.8213, LR: 0.000005\n"
     ]
    },
    {
     "name": "stderr",
     "output_type": "stream",
     "text": [
      "Epoch 0 Training:  84%|████████▍ | 1292/1532 [04:04<00:44,  5.37it/s, loss=1.97]"
     ]
    },
    {
     "name": "stdout",
     "output_type": "stream",
     "text": [
      "Epoch 0 [1290/1532] Loss: 1.8843, LR: 0.000005\n"
     ]
    },
    {
     "name": "stderr",
     "output_type": "stream",
     "text": [
      "Epoch 0 Training:  85%|████████▍ | 1302/1532 [04:05<00:43,  5.25it/s, loss=1.54]"
     ]
    },
    {
     "name": "stdout",
     "output_type": "stream",
     "text": [
      "Epoch 0 [1300/1532] Loss: 2.1366, LR: 0.000005\n"
     ]
    },
    {
     "name": "stderr",
     "output_type": "stream",
     "text": [
      "Epoch 0 Training:  86%|████████▌ | 1312/1532 [04:07<00:42,  5.21it/s, loss=1.68]"
     ]
    },
    {
     "name": "stdout",
     "output_type": "stream",
     "text": [
      "Epoch 0 [1310/1532] Loss: 1.8053, LR: 0.000005\n"
     ]
    },
    {
     "name": "stderr",
     "output_type": "stream",
     "text": [
      "Epoch 0 Training:  86%|████████▋ | 1322/1532 [04:09<00:39,  5.32it/s, loss=2.45]"
     ]
    },
    {
     "name": "stdout",
     "output_type": "stream",
     "text": [
      "Epoch 0 [1320/1532] Loss: 2.2106, LR: 0.000005\n"
     ]
    },
    {
     "name": "stderr",
     "output_type": "stream",
     "text": [
      "Epoch 0 Training:  87%|████████▋ | 1332/1532 [04:11<00:37,  5.35it/s, loss=1.82]"
     ]
    },
    {
     "name": "stdout",
     "output_type": "stream",
     "text": [
      "Epoch 0 [1330/1532] Loss: 2.2594, LR: 0.000005\n"
     ]
    },
    {
     "name": "stderr",
     "output_type": "stream",
     "text": [
      "Epoch 0 Training:  88%|████████▊ | 1342/1532 [04:13<00:35,  5.37it/s, loss=2.12]"
     ]
    },
    {
     "name": "stdout",
     "output_type": "stream",
     "text": [
      "Epoch 0 [1340/1532] Loss: 1.9390, LR: 0.000005\n"
     ]
    },
    {
     "name": "stderr",
     "output_type": "stream",
     "text": [
      "Epoch 0 Training:  88%|████████▊ | 1352/1532 [04:15<00:34,  5.28it/s, loss=1.92]"
     ]
    },
    {
     "name": "stdout",
     "output_type": "stream",
     "text": [
      "Epoch 0 [1350/1532] Loss: 2.0330, LR: 0.000005\n"
     ]
    },
    {
     "name": "stderr",
     "output_type": "stream",
     "text": [
      "Epoch 0 Training:  89%|████████▉ | 1362/1532 [04:17<00:32,  5.26it/s, loss=2.15]"
     ]
    },
    {
     "name": "stdout",
     "output_type": "stream",
     "text": [
      "Epoch 0 [1360/1532] Loss: 2.0488, LR: 0.000005\n"
     ]
    },
    {
     "name": "stderr",
     "output_type": "stream",
     "text": [
      "Epoch 0 Training:  90%|████████▉ | 1372/1532 [04:19<00:30,  5.26it/s, loss=2.2] "
     ]
    },
    {
     "name": "stdout",
     "output_type": "stream",
     "text": [
      "Epoch 0 [1370/1532] Loss: 1.9029, LR: 0.000005\n"
     ]
    },
    {
     "name": "stderr",
     "output_type": "stream",
     "text": [
      "Epoch 0 Training:  90%|█████████ | 1382/1532 [04:21<00:28,  5.20it/s, loss=1.82]"
     ]
    },
    {
     "name": "stdout",
     "output_type": "stream",
     "text": [
      "Epoch 0 [1380/1532] Loss: 2.4969, LR: 0.000005\n"
     ]
    },
    {
     "name": "stderr",
     "output_type": "stream",
     "text": [
      "Epoch 0 Training:  91%|█████████ | 1392/1532 [04:22<00:26,  5.28it/s, loss=2.43]"
     ]
    },
    {
     "name": "stdout",
     "output_type": "stream",
     "text": [
      "Epoch 0 [1390/1532] Loss: 2.2629, LR: 0.000005\n"
     ]
    },
    {
     "name": "stderr",
     "output_type": "stream",
     "text": [
      "Epoch 0 Training:  92%|█████████▏| 1402/1532 [04:24<00:24,  5.24it/s, loss=1.68]"
     ]
    },
    {
     "name": "stdout",
     "output_type": "stream",
     "text": [
      "Epoch 0 [1400/1532] Loss: 1.6044, LR: 0.000005\n"
     ]
    },
    {
     "name": "stderr",
     "output_type": "stream",
     "text": [
      "Epoch 0 Training:  92%|█████████▏| 1412/1532 [04:26<00:23,  5.09it/s, loss=1.64]"
     ]
    },
    {
     "name": "stdout",
     "output_type": "stream",
     "text": [
      "Epoch 0 [1410/1532] Loss: 1.9698, LR: 0.000005\n"
     ]
    },
    {
     "name": "stderr",
     "output_type": "stream",
     "text": [
      "Epoch 0 Training:  93%|█████████▎| 1422/1532 [04:28<00:21,  5.17it/s, loss=1.94]"
     ]
    },
    {
     "name": "stdout",
     "output_type": "stream",
     "text": [
      "Epoch 0 [1420/1532] Loss: 1.9571, LR: 0.000005\n"
     ]
    },
    {
     "name": "stderr",
     "output_type": "stream",
     "text": [
      "Epoch 0 Training:  93%|█████████▎| 1432/1532 [04:30<00:19,  5.26it/s, loss=2.35]"
     ]
    },
    {
     "name": "stdout",
     "output_type": "stream",
     "text": [
      "Epoch 0 [1430/1532] Loss: 2.3199, LR: 0.000005\n"
     ]
    },
    {
     "name": "stderr",
     "output_type": "stream",
     "text": [
      "Epoch 0 Training:  94%|█████████▍| 1442/1532 [04:32<00:16,  5.30it/s, loss=1.81]"
     ]
    },
    {
     "name": "stdout",
     "output_type": "stream",
     "text": [
      "Epoch 0 [1440/1532] Loss: 1.9806, LR: 0.000005\n"
     ]
    },
    {
     "name": "stderr",
     "output_type": "stream",
     "text": [
      "Epoch 0 Training:  95%|█████████▍| 1452/1532 [04:34<00:15,  5.20it/s, loss=2.27]"
     ]
    },
    {
     "name": "stdout",
     "output_type": "stream",
     "text": [
      "Epoch 0 [1450/1532] Loss: 1.9846, LR: 0.000005\n"
     ]
    },
    {
     "name": "stderr",
     "output_type": "stream",
     "text": [
      "Epoch 0 Training:  95%|█████████▌| 1462/1532 [04:36<00:13,  5.25it/s, loss=2.48]"
     ]
    },
    {
     "name": "stdout",
     "output_type": "stream",
     "text": [
      "Epoch 0 [1460/1532] Loss: 1.4590, LR: 0.000005\n"
     ]
    },
    {
     "name": "stderr",
     "output_type": "stream",
     "text": [
      "Epoch 0 Training:  96%|█████████▌| 1472/1532 [04:38<00:11,  5.35it/s, loss=2.15]"
     ]
    },
    {
     "name": "stdout",
     "output_type": "stream",
     "text": [
      "Epoch 0 [1470/1532] Loss: 1.9382, LR: 0.000005\n"
     ]
    },
    {
     "name": "stderr",
     "output_type": "stream",
     "text": [
      "Epoch 0 Training:  97%|█████████▋| 1482/1532 [04:39<00:09,  5.44it/s, loss=1.86]"
     ]
    },
    {
     "name": "stdout",
     "output_type": "stream",
     "text": [
      "Epoch 0 [1480/1532] Loss: 1.7948, LR: 0.000005\n"
     ]
    },
    {
     "name": "stderr",
     "output_type": "stream",
     "text": [
      "Epoch 0 Training:  97%|█████████▋| 1492/1532 [04:41<00:07,  5.17it/s, loss=2.08]"
     ]
    },
    {
     "name": "stdout",
     "output_type": "stream",
     "text": [
      "Epoch 0 [1490/1532] Loss: 1.9302, LR: 0.000005\n"
     ]
    },
    {
     "name": "stderr",
     "output_type": "stream",
     "text": [
      "Epoch 0 Training:  98%|█████████▊| 1502/1532 [04:43<00:05,  5.17it/s, loss=1.67]"
     ]
    },
    {
     "name": "stdout",
     "output_type": "stream",
     "text": [
      "Epoch 0 [1500/1532] Loss: 1.7536, LR: 0.000005\n"
     ]
    },
    {
     "name": "stderr",
     "output_type": "stream",
     "text": [
      "Epoch 0 Training:  99%|█████████▊| 1512/1532 [04:45<00:03,  5.29it/s, loss=2.57]"
     ]
    },
    {
     "name": "stdout",
     "output_type": "stream",
     "text": [
      "Epoch 0 [1510/1532] Loss: 1.8867, LR: 0.000005\n"
     ]
    },
    {
     "name": "stderr",
     "output_type": "stream",
     "text": [
      "Epoch 0 Training:  99%|█████████▉| 1522/1532 [04:47<00:01,  5.40it/s, loss=2.01]"
     ]
    },
    {
     "name": "stdout",
     "output_type": "stream",
     "text": [
      "Epoch 0 [1520/1532] Loss: 1.9655, LR: 0.000005\n"
     ]
    },
    {
     "name": "stderr",
     "output_type": "stream",
     "text": [
      "Epoch 0 Training: 100%|██████████| 1532/1532 [04:49<00:00,  5.29it/s, loss=0.244]\n"
     ]
    },
    {
     "name": "stdout",
     "output_type": "stream",
     "text": [
      "Epoch 0 [1530/1532] Loss: 1.8859, LR: 0.000005\n",
      "Epoch 0: Avg Loss: 2.2484, Time: 289.35s\n",
      "Validation Results:\n",
      "  Loss: 2.0715\n",
      "  Image→Text Accuracy: 0.3116 (Top-5: 0.7666)\n",
      "  Text→Image Accuracy: 0.2995 (Top-5: 0.7612)\n",
      "💾 Saved new best model at epoch 1 with I→T Acc: 31.16%\n",
      "\n",
      "🚀 Epoch 2/3\n"
     ]
    },
    {
     "name": "stderr",
     "output_type": "stream",
     "text": [
      "Epoch 1 Training:   0%|          | 1/1532 [00:00<04:44,  5.38it/s, loss=2.3]"
     ]
    },
    {
     "name": "stdout",
     "output_type": "stream",
     "text": [
      "Epoch 1 [0/1532] Loss: 2.3019, LR: 0.000005\n"
     ]
    },
    {
     "name": "stderr",
     "output_type": "stream",
     "text": [
      "Epoch 1 Training:   1%|          | 12/1532 [00:02<04:43,  5.36it/s, loss=2.17]"
     ]
    },
    {
     "name": "stdout",
     "output_type": "stream",
     "text": [
      "Epoch 1 [10/1532] Loss: 1.5596, LR: 0.000005\n"
     ]
    },
    {
     "name": "stderr",
     "output_type": "stream",
     "text": [
      "Epoch 1 Training:   1%|▏         | 22/1532 [00:04<04:44,  5.30it/s, loss=1.45]"
     ]
    },
    {
     "name": "stdout",
     "output_type": "stream",
     "text": [
      "Epoch 1 [20/1532] Loss: 1.7051, LR: 0.000005\n"
     ]
    },
    {
     "name": "stderr",
     "output_type": "stream",
     "text": [
      "Epoch 1 Training:   2%|▏         | 32/1532 [00:06<04:40,  5.34it/s, loss=1.76]"
     ]
    },
    {
     "name": "stdout",
     "output_type": "stream",
     "text": [
      "Epoch 1 [30/1532] Loss: 1.5475, LR: 0.000005\n"
     ]
    },
    {
     "name": "stderr",
     "output_type": "stream",
     "text": [
      "Epoch 1 Training:   3%|▎         | 42/1532 [00:07<04:38,  5.35it/s, loss=1.9] "
     ]
    },
    {
     "name": "stdout",
     "output_type": "stream",
     "text": [
      "Epoch 1 [40/1532] Loss: 1.7287, LR: 0.000005\n"
     ]
    },
    {
     "name": "stderr",
     "output_type": "stream",
     "text": [
      "Epoch 1 Training:   3%|▎         | 52/1532 [00:09<04:47,  5.14it/s, loss=1.58]"
     ]
    },
    {
     "name": "stdout",
     "output_type": "stream",
     "text": [
      "Epoch 1 [50/1532] Loss: 1.3174, LR: 0.000005\n"
     ]
    },
    {
     "name": "stderr",
     "output_type": "stream",
     "text": [
      "Epoch 1 Training:   4%|▍         | 62/1532 [00:11<04:36,  5.31it/s, loss=1.7] "
     ]
    },
    {
     "name": "stdout",
     "output_type": "stream",
     "text": [
      "Epoch 1 [60/1532] Loss: 1.8623, LR: 0.000005\n"
     ]
    },
    {
     "name": "stderr",
     "output_type": "stream",
     "text": [
      "Epoch 1 Training:   5%|▍         | 72/1532 [00:13<04:44,  5.13it/s, loss=1.93]"
     ]
    },
    {
     "name": "stdout",
     "output_type": "stream",
     "text": [
      "Epoch 1 [70/1532] Loss: 1.6754, LR: 0.000005\n"
     ]
    },
    {
     "name": "stderr",
     "output_type": "stream",
     "text": [
      "Epoch 1 Training:   5%|▌         | 82/1532 [00:15<04:40,  5.18it/s, loss=1.44]"
     ]
    },
    {
     "name": "stdout",
     "output_type": "stream",
     "text": [
      "Epoch 1 [80/1532] Loss: 1.6363, LR: 0.000005\n"
     ]
    },
    {
     "name": "stderr",
     "output_type": "stream",
     "text": [
      "Epoch 1 Training:   6%|▌         | 92/1532 [00:17<04:38,  5.16it/s, loss=1.46]"
     ]
    },
    {
     "name": "stdout",
     "output_type": "stream",
     "text": [
      "Epoch 1 [90/1532] Loss: 1.6527, LR: 0.000005\n"
     ]
    },
    {
     "name": "stderr",
     "output_type": "stream",
     "text": [
      "Epoch 1 Training:   7%|▋         | 102/1532 [00:19<04:30,  5.29it/s, loss=1.81]"
     ]
    },
    {
     "name": "stdout",
     "output_type": "stream",
     "text": [
      "Epoch 1 [100/1532] Loss: 2.0975, LR: 0.000005\n"
     ]
    },
    {
     "name": "stderr",
     "output_type": "stream",
     "text": [
      "Epoch 1 Training:   7%|▋         | 112/1532 [00:21<04:17,  5.50it/s, loss=1.98]"
     ]
    },
    {
     "name": "stdout",
     "output_type": "stream",
     "text": [
      "Epoch 1 [110/1532] Loss: 1.5452, LR: 0.000005\n"
     ]
    },
    {
     "name": "stderr",
     "output_type": "stream",
     "text": [
      "Epoch 1 Training:   8%|▊         | 122/1532 [00:23<04:30,  5.21it/s, loss=1.92]"
     ]
    },
    {
     "name": "stdout",
     "output_type": "stream",
     "text": [
      "Epoch 1 [120/1532] Loss: 1.7960, LR: 0.000005\n"
     ]
    },
    {
     "name": "stderr",
     "output_type": "stream",
     "text": [
      "Epoch 1 Training:   9%|▊         | 132/1532 [00:25<04:32,  5.13it/s, loss=1.65]"
     ]
    },
    {
     "name": "stdout",
     "output_type": "stream",
     "text": [
      "Epoch 1 [130/1532] Loss: 1.5205, LR: 0.000005\n"
     ]
    },
    {
     "name": "stderr",
     "output_type": "stream",
     "text": [
      "Epoch 1 Training:   9%|▉         | 142/1532 [00:26<04:28,  5.18it/s, loss=2.01]"
     ]
    },
    {
     "name": "stdout",
     "output_type": "stream",
     "text": [
      "Epoch 1 [140/1532] Loss: 1.5786, LR: 0.000005\n"
     ]
    },
    {
     "name": "stderr",
     "output_type": "stream",
     "text": [
      "Epoch 1 Training:  10%|▉         | 151/1532 [00:28<04:19,  5.31it/s, loss=1.91]"
     ]
    },
    {
     "name": "stdout",
     "output_type": "stream",
     "text": [
      "Epoch 1 [150/1532] Loss: 1.7559, LR: 0.000005\n"
     ]
    },
    {
     "name": "stderr",
     "output_type": "stream",
     "text": [
      "Epoch 1 Training:  11%|█         | 162/1532 [00:30<04:17,  5.32it/s, loss=1.45]"
     ]
    },
    {
     "name": "stdout",
     "output_type": "stream",
     "text": [
      "Epoch 1 [160/1532] Loss: 1.5189, LR: 0.000005\n"
     ]
    },
    {
     "name": "stderr",
     "output_type": "stream",
     "text": [
      "Epoch 1 Training:  11%|█         | 172/1532 [00:32<04:17,  5.28it/s, loss=2.12]"
     ]
    },
    {
     "name": "stdout",
     "output_type": "stream",
     "text": [
      "Epoch 1 [170/1532] Loss: 1.4384, LR: 0.000005\n"
     ]
    },
    {
     "name": "stderr",
     "output_type": "stream",
     "text": [
      "Epoch 1 Training:  12%|█▏        | 182/1532 [00:34<04:10,  5.40it/s, loss=2.38]"
     ]
    },
    {
     "name": "stdout",
     "output_type": "stream",
     "text": [
      "Epoch 1 [180/1532] Loss: 1.5324, LR: 0.000005\n"
     ]
    },
    {
     "name": "stderr",
     "output_type": "stream",
     "text": [
      "Epoch 1 Training:  13%|█▎        | 192/1532 [00:36<04:08,  5.39it/s, loss=1.37]"
     ]
    },
    {
     "name": "stdout",
     "output_type": "stream",
     "text": [
      "Epoch 1 [190/1532] Loss: 1.4933, LR: 0.000005\n"
     ]
    },
    {
     "name": "stderr",
     "output_type": "stream",
     "text": [
      "Epoch 1 Training:  13%|█▎        | 202/1532 [00:38<04:08,  5.35it/s, loss=1.65]"
     ]
    },
    {
     "name": "stdout",
     "output_type": "stream",
     "text": [
      "Epoch 1 [200/1532] Loss: 1.4989, LR: 0.000005\n"
     ]
    },
    {
     "name": "stderr",
     "output_type": "stream",
     "text": [
      "Epoch 1 Training:  14%|█▍        | 211/1532 [00:39<04:06,  5.36it/s, loss=1.56]"
     ]
    },
    {
     "name": "stdout",
     "output_type": "stream",
     "text": [
      "Epoch 1 [210/1532] Loss: 1.5648, LR: 0.000005\n"
     ]
    },
    {
     "name": "stderr",
     "output_type": "stream",
     "text": [
      "Epoch 1 Training:  14%|█▍        | 222/1532 [00:42<04:13,  5.17it/s, loss=1.59]"
     ]
    },
    {
     "name": "stdout",
     "output_type": "stream",
     "text": [
      "Epoch 1 [220/1532] Loss: 1.1863, LR: 0.000005\n"
     ]
    },
    {
     "name": "stderr",
     "output_type": "stream",
     "text": [
      "Epoch 1 Training:  15%|█▌        | 232/1532 [00:43<04:10,  5.19it/s, loss=1.72]"
     ]
    },
    {
     "name": "stdout",
     "output_type": "stream",
     "text": [
      "Epoch 1 [230/1532] Loss: 1.5656, LR: 0.000005\n"
     ]
    },
    {
     "name": "stderr",
     "output_type": "stream",
     "text": [
      "Epoch 1 Training:  16%|█▌        | 241/1532 [00:45<04:05,  5.26it/s, loss=1.79]"
     ]
    },
    {
     "name": "stdout",
     "output_type": "stream",
     "text": [
      "Epoch 1 [240/1532] Loss: 1.3463, LR: 0.000005\n"
     ]
    },
    {
     "name": "stderr",
     "output_type": "stream",
     "text": [
      "Epoch 1 Training:  16%|█▋        | 252/1532 [00:47<04:01,  5.30it/s, loss=1.21]"
     ]
    },
    {
     "name": "stdout",
     "output_type": "stream",
     "text": [
      "Epoch 1 [250/1532] Loss: 2.0121, LR: 0.000005\n"
     ]
    },
    {
     "name": "stderr",
     "output_type": "stream",
     "text": [
      "Epoch 1 Training:  17%|█▋        | 262/1532 [00:49<04:02,  5.24it/s, loss=1.85]"
     ]
    },
    {
     "name": "stdout",
     "output_type": "stream",
     "text": [
      "Epoch 1 [260/1532] Loss: 1.7123, LR: 0.000005\n"
     ]
    },
    {
     "name": "stderr",
     "output_type": "stream",
     "text": [
      "Epoch 1 Training:  18%|█▊        | 272/1532 [00:51<03:54,  5.37it/s, loss=1.5] "
     ]
    },
    {
     "name": "stdout",
     "output_type": "stream",
     "text": [
      "Epoch 1 [270/1532] Loss: 2.2359, LR: 0.000005\n"
     ]
    },
    {
     "name": "stderr",
     "output_type": "stream",
     "text": [
      "Epoch 1 Training:  18%|█▊        | 282/1532 [00:53<03:53,  5.35it/s, loss=1.86]"
     ]
    },
    {
     "name": "stdout",
     "output_type": "stream",
     "text": [
      "Epoch 1 [280/1532] Loss: 1.1824, LR: 0.000005\n"
     ]
    },
    {
     "name": "stderr",
     "output_type": "stream",
     "text": [
      "Epoch 1 Training:  19%|█▉        | 292/1532 [00:55<03:54,  5.29it/s, loss=1.61]"
     ]
    },
    {
     "name": "stdout",
     "output_type": "stream",
     "text": [
      "Epoch 1 [290/1532] Loss: 1.9319, LR: 0.000005\n"
     ]
    },
    {
     "name": "stderr",
     "output_type": "stream",
     "text": [
      "Epoch 1 Training:  20%|█▉        | 302/1532 [00:57<03:54,  5.24it/s, loss=1.74]"
     ]
    },
    {
     "name": "stdout",
     "output_type": "stream",
     "text": [
      "Epoch 1 [300/1532] Loss: 1.5653, LR: 0.000005\n"
     ]
    },
    {
     "name": "stderr",
     "output_type": "stream",
     "text": [
      "Epoch 1 Training:  20%|██        | 312/1532 [00:59<03:49,  5.32it/s, loss=1.62]"
     ]
    },
    {
     "name": "stdout",
     "output_type": "stream",
     "text": [
      "Epoch 1 [310/1532] Loss: 1.6228, LR: 0.000005\n"
     ]
    },
    {
     "name": "stderr",
     "output_type": "stream",
     "text": [
      "Epoch 1 Training:  21%|██        | 322/1532 [01:01<03:48,  5.30it/s, loss=1.72]"
     ]
    },
    {
     "name": "stdout",
     "output_type": "stream",
     "text": [
      "Epoch 1 [320/1532] Loss: 1.5484, LR: 0.000005\n"
     ]
    },
    {
     "name": "stderr",
     "output_type": "stream",
     "text": [
      "Epoch 1 Training:  22%|██▏       | 332/1532 [01:02<03:43,  5.36it/s, loss=1.43]"
     ]
    },
    {
     "name": "stdout",
     "output_type": "stream",
     "text": [
      "Epoch 1 [330/1532] Loss: 1.6141, LR: 0.000005\n"
     ]
    },
    {
     "name": "stderr",
     "output_type": "stream",
     "text": [
      "Epoch 1 Training:  22%|██▏       | 342/1532 [01:04<03:42,  5.35it/s, loss=1.61]"
     ]
    },
    {
     "name": "stdout",
     "output_type": "stream",
     "text": [
      "Epoch 1 [340/1532] Loss: 1.8283, LR: 0.000005\n"
     ]
    },
    {
     "name": "stderr",
     "output_type": "stream",
     "text": [
      "Epoch 1 Training:  23%|██▎       | 352/1532 [01:06<03:43,  5.27it/s, loss=1.72]"
     ]
    },
    {
     "name": "stdout",
     "output_type": "stream",
     "text": [
      "Epoch 1 [350/1532] Loss: 1.9896, LR: 0.000005\n"
     ]
    },
    {
     "name": "stderr",
     "output_type": "stream",
     "text": [
      "Epoch 1 Training:  24%|██▎       | 362/1532 [01:08<03:44,  5.21it/s, loss=1.34]"
     ]
    },
    {
     "name": "stdout",
     "output_type": "stream",
     "text": [
      "Epoch 1 [360/1532] Loss: 1.4314, LR: 0.000005\n"
     ]
    },
    {
     "name": "stderr",
     "output_type": "stream",
     "text": [
      "Epoch 1 Training:  24%|██▍       | 372/1532 [01:10<03:39,  5.28it/s, loss=1.95]"
     ]
    },
    {
     "name": "stdout",
     "output_type": "stream",
     "text": [
      "Epoch 1 [370/1532] Loss: 2.1518, LR: 0.000005\n"
     ]
    },
    {
     "name": "stderr",
     "output_type": "stream",
     "text": [
      "Epoch 1 Training:  25%|██▍       | 382/1532 [01:12<03:38,  5.25it/s, loss=2.26]"
     ]
    },
    {
     "name": "stdout",
     "output_type": "stream",
     "text": [
      "Epoch 1 [380/1532] Loss: 1.4696, LR: 0.000005\n"
     ]
    },
    {
     "name": "stderr",
     "output_type": "stream",
     "text": [
      "Epoch 1 Training:  26%|██▌       | 392/1532 [01:14<03:34,  5.32it/s, loss=1.83]"
     ]
    },
    {
     "name": "stdout",
     "output_type": "stream",
     "text": [
      "Epoch 1 [390/1532] Loss: 1.4412, LR: 0.000005\n"
     ]
    },
    {
     "name": "stderr",
     "output_type": "stream",
     "text": [
      "Epoch 1 Training:  26%|██▌       | 402/1532 [01:16<03:41,  5.11it/s, loss=1.79]"
     ]
    },
    {
     "name": "stdout",
     "output_type": "stream",
     "text": [
      "Epoch 1 [400/1532] Loss: 1.2051, LR: 0.000005\n"
     ]
    },
    {
     "name": "stderr",
     "output_type": "stream",
     "text": [
      "Epoch 1 Training:  27%|██▋       | 412/1532 [01:18<03:38,  5.14it/s, loss=1.73]"
     ]
    },
    {
     "name": "stdout",
     "output_type": "stream",
     "text": [
      "Epoch 1 [410/1532] Loss: 1.3818, LR: 0.000005\n"
     ]
    },
    {
     "name": "stderr",
     "output_type": "stream",
     "text": [
      "Epoch 1 Training:  28%|██▊       | 422/1532 [01:20<03:34,  5.17it/s, loss=1.57]"
     ]
    },
    {
     "name": "stdout",
     "output_type": "stream",
     "text": [
      "Epoch 1 [420/1532] Loss: 1.8214, LR: 0.000005\n"
     ]
    },
    {
     "name": "stderr",
     "output_type": "stream",
     "text": [
      "Epoch 1 Training:  28%|██▊       | 432/1532 [01:22<03:34,  5.13it/s, loss=1.53]"
     ]
    },
    {
     "name": "stdout",
     "output_type": "stream",
     "text": [
      "Epoch 1 [430/1532] Loss: 1.5328, LR: 0.000005\n"
     ]
    },
    {
     "name": "stderr",
     "output_type": "stream",
     "text": [
      "Epoch 1 Training:  29%|██▉       | 442/1532 [01:23<03:29,  5.20it/s, loss=1.47]"
     ]
    },
    {
     "name": "stdout",
     "output_type": "stream",
     "text": [
      "Epoch 1 [440/1532] Loss: 1.7609, LR: 0.000005\n"
     ]
    },
    {
     "name": "stderr",
     "output_type": "stream",
     "text": [
      "Epoch 1 Training:  30%|██▉       | 452/1532 [01:25<03:22,  5.34it/s, loss=1.93] "
     ]
    },
    {
     "name": "stdout",
     "output_type": "stream",
     "text": [
      "Epoch 1 [450/1532] Loss: 1.7687, LR: 0.000005\n"
     ]
    },
    {
     "name": "stderr",
     "output_type": "stream",
     "text": [
      "Epoch 1 Training:  30%|███       | 462/1532 [01:27<03:18,  5.39it/s, loss=2.44]"
     ]
    },
    {
     "name": "stdout",
     "output_type": "stream",
     "text": [
      "Epoch 1 [460/1532] Loss: 1.6338, LR: 0.000005\n"
     ]
    },
    {
     "name": "stderr",
     "output_type": "stream",
     "text": [
      "Epoch 1 Training:  31%|███       | 472/1532 [01:29<03:21,  5.27it/s, loss=1.94]"
     ]
    },
    {
     "name": "stdout",
     "output_type": "stream",
     "text": [
      "Epoch 1 [470/1532] Loss: 1.8751, LR: 0.000005\n"
     ]
    },
    {
     "name": "stderr",
     "output_type": "stream",
     "text": [
      "Epoch 1 Training:  31%|███▏      | 482/1532 [01:31<03:22,  5.19it/s, loss=1.51]"
     ]
    },
    {
     "name": "stdout",
     "output_type": "stream",
     "text": [
      "Epoch 1 [480/1532] Loss: 1.9204, LR: 0.000005\n"
     ]
    },
    {
     "name": "stderr",
     "output_type": "stream",
     "text": [
      "Epoch 1 Training:  32%|███▏      | 492/1532 [01:33<03:19,  5.22it/s, loss=1.88]"
     ]
    },
    {
     "name": "stdout",
     "output_type": "stream",
     "text": [
      "Epoch 1 [490/1532] Loss: 1.1789, LR: 0.000005\n"
     ]
    },
    {
     "name": "stderr",
     "output_type": "stream",
     "text": [
      "Epoch 1 Training:  33%|███▎      | 502/1532 [01:35<03:15,  5.28it/s, loss=1.33]"
     ]
    },
    {
     "name": "stdout",
     "output_type": "stream",
     "text": [
      "Epoch 1 [500/1532] Loss: 1.7657, LR: 0.000005\n"
     ]
    },
    {
     "name": "stderr",
     "output_type": "stream",
     "text": [
      "Epoch 1 Training:  33%|███▎      | 511/1532 [01:37<03:12,  5.30it/s, loss=1.9] "
     ]
    },
    {
     "name": "stdout",
     "output_type": "stream",
     "text": [
      "Epoch 1 [510/1532] Loss: 1.3560, LR: 0.000005\n"
     ]
    },
    {
     "name": "stderr",
     "output_type": "stream",
     "text": [
      "Epoch 1 Training:  34%|███▍      | 522/1532 [01:39<03:10,  5.30it/s, loss=1.8] "
     ]
    },
    {
     "name": "stdout",
     "output_type": "stream",
     "text": [
      "Epoch 1 [520/1532] Loss: 2.0711, LR: 0.000005\n"
     ]
    },
    {
     "name": "stderr",
     "output_type": "stream",
     "text": [
      "Epoch 1 Training:  35%|███▍      | 532/1532 [01:41<03:09,  5.26it/s, loss=1.46]"
     ]
    },
    {
     "name": "stdout",
     "output_type": "stream",
     "text": [
      "Epoch 1 [530/1532] Loss: 1.5924, LR: 0.000005\n"
     ]
    },
    {
     "name": "stderr",
     "output_type": "stream",
     "text": [
      "Epoch 1 Training:  35%|███▌      | 542/1532 [01:43<03:05,  5.33it/s, loss=1.86]"
     ]
    },
    {
     "name": "stdout",
     "output_type": "stream",
     "text": [
      "Epoch 1 [540/1532] Loss: 1.6038, LR: 0.000005\n"
     ]
    },
    {
     "name": "stderr",
     "output_type": "stream",
     "text": [
      "Epoch 1 Training:  36%|███▌      | 552/1532 [01:44<03:06,  5.26it/s, loss=1.56]"
     ]
    },
    {
     "name": "stdout",
     "output_type": "stream",
     "text": [
      "Epoch 1 [550/1532] Loss: 1.6595, LR: 0.000005\n"
     ]
    },
    {
     "name": "stderr",
     "output_type": "stream",
     "text": [
      "Epoch 1 Training:  37%|███▋      | 562/1532 [01:46<03:07,  5.18it/s, loss=1.73]"
     ]
    },
    {
     "name": "stdout",
     "output_type": "stream",
     "text": [
      "Epoch 1 [560/1532] Loss: 2.0247, LR: 0.000005\n"
     ]
    },
    {
     "name": "stderr",
     "output_type": "stream",
     "text": [
      "Epoch 1 Training:  37%|███▋      | 572/1532 [01:48<02:56,  5.44it/s, loss=2.27]"
     ]
    },
    {
     "name": "stdout",
     "output_type": "stream",
     "text": [
      "Epoch 1 [570/1532] Loss: 1.7062, LR: 0.000005\n"
     ]
    },
    {
     "name": "stderr",
     "output_type": "stream",
     "text": [
      "Epoch 1 Training:  38%|███▊      | 582/1532 [01:50<03:02,  5.20it/s, loss=1.65]"
     ]
    },
    {
     "name": "stdout",
     "output_type": "stream",
     "text": [
      "Epoch 1 [580/1532] Loss: 1.2989, LR: 0.000005\n"
     ]
    },
    {
     "name": "stderr",
     "output_type": "stream",
     "text": [
      "Epoch 1 Training:  39%|███▊      | 592/1532 [01:52<02:58,  5.27it/s, loss=1.19]"
     ]
    },
    {
     "name": "stdout",
     "output_type": "stream",
     "text": [
      "Epoch 1 [590/1532] Loss: 2.0431, LR: 0.000005\n"
     ]
    },
    {
     "name": "stderr",
     "output_type": "stream",
     "text": [
      "Epoch 1 Training:  39%|███▉      | 602/1532 [01:54<02:56,  5.26it/s, loss=1.27]"
     ]
    },
    {
     "name": "stdout",
     "output_type": "stream",
     "text": [
      "Epoch 1 [600/1532] Loss: 2.1536, LR: 0.000005\n"
     ]
    },
    {
     "name": "stderr",
     "output_type": "stream",
     "text": [
      "Epoch 1 Training:  40%|███▉      | 612/1532 [01:56<02:58,  5.16it/s, loss=1.91]"
     ]
    },
    {
     "name": "stdout",
     "output_type": "stream",
     "text": [
      "Epoch 1 [610/1532] Loss: 1.7422, LR: 0.000005\n"
     ]
    },
    {
     "name": "stderr",
     "output_type": "stream",
     "text": [
      "Epoch 1 Training:  41%|████      | 621/1532 [01:57<02:55,  5.19it/s, loss=1.54]"
     ]
    },
    {
     "name": "stdout",
     "output_type": "stream",
     "text": [
      "Epoch 1 [620/1532] Loss: 1.5373, LR: 0.000005\n"
     ]
    },
    {
     "name": "stderr",
     "output_type": "stream",
     "text": [
      "Epoch 1 Training:  41%|████▏     | 632/1532 [02:00<02:51,  5.25it/s, loss=1.4] "
     ]
    },
    {
     "name": "stdout",
     "output_type": "stream",
     "text": [
      "Epoch 1 [630/1532] Loss: 1.5443, LR: 0.000005\n"
     ]
    },
    {
     "name": "stderr",
     "output_type": "stream",
     "text": [
      "Epoch 1 Training:  42%|████▏     | 642/1532 [02:02<02:53,  5.14it/s, loss=1.6] "
     ]
    },
    {
     "name": "stdout",
     "output_type": "stream",
     "text": [
      "Epoch 1 [640/1532] Loss: 1.4630, LR: 0.000005\n"
     ]
    },
    {
     "name": "stderr",
     "output_type": "stream",
     "text": [
      "Epoch 1 Training:  43%|████▎     | 652/1532 [02:03<02:48,  5.22it/s, loss=1.35]"
     ]
    },
    {
     "name": "stdout",
     "output_type": "stream",
     "text": [
      "Epoch 1 [650/1532] Loss: 1.5284, LR: 0.000005\n"
     ]
    },
    {
     "name": "stderr",
     "output_type": "stream",
     "text": [
      "Epoch 1 Training:  43%|████▎     | 662/1532 [02:05<02:41,  5.39it/s, loss=1.46]"
     ]
    },
    {
     "name": "stdout",
     "output_type": "stream",
     "text": [
      "Epoch 1 [660/1532] Loss: 1.7078, LR: 0.000005\n"
     ]
    },
    {
     "name": "stderr",
     "output_type": "stream",
     "text": [
      "Epoch 1 Training:  44%|████▍     | 672/1532 [02:07<02:40,  5.37it/s, loss=1.92]"
     ]
    },
    {
     "name": "stdout",
     "output_type": "stream",
     "text": [
      "Epoch 1 [670/1532] Loss: 1.7049, LR: 0.000005\n"
     ]
    },
    {
     "name": "stderr",
     "output_type": "stream",
     "text": [
      "Epoch 1 Training:  45%|████▍     | 682/1532 [02:09<02:38,  5.36it/s, loss=2.13]"
     ]
    },
    {
     "name": "stdout",
     "output_type": "stream",
     "text": [
      "Epoch 1 [680/1532] Loss: 2.1589, LR: 0.000005\n"
     ]
    },
    {
     "name": "stderr",
     "output_type": "stream",
     "text": [
      "Epoch 1 Training:  45%|████▌     | 692/1532 [02:11<02:41,  5.20it/s, loss=1.51]"
     ]
    },
    {
     "name": "stdout",
     "output_type": "stream",
     "text": [
      "Epoch 1 [690/1532] Loss: 1.4920, LR: 0.000005\n"
     ]
    },
    {
     "name": "stderr",
     "output_type": "stream",
     "text": [
      "Epoch 1 Training:  46%|████▌     | 702/1532 [02:13<02:40,  5.17it/s, loss=1.47]"
     ]
    },
    {
     "name": "stdout",
     "output_type": "stream",
     "text": [
      "Epoch 1 [700/1532] Loss: 1.6800, LR: 0.000005\n"
     ]
    },
    {
     "name": "stderr",
     "output_type": "stream",
     "text": [
      "Epoch 1 Training:  46%|████▋     | 712/1532 [02:15<02:37,  5.21it/s, loss=1.66]"
     ]
    },
    {
     "name": "stdout",
     "output_type": "stream",
     "text": [
      "Epoch 1 [710/1532] Loss: 1.7010, LR: 0.000005\n"
     ]
    },
    {
     "name": "stderr",
     "output_type": "stream",
     "text": [
      "Epoch 1 Training:  47%|████▋     | 722/1532 [02:17<02:31,  5.35it/s, loss=1.44]"
     ]
    },
    {
     "name": "stdout",
     "output_type": "stream",
     "text": [
      "Epoch 1 [720/1532] Loss: 1.4739, LR: 0.000005\n"
     ]
    },
    {
     "name": "stderr",
     "output_type": "stream",
     "text": [
      "Epoch 1 Training:  48%|████▊     | 732/1532 [02:19<02:27,  5.42it/s, loss=1.76]"
     ]
    },
    {
     "name": "stdout",
     "output_type": "stream",
     "text": [
      "Epoch 1 [730/1532] Loss: 1.4376, LR: 0.000005\n"
     ]
    },
    {
     "name": "stderr",
     "output_type": "stream",
     "text": [
      "Epoch 1 Training:  48%|████▊     | 742/1532 [02:21<02:30,  5.24it/s, loss=2.28]"
     ]
    },
    {
     "name": "stdout",
     "output_type": "stream",
     "text": [
      "Epoch 1 [740/1532] Loss: 1.7176, LR: 0.000005\n"
     ]
    },
    {
     "name": "stderr",
     "output_type": "stream",
     "text": [
      "Epoch 1 Training:  49%|████▉     | 752/1532 [02:22<02:30,  5.20it/s, loss=1.45]"
     ]
    },
    {
     "name": "stdout",
     "output_type": "stream",
     "text": [
      "Epoch 1 [750/1532] Loss: 1.3137, LR: 0.000005\n"
     ]
    },
    {
     "name": "stderr",
     "output_type": "stream",
     "text": [
      "Epoch 1 Training:  50%|████▉     | 762/1532 [02:24<02:25,  5.29it/s, loss=1.8] "
     ]
    },
    {
     "name": "stdout",
     "output_type": "stream",
     "text": [
      "Epoch 1 [760/1532] Loss: 2.3129, LR: 0.000005\n"
     ]
    },
    {
     "name": "stderr",
     "output_type": "stream",
     "text": [
      "Epoch 1 Training:  50%|█████     | 772/1532 [02:26<02:25,  5.22it/s, loss=1.35]"
     ]
    },
    {
     "name": "stdout",
     "output_type": "stream",
     "text": [
      "Epoch 1 [770/1532] Loss: 1.6536, LR: 0.000005\n"
     ]
    },
    {
     "name": "stderr",
     "output_type": "stream",
     "text": [
      "Epoch 1 Training:  51%|█████     | 782/1532 [02:28<02:25,  5.16it/s, loss=1.85]"
     ]
    },
    {
     "name": "stdout",
     "output_type": "stream",
     "text": [
      "Epoch 1 [780/1532] Loss: 1.4221, LR: 0.000005\n"
     ]
    },
    {
     "name": "stderr",
     "output_type": "stream",
     "text": [
      "Epoch 1 Training:  52%|█████▏    | 792/1532 [02:30<02:21,  5.23it/s, loss=1.62]"
     ]
    },
    {
     "name": "stdout",
     "output_type": "stream",
     "text": [
      "Epoch 1 [790/1532] Loss: 1.8014, LR: 0.000005\n"
     ]
    },
    {
     "name": "stderr",
     "output_type": "stream",
     "text": [
      "Epoch 1 Training:  52%|█████▏    | 802/1532 [02:32<02:20,  5.20it/s, loss=1.6] "
     ]
    },
    {
     "name": "stdout",
     "output_type": "stream",
     "text": [
      "Epoch 1 [800/1532] Loss: 1.6760, LR: 0.000005\n"
     ]
    },
    {
     "name": "stderr",
     "output_type": "stream",
     "text": [
      "Epoch 1 Training:  53%|█████▎    | 812/1532 [02:34<02:18,  5.19it/s, loss=1.58]"
     ]
    },
    {
     "name": "stdout",
     "output_type": "stream",
     "text": [
      "Epoch 1 [810/1532] Loss: 1.7586, LR: 0.000005\n"
     ]
    },
    {
     "name": "stderr",
     "output_type": "stream",
     "text": [
      "Epoch 1 Training:  54%|█████▎    | 822/1532 [02:36<02:08,  5.52it/s, loss=1.76]"
     ]
    },
    {
     "name": "stdout",
     "output_type": "stream",
     "text": [
      "Epoch 1 [820/1532] Loss: 2.1842, LR: 0.000005\n"
     ]
    },
    {
     "name": "stderr",
     "output_type": "stream",
     "text": [
      "Epoch 1 Training:  54%|█████▍    | 832/1532 [02:38<02:12,  5.28it/s, loss=1.38]"
     ]
    },
    {
     "name": "stdout",
     "output_type": "stream",
     "text": [
      "Epoch 1 [830/1532] Loss: 1.8710, LR: 0.000005\n"
     ]
    },
    {
     "name": "stderr",
     "output_type": "stream",
     "text": [
      "Epoch 1 Training:  55%|█████▍    | 842/1532 [02:40<02:14,  5.12it/s, loss=1.92]"
     ]
    },
    {
     "name": "stdout",
     "output_type": "stream",
     "text": [
      "Epoch 1 [840/1532] Loss: 1.6249, LR: 0.000005\n"
     ]
    },
    {
     "name": "stderr",
     "output_type": "stream",
     "text": [
      "Epoch 1 Training:  56%|█████▌    | 852/1532 [02:41<02:06,  5.38it/s, loss=1.7] "
     ]
    },
    {
     "name": "stdout",
     "output_type": "stream",
     "text": [
      "Epoch 1 [850/1532] Loss: 1.6192, LR: 0.000005\n"
     ]
    },
    {
     "name": "stderr",
     "output_type": "stream",
     "text": [
      "Epoch 1 Training:  56%|█████▋    | 862/1532 [02:43<02:10,  5.14it/s, loss=2.22]"
     ]
    },
    {
     "name": "stdout",
     "output_type": "stream",
     "text": [
      "Epoch 1 [860/1532] Loss: 1.4747, LR: 0.000005\n"
     ]
    },
    {
     "name": "stderr",
     "output_type": "stream",
     "text": [
      "Epoch 1 Training:  57%|█████▋    | 872/1532 [02:45<02:02,  5.41it/s, loss=1.81]"
     ]
    },
    {
     "name": "stdout",
     "output_type": "stream",
     "text": [
      "Epoch 1 [870/1532] Loss: 1.6561, LR: 0.000005\n"
     ]
    },
    {
     "name": "stderr",
     "output_type": "stream",
     "text": [
      "Epoch 1 Training:  58%|█████▊    | 882/1532 [02:47<02:07,  5.10it/s, loss=1.69]"
     ]
    },
    {
     "name": "stdout",
     "output_type": "stream",
     "text": [
      "Epoch 1 [880/1532] Loss: 1.5629, LR: 0.000005\n"
     ]
    },
    {
     "name": "stderr",
     "output_type": "stream",
     "text": [
      "Epoch 1 Training:  58%|█████▊    | 892/1532 [02:49<02:03,  5.17it/s, loss=1.62]"
     ]
    },
    {
     "name": "stdout",
     "output_type": "stream",
     "text": [
      "Epoch 1 [890/1532] Loss: 1.8707, LR: 0.000005\n"
     ]
    },
    {
     "name": "stderr",
     "output_type": "stream",
     "text": [
      "Epoch 1 Training:  59%|█████▉    | 902/1532 [02:51<02:02,  5.16it/s, loss=1.71]"
     ]
    },
    {
     "name": "stdout",
     "output_type": "stream",
     "text": [
      "Epoch 1 [900/1532] Loss: 1.4950, LR: 0.000005\n"
     ]
    },
    {
     "name": "stderr",
     "output_type": "stream",
     "text": [
      "Epoch 1 Training:  60%|█████▉    | 912/1532 [02:53<01:58,  5.24it/s, loss=1.98]"
     ]
    },
    {
     "name": "stdout",
     "output_type": "stream",
     "text": [
      "Epoch 1 [910/1532] Loss: 1.5010, LR: 0.000005\n"
     ]
    },
    {
     "name": "stderr",
     "output_type": "stream",
     "text": [
      "Epoch 1 Training:  60%|██████    | 922/1532 [02:55<01:54,  5.35it/s, loss=1.45]"
     ]
    },
    {
     "name": "stdout",
     "output_type": "stream",
     "text": [
      "Epoch 1 [920/1532] Loss: 1.9314, LR: 0.000005\n"
     ]
    },
    {
     "name": "stderr",
     "output_type": "stream",
     "text": [
      "Epoch 1 Training:  61%|██████    | 932/1532 [02:57<01:49,  5.49it/s, loss=1.85]"
     ]
    },
    {
     "name": "stdout",
     "output_type": "stream",
     "text": [
      "Epoch 1 [930/1532] Loss: 1.8606, LR: 0.000005\n"
     ]
    },
    {
     "name": "stderr",
     "output_type": "stream",
     "text": [
      "Epoch 1 Training:  61%|██████▏   | 942/1532 [02:59<01:52,  5.27it/s, loss=2.2] "
     ]
    },
    {
     "name": "stdout",
     "output_type": "stream",
     "text": [
      "Epoch 1 [940/1532] Loss: 1.8070, LR: 0.000005\n"
     ]
    },
    {
     "name": "stderr",
     "output_type": "stream",
     "text": [
      "Epoch 1 Training:  62%|██████▏   | 952/1532 [03:00<01:50,  5.23it/s, loss=2.13]"
     ]
    },
    {
     "name": "stdout",
     "output_type": "stream",
     "text": [
      "Epoch 1 [950/1532] Loss: 1.5509, LR: 0.000005\n"
     ]
    },
    {
     "name": "stderr",
     "output_type": "stream",
     "text": [
      "Epoch 1 Training:  63%|██████▎   | 962/1532 [03:02<01:47,  5.28it/s, loss=1.36]"
     ]
    },
    {
     "name": "stdout",
     "output_type": "stream",
     "text": [
      "Epoch 1 [960/1532] Loss: 1.4696, LR: 0.000005\n"
     ]
    },
    {
     "name": "stderr",
     "output_type": "stream",
     "text": [
      "Epoch 1 Training:  63%|██████▎   | 972/1532 [03:04<01:45,  5.30it/s, loss=1.95]"
     ]
    },
    {
     "name": "stdout",
     "output_type": "stream",
     "text": [
      "Epoch 1 [970/1532] Loss: 1.9274, LR: 0.000005\n"
     ]
    },
    {
     "name": "stderr",
     "output_type": "stream",
     "text": [
      "Epoch 1 Training:  64%|██████▍   | 982/1532 [03:06<01:39,  5.50it/s, loss=1.4] "
     ]
    },
    {
     "name": "stdout",
     "output_type": "stream",
     "text": [
      "Epoch 1 [980/1532] Loss: 1.5015, LR: 0.000005\n"
     ]
    },
    {
     "name": "stderr",
     "output_type": "stream",
     "text": [
      "Epoch 1 Training:  65%|██████▍   | 992/1532 [03:08<01:41,  5.32it/s, loss=1.27]"
     ]
    },
    {
     "name": "stdout",
     "output_type": "stream",
     "text": [
      "Epoch 1 [990/1532] Loss: 1.7775, LR: 0.000005\n"
     ]
    },
    {
     "name": "stderr",
     "output_type": "stream",
     "text": [
      "Epoch 1 Training:  65%|██████▌   | 1002/1532 [03:10<01:38,  5.36it/s, loss=1.54]"
     ]
    },
    {
     "name": "stdout",
     "output_type": "stream",
     "text": [
      "Epoch 1 [1000/1532] Loss: 2.0484, LR: 0.000005\n"
     ]
    },
    {
     "name": "stderr",
     "output_type": "stream",
     "text": [
      "Epoch 1 Training:  66%|██████▌   | 1012/1532 [03:12<01:41,  5.15it/s, loss=1.8] "
     ]
    },
    {
     "name": "stdout",
     "output_type": "stream",
     "text": [
      "Epoch 1 [1010/1532] Loss: 1.6142, LR: 0.000005\n"
     ]
    },
    {
     "name": "stderr",
     "output_type": "stream",
     "text": [
      "Epoch 1 Training:  67%|██████▋   | 1022/1532 [03:14<01:38,  5.19it/s, loss=1.3] "
     ]
    },
    {
     "name": "stdout",
     "output_type": "stream",
     "text": [
      "Epoch 1 [1020/1532] Loss: 1.5845, LR: 0.000005\n"
     ]
    },
    {
     "name": "stderr",
     "output_type": "stream",
     "text": [
      "Epoch 1 Training:  67%|██████▋   | 1032/1532 [03:16<01:33,  5.35it/s, loss=1.81]"
     ]
    },
    {
     "name": "stdout",
     "output_type": "stream",
     "text": [
      "Epoch 1 [1030/1532] Loss: 1.8034, LR: 0.000005\n"
     ]
    },
    {
     "name": "stderr",
     "output_type": "stream",
     "text": [
      "Epoch 1 Training:  68%|██████▊   | 1042/1532 [03:17<01:34,  5.20it/s, loss=1.57]"
     ]
    },
    {
     "name": "stdout",
     "output_type": "stream",
     "text": [
      "Epoch 1 [1040/1532] Loss: 1.8840, LR: 0.000005\n"
     ]
    },
    {
     "name": "stderr",
     "output_type": "stream",
     "text": [
      "Epoch 1 Training:  69%|██████▊   | 1052/1532 [03:19<01:33,  5.14it/s, loss=2.02]"
     ]
    },
    {
     "name": "stdout",
     "output_type": "stream",
     "text": [
      "Epoch 1 [1050/1532] Loss: 1.6812, LR: 0.000005\n"
     ]
    },
    {
     "name": "stderr",
     "output_type": "stream",
     "text": [
      "Epoch 1 Training:  69%|██████▉   | 1062/1532 [03:21<01:29,  5.24it/s, loss=1.77]"
     ]
    },
    {
     "name": "stdout",
     "output_type": "stream",
     "text": [
      "Epoch 1 [1060/1532] Loss: 1.5837, LR: 0.000005\n"
     ]
    },
    {
     "name": "stderr",
     "output_type": "stream",
     "text": [
      "Epoch 1 Training:  70%|██████▉   | 1072/1532 [03:23<01:27,  5.23it/s, loss=1.07]"
     ]
    },
    {
     "name": "stdout",
     "output_type": "stream",
     "text": [
      "Epoch 1 [1070/1532] Loss: 1.9493, LR: 0.000005\n"
     ]
    },
    {
     "name": "stderr",
     "output_type": "stream",
     "text": [
      "Epoch 1 Training:  71%|███████   | 1082/1532 [03:25<01:24,  5.32it/s, loss=1.58]"
     ]
    },
    {
     "name": "stdout",
     "output_type": "stream",
     "text": [
      "Epoch 1 [1080/1532] Loss: 1.1123, LR: 0.000005\n"
     ]
    },
    {
     "name": "stderr",
     "output_type": "stream",
     "text": [
      "Epoch 1 Training:  71%|███████▏  | 1092/1532 [03:27<01:24,  5.22it/s, loss=1.81]"
     ]
    },
    {
     "name": "stdout",
     "output_type": "stream",
     "text": [
      "Epoch 1 [1090/1532] Loss: 2.4963, LR: 0.000005\n"
     ]
    },
    {
     "name": "stderr",
     "output_type": "stream",
     "text": [
      "Epoch 1 Training:  72%|███████▏  | 1102/1532 [03:29<01:19,  5.42it/s, loss=1.88]"
     ]
    },
    {
     "name": "stdout",
     "output_type": "stream",
     "text": [
      "Epoch 1 [1100/1532] Loss: 2.0351, LR: 0.000005\n"
     ]
    },
    {
     "name": "stderr",
     "output_type": "stream",
     "text": [
      "Epoch 1 Training:  73%|███████▎  | 1112/1532 [03:31<01:20,  5.20it/s, loss=1.44]"
     ]
    },
    {
     "name": "stdout",
     "output_type": "stream",
     "text": [
      "Epoch 1 [1110/1532] Loss: 1.5184, LR: 0.000005\n"
     ]
    },
    {
     "name": "stderr",
     "output_type": "stream",
     "text": [
      "Epoch 1 Training:  73%|███████▎  | 1122/1532 [03:33<01:19,  5.19it/s, loss=1.6] "
     ]
    },
    {
     "name": "stdout",
     "output_type": "stream",
     "text": [
      "Epoch 1 [1120/1532] Loss: 1.5115, LR: 0.000005\n"
     ]
    },
    {
     "name": "stderr",
     "output_type": "stream",
     "text": [
      "Epoch 1 Training:  74%|███████▍  | 1132/1532 [03:35<01:14,  5.39it/s, loss=1.51]"
     ]
    },
    {
     "name": "stdout",
     "output_type": "stream",
     "text": [
      "Epoch 1 [1130/1532] Loss: 1.7051, LR: 0.000005\n"
     ]
    },
    {
     "name": "stderr",
     "output_type": "stream",
     "text": [
      "Epoch 1 Training:  75%|███████▍  | 1142/1532 [03:37<01:16,  5.12it/s, loss=1.62]"
     ]
    },
    {
     "name": "stdout",
     "output_type": "stream",
     "text": [
      "Epoch 1 [1140/1532] Loss: 2.1309, LR: 0.000005\n"
     ]
    },
    {
     "name": "stderr",
     "output_type": "stream",
     "text": [
      "Epoch 1 Training:  75%|███████▌  | 1152/1532 [03:38<01:10,  5.42it/s, loss=2.02]"
     ]
    },
    {
     "name": "stdout",
     "output_type": "stream",
     "text": [
      "Epoch 1 [1150/1532] Loss: 1.6825, LR: 0.000005\n"
     ]
    },
    {
     "name": "stderr",
     "output_type": "stream",
     "text": [
      "Epoch 1 Training:  76%|███████▌  | 1162/1532 [03:40<01:09,  5.35it/s, loss=1.28]"
     ]
    },
    {
     "name": "stdout",
     "output_type": "stream",
     "text": [
      "Epoch 1 [1160/1532] Loss: 1.3938, LR: 0.000005\n"
     ]
    },
    {
     "name": "stderr",
     "output_type": "stream",
     "text": [
      "Epoch 1 Training:  77%|███████▋  | 1172/1532 [03:42<01:07,  5.34it/s, loss=1.71]"
     ]
    },
    {
     "name": "stdout",
     "output_type": "stream",
     "text": [
      "Epoch 1 [1170/1532] Loss: 1.3421, LR: 0.000005\n"
     ]
    },
    {
     "name": "stderr",
     "output_type": "stream",
     "text": [
      "Epoch 1 Training:  77%|███████▋  | 1182/1532 [03:44<01:06,  5.23it/s, loss=1.92]"
     ]
    },
    {
     "name": "stdout",
     "output_type": "stream",
     "text": [
      "Epoch 1 [1180/1532] Loss: 1.8661, LR: 0.000005\n"
     ]
    },
    {
     "name": "stderr",
     "output_type": "stream",
     "text": [
      "Epoch 1 Training:  78%|███████▊  | 1192/1532 [03:46<01:02,  5.40it/s, loss=1.57]"
     ]
    },
    {
     "name": "stdout",
     "output_type": "stream",
     "text": [
      "Epoch 1 [1190/1532] Loss: 1.6223, LR: 0.000005\n"
     ]
    },
    {
     "name": "stderr",
     "output_type": "stream",
     "text": [
      "Epoch 1 Training:  78%|███████▊  | 1202/1532 [03:48<01:04,  5.11it/s, loss=1.71]"
     ]
    },
    {
     "name": "stdout",
     "output_type": "stream",
     "text": [
      "Epoch 1 [1200/1532] Loss: 1.2002, LR: 0.000005\n"
     ]
    },
    {
     "name": "stderr",
     "output_type": "stream",
     "text": [
      "Epoch 1 Training:  79%|███████▉  | 1212/1532 [03:50<01:01,  5.16it/s, loss=1.39]"
     ]
    },
    {
     "name": "stdout",
     "output_type": "stream",
     "text": [
      "Epoch 1 [1210/1532] Loss: 1.5779, LR: 0.000005\n"
     ]
    },
    {
     "name": "stderr",
     "output_type": "stream",
     "text": [
      "Epoch 1 Training:  80%|███████▉  | 1222/1532 [03:52<00:57,  5.37it/s, loss=1.07]"
     ]
    },
    {
     "name": "stdout",
     "output_type": "stream",
     "text": [
      "Epoch 1 [1220/1532] Loss: 1.5824, LR: 0.000005\n"
     ]
    },
    {
     "name": "stderr",
     "output_type": "stream",
     "text": [
      "Epoch 1 Training:  80%|████████  | 1232/1532 [03:54<00:55,  5.42it/s, loss=1.3] "
     ]
    },
    {
     "name": "stdout",
     "output_type": "stream",
     "text": [
      "Epoch 1 [1230/1532] Loss: 1.9556, LR: 0.000005\n"
     ]
    },
    {
     "name": "stderr",
     "output_type": "stream",
     "text": [
      "Epoch 1 Training:  81%|████████  | 1242/1532 [03:55<00:54,  5.35it/s, loss=1.72]"
     ]
    },
    {
     "name": "stdout",
     "output_type": "stream",
     "text": [
      "Epoch 1 [1240/1532] Loss: 1.9775, LR: 0.000005\n"
     ]
    },
    {
     "name": "stderr",
     "output_type": "stream",
     "text": [
      "Epoch 1 Training:  82%|████████▏ | 1252/1532 [03:57<00:53,  5.26it/s, loss=1.13]"
     ]
    },
    {
     "name": "stdout",
     "output_type": "stream",
     "text": [
      "Epoch 1 [1250/1532] Loss: 1.5947, LR: 0.000005\n"
     ]
    },
    {
     "name": "stderr",
     "output_type": "stream",
     "text": [
      "Epoch 1 Training:  82%|████████▏ | 1262/1532 [03:59<00:51,  5.25it/s, loss=2.16]"
     ]
    },
    {
     "name": "stdout",
     "output_type": "stream",
     "text": [
      "Epoch 1 [1260/1532] Loss: 1.3990, LR: 0.000005\n"
     ]
    },
    {
     "name": "stderr",
     "output_type": "stream",
     "text": [
      "Epoch 1 Training:  83%|████████▎ | 1272/1532 [04:01<00:50,  5.19it/s, loss=1.42]"
     ]
    },
    {
     "name": "stdout",
     "output_type": "stream",
     "text": [
      "Epoch 1 [1270/1532] Loss: 1.7482, LR: 0.000005\n"
     ]
    },
    {
     "name": "stderr",
     "output_type": "stream",
     "text": [
      "Epoch 1 Training:  84%|████████▎ | 1282/1532 [04:03<00:46,  5.36it/s, loss=1.65]"
     ]
    },
    {
     "name": "stdout",
     "output_type": "stream",
     "text": [
      "Epoch 1 [1280/1532] Loss: 1.4646, LR: 0.000005\n"
     ]
    },
    {
     "name": "stderr",
     "output_type": "stream",
     "text": [
      "Epoch 1 Training:  84%|████████▍ | 1292/1532 [04:05<00:44,  5.44it/s, loss=2.06]"
     ]
    },
    {
     "name": "stdout",
     "output_type": "stream",
     "text": [
      "Epoch 1 [1290/1532] Loss: 1.7740, LR: 0.000005\n"
     ]
    },
    {
     "name": "stderr",
     "output_type": "stream",
     "text": [
      "Epoch 1 Training:  85%|████████▍ | 1302/1532 [04:07<00:43,  5.34it/s, loss=1.45]"
     ]
    },
    {
     "name": "stdout",
     "output_type": "stream",
     "text": [
      "Epoch 1 [1300/1532] Loss: 1.3614, LR: 0.000005\n"
     ]
    },
    {
     "name": "stderr",
     "output_type": "stream",
     "text": [
      "Epoch 1 Training:  86%|████████▌ | 1311/1532 [04:09<00:42,  5.18it/s, loss=2.1] "
     ]
    },
    {
     "name": "stdout",
     "output_type": "stream",
     "text": [
      "Epoch 1 [1310/1532] Loss: 1.5669, LR: 0.000005\n"
     ]
    },
    {
     "name": "stderr",
     "output_type": "stream",
     "text": [
      "Epoch 1 Training:  86%|████████▋ | 1322/1532 [04:11<00:39,  5.26it/s, loss=1.05]"
     ]
    },
    {
     "name": "stdout",
     "output_type": "stream",
     "text": [
      "Epoch 1 [1320/1532] Loss: 1.6163, LR: 0.000005\n"
     ]
    },
    {
     "name": "stderr",
     "output_type": "stream",
     "text": [
      "Epoch 1 Training:  87%|████████▋ | 1332/1532 [04:12<00:37,  5.30it/s, loss=1.59]"
     ]
    },
    {
     "name": "stdout",
     "output_type": "stream",
     "text": [
      "Epoch 1 [1330/1532] Loss: 1.4431, LR: 0.000005\n"
     ]
    },
    {
     "name": "stderr",
     "output_type": "stream",
     "text": [
      "Epoch 1 Training:  88%|████████▊ | 1342/1532 [04:14<00:35,  5.32it/s, loss=1.11]"
     ]
    },
    {
     "name": "stdout",
     "output_type": "stream",
     "text": [
      "Epoch 1 [1340/1532] Loss: 1.2574, LR: 0.000005\n"
     ]
    },
    {
     "name": "stderr",
     "output_type": "stream",
     "text": [
      "Epoch 1 Training:  88%|████████▊ | 1352/1532 [04:16<00:34,  5.16it/s, loss=1.51]"
     ]
    },
    {
     "name": "stdout",
     "output_type": "stream",
     "text": [
      "Epoch 1 [1350/1532] Loss: 1.8482, LR: 0.000005\n"
     ]
    },
    {
     "name": "stderr",
     "output_type": "stream",
     "text": [
      "Epoch 1 Training:  89%|████████▉ | 1362/1532 [04:18<00:33,  5.12it/s, loss=2.16]"
     ]
    },
    {
     "name": "stdout",
     "output_type": "stream",
     "text": [
      "Epoch 1 [1360/1532] Loss: 1.5516, LR: 0.000005\n"
     ]
    },
    {
     "name": "stderr",
     "output_type": "stream",
     "text": [
      "Epoch 1 Training:  90%|████████▉ | 1372/1532 [04:20<00:30,  5.23it/s, loss=2.04]"
     ]
    },
    {
     "name": "stdout",
     "output_type": "stream",
     "text": [
      "Epoch 1 [1370/1532] Loss: 1.5597, LR: 0.000005\n"
     ]
    },
    {
     "name": "stderr",
     "output_type": "stream",
     "text": [
      "Epoch 1 Training:  90%|█████████ | 1382/1532 [04:22<00:27,  5.37it/s, loss=1.33]"
     ]
    },
    {
     "name": "stdout",
     "output_type": "stream",
     "text": [
      "Epoch 1 [1380/1532] Loss: 1.6798, LR: 0.000005\n"
     ]
    },
    {
     "name": "stderr",
     "output_type": "stream",
     "text": [
      "Epoch 1 Training:  91%|█████████ | 1392/1532 [04:24<00:27,  5.17it/s, loss=1.81]"
     ]
    },
    {
     "name": "stdout",
     "output_type": "stream",
     "text": [
      "Epoch 1 [1390/1532] Loss: 1.5020, LR: 0.000005\n"
     ]
    },
    {
     "name": "stderr",
     "output_type": "stream",
     "text": [
      "Epoch 1 Training:  92%|█████████▏| 1402/1532 [04:26<00:24,  5.36it/s, loss=1.47]"
     ]
    },
    {
     "name": "stdout",
     "output_type": "stream",
     "text": [
      "Epoch 1 [1400/1532] Loss: 1.7367, LR: 0.000005\n"
     ]
    },
    {
     "name": "stderr",
     "output_type": "stream",
     "text": [
      "Epoch 1 Training:  92%|█████████▏| 1412/1532 [04:28<00:22,  5.39it/s, loss=1.42]"
     ]
    },
    {
     "name": "stdout",
     "output_type": "stream",
     "text": [
      "Epoch 1 [1410/1532] Loss: 2.0390, LR: 0.000005\n"
     ]
    },
    {
     "name": "stderr",
     "output_type": "stream",
     "text": [
      "Epoch 1 Training:  93%|█████████▎| 1422/1532 [04:30<00:21,  5.23it/s, loss=1.84]"
     ]
    },
    {
     "name": "stdout",
     "output_type": "stream",
     "text": [
      "Epoch 1 [1420/1532] Loss: 1.7229, LR: 0.000005\n"
     ]
    },
    {
     "name": "stderr",
     "output_type": "stream",
     "text": [
      "Epoch 1 Training:  93%|█████████▎| 1432/1532 [04:32<00:18,  5.30it/s, loss=1.38]"
     ]
    },
    {
     "name": "stdout",
     "output_type": "stream",
     "text": [
      "Epoch 1 [1430/1532] Loss: 2.2061, LR: 0.000005\n"
     ]
    },
    {
     "name": "stderr",
     "output_type": "stream",
     "text": [
      "Epoch 1 Training:  94%|█████████▍| 1441/1532 [04:33<00:17,  5.19it/s, loss=1.58]"
     ]
    },
    {
     "name": "stdout",
     "output_type": "stream",
     "text": [
      "Epoch 1 [1440/1532] Loss: 2.0417, LR: 0.000005\n"
     ]
    },
    {
     "name": "stderr",
     "output_type": "stream",
     "text": [
      "Epoch 1 Training:  95%|█████████▍| 1452/1532 [04:35<00:15,  5.28it/s, loss=1.62] "
     ]
    },
    {
     "name": "stdout",
     "output_type": "stream",
     "text": [
      "Epoch 1 [1450/1532] Loss: 1.8721, LR: 0.000005\n"
     ]
    },
    {
     "name": "stderr",
     "output_type": "stream",
     "text": [
      "Epoch 1 Training:  95%|█████████▌| 1462/1532 [04:37<00:13,  5.34it/s, loss=1.32]"
     ]
    },
    {
     "name": "stdout",
     "output_type": "stream",
     "text": [
      "Epoch 1 [1460/1532] Loss: 1.6776, LR: 0.000005\n"
     ]
    },
    {
     "name": "stderr",
     "output_type": "stream",
     "text": [
      "Epoch 1 Training:  96%|█████████▌| 1472/1532 [04:39<00:11,  5.29it/s, loss=1.74]"
     ]
    },
    {
     "name": "stdout",
     "output_type": "stream",
     "text": [
      "Epoch 1 [1470/1532] Loss: 1.4740, LR: 0.000005\n"
     ]
    },
    {
     "name": "stderr",
     "output_type": "stream",
     "text": [
      "Epoch 1 Training:  97%|█████████▋| 1482/1532 [04:41<00:09,  5.10it/s, loss=1.44]"
     ]
    },
    {
     "name": "stdout",
     "output_type": "stream",
     "text": [
      "Epoch 1 [1480/1532] Loss: 1.2410, LR: 0.000005\n"
     ]
    },
    {
     "name": "stderr",
     "output_type": "stream",
     "text": [
      "Epoch 1 Training:  97%|█████████▋| 1492/1532 [04:43<00:07,  5.35it/s, loss=1.83]"
     ]
    },
    {
     "name": "stdout",
     "output_type": "stream",
     "text": [
      "Epoch 1 [1490/1532] Loss: 1.8559, LR: 0.000005\n"
     ]
    },
    {
     "name": "stderr",
     "output_type": "stream",
     "text": [
      "Epoch 1 Training:  98%|█████████▊| 1502/1532 [04:45<00:05,  5.27it/s, loss=1.7]  "
     ]
    },
    {
     "name": "stdout",
     "output_type": "stream",
     "text": [
      "Epoch 1 [1500/1532] Loss: 1.3818, LR: 0.000005\n"
     ]
    },
    {
     "name": "stderr",
     "output_type": "stream",
     "text": [
      "Epoch 1 Training:  99%|█████████▊| 1512/1532 [04:47<00:03,  5.54it/s, loss=1.84]"
     ]
    },
    {
     "name": "stdout",
     "output_type": "stream",
     "text": [
      "Epoch 1 [1510/1532] Loss: 1.6601, LR: 0.000005\n"
     ]
    },
    {
     "name": "stderr",
     "output_type": "stream",
     "text": [
      "Epoch 1 Training:  99%|█████████▉| 1522/1532 [04:49<00:01,  5.29it/s, loss=1.8] "
     ]
    },
    {
     "name": "stdout",
     "output_type": "stream",
     "text": [
      "Epoch 1 [1520/1532] Loss: 1.8285, LR: 0.000005\n"
     ]
    },
    {
     "name": "stderr",
     "output_type": "stream",
     "text": [
      "Epoch 1 Training: 100%|██████████| 1532/1532 [04:50<00:00,  5.27it/s, loss=0.104]\n"
     ]
    },
    {
     "name": "stdout",
     "output_type": "stream",
     "text": [
      "Epoch 1 [1530/1532] Loss: 1.7973, LR: 0.000005\n",
      "Epoch 1: Avg Loss: 1.6904, Time: 290.90s\n",
      "Validation Results:\n",
      "  Loss: 1.9820\n",
      "  Image→Text Accuracy: 0.3481 (Top-5: 0.7988)\n",
      "  Text→Image Accuracy: 0.3396 (Top-5: 0.8096)\n",
      "💾 Saved new best model at epoch 2 with I→T Acc: 34.81%\n",
      "\n",
      "🚀 Epoch 3/3\n"
     ]
    },
    {
     "name": "stderr",
     "output_type": "stream",
     "text": [
      "Epoch 2 Training:   0%|          | 2/1532 [00:00<05:09,  4.95it/s, loss=1.25]"
     ]
    },
    {
     "name": "stdout",
     "output_type": "stream",
     "text": [
      "Epoch 2 [0/1532] Loss: 1.0883, LR: 0.000005\n"
     ]
    },
    {
     "name": "stderr",
     "output_type": "stream",
     "text": [
      "Epoch 2 Training:   1%|          | 12/1532 [00:02<04:43,  5.36it/s, loss=0.978]"
     ]
    },
    {
     "name": "stdout",
     "output_type": "stream",
     "text": [
      "Epoch 2 [10/1532] Loss: 0.8013, LR: 0.000005\n"
     ]
    },
    {
     "name": "stderr",
     "output_type": "stream",
     "text": [
      "Epoch 2 Training:   1%|▏         | 22/1532 [00:04<04:42,  5.35it/s, loss=1.07] "
     ]
    },
    {
     "name": "stdout",
     "output_type": "stream",
     "text": [
      "Epoch 2 [20/1532] Loss: 1.5934, LR: 0.000005\n"
     ]
    },
    {
     "name": "stderr",
     "output_type": "stream",
     "text": [
      "Epoch 2 Training:   2%|▏         | 32/1532 [00:06<04:42,  5.32it/s, loss=1.15] "
     ]
    },
    {
     "name": "stdout",
     "output_type": "stream",
     "text": [
      "Epoch 2 [30/1532] Loss: 1.3722, LR: 0.000005\n"
     ]
    },
    {
     "name": "stderr",
     "output_type": "stream",
     "text": [
      "Epoch 2 Training:   3%|▎         | 42/1532 [00:07<04:35,  5.41it/s, loss=1.27] "
     ]
    },
    {
     "name": "stdout",
     "output_type": "stream",
     "text": [
      "Epoch 2 [40/1532] Loss: 1.3839, LR: 0.000005\n"
     ]
    },
    {
     "name": "stderr",
     "output_type": "stream",
     "text": [
      "Epoch 2 Training:   3%|▎         | 52/1532 [00:09<04:29,  5.50it/s, loss=1.06] "
     ]
    },
    {
     "name": "stdout",
     "output_type": "stream",
     "text": [
      "Epoch 2 [50/1532] Loss: 1.3263, LR: 0.000005\n"
     ]
    },
    {
     "name": "stderr",
     "output_type": "stream",
     "text": [
      "Epoch 2 Training:   4%|▍         | 61/1532 [00:11<04:46,  5.14it/s, loss=1.63]"
     ]
    },
    {
     "name": "stdout",
     "output_type": "stream",
     "text": [
      "Epoch 2 [60/1532] Loss: 1.6528, LR: 0.000005\n"
     ]
    },
    {
     "name": "stderr",
     "output_type": "stream",
     "text": [
      "Epoch 2 Training:   5%|▍         | 72/1532 [00:13<04:39,  5.23it/s, loss=1.4]  "
     ]
    },
    {
     "name": "stdout",
     "output_type": "stream",
     "text": [
      "Epoch 2 [70/1532] Loss: 0.8051, LR: 0.000005\n"
     ]
    },
    {
     "name": "stderr",
     "output_type": "stream",
     "text": [
      "Epoch 2 Training:   5%|▌         | 82/1532 [00:15<04:32,  5.33it/s, loss=1.65] "
     ]
    },
    {
     "name": "stdout",
     "output_type": "stream",
     "text": [
      "Epoch 2 [80/1532] Loss: 1.4712, LR: 0.000005\n"
     ]
    },
    {
     "name": "stderr",
     "output_type": "stream",
     "text": [
      "Epoch 2 Training:   6%|▌         | 91/1532 [00:17<04:30,  5.34it/s, loss=0.678]"
     ]
    },
    {
     "name": "stdout",
     "output_type": "stream",
     "text": [
      "Epoch 2 [90/1532] Loss: 1.6023, LR: 0.000005\n"
     ]
    },
    {
     "name": "stderr",
     "output_type": "stream",
     "text": [
      "Epoch 2 Training:   7%|▋         | 102/1532 [00:19<04:32,  5.24it/s, loss=0.936]"
     ]
    },
    {
     "name": "stdout",
     "output_type": "stream",
     "text": [
      "Epoch 2 [100/1532] Loss: 1.2933, LR: 0.000005\n"
     ]
    },
    {
     "name": "stderr",
     "output_type": "stream",
     "text": [
      "Epoch 2 Training:   7%|▋         | 112/1532 [00:21<04:23,  5.38it/s, loss=1.1]  "
     ]
    },
    {
     "name": "stdout",
     "output_type": "stream",
     "text": [
      "Epoch 2 [110/1532] Loss: 1.4800, LR: 0.000005\n"
     ]
    },
    {
     "name": "stderr",
     "output_type": "stream",
     "text": [
      "Epoch 2 Training:   8%|▊         | 122/1532 [00:23<04:33,  5.15it/s, loss=0.824]"
     ]
    },
    {
     "name": "stdout",
     "output_type": "stream",
     "text": [
      "Epoch 2 [120/1532] Loss: 1.0928, LR: 0.000005\n"
     ]
    },
    {
     "name": "stderr",
     "output_type": "stream",
     "text": [
      "Epoch 2 Training:   9%|▊         | 132/1532 [00:24<04:23,  5.31it/s, loss=1.16] "
     ]
    },
    {
     "name": "stdout",
     "output_type": "stream",
     "text": [
      "Epoch 2 [130/1532] Loss: 1.5484, LR: 0.000005\n"
     ]
    },
    {
     "name": "stderr",
     "output_type": "stream",
     "text": [
      "Epoch 2 Training:   9%|▉         | 142/1532 [00:26<04:20,  5.33it/s, loss=1.25]"
     ]
    },
    {
     "name": "stdout",
     "output_type": "stream",
     "text": [
      "Epoch 2 [140/1532] Loss: 1.8795, LR: 0.000005\n"
     ]
    },
    {
     "name": "stderr",
     "output_type": "stream",
     "text": [
      "Epoch 2 Training:  10%|▉         | 152/1532 [00:28<04:32,  5.07it/s, loss=1.01] "
     ]
    },
    {
     "name": "stdout",
     "output_type": "stream",
     "text": [
      "Epoch 2 [150/1532] Loss: 1.1053, LR: 0.000005\n"
     ]
    },
    {
     "name": "stderr",
     "output_type": "stream",
     "text": [
      "Epoch 2 Training:  11%|█         | 162/1532 [00:30<04:26,  5.15it/s, loss=1.19] "
     ]
    },
    {
     "name": "stdout",
     "output_type": "stream",
     "text": [
      "Epoch 2 [160/1532] Loss: 1.3041, LR: 0.000005\n"
     ]
    },
    {
     "name": "stderr",
     "output_type": "stream",
     "text": [
      "Epoch 2 Training:  11%|█         | 171/1532 [00:32<04:26,  5.11it/s, loss=1.3]  "
     ]
    },
    {
     "name": "stdout",
     "output_type": "stream",
     "text": [
      "Epoch 2 [170/1532] Loss: 1.5198, LR: 0.000005\n"
     ]
    },
    {
     "name": "stderr",
     "output_type": "stream",
     "text": [
      "Epoch 2 Training:  12%|█▏        | 182/1532 [00:34<04:15,  5.28it/s, loss=1.01]"
     ]
    },
    {
     "name": "stdout",
     "output_type": "stream",
     "text": [
      "Epoch 2 [180/1532] Loss: 1.1462, LR: 0.000005\n"
     ]
    },
    {
     "name": "stderr",
     "output_type": "stream",
     "text": [
      "Epoch 2 Training:  13%|█▎        | 192/1532 [00:36<04:09,  5.38it/s, loss=0.964]"
     ]
    },
    {
     "name": "stdout",
     "output_type": "stream",
     "text": [
      "Epoch 2 [190/1532] Loss: 1.0128, LR: 0.000005\n"
     ]
    },
    {
     "name": "stderr",
     "output_type": "stream",
     "text": [
      "Epoch 2 Training:  13%|█▎        | 202/1532 [00:38<04:15,  5.20it/s, loss=1.83] "
     ]
    },
    {
     "name": "stdout",
     "output_type": "stream",
     "text": [
      "Epoch 2 [200/1532] Loss: 1.3027, LR: 0.000005\n"
     ]
    },
    {
     "name": "stderr",
     "output_type": "stream",
     "text": [
      "Epoch 2 Training:  14%|█▍        | 212/1532 [00:40<04:08,  5.32it/s, loss=1.33]"
     ]
    },
    {
     "name": "stdout",
     "output_type": "stream",
     "text": [
      "Epoch 2 [210/1532] Loss: 1.2933, LR: 0.000005\n"
     ]
    },
    {
     "name": "stderr",
     "output_type": "stream",
     "text": [
      "Epoch 2 Training:  14%|█▍        | 222/1532 [00:42<04:04,  5.35it/s, loss=1.17] "
     ]
    },
    {
     "name": "stdout",
     "output_type": "stream",
     "text": [
      "Epoch 2 [220/1532] Loss: 1.0943, LR: 0.000005\n"
     ]
    },
    {
     "name": "stderr",
     "output_type": "stream",
     "text": [
      "Epoch 2 Training:  15%|█▌        | 232/1532 [00:44<04:01,  5.39it/s, loss=1.05]"
     ]
    },
    {
     "name": "stdout",
     "output_type": "stream",
     "text": [
      "Epoch 2 [230/1532] Loss: 1.2038, LR: 0.000005\n"
     ]
    },
    {
     "name": "stderr",
     "output_type": "stream",
     "text": [
      "Epoch 2 Training:  16%|█▌        | 242/1532 [00:45<04:09,  5.16it/s, loss=1.47] "
     ]
    },
    {
     "name": "stdout",
     "output_type": "stream",
     "text": [
      "Epoch 2 [240/1532] Loss: 0.9532, LR: 0.000005\n"
     ]
    },
    {
     "name": "stderr",
     "output_type": "stream",
     "text": [
      "Epoch 2 Training:  16%|█▋        | 251/1532 [00:47<04:09,  5.13it/s, loss=1.27] "
     ]
    },
    {
     "name": "stdout",
     "output_type": "stream",
     "text": [
      "Epoch 2 [250/1532] Loss: 1.2710, LR: 0.000005\n"
     ]
    },
    {
     "name": "stderr",
     "output_type": "stream",
     "text": [
      "Epoch 2 Training:  17%|█▋        | 262/1532 [00:49<04:07,  5.13it/s, loss=1.16]"
     ]
    },
    {
     "name": "stdout",
     "output_type": "stream",
     "text": [
      "Epoch 2 [260/1532] Loss: 1.2943, LR: 0.000005\n"
     ]
    },
    {
     "name": "stderr",
     "output_type": "stream",
     "text": [
      "Epoch 2 Training:  18%|█▊        | 272/1532 [00:51<03:57,  5.31it/s, loss=1.53] "
     ]
    },
    {
     "name": "stdout",
     "output_type": "stream",
     "text": [
      "Epoch 2 [270/1532] Loss: 0.9840, LR: 0.000005\n"
     ]
    },
    {
     "name": "stderr",
     "output_type": "stream",
     "text": [
      "Epoch 2 Training:  18%|█▊        | 282/1532 [00:53<03:59,  5.23it/s, loss=1.09] "
     ]
    },
    {
     "name": "stdout",
     "output_type": "stream",
     "text": [
      "Epoch 2 [280/1532] Loss: 1.0769, LR: 0.000005\n"
     ]
    },
    {
     "name": "stderr",
     "output_type": "stream",
     "text": [
      "Epoch 2 Training:  19%|█▉        | 292/1532 [00:55<03:57,  5.23it/s, loss=1.08] "
     ]
    },
    {
     "name": "stdout",
     "output_type": "stream",
     "text": [
      "Epoch 2 [290/1532] Loss: 1.4876, LR: 0.000005\n"
     ]
    },
    {
     "name": "stderr",
     "output_type": "stream",
     "text": [
      "Epoch 2 Training:  20%|█▉        | 302/1532 [00:57<03:48,  5.39it/s, loss=1.62] "
     ]
    },
    {
     "name": "stdout",
     "output_type": "stream",
     "text": [
      "Epoch 2 [300/1532] Loss: 1.5002, LR: 0.000005\n"
     ]
    },
    {
     "name": "stderr",
     "output_type": "stream",
     "text": [
      "Epoch 2 Training:  20%|██        | 312/1532 [00:59<03:54,  5.21it/s, loss=1.15] "
     ]
    },
    {
     "name": "stdout",
     "output_type": "stream",
     "text": [
      "Epoch 2 [310/1532] Loss: 0.6878, LR: 0.000005\n"
     ]
    },
    {
     "name": "stderr",
     "output_type": "stream",
     "text": [
      "Epoch 2 Training:  21%|██        | 322/1532 [01:01<03:45,  5.36it/s, loss=1.4]  "
     ]
    },
    {
     "name": "stdout",
     "output_type": "stream",
     "text": [
      "Epoch 2 [320/1532] Loss: 0.8515, LR: 0.000005\n"
     ]
    },
    {
     "name": "stderr",
     "output_type": "stream",
     "text": [
      "Epoch 2 Training:  22%|██▏       | 332/1532 [01:03<04:10,  4.78it/s, loss=0.956]"
     ]
    },
    {
     "name": "stdout",
     "output_type": "stream",
     "text": [
      "Epoch 2 [330/1532] Loss: 1.5085, LR: 0.000005\n"
     ]
    },
    {
     "name": "stderr",
     "output_type": "stream",
     "text": [
      "Epoch 2 Training:  22%|██▏       | 342/1532 [01:04<03:45,  5.27it/s, loss=1.32] "
     ]
    },
    {
     "name": "stdout",
     "output_type": "stream",
     "text": [
      "Epoch 2 [340/1532] Loss: 0.8283, LR: 0.000005\n"
     ]
    },
    {
     "name": "stderr",
     "output_type": "stream",
     "text": [
      "Epoch 2 Training:  23%|██▎       | 352/1532 [01:06<03:51,  5.10it/s, loss=0.905]"
     ]
    },
    {
     "name": "stdout",
     "output_type": "stream",
     "text": [
      "Epoch 2 [350/1532] Loss: 1.5928, LR: 0.000005\n"
     ]
    },
    {
     "name": "stderr",
     "output_type": "stream",
     "text": [
      "Epoch 2 Training:  24%|██▎       | 362/1532 [01:08<03:39,  5.33it/s, loss=1.12] "
     ]
    },
    {
     "name": "stdout",
     "output_type": "stream",
     "text": [
      "Epoch 2 [360/1532] Loss: 1.3985, LR: 0.000005\n"
     ]
    },
    {
     "name": "stderr",
     "output_type": "stream",
     "text": [
      "Epoch 2 Training:  24%|██▍       | 372/1532 [01:10<03:34,  5.41it/s, loss=1.64]"
     ]
    },
    {
     "name": "stdout",
     "output_type": "stream",
     "text": [
      "Epoch 2 [370/1532] Loss: 1.4100, LR: 0.000005\n"
     ]
    },
    {
     "name": "stderr",
     "output_type": "stream",
     "text": [
      "Epoch 2 Training:  25%|██▍       | 382/1532 [01:12<03:33,  5.38it/s, loss=1.7]  "
     ]
    },
    {
     "name": "stdout",
     "output_type": "stream",
     "text": [
      "Epoch 2 [380/1532] Loss: 1.1280, LR: 0.000005\n"
     ]
    },
    {
     "name": "stderr",
     "output_type": "stream",
     "text": [
      "Epoch 2 Training:  26%|██▌       | 392/1532 [01:14<03:41,  5.15it/s, loss=1.24] "
     ]
    },
    {
     "name": "stdout",
     "output_type": "stream",
     "text": [
      "Epoch 2 [390/1532] Loss: 0.9770, LR: 0.000005\n"
     ]
    },
    {
     "name": "stderr",
     "output_type": "stream",
     "text": [
      "Epoch 2 Training:  26%|██▌       | 402/1532 [01:16<03:40,  5.12it/s, loss=1.06] "
     ]
    },
    {
     "name": "stdout",
     "output_type": "stream",
     "text": [
      "Epoch 2 [400/1532] Loss: 1.6301, LR: 0.000005\n"
     ]
    },
    {
     "name": "stderr",
     "output_type": "stream",
     "text": [
      "Epoch 2 Training:  27%|██▋       | 412/1532 [01:18<03:36,  5.17it/s, loss=1.92] "
     ]
    },
    {
     "name": "stdout",
     "output_type": "stream",
     "text": [
      "Epoch 2 [410/1532] Loss: 0.7258, LR: 0.000005\n"
     ]
    },
    {
     "name": "stderr",
     "output_type": "stream",
     "text": [
      "Epoch 2 Training:  28%|██▊       | 422/1532 [01:20<03:26,  5.37it/s, loss=1.65] "
     ]
    },
    {
     "name": "stdout",
     "output_type": "stream",
     "text": [
      "Epoch 2 [420/1532] Loss: 0.9512, LR: 0.000005\n"
     ]
    },
    {
     "name": "stderr",
     "output_type": "stream",
     "text": [
      "Epoch 2 Training:  28%|██▊       | 431/1532 [01:21<03:21,  5.45it/s, loss=1.49]"
     ]
    },
    {
     "name": "stdout",
     "output_type": "stream",
     "text": [
      "Epoch 2 [430/1532] Loss: 1.4898, LR: 0.000005\n"
     ]
    },
    {
     "name": "stderr",
     "output_type": "stream",
     "text": [
      "Epoch 2 Training:  29%|██▉       | 442/1532 [01:23<03:22,  5.38it/s, loss=1.07] "
     ]
    },
    {
     "name": "stdout",
     "output_type": "stream",
     "text": [
      "Epoch 2 [440/1532] Loss: 1.4793, LR: 0.000005\n"
     ]
    },
    {
     "name": "stderr",
     "output_type": "stream",
     "text": [
      "Epoch 2 Training:  30%|██▉       | 452/1532 [01:25<03:29,  5.16it/s, loss=1.8] "
     ]
    },
    {
     "name": "stdout",
     "output_type": "stream",
     "text": [
      "Epoch 2 [450/1532] Loss: 1.1134, LR: 0.000005\n"
     ]
    },
    {
     "name": "stderr",
     "output_type": "stream",
     "text": [
      "Epoch 2 Training:  30%|███       | 462/1532 [01:27<03:19,  5.36it/s, loss=1.02] "
     ]
    },
    {
     "name": "stdout",
     "output_type": "stream",
     "text": [
      "Epoch 2 [460/1532] Loss: 1.4500, LR: 0.000005\n"
     ]
    },
    {
     "name": "stderr",
     "output_type": "stream",
     "text": [
      "Epoch 2 Training:  31%|███       | 471/1532 [01:29<03:28,  5.09it/s, loss=1.59] "
     ]
    },
    {
     "name": "stdout",
     "output_type": "stream",
     "text": [
      "Epoch 2 [470/1532] Loss: 1.5855, LR: 0.000005\n"
     ]
    },
    {
     "name": "stderr",
     "output_type": "stream",
     "text": [
      "Epoch 2 Training:  31%|███▏      | 482/1532 [01:31<03:25,  5.11it/s, loss=1.11]"
     ]
    },
    {
     "name": "stdout",
     "output_type": "stream",
     "text": [
      "Epoch 2 [480/1532] Loss: 1.2791, LR: 0.000005\n"
     ]
    },
    {
     "name": "stderr",
     "output_type": "stream",
     "text": [
      "Epoch 2 Training:  32%|███▏      | 492/1532 [01:33<03:10,  5.47it/s, loss=1.57]"
     ]
    },
    {
     "name": "stdout",
     "output_type": "stream",
     "text": [
      "Epoch 2 [490/1532] Loss: 1.4448, LR: 0.000005\n"
     ]
    },
    {
     "name": "stderr",
     "output_type": "stream",
     "text": [
      "Epoch 2 Training:  33%|███▎      | 502/1532 [01:35<03:17,  5.23it/s, loss=1.4] "
     ]
    },
    {
     "name": "stdout",
     "output_type": "stream",
     "text": [
      "Epoch 2 [500/1532] Loss: 1.4238, LR: 0.000005\n"
     ]
    },
    {
     "name": "stderr",
     "output_type": "stream",
     "text": [
      "Epoch 2 Training:  33%|███▎      | 512/1532 [01:37<03:07,  5.43it/s, loss=1.72]"
     ]
    },
    {
     "name": "stdout",
     "output_type": "stream",
     "text": [
      "Epoch 2 [510/1532] Loss: 1.3828, LR: 0.000005\n"
     ]
    },
    {
     "name": "stderr",
     "output_type": "stream",
     "text": [
      "Epoch 2 Training:  34%|███▍      | 522/1532 [01:39<03:12,  5.26it/s, loss=1.16] "
     ]
    },
    {
     "name": "stdout",
     "output_type": "stream",
     "text": [
      "Epoch 2 [520/1532] Loss: 1.2478, LR: 0.000005\n"
     ]
    },
    {
     "name": "stderr",
     "output_type": "stream",
     "text": [
      "Epoch 2 Training:  35%|███▍      | 531/1532 [01:41<03:16,  5.10it/s, loss=1.22] "
     ]
    },
    {
     "name": "stdout",
     "output_type": "stream",
     "text": [
      "Epoch 2 [530/1532] Loss: 1.2533, LR: 0.000005\n"
     ]
    },
    {
     "name": "stderr",
     "output_type": "stream",
     "text": [
      "Epoch 2 Training:  35%|███▌      | 542/1532 [01:42<03:12,  5.15it/s, loss=1.22] "
     ]
    },
    {
     "name": "stdout",
     "output_type": "stream",
     "text": [
      "Epoch 2 [540/1532] Loss: 1.5420, LR: 0.000005\n"
     ]
    },
    {
     "name": "stderr",
     "output_type": "stream",
     "text": [
      "Epoch 2 Training:  36%|███▌      | 552/1532 [01:44<03:10,  5.14it/s, loss=1.18] "
     ]
    },
    {
     "name": "stdout",
     "output_type": "stream",
     "text": [
      "Epoch 2 [550/1532] Loss: 1.5458, LR: 0.000005\n"
     ]
    },
    {
     "name": "stderr",
     "output_type": "stream",
     "text": [
      "Epoch 2 Training:  37%|███▋      | 562/1532 [01:46<03:04,  5.26it/s, loss=0.99] "
     ]
    },
    {
     "name": "stdout",
     "output_type": "stream",
     "text": [
      "Epoch 2 [560/1532] Loss: 0.8720, LR: 0.000005\n"
     ]
    },
    {
     "name": "stderr",
     "output_type": "stream",
     "text": [
      "Epoch 2 Training:  37%|███▋      | 572/1532 [01:48<03:05,  5.18it/s, loss=1.32] "
     ]
    },
    {
     "name": "stdout",
     "output_type": "stream",
     "text": [
      "Epoch 2 [570/1532] Loss: 1.0842, LR: 0.000005\n"
     ]
    },
    {
     "name": "stderr",
     "output_type": "stream",
     "text": [
      "Epoch 2 Training:  38%|███▊      | 582/1532 [01:50<03:00,  5.26it/s, loss=1.43] "
     ]
    },
    {
     "name": "stdout",
     "output_type": "stream",
     "text": [
      "Epoch 2 [580/1532] Loss: 1.7706, LR: 0.000005\n"
     ]
    },
    {
     "name": "stderr",
     "output_type": "stream",
     "text": [
      "Epoch 2 Training:  39%|███▊      | 592/1532 [01:52<03:03,  5.12it/s, loss=1.67] "
     ]
    },
    {
     "name": "stdout",
     "output_type": "stream",
     "text": [
      "Epoch 2 [590/1532] Loss: 0.9331, LR: 0.000005\n"
     ]
    },
    {
     "name": "stderr",
     "output_type": "stream",
     "text": [
      "Epoch 2 Training:  39%|███▉      | 602/1532 [01:54<02:57,  5.24it/s, loss=0.949]"
     ]
    },
    {
     "name": "stdout",
     "output_type": "stream",
     "text": [
      "Epoch 2 [600/1532] Loss: 0.8956, LR: 0.000005\n"
     ]
    },
    {
     "name": "stderr",
     "output_type": "stream",
     "text": [
      "Epoch 2 Training:  40%|███▉      | 612/1532 [01:56<02:52,  5.32it/s, loss=0.956]"
     ]
    },
    {
     "name": "stdout",
     "output_type": "stream",
     "text": [
      "Epoch 2 [610/1532] Loss: 1.1422, LR: 0.000005\n"
     ]
    },
    {
     "name": "stderr",
     "output_type": "stream",
     "text": [
      "Epoch 2 Training:  41%|████      | 621/1532 [01:58<02:55,  5.19it/s, loss=1.12] "
     ]
    },
    {
     "name": "stdout",
     "output_type": "stream",
     "text": [
      "Epoch 2 [620/1532] Loss: 1.2409, LR: 0.000005\n"
     ]
    },
    {
     "name": "stderr",
     "output_type": "stream",
     "text": [
      "Epoch 2 Training:  41%|████▏     | 632/1532 [02:00<02:56,  5.11it/s, loss=0.987]"
     ]
    },
    {
     "name": "stdout",
     "output_type": "stream",
     "text": [
      "Epoch 2 [630/1532] Loss: 1.1894, LR: 0.000005\n"
     ]
    },
    {
     "name": "stderr",
     "output_type": "stream",
     "text": [
      "Epoch 2 Training:  42%|████▏     | 642/1532 [02:02<02:46,  5.34it/s, loss=1.97] "
     ]
    },
    {
     "name": "stdout",
     "output_type": "stream",
     "text": [
      "Epoch 2 [640/1532] Loss: 1.9751, LR: 0.000005\n"
     ]
    },
    {
     "name": "stderr",
     "output_type": "stream",
     "text": [
      "Epoch 2 Training:  43%|████▎     | 652/1532 [02:03<02:47,  5.24it/s, loss=1.28] "
     ]
    },
    {
     "name": "stdout",
     "output_type": "stream",
     "text": [
      "Epoch 2 [650/1532] Loss: 0.8889, LR: 0.000005\n"
     ]
    },
    {
     "name": "stderr",
     "output_type": "stream",
     "text": [
      "Epoch 2 Training:  43%|████▎     | 662/1532 [02:05<02:49,  5.13it/s, loss=1.24]"
     ]
    },
    {
     "name": "stdout",
     "output_type": "stream",
     "text": [
      "Epoch 2 [660/1532] Loss: 1.4533, LR: 0.000005\n"
     ]
    },
    {
     "name": "stderr",
     "output_type": "stream",
     "text": [
      "Epoch 2 Training:  44%|████▍     | 672/1532 [02:07<02:44,  5.23it/s, loss=1.46] "
     ]
    },
    {
     "name": "stdout",
     "output_type": "stream",
     "text": [
      "Epoch 2 [670/1532] Loss: 1.5737, LR: 0.000005\n"
     ]
    },
    {
     "name": "stderr",
     "output_type": "stream",
     "text": [
      "Epoch 2 Training:  45%|████▍     | 682/1532 [02:09<02:40,  5.31it/s, loss=1.85] "
     ]
    },
    {
     "name": "stdout",
     "output_type": "stream",
     "text": [
      "Epoch 2 [680/1532] Loss: 1.4193, LR: 0.000005\n"
     ]
    },
    {
     "name": "stderr",
     "output_type": "stream",
     "text": [
      "Epoch 2 Training:  45%|████▌     | 692/1532 [02:11<02:42,  5.16it/s, loss=1.54] "
     ]
    },
    {
     "name": "stdout",
     "output_type": "stream",
     "text": [
      "Epoch 2 [690/1532] Loss: 1.3054, LR: 0.000005\n"
     ]
    },
    {
     "name": "stderr",
     "output_type": "stream",
     "text": [
      "Epoch 2 Training:  46%|████▌     | 702/1532 [02:13<02:35,  5.35it/s, loss=1.19]"
     ]
    },
    {
     "name": "stdout",
     "output_type": "stream",
     "text": [
      "Epoch 2 [700/1532] Loss: 1.6056, LR: 0.000005\n"
     ]
    },
    {
     "name": "stderr",
     "output_type": "stream",
     "text": [
      "Epoch 2 Training:  46%|████▋     | 712/1532 [02:15<02:36,  5.23it/s, loss=0.984]"
     ]
    },
    {
     "name": "stdout",
     "output_type": "stream",
     "text": [
      "Epoch 2 [710/1532] Loss: 1.2664, LR: 0.000005\n"
     ]
    },
    {
     "name": "stderr",
     "output_type": "stream",
     "text": [
      "Epoch 2 Training:  47%|████▋     | 722/1532 [02:17<02:34,  5.25it/s, loss=1]    "
     ]
    },
    {
     "name": "stdout",
     "output_type": "stream",
     "text": [
      "Epoch 2 [720/1532] Loss: 1.3588, LR: 0.000005\n"
     ]
    },
    {
     "name": "stderr",
     "output_type": "stream",
     "text": [
      "Epoch 2 Training:  48%|████▊     | 732/1532 [02:19<02:35,  5.16it/s, loss=1.14] "
     ]
    },
    {
     "name": "stdout",
     "output_type": "stream",
     "text": [
      "Epoch 2 [730/1532] Loss: 1.1365, LR: 0.000005\n"
     ]
    },
    {
     "name": "stderr",
     "output_type": "stream",
     "text": [
      "Epoch 2 Training:  48%|████▊     | 742/1532 [02:21<02:28,  5.32it/s, loss=1.71]"
     ]
    },
    {
     "name": "stdout",
     "output_type": "stream",
     "text": [
      "Epoch 2 [740/1532] Loss: 1.3375, LR: 0.000005\n"
     ]
    },
    {
     "name": "stderr",
     "output_type": "stream",
     "text": [
      "Epoch 2 Training:  49%|████▉     | 752/1532 [02:22<02:31,  5.16it/s, loss=1.28]"
     ]
    },
    {
     "name": "stdout",
     "output_type": "stream",
     "text": [
      "Epoch 2 [750/1532] Loss: 1.7544, LR: 0.000005\n"
     ]
    },
    {
     "name": "stderr",
     "output_type": "stream",
     "text": [
      "Epoch 2 Training:  50%|████▉     | 762/1532 [02:24<02:28,  5.17it/s, loss=1.61] "
     ]
    },
    {
     "name": "stdout",
     "output_type": "stream",
     "text": [
      "Epoch 2 [760/1532] Loss: 1.5545, LR: 0.000005\n"
     ]
    },
    {
     "name": "stderr",
     "output_type": "stream",
     "text": [
      "Epoch 2 Training:  50%|█████     | 772/1532 [02:26<02:23,  5.31it/s, loss=1.26]"
     ]
    },
    {
     "name": "stdout",
     "output_type": "stream",
     "text": [
      "Epoch 2 [770/1532] Loss: 1.1306, LR: 0.000005\n"
     ]
    },
    {
     "name": "stderr",
     "output_type": "stream",
     "text": [
      "Epoch 2 Training:  51%|█████     | 781/1532 [02:28<02:23,  5.24it/s, loss=1.64]"
     ]
    },
    {
     "name": "stdout",
     "output_type": "stream",
     "text": [
      "Epoch 2 [780/1532] Loss: 1.6424, LR: 0.000005\n"
     ]
    },
    {
     "name": "stderr",
     "output_type": "stream",
     "text": [
      "Epoch 2 Training:  52%|█████▏    | 791/1532 [02:30<02:20,  5.27it/s, loss=1.35] "
     ]
    },
    {
     "name": "stdout",
     "output_type": "stream",
     "text": [
      "Epoch 2 [790/1532] Loss: 1.3486, LR: 0.000005\n"
     ]
    },
    {
     "name": "stderr",
     "output_type": "stream",
     "text": [
      "Epoch 2 Training:  52%|█████▏    | 802/1532 [02:32<02:17,  5.29it/s, loss=1.02] "
     ]
    },
    {
     "name": "stdout",
     "output_type": "stream",
     "text": [
      "Epoch 2 [800/1532] Loss: 1.4567, LR: 0.000005\n"
     ]
    },
    {
     "name": "stderr",
     "output_type": "stream",
     "text": [
      "Epoch 2 Training:  53%|█████▎    | 812/1532 [02:34<02:17,  5.25it/s, loss=1.14] "
     ]
    },
    {
     "name": "stdout",
     "output_type": "stream",
     "text": [
      "Epoch 2 [810/1532] Loss: 1.3293, LR: 0.000005\n"
     ]
    },
    {
     "name": "stderr",
     "output_type": "stream",
     "text": [
      "Epoch 2 Training:  54%|█████▎    | 822/1532 [02:36<02:11,  5.38it/s, loss=1.37] "
     ]
    },
    {
     "name": "stdout",
     "output_type": "stream",
     "text": [
      "Epoch 2 [820/1532] Loss: 1.2498, LR: 0.000005\n"
     ]
    },
    {
     "name": "stderr",
     "output_type": "stream",
     "text": [
      "Epoch 2 Training:  54%|█████▍    | 832/1532 [02:38<02:08,  5.43it/s, loss=1.29] "
     ]
    },
    {
     "name": "stdout",
     "output_type": "stream",
     "text": [
      "Epoch 2 [830/1532] Loss: 0.8529, LR: 0.000005\n"
     ]
    },
    {
     "name": "stderr",
     "output_type": "stream",
     "text": [
      "Epoch 2 Training:  55%|█████▍    | 842/1532 [02:40<02:11,  5.24it/s, loss=1.32] "
     ]
    },
    {
     "name": "stdout",
     "output_type": "stream",
     "text": [
      "Epoch 2 [840/1532] Loss: 0.6265, LR: 0.000005\n"
     ]
    },
    {
     "name": "stderr",
     "output_type": "stream",
     "text": [
      "Epoch 2 Training:  56%|█████▌    | 852/1532 [02:41<02:12,  5.13it/s, loss=1.03]"
     ]
    },
    {
     "name": "stdout",
     "output_type": "stream",
     "text": [
      "Epoch 2 [850/1532] Loss: 1.4132, LR: 0.000005\n"
     ]
    },
    {
     "name": "stderr",
     "output_type": "stream",
     "text": [
      "Epoch 2 Training:  56%|█████▋    | 862/1532 [02:43<02:08,  5.22it/s, loss=1.1]  "
     ]
    },
    {
     "name": "stdout",
     "output_type": "stream",
     "text": [
      "Epoch 2 [860/1532] Loss: 0.9957, LR: 0.000005\n"
     ]
    },
    {
     "name": "stderr",
     "output_type": "stream",
     "text": [
      "Epoch 2 Training:  57%|█████▋    | 872/1532 [02:45<02:03,  5.35it/s, loss=1.63] "
     ]
    },
    {
     "name": "stdout",
     "output_type": "stream",
     "text": [
      "Epoch 2 [870/1532] Loss: 1.1404, LR: 0.000005\n"
     ]
    },
    {
     "name": "stderr",
     "output_type": "stream",
     "text": [
      "Epoch 2 Training:  58%|█████▊    | 881/1532 [02:47<02:05,  5.19it/s, loss=1.33] "
     ]
    },
    {
     "name": "stdout",
     "output_type": "stream",
     "text": [
      "Epoch 2 [880/1532] Loss: 1.2529, LR: 0.000005\n"
     ]
    },
    {
     "name": "stderr",
     "output_type": "stream",
     "text": [
      "Epoch 2 Training:  58%|█████▊    | 892/1532 [02:49<02:00,  5.30it/s, loss=1.37] "
     ]
    },
    {
     "name": "stdout",
     "output_type": "stream",
     "text": [
      "Epoch 2 [890/1532] Loss: 1.3282, LR: 0.000005\n"
     ]
    },
    {
     "name": "stderr",
     "output_type": "stream",
     "text": [
      "Epoch 2 Training:  59%|█████▉    | 902/1532 [02:51<01:56,  5.39it/s, loss=1.16]"
     ]
    },
    {
     "name": "stdout",
     "output_type": "stream",
     "text": [
      "Epoch 2 [900/1532] Loss: 1.2499, LR: 0.000005\n"
     ]
    },
    {
     "name": "stderr",
     "output_type": "stream",
     "text": [
      "Epoch 2 Training:  60%|█████▉    | 912/1532 [02:53<01:55,  5.36it/s, loss=1.37]"
     ]
    },
    {
     "name": "stdout",
     "output_type": "stream",
     "text": [
      "Epoch 2 [910/1532] Loss: 1.4163, LR: 0.000005\n"
     ]
    },
    {
     "name": "stderr",
     "output_type": "stream",
     "text": [
      "Epoch 2 Training:  60%|██████    | 921/1532 [02:55<02:00,  5.06it/s, loss=0.884]"
     ]
    },
    {
     "name": "stdout",
     "output_type": "stream",
     "text": [
      "Epoch 2 [920/1532] Loss: 1.3009, LR: 0.000005\n"
     ]
    },
    {
     "name": "stderr",
     "output_type": "stream",
     "text": [
      "Epoch 2 Training:  61%|██████    | 932/1532 [02:57<01:56,  5.16it/s, loss=1.56] "
     ]
    },
    {
     "name": "stdout",
     "output_type": "stream",
     "text": [
      "Epoch 2 [930/1532] Loss: 1.6404, LR: 0.000005\n"
     ]
    },
    {
     "name": "stderr",
     "output_type": "stream",
     "text": [
      "Epoch 2 Training:  61%|██████▏   | 942/1532 [02:59<01:57,  5.03it/s, loss=1.82] "
     ]
    },
    {
     "name": "stdout",
     "output_type": "stream",
     "text": [
      "Epoch 2 [940/1532] Loss: 1.0141, LR: 0.000005\n"
     ]
    },
    {
     "name": "stderr",
     "output_type": "stream",
     "text": [
      "Epoch 2 Training:  62%|██████▏   | 952/1532 [03:01<01:48,  5.37it/s, loss=1.07] "
     ]
    },
    {
     "name": "stdout",
     "output_type": "stream",
     "text": [
      "Epoch 2 [950/1532] Loss: 0.8727, LR: 0.000005\n"
     ]
    },
    {
     "name": "stderr",
     "output_type": "stream",
     "text": [
      "Epoch 2 Training:  63%|██████▎   | 962/1532 [03:03<01:49,  5.21it/s, loss=1.53] "
     ]
    },
    {
     "name": "stdout",
     "output_type": "stream",
     "text": [
      "Epoch 2 [960/1532] Loss: 1.2831, LR: 0.000005\n"
     ]
    },
    {
     "name": "stderr",
     "output_type": "stream",
     "text": [
      "Epoch 2 Training:  63%|██████▎   | 972/1532 [03:04<01:47,  5.22it/s, loss=1.23] "
     ]
    },
    {
     "name": "stdout",
     "output_type": "stream",
     "text": [
      "Epoch 2 [970/1532] Loss: 1.9056, LR: 0.000005\n"
     ]
    },
    {
     "name": "stderr",
     "output_type": "stream",
     "text": [
      "Epoch 2 Training:  64%|██████▍   | 982/1532 [03:06<01:42,  5.35it/s, loss=1.87]"
     ]
    },
    {
     "name": "stdout",
     "output_type": "stream",
     "text": [
      "Epoch 2 [980/1532] Loss: 1.5924, LR: 0.000005\n"
     ]
    },
    {
     "name": "stderr",
     "output_type": "stream",
     "text": [
      "Epoch 2 Training:  65%|██████▍   | 992/1532 [03:08<01:39,  5.41it/s, loss=1.2] "
     ]
    },
    {
     "name": "stdout",
     "output_type": "stream",
     "text": [
      "Epoch 2 [990/1532] Loss: 1.1754, LR: 0.000005\n"
     ]
    },
    {
     "name": "stderr",
     "output_type": "stream",
     "text": [
      "Epoch 2 Training:  65%|██████▌   | 1002/1532 [03:10<01:41,  5.24it/s, loss=1.25] "
     ]
    },
    {
     "name": "stdout",
     "output_type": "stream",
     "text": [
      "Epoch 2 [1000/1532] Loss: 0.7555, LR: 0.000005\n"
     ]
    },
    {
     "name": "stderr",
     "output_type": "stream",
     "text": [
      "Epoch 2 Training:  66%|██████▌   | 1012/1532 [03:12<01:39,  5.20it/s, loss=0.859]"
     ]
    },
    {
     "name": "stdout",
     "output_type": "stream",
     "text": [
      "Epoch 2 [1010/1532] Loss: 1.4980, LR: 0.000005\n"
     ]
    },
    {
     "name": "stderr",
     "output_type": "stream",
     "text": [
      "Epoch 2 Training:  67%|██████▋   | 1022/1532 [03:14<01:38,  5.16it/s, loss=1.12] "
     ]
    },
    {
     "name": "stdout",
     "output_type": "stream",
     "text": [
      "Epoch 2 [1020/1532] Loss: 1.2903, LR: 0.000005\n"
     ]
    },
    {
     "name": "stderr",
     "output_type": "stream",
     "text": [
      "Epoch 2 Training:  67%|██████▋   | 1032/1532 [03:16<01:34,  5.27it/s, loss=1.52] "
     ]
    },
    {
     "name": "stdout",
     "output_type": "stream",
     "text": [
      "Epoch 2 [1030/1532] Loss: 0.8976, LR: 0.000005\n"
     ]
    },
    {
     "name": "stderr",
     "output_type": "stream",
     "text": [
      "Epoch 2 Training:  68%|██████▊   | 1042/1532 [03:18<01:33,  5.21it/s, loss=1.02] "
     ]
    },
    {
     "name": "stdout",
     "output_type": "stream",
     "text": [
      "Epoch 2 [1040/1532] Loss: 1.6868, LR: 0.000005\n"
     ]
    },
    {
     "name": "stderr",
     "output_type": "stream",
     "text": [
      "Epoch 2 Training:  69%|██████▊   | 1052/1532 [03:20<01:32,  5.17it/s, loss=1.2]  "
     ]
    },
    {
     "name": "stdout",
     "output_type": "stream",
     "text": [
      "Epoch 2 [1050/1532] Loss: 1.0382, LR: 0.000005\n"
     ]
    },
    {
     "name": "stderr",
     "output_type": "stream",
     "text": [
      "Epoch 2 Training:  69%|██████▉   | 1062/1532 [03:22<01:31,  5.11it/s, loss=1.12] "
     ]
    },
    {
     "name": "stdout",
     "output_type": "stream",
     "text": [
      "Epoch 2 [1060/1532] Loss: 0.8068, LR: 0.000005\n"
     ]
    },
    {
     "name": "stderr",
     "output_type": "stream",
     "text": [
      "Epoch 2 Training:  70%|██████▉   | 1072/1532 [03:23<01:27,  5.28it/s, loss=1.13]"
     ]
    },
    {
     "name": "stdout",
     "output_type": "stream",
     "text": [
      "Epoch 2 [1070/1532] Loss: 1.2104, LR: 0.000005\n"
     ]
    },
    {
     "name": "stderr",
     "output_type": "stream",
     "text": [
      "Epoch 2 Training:  71%|███████   | 1082/1532 [03:25<01:26,  5.21it/s, loss=1.85] "
     ]
    },
    {
     "name": "stdout",
     "output_type": "stream",
     "text": [
      "Epoch 2 [1080/1532] Loss: 0.8884, LR: 0.000005\n"
     ]
    },
    {
     "name": "stderr",
     "output_type": "stream",
     "text": [
      "Epoch 2 Training:  71%|███████▏  | 1092/1532 [03:27<01:23,  5.24it/s, loss=1.03] "
     ]
    },
    {
     "name": "stdout",
     "output_type": "stream",
     "text": [
      "Epoch 2 [1090/1532] Loss: 1.0190, LR: 0.000005\n"
     ]
    },
    {
     "name": "stderr",
     "output_type": "stream",
     "text": [
      "Epoch 2 Training:  72%|███████▏  | 1102/1532 [03:29<01:20,  5.32it/s, loss=1.02] "
     ]
    },
    {
     "name": "stdout",
     "output_type": "stream",
     "text": [
      "Epoch 2 [1100/1532] Loss: 0.9253, LR: 0.000005\n"
     ]
    },
    {
     "name": "stderr",
     "output_type": "stream",
     "text": [
      "Epoch 2 Training:  73%|███████▎  | 1112/1532 [03:31<01:20,  5.22it/s, loss=1.2]  "
     ]
    },
    {
     "name": "stdout",
     "output_type": "stream",
     "text": [
      "Epoch 2 [1110/1532] Loss: 0.9569, LR: 0.000005\n"
     ]
    },
    {
     "name": "stderr",
     "output_type": "stream",
     "text": [
      "Epoch 2 Training:  73%|███████▎  | 1122/1532 [03:33<01:16,  5.37it/s, loss=1.53] "
     ]
    },
    {
     "name": "stdout",
     "output_type": "stream",
     "text": [
      "Epoch 2 [1120/1532] Loss: 0.7737, LR: 0.000005\n"
     ]
    },
    {
     "name": "stderr",
     "output_type": "stream",
     "text": [
      "Epoch 2 Training:  74%|███████▍  | 1132/1532 [03:35<01:13,  5.47it/s, loss=1.61] "
     ]
    },
    {
     "name": "stdout",
     "output_type": "stream",
     "text": [
      "Epoch 2 [1130/1532] Loss: 1.6541, LR: 0.000005\n"
     ]
    },
    {
     "name": "stderr",
     "output_type": "stream",
     "text": [
      "Epoch 2 Training:  75%|███████▍  | 1142/1532 [03:37<01:14,  5.25it/s, loss=2.06] "
     ]
    },
    {
     "name": "stdout",
     "output_type": "stream",
     "text": [
      "Epoch 2 [1140/1532] Loss: 1.1273, LR: 0.000005\n"
     ]
    },
    {
     "name": "stderr",
     "output_type": "stream",
     "text": [
      "Epoch 2 Training:  75%|███████▌  | 1152/1532 [03:39<01:13,  5.20it/s, loss=0.983]"
     ]
    },
    {
     "name": "stdout",
     "output_type": "stream",
     "text": [
      "Epoch 2 [1150/1532] Loss: 1.2390, LR: 0.000005\n"
     ]
    },
    {
     "name": "stderr",
     "output_type": "stream",
     "text": [
      "Epoch 2 Training:  76%|███████▌  | 1162/1532 [03:41<01:11,  5.19it/s, loss=1.39] "
     ]
    },
    {
     "name": "stdout",
     "output_type": "stream",
     "text": [
      "Epoch 2 [1160/1532] Loss: 1.3478, LR: 0.000005\n"
     ]
    },
    {
     "name": "stderr",
     "output_type": "stream",
     "text": [
      "Epoch 2 Training:  77%|███████▋  | 1172/1532 [03:43<01:08,  5.26it/s, loss=1.2] "
     ]
    },
    {
     "name": "stdout",
     "output_type": "stream",
     "text": [
      "Epoch 2 [1170/1532] Loss: 1.2704, LR: 0.000005\n"
     ]
    },
    {
     "name": "stderr",
     "output_type": "stream",
     "text": [
      "Epoch 2 Training:  77%|███████▋  | 1182/1532 [03:44<01:04,  5.41it/s, loss=1.21] "
     ]
    },
    {
     "name": "stdout",
     "output_type": "stream",
     "text": [
      "Epoch 2 [1180/1532] Loss: 1.5756, LR: 0.000005\n"
     ]
    },
    {
     "name": "stderr",
     "output_type": "stream",
     "text": [
      "Epoch 2 Training:  78%|███████▊  | 1192/1532 [03:46<01:03,  5.31it/s, loss=0.929]"
     ]
    },
    {
     "name": "stdout",
     "output_type": "stream",
     "text": [
      "Epoch 2 [1190/1532] Loss: 1.6375, LR: 0.000005\n"
     ]
    },
    {
     "name": "stderr",
     "output_type": "stream",
     "text": [
      "Epoch 2 Training:  78%|███████▊  | 1202/1532 [03:48<01:02,  5.24it/s, loss=1.18] "
     ]
    },
    {
     "name": "stdout",
     "output_type": "stream",
     "text": [
      "Epoch 2 [1200/1532] Loss: 1.2379, LR: 0.000005\n"
     ]
    },
    {
     "name": "stderr",
     "output_type": "stream",
     "text": [
      "Epoch 2 Training:  79%|███████▉  | 1212/1532 [03:50<01:01,  5.22it/s, loss=2.17]"
     ]
    },
    {
     "name": "stdout",
     "output_type": "stream",
     "text": [
      "Epoch 2 [1210/1532] Loss: 1.2824, LR: 0.000005\n"
     ]
    },
    {
     "name": "stderr",
     "output_type": "stream",
     "text": [
      "Epoch 2 Training:  80%|███████▉  | 1222/1532 [03:52<00:58,  5.26it/s, loss=1.59]"
     ]
    },
    {
     "name": "stdout",
     "output_type": "stream",
     "text": [
      "Epoch 2 [1220/1532] Loss: 1.6097, LR: 0.000005\n"
     ]
    },
    {
     "name": "stderr",
     "output_type": "stream",
     "text": [
      "Epoch 2 Training:  80%|████████  | 1232/1532 [03:54<00:55,  5.36it/s, loss=1.45]"
     ]
    },
    {
     "name": "stdout",
     "output_type": "stream",
     "text": [
      "Epoch 2 [1230/1532] Loss: 1.7548, LR: 0.000005\n"
     ]
    },
    {
     "name": "stderr",
     "output_type": "stream",
     "text": [
      "Epoch 2 Training:  81%|████████  | 1242/1532 [03:56<00:55,  5.23it/s, loss=1.43] "
     ]
    },
    {
     "name": "stdout",
     "output_type": "stream",
     "text": [
      "Epoch 2 [1240/1532] Loss: 0.9055, LR: 0.000005\n"
     ]
    },
    {
     "name": "stderr",
     "output_type": "stream",
     "text": [
      "Epoch 2 Training:  82%|████████▏ | 1252/1532 [03:58<00:53,  5.28it/s, loss=0.899]"
     ]
    },
    {
     "name": "stdout",
     "output_type": "stream",
     "text": [
      "Epoch 2 [1250/1532] Loss: 1.1816, LR: 0.000005\n"
     ]
    },
    {
     "name": "stderr",
     "output_type": "stream",
     "text": [
      "Epoch 2 Training:  82%|████████▏ | 1262/1532 [04:00<00:51,  5.27it/s, loss=1.18] "
     ]
    },
    {
     "name": "stdout",
     "output_type": "stream",
     "text": [
      "Epoch 2 [1260/1532] Loss: 1.4545, LR: 0.000005\n"
     ]
    },
    {
     "name": "stderr",
     "output_type": "stream",
     "text": [
      "Epoch 2 Training:  83%|████████▎ | 1272/1532 [04:02<00:49,  5.23it/s, loss=1.17] "
     ]
    },
    {
     "name": "stdout",
     "output_type": "stream",
     "text": [
      "Epoch 2 [1270/1532] Loss: 1.5134, LR: 0.000005\n"
     ]
    },
    {
     "name": "stderr",
     "output_type": "stream",
     "text": [
      "Epoch 2 Training:  84%|████████▎ | 1282/1532 [04:03<00:47,  5.31it/s, loss=1.11]"
     ]
    },
    {
     "name": "stdout",
     "output_type": "stream",
     "text": [
      "Epoch 2 [1280/1532] Loss: 1.3679, LR: 0.000005\n"
     ]
    },
    {
     "name": "stderr",
     "output_type": "stream",
     "text": [
      "Epoch 2 Training:  84%|████████▍ | 1292/1532 [04:05<00:45,  5.32it/s, loss=1.85] "
     ]
    },
    {
     "name": "stdout",
     "output_type": "stream",
     "text": [
      "Epoch 2 [1290/1532] Loss: 0.9744, LR: 0.000005\n"
     ]
    },
    {
     "name": "stderr",
     "output_type": "stream",
     "text": [
      "Epoch 2 Training:  85%|████████▍ | 1302/1532 [04:07<00:42,  5.36it/s, loss=1.06] "
     ]
    },
    {
     "name": "stdout",
     "output_type": "stream",
     "text": [
      "Epoch 2 [1300/1532] Loss: 1.6287, LR: 0.000005\n"
     ]
    },
    {
     "name": "stderr",
     "output_type": "stream",
     "text": [
      "Epoch 2 Training:  86%|████████▌ | 1312/1532 [04:09<00:42,  5.15it/s, loss=1.45]"
     ]
    },
    {
     "name": "stdout",
     "output_type": "stream",
     "text": [
      "Epoch 2 [1310/1532] Loss: 1.3557, LR: 0.000005\n"
     ]
    },
    {
     "name": "stderr",
     "output_type": "stream",
     "text": [
      "Epoch 2 Training:  86%|████████▌ | 1321/1532 [04:11<00:39,  5.31it/s, loss=1.06] "
     ]
    },
    {
     "name": "stdout",
     "output_type": "stream",
     "text": [
      "Epoch 2 [1320/1532] Loss: 1.1968, LR: 0.000005\n"
     ]
    },
    {
     "name": "stderr",
     "output_type": "stream",
     "text": [
      "Epoch 2 Training:  87%|████████▋ | 1332/1532 [04:13<00:37,  5.29it/s, loss=1.24] "
     ]
    },
    {
     "name": "stdout",
     "output_type": "stream",
     "text": [
      "Epoch 2 [1330/1532] Loss: 1.3513, LR: 0.000005\n"
     ]
    },
    {
     "name": "stderr",
     "output_type": "stream",
     "text": [
      "Epoch 2 Training:  88%|████████▊ | 1342/1532 [04:15<00:35,  5.31it/s, loss=1.33]"
     ]
    },
    {
     "name": "stdout",
     "output_type": "stream",
     "text": [
      "Epoch 2 [1340/1532] Loss: 1.2237, LR: 0.000005\n"
     ]
    },
    {
     "name": "stderr",
     "output_type": "stream",
     "text": [
      "Epoch 2 Training:  88%|████████▊ | 1351/1532 [04:17<00:34,  5.24it/s, loss=1.14]"
     ]
    },
    {
     "name": "stdout",
     "output_type": "stream",
     "text": [
      "Epoch 2 [1350/1532] Loss: 1.1369, LR: 0.000005\n"
     ]
    },
    {
     "name": "stderr",
     "output_type": "stream",
     "text": [
      "Epoch 2 Training:  89%|████████▉ | 1362/1532 [04:19<00:31,  5.34it/s, loss=1.4]  "
     ]
    },
    {
     "name": "stdout",
     "output_type": "stream",
     "text": [
      "Epoch 2 [1360/1532] Loss: 0.8962, LR: 0.000005\n"
     ]
    },
    {
     "name": "stderr",
     "output_type": "stream",
     "text": [
      "Epoch 2 Training:  90%|████████▉ | 1372/1532 [04:21<00:30,  5.29it/s, loss=1.42] "
     ]
    },
    {
     "name": "stdout",
     "output_type": "stream",
     "text": [
      "Epoch 2 [1370/1532] Loss: 0.9108, LR: 0.000005\n"
     ]
    },
    {
     "name": "stderr",
     "output_type": "stream",
     "text": [
      "Epoch 2 Training:  90%|█████████ | 1382/1532 [04:22<00:28,  5.20it/s, loss=1.65] "
     ]
    },
    {
     "name": "stdout",
     "output_type": "stream",
     "text": [
      "Epoch 2 [1380/1532] Loss: 1.4765, LR: 0.000005\n"
     ]
    },
    {
     "name": "stderr",
     "output_type": "stream",
     "text": [
      "Epoch 2 Training:  91%|█████████ | 1391/1532 [04:24<00:26,  5.28it/s, loss=0.956]"
     ]
    },
    {
     "name": "stdout",
     "output_type": "stream",
     "text": [
      "Epoch 2 [1390/1532] Loss: 1.4690, LR: 0.000005\n"
     ]
    },
    {
     "name": "stderr",
     "output_type": "stream",
     "text": [
      "Epoch 2 Training:  91%|█████████▏| 1401/1532 [04:26<00:24,  5.42it/s, loss=1.32] "
     ]
    },
    {
     "name": "stdout",
     "output_type": "stream",
     "text": [
      "Epoch 2 [1400/1532] Loss: 1.3959, LR: 0.000005\n"
     ]
    },
    {
     "name": "stderr",
     "output_type": "stream",
     "text": [
      "Epoch 2 Training:  92%|█████████▏| 1412/1532 [04:28<00:22,  5.31it/s, loss=1.34] "
     ]
    },
    {
     "name": "stdout",
     "output_type": "stream",
     "text": [
      "Epoch 2 [1410/1532] Loss: 1.1030, LR: 0.000005\n"
     ]
    },
    {
     "name": "stderr",
     "output_type": "stream",
     "text": [
      "Epoch 2 Training:  93%|█████████▎| 1422/1532 [04:30<00:21,  5.15it/s, loss=1.23] "
     ]
    },
    {
     "name": "stdout",
     "output_type": "stream",
     "text": [
      "Epoch 2 [1420/1532] Loss: 1.0764, LR: 0.000005\n"
     ]
    },
    {
     "name": "stderr",
     "output_type": "stream",
     "text": [
      "Epoch 2 Training:  93%|█████████▎| 1432/1532 [04:32<00:18,  5.29it/s, loss=0.854]"
     ]
    },
    {
     "name": "stdout",
     "output_type": "stream",
     "text": [
      "Epoch 2 [1430/1532] Loss: 1.1402, LR: 0.000005\n"
     ]
    },
    {
     "name": "stderr",
     "output_type": "stream",
     "text": [
      "Epoch 2 Training:  94%|█████████▍| 1442/1532 [04:34<00:16,  5.45it/s, loss=1.43] "
     ]
    },
    {
     "name": "stdout",
     "output_type": "stream",
     "text": [
      "Epoch 2 [1440/1532] Loss: 1.4530, LR: 0.000005\n"
     ]
    },
    {
     "name": "stderr",
     "output_type": "stream",
     "text": [
      "Epoch 2 Training:  95%|█████████▍| 1452/1532 [04:36<00:14,  5.34it/s, loss=0.806]"
     ]
    },
    {
     "name": "stdout",
     "output_type": "stream",
     "text": [
      "Epoch 2 [1450/1532] Loss: 1.0728, LR: 0.000005\n"
     ]
    },
    {
     "name": "stderr",
     "output_type": "stream",
     "text": [
      "Epoch 2 Training:  95%|█████████▌| 1462/1532 [04:38<00:13,  5.20it/s, loss=1.45] "
     ]
    },
    {
     "name": "stdout",
     "output_type": "stream",
     "text": [
      "Epoch 2 [1460/1532] Loss: 0.9822, LR: 0.000005\n"
     ]
    },
    {
     "name": "stderr",
     "output_type": "stream",
     "text": [
      "Epoch 2 Training:  96%|█████████▌| 1472/1532 [04:39<00:11,  5.38it/s, loss=1.5]  "
     ]
    },
    {
     "name": "stdout",
     "output_type": "stream",
     "text": [
      "Epoch 2 [1470/1532] Loss: 1.1182, LR: 0.000005\n"
     ]
    },
    {
     "name": "stderr",
     "output_type": "stream",
     "text": [
      "Epoch 2 Training:  97%|█████████▋| 1482/1532 [04:41<00:09,  5.24it/s, loss=0.997]"
     ]
    },
    {
     "name": "stdout",
     "output_type": "stream",
     "text": [
      "Epoch 2 [1480/1532] Loss: 1.2285, LR: 0.000005\n"
     ]
    },
    {
     "name": "stderr",
     "output_type": "stream",
     "text": [
      "Epoch 2 Training:  97%|█████████▋| 1492/1532 [04:43<00:07,  5.30it/s, loss=0.923]"
     ]
    },
    {
     "name": "stdout",
     "output_type": "stream",
     "text": [
      "Epoch 2 [1490/1532] Loss: 1.6306, LR: 0.000005\n"
     ]
    },
    {
     "name": "stderr",
     "output_type": "stream",
     "text": [
      "Epoch 2 Training:  98%|█████████▊| 1502/1532 [04:45<00:05,  5.18it/s, loss=0.909]"
     ]
    },
    {
     "name": "stdout",
     "output_type": "stream",
     "text": [
      "Epoch 2 [1500/1532] Loss: 1.3657, LR: 0.000005\n"
     ]
    },
    {
     "name": "stderr",
     "output_type": "stream",
     "text": [
      "Epoch 2 Training:  99%|█████████▊| 1512/1532 [04:47<00:03,  5.25it/s, loss=1.47] "
     ]
    },
    {
     "name": "stdout",
     "output_type": "stream",
     "text": [
      "Epoch 2 [1510/1532] Loss: 1.8447, LR: 0.000005\n"
     ]
    },
    {
     "name": "stderr",
     "output_type": "stream",
     "text": [
      "Epoch 2 Training:  99%|█████████▉| 1522/1532 [04:49<00:01,  5.35it/s, loss=1.38] "
     ]
    },
    {
     "name": "stdout",
     "output_type": "stream",
     "text": [
      "Epoch 2 [1520/1532] Loss: 1.7761, LR: 0.000005\n"
     ]
    },
    {
     "name": "stderr",
     "output_type": "stream",
     "text": [
      "Epoch 2 Training: 100%|██████████| 1532/1532 [04:51<00:00,  5.26it/s, loss=0.0674]\n"
     ]
    },
    {
     "name": "stdout",
     "output_type": "stream",
     "text": [
      "Epoch 2 [1530/1532] Loss: 1.1579, LR: 0.000005\n",
      "Epoch 2: Avg Loss: 1.2900, Time: 291.27s\n",
      "Validation Results:\n",
      "  Loss: 2.0686\n",
      "  Image→Text Accuracy: 0.3351 (Top-5: 0.8021)\n",
      "  Text→Image Accuracy: 0.3413 (Top-5: 0.8070)\n"
     ]
    }
   ],
   "source": [
    "import pandas as pd\n",
    "\n",
    "# Initialize DataFrame to store metrics\n",
    "metrics_df = pd.DataFrame(columns=[\n",
    "    \"epoch\", \"train_loss\", \"val_loss\", \"image_to_text_acc\", \"text_to_image_acc\",\n",
    "    \"image_to_text_top5\", \"text_to_image_top5\", \"train_time\", \"val_time\"\n",
    "])\n",
    "\n",
    "EPOCHS = 3\n",
    "import torch\n",
    "\n",
    "best_acc = 0.0  # Initialize best metric\n",
    "best_model_path = \"best_clip_model.pt\"\n",
    "\n",
    "for epoch in range(EPOCHS):\n",
    "    print(f\"\\n🚀 Epoch {epoch+1}/{EPOCHS}\")\n",
    "\n",
    "    avg_train_loss, train_time = do_train(model, train_loader, optimizer, epoch, device=\"cuda\")\n",
    "    eval_results = do_eval(model, val_loader, device=\"cuda\")\n",
    "\n",
    "    current_acc = eval_results[\"image_to_text_acc\"]\n",
    "    \n",
    "    # Save best model\n",
    "    if current_acc > best_acc:\n",
    "        best_acc = current_acc\n",
    "        torch.save(model.state_dict(), best_model_path)\n",
    "        print(f\"💾 Saved new best model at epoch {epoch+1} with I→T Acc: {current_acc*100:.2f}%\")\n",
    "\n",
    "    # Append metrics\n",
    "    metrics_df.loc[len(metrics_df)] = {\n",
    "        \"epoch\": epoch + 1,\n",
    "        \"train_loss\": avg_train_loss,\n",
    "        \"val_loss\": eval_results[\"avg_val_loss\"],\n",
    "        \"image_to_text_acc\": current_acc,\n",
    "        \"text_to_image_acc\": eval_results[\"text_to_image_acc\"],\n",
    "        \"image_to_text_top5\": eval_results[\"image_to_text_top5\"],\n",
    "        \"text_to_image_top5\": eval_results[\"text_to_image_top5\"],\n",
    "        \"train_time\": train_time,\n",
    "        \"val_time\": eval_results[\"val_time\"]\n",
    "    }\n"
   ]
  },
  {
   "cell_type": "code",
   "execution_count": 64,
   "id": "15ab8946",
   "metadata": {},
   "outputs": [
    {
     "data": {
      "application/vnd.microsoft.datawrangler.viewer.v0+json": {
       "columns": [
        {
         "name": "index",
         "rawType": "int64",
         "type": "integer"
        },
        {
         "name": "epoch",
         "rawType": "int64",
         "type": "integer"
        },
        {
         "name": "train_loss",
         "rawType": "float64",
         "type": "float"
        },
        {
         "name": "val_loss",
         "rawType": "float64",
         "type": "float"
        },
        {
         "name": "image_to_text_acc",
         "rawType": "float64",
         "type": "float"
        },
        {
         "name": "text_to_image_acc",
         "rawType": "float64",
         "type": "float"
        },
        {
         "name": "image_to_text_top5",
         "rawType": "float64",
         "type": "float"
        },
        {
         "name": "text_to_image_top5",
         "rawType": "float64",
         "type": "float"
        },
        {
         "name": "train_time",
         "rawType": "float64",
         "type": "float"
        },
        {
         "name": "val_time",
         "rawType": "float64",
         "type": "float"
        }
       ],
       "conversionMethod": "pd.DataFrame",
       "ref": "739bc76f-9f61-4738-8a38-de55a84e4344",
       "rows": [
        [
         "0",
         "1",
         "2.248399240035301",
         "2.071505301942428",
         "0.3115610711952972",
         "0.2994774657086871",
         "0.7666015625",
         "0.7611762152777778",
         "289.34959149360657",
         "25.590927600860596"
        ],
        [
         "1",
         "2",
         "1.69040562998377",
         "1.9820265577485163",
         "0.3481384715871979",
         "0.3396472893533638",
         "0.798828125",
         "0.8095703125",
         "290.9029097557068",
         "25.459365606307983"
        ],
        [
         "2",
         "3",
         "1.290000452297708",
         "2.0686225381990275",
         "0.3350751143043762",
         "0.34128020901371653",
         "0.8020833333333334",
         "0.8069661458333334",
         "291.2687005996704",
         "25.759711980819702"
        ]
       ],
       "shape": {
        "columns": 9,
        "rows": 3
       }
      },
      "text/html": [
       "<div>\n",
       "<style scoped>\n",
       "    .dataframe tbody tr th:only-of-type {\n",
       "        vertical-align: middle;\n",
       "    }\n",
       "\n",
       "    .dataframe tbody tr th {\n",
       "        vertical-align: top;\n",
       "    }\n",
       "\n",
       "    .dataframe thead th {\n",
       "        text-align: right;\n",
       "    }\n",
       "</style>\n",
       "<table border=\"1\" class=\"dataframe\">\n",
       "  <thead>\n",
       "    <tr style=\"text-align: right;\">\n",
       "      <th></th>\n",
       "      <th>epoch</th>\n",
       "      <th>train_loss</th>\n",
       "      <th>val_loss</th>\n",
       "      <th>image_to_text_acc</th>\n",
       "      <th>text_to_image_acc</th>\n",
       "      <th>image_to_text_top5</th>\n",
       "      <th>text_to_image_top5</th>\n",
       "      <th>train_time</th>\n",
       "      <th>val_time</th>\n",
       "    </tr>\n",
       "  </thead>\n",
       "  <tbody>\n",
       "    <tr>\n",
       "      <th>0</th>\n",
       "      <td>1</td>\n",
       "      <td>2.248399</td>\n",
       "      <td>2.071505</td>\n",
       "      <td>0.311561</td>\n",
       "      <td>0.299477</td>\n",
       "      <td>0.766602</td>\n",
       "      <td>0.761176</td>\n",
       "      <td>289.349591</td>\n",
       "      <td>25.590928</td>\n",
       "    </tr>\n",
       "    <tr>\n",
       "      <th>1</th>\n",
       "      <td>2</td>\n",
       "      <td>1.690406</td>\n",
       "      <td>1.982027</td>\n",
       "      <td>0.348138</td>\n",
       "      <td>0.339647</td>\n",
       "      <td>0.798828</td>\n",
       "      <td>0.809570</td>\n",
       "      <td>290.902910</td>\n",
       "      <td>25.459366</td>\n",
       "    </tr>\n",
       "    <tr>\n",
       "      <th>2</th>\n",
       "      <td>3</td>\n",
       "      <td>1.290000</td>\n",
       "      <td>2.068623</td>\n",
       "      <td>0.335075</td>\n",
       "      <td>0.341280</td>\n",
       "      <td>0.802083</td>\n",
       "      <td>0.806966</td>\n",
       "      <td>291.268701</td>\n",
       "      <td>25.759712</td>\n",
       "    </tr>\n",
       "  </tbody>\n",
       "</table>\n",
       "</div>"
      ],
      "text/plain": [
       "   epoch  train_loss  val_loss  image_to_text_acc  text_to_image_acc  \\\n",
       "0      1    2.248399  2.071505           0.311561           0.299477   \n",
       "1      2    1.690406  1.982027           0.348138           0.339647   \n",
       "2      3    1.290000  2.068623           0.335075           0.341280   \n",
       "\n",
       "   image_to_text_top5  text_to_image_top5  train_time   val_time  \n",
       "0            0.766602            0.761176  289.349591  25.590928  \n",
       "1            0.798828            0.809570  290.902910  25.459366  \n",
       "2            0.802083            0.806966  291.268701  25.759712  "
      ]
     },
     "execution_count": 64,
     "metadata": {},
     "output_type": "execute_result"
    }
   ],
   "source": [
    "metrics_df"
   ]
  },
  {
   "cell_type": "code",
   "execution_count": 65,
   "id": "c2636e02",
   "metadata": {},
   "outputs": [],
   "source": [
    "# import matplotlib.pyplot as plt\n",
    "\n",
    "# train_losses = []\n",
    "# val_losses = []\n",
    "# image_to_text_accs = []\n",
    "# text_to_image_accs = []\n",
    "\n",
    "# for epoch in range(1, 3):\n",
    "#     print(f\"\\nEpoch {epoch}/10\")\n",
    "\n",
    "#     train_loss, train_time = do_train(model, train_loader, optimizer, epoch, \"cuda\")\n",
    "#     train_losses.append(train_loss)\n",
    "\n",
    "#     eval_results = do_eval(model, val_loader, device=\"cuda\")\n",
    "#     val_losses.append(eval_results[\"avg_val_loss\"])\n",
    "#     image_to_text_accs.append(eval_results[\"image_to_text_acc\"])\n",
    "#     text_to_image_accs.append(eval_results[\"text_to_image_acc\"])\n",
    "\n",
    "#     print(f\"Train Loss: {train_loss:.4f} | Time: {train_time:.2f}s\")\n",
    "#     print(f\"Val Loss: {eval_results['avg_val_loss']:.4f}\")\n",
    "#     print(f\"I→T Acc: {eval_results['image_to_text_acc']:.4f} | T→I Acc: {eval_results['text_to_image_acc']:.4f}\")\n",
    "\n",
    "# # Plot after training\n",
    "# epochs = list(range(1, 11))\n",
    "\n",
    "# plt.figure(figsize=(12, 5))\n",
    "# plt.subplot(1, 2, 1)\n",
    "# plt.plot(epochs, train_losses, label=\"Train Loss\")\n",
    "# plt.plot(epochs, val_losses, label=\"Val Loss\")\n",
    "# plt.xlabel(\"Epoch\")\n",
    "# plt.ylabel(\"Loss\")\n",
    "# plt.title(\"Loss per Epoch\")\n",
    "# plt.legend()\n",
    "\n",
    "# plt.subplot(1, 2, 2)\n",
    "# plt.plot(epochs, image_to_text_accs, label=\"Image→Text Acc\")\n",
    "# plt.plot(epochs, text_to_image_accs, label=\"Text→Image Acc\")\n",
    "# plt.xlabel(\"Epoch\")\n",
    "# plt.ylabel(\"Accuracy\")\n",
    "# plt.title(\"Accuracy per Epoch\")\n",
    "# plt.legend()\n",
    "\n",
    "# plt.tight_layout()\n",
    "# plt.show()\n"
   ]
  },
  {
   "cell_type": "code",
   "execution_count": 66,
   "id": "47a0c415",
   "metadata": {},
   "outputs": [
    {
     "data": {
      "image/png": "[encoded data removed]",
      "text/plain": [
       "<Figure size 800x500 with 1 Axes>"
      ]
     },
     "metadata": {},
     "output_type": "display_data"
    },
    {
     "data": {
      "image/png": "[encoded data removed]",
      "text/plain": [
       "<Figure size 800x500 with 1 Axes>"
      ]
     },
     "metadata": {},
     "output_type": "display_data"
    },
    {
     "data": {
      "image/png": "[encoded data removed]",
      "text/plain": [
       "<Figure size 800x500 with 1 Axes>"
      ]
     },
     "metadata": {},
     "output_type": "display_data"
    }
   ],
   "source": [
    "import matplotlib.pyplot as plt\n",
    "\n",
    "# Plot Train and Validation Loss\n",
    "plt.figure(figsize=(8, 5))\n",
    "plt.plot(metrics_df[\"epoch\"], metrics_df[\"train_loss\"], label=\"Train Loss\", marker='o')\n",
    "plt.plot(metrics_df[\"epoch\"], metrics_df[\"val_loss\"], label=\"Validation Loss\", marker='o')\n",
    "plt.title(\"CLIP Training vs Validation Loss\")\n",
    "plt.xlabel(\"Epoch\")\n",
    "plt.ylabel(\"Loss\")\n",
    "plt.legend()\n",
    "plt.grid(True)\n",
    "plt.tight_layout()\n",
    "plt.show()\n",
    "\n",
    "# Plot Validation Accuracy (Image-to-Text & Text-to-Image)\n",
    "plt.figure(figsize=(8, 5))\n",
    "plt.plot(metrics_df[\"epoch\"], metrics_df[\"image_to_text_acc\"], label=\"Image→Text Accuracy\", marker='o')\n",
    "plt.plot(metrics_df[\"epoch\"], metrics_df[\"text_to_image_acc\"], label=\"Text→Image Accuracy\", marker='o')\n",
    "plt.title(\"CLIP Validation Accuracy\")\n",
    "plt.xlabel(\"Epoch\")\n",
    "plt.ylabel(\"Accuracy\")\n",
    "plt.legend()\n",
    "plt.grid(True)\n",
    "plt.tight_layout()\n",
    "plt.show()\n",
    "\n",
    "# Plot Top-5 Accuracies\n",
    "plt.figure(figsize=(8, 5))\n",
    "plt.plot(metrics_df[\"epoch\"], metrics_df[\"image_to_text_top5\"], label=\"Image→Text Top-5 Acc\", marker='o')\n",
    "plt.plot(metrics_df[\"epoch\"], metrics_df[\"text_to_image_top5\"], label=\"Text→Image Top-5 Acc\", marker='o')\n",
    "plt.title(\"CLIP Top-5 Accuracy\")\n",
    "plt.xlabel(\"Epoch\")\n",
    "plt.ylabel(\"Top-5 Accuracy\")\n",
    "plt.legend()\n",
    "plt.grid(True)\n",
    "plt.tight_layout()\n",
    "plt.show()\n"
   ]
  },
  {
   "cell_type": "code",
   "execution_count": 67,
   "id": "eda932ae",
   "metadata": {},
   "outputs": [],
   "source": [
    "# import matplotlib.pyplot as plt\n",
    "\n",
    "# plt.plot(train_losses, label=\"Train Loss\")\n",
    "# plt.plot(val_losses, label=\"Val Loss\")\n",
    "# plt.title(\"CLIP Fine-Tuning Loss\")\n",
    "# plt.legend()\n",
    "# plt.show()\n",
    "\n",
    "# plt.plot(val_accuracies, label=\"Val Accuracy\")\n",
    "# plt.title(\"CLIP Val Accuracy\")\n",
    "# plt.legend()\n",
    "# plt.show()\n"
   ]
  },
  {
   "cell_type": "code",
   "execution_count": 68,
   "id": "54b53609",
   "metadata": {},
   "outputs": [],
   "source": [
    "# import sys\n",
    "# import os\n",
    "# sys.path.append(os.path.abspath(os.path.join(os.getcwd(), \"..\")))\n",
    "\n",
    "# from scripts.datset import ProcessedCLIPDataset\n",
    "\n",
    "# ds = ProcessedCLIPDataset(\"texts/train.json\", \"images/\")\n",
    "# img = ds[0][\"image\"]\n",
    "# txt = ds[0][\"text\"]\n",
    "# print(txt)\n",
    "# img.show()\n"
   ]
  },
  {
   "cell_type": "code",
   "execution_count": null,
   "id": "9bda6230",
   "metadata": {},
   "outputs": [],
   "source": []
  },
  {
   "cell_type": "code",
   "execution_count": 69,
   "id": "cc550800",
   "metadata": {},
   "outputs": [],
   "source": [
    "# Same dataset used for retrieval\n",
    "retrieval_dataset = test_dataset\n",
    "\n",
    "def image_collate_fn(batch):\n",
    "    images = [item[\"image\"] for item in batch]\n",
    "    return processor(images=images, return_tensors=\"pt\", padding=True)\n",
    "\n",
    "def text_collate_fn(batch):\n",
    "    texts = [item[\"text\"] for item in batch]\n",
    "    return processor(text=texts, return_tensors=\"pt\", padding=True, truncation=True)\n",
    "\n",
    "image_loader = DataLoader(retrieval_dataset, batch_size=32, shuffle=False, collate_fn=image_collate_fn)\n",
    "text_loader = DataLoader(retrieval_dataset, batch_size=32, shuffle=False, collate_fn=text_collate_fn)\n"
   ]
  },
  {
   "cell_type": "code",
   "execution_count": 70,
   "id": "c5f4207f",
   "metadata": {},
   "outputs": [],
   "source": [
    "import torch.nn.functional as F\n",
    "\n",
    "def get_top_k_retrieval(model, image_loader, text_loader, k=5, device=\"cuda\"):\n",
    "    model.eval()\n",
    "    all_image_embs, all_text_embs = [], []\n",
    "\n",
    "    with torch.no_grad():\n",
    "        for batch in image_loader:\n",
    "            pixel_values = batch[\"pixel_values\"].to(device)\n",
    "            image_embs = model.get_image_features(pixel_values=pixel_values)\n",
    "            image_embs = F.normalize(image_embs, dim=-1)\n",
    "            all_image_embs.append(image_embs)\n",
    "\n",
    "        for batch in text_loader:\n",
    "            input_ids = batch[\"input_ids\"].to(device)\n",
    "            attention_mask = batch[\"attention_mask\"].to(device)\n",
    "            text_embs = model.get_text_features(input_ids=input_ids, attention_mask=attention_mask)\n",
    "            text_embs = F.normalize(text_embs, dim=-1)\n",
    "            all_text_embs.append(text_embs)\n",
    "\n",
    "    all_image_embs = torch.cat(all_image_embs, dim=0)\n",
    "    all_text_embs = torch.cat(all_text_embs, dim=0)\n",
    "\n",
    "    similarity = all_image_embs @ all_text_embs.T\n",
    "\n",
    "    topk_image_to_text = similarity.topk(k, dim=1)\n",
    "    topk_text_to_image = similarity.topk(k, dim=0)\n",
    "\n",
    "    return topk_image_to_text, topk_text_to_image\n"
   ]
  },
  {
   "cell_type": "code",
   "execution_count": 71,
   "id": "d7ddd446",
   "metadata": {},
   "outputs": [],
   "source": [
    "# Load your best model\n",
    "model.load_state_dict(torch.load(\"best_clip_model.pt\"))\n",
    "model.eval().cuda()\n",
    "\n",
    "# Compute retrieval\n",
    "topk_i2t, topk_t2i = get_top_k_retrieval(model, image_loader, text_loader, k=5)\n"
   ]
  },
  {
   "cell_type": "code",
   "execution_count": 72,
   "id": "a66b427a",
   "metadata": {},
   "outputs": [],
   "source": [
    "def compute_recall_at_k(topk_indices, k):\n",
    "    correct = 0\n",
    "    for i in range(len(topk_indices)):\n",
    "        if i in topk_indices[i][:k]:\n",
    "            correct += 1\n",
    "    return correct / len(topk_indices)\n"
   ]
  },
  {
   "cell_type": "code",
   "execution_count": 73,
   "id": "fdb8a789",
   "metadata": {},
   "outputs": [
    {
     "name": "stdout",
     "output_type": "stream",
     "text": [
      "Recall@1: 0.0118\n",
      "Recall@5: 0.0467\n"
     ]
    }
   ],
   "source": [
    "recall_at_1 = compute_recall_at_k(topk_i2t.indices, 1)\n",
    "recall_at_5 = compute_recall_at_k(topk_i2t.indices, 5)\n",
    "print(f\"Recall@1: {recall_at_1:.4f}\")\n",
    "print(f\"Recall@5: {recall_at_5:.4f}\")\n"
   ]
  },
  {
   "cell_type": "code",
   "execution_count": 74,
   "id": "df4c468f",
   "metadata": {},
   "outputs": [
    {
     "name": "stdout",
     "output_type": "stream",
     "text": [
      "MRR: 0.0231\n"
     ]
    }
   ],
   "source": [
    "def compute_mrr(topk_indices):\n",
    "    mrr = 0.0\n",
    "    for i in range(len(topk_indices)):\n",
    "        ranks = topk_indices[i].tolist()\n",
    "        if i in ranks:\n",
    "            rank = ranks.index(i) + 1\n",
    "            mrr += 1.0 / rank\n",
    "    return mrr / len(topk_indices)\n",
    "\n",
    "mrr_score = compute_mrr(topk_i2t.indices)\n",
    "print(f\"MRR: {mrr_score:.4f}\")\n"
   ]
  },
  {
   "cell_type": "code",
   "execution_count": 75,
   "id": "910f0e15",
   "metadata": {},
   "outputs": [],
   "source": [
    "from PIL import Image\n",
    "import matplotlib.pyplot as plt\n",
    "\n",
    "def visualize_image_to_text(idx, hf_dataset, topk_indices):\n",
    "    image = hf_dataset[idx][\"image\"]\n",
    "    top_text_indices = topk_indices[idx].cpu().tolist()\n",
    "\n",
    "    plt.imshow(image)\n",
    "    plt.axis('off')\n",
    "    plt.title(\"Query Image\")\n",
    "    plt.show()\n",
    "\n",
    "    print(\"Top-5 Retrieved Captions:\")\n",
    "    for rank, text_idx in enumerate(top_text_indices):\n",
    "        print(f\"{rank+1}: {hf_dataset[text_idx]['impression']}\")\n"
   ]
  },
  {
   "cell_type": "code",
   "execution_count": 76,
   "id": "40c72ea7",
   "metadata": {},
   "outputs": [
    {
     "data": {
      "image/png": "[encoded data removed]",
      "text/plain": [
       "<Figure size 640x480 with 1 Axes>"
      ]
     },
     "metadata": {},
     "output_type": "display_data"
    },
    {
     "name": "stdout",
     "output_type": "stream",
     "text": [
      "Top-5 Retrieved Captions:\n"
     ]
    },
    {
     "ename": "KeyError",
     "evalue": "'impression'",
     "output_type": "error",
     "traceback": [
      "\u001b[0;31m---------------------------------------------------------------------------\u001b[0m",
      "\u001b[0;31mKeyError\u001b[0m                                  Traceback (most recent call last)",
      "Cell \u001b[0;32mIn[76], line 1\u001b[0m\n\u001b[0;32m----> 1\u001b[0m \u001b[43mvisualize_image_to_text\u001b[49m\u001b[43m(\u001b[49m\u001b[38;5;241;43m0\u001b[39;49m\u001b[43m,\u001b[49m\u001b[43m \u001b[49m\u001b[43mtest_dataset\u001b[49m\u001b[43m,\u001b[49m\u001b[43m \u001b[49m\u001b[43mtopk_i2t\u001b[49m\u001b[38;5;241;43m.\u001b[39;49m\u001b[43mindices\u001b[49m\u001b[43m)\u001b[49m\n",
      "Cell \u001b[0;32mIn[75], line 15\u001b[0m, in \u001b[0;36mvisualize_image_to_text\u001b[0;34m(idx, hf_dataset, topk_indices)\u001b[0m\n\u001b[1;32m     13\u001b[0m \u001b[38;5;28mprint\u001b[39m(\u001b[38;5;124m\"\u001b[39m\u001b[38;5;124mTop-5 Retrieved Captions:\u001b[39m\u001b[38;5;124m\"\u001b[39m)\n\u001b[1;32m     14\u001b[0m \u001b[38;5;28;01mfor\u001b[39;00m rank, text_idx \u001b[38;5;129;01min\u001b[39;00m \u001b[38;5;28menumerate\u001b[39m(top_text_indices):\n\u001b[0;32m---> 15\u001b[0m     \u001b[38;5;28mprint\u001b[39m(\u001b[38;5;124mf\u001b[39m\u001b[38;5;124m\"\u001b[39m\u001b[38;5;132;01m{\u001b[39;00mrank\u001b[38;5;241m+\u001b[39m\u001b[38;5;241m1\u001b[39m\u001b[38;5;132;01m}\u001b[39;00m\u001b[38;5;124m: \u001b[39m\u001b[38;5;132;01m{\u001b[39;00m\u001b[43mhf_dataset\u001b[49m\u001b[43m[\u001b[49m\u001b[43mtext_idx\u001b[49m\u001b[43m]\u001b[49m\u001b[43m[\u001b[49m\u001b[38;5;124;43m'\u001b[39;49m\u001b[38;5;124;43mimpression\u001b[39;49m\u001b[38;5;124;43m'\u001b[39;49m\u001b[43m]\u001b[49m\u001b[38;5;132;01m}\u001b[39;00m\u001b[38;5;124m\"\u001b[39m)\n",
      "\u001b[0;31mKeyError\u001b[0m: 'impression'"
     ]
    }
   ],
   "source": [
    "visualize_image_to_text(0, test_dataset, topk_i2t.indices)\n"
   ]
  },
  {
   "cell_type": "code",
   "execution_count": null,
   "id": "e633be69",
   "metadata": {},
   "outputs": [],
   "source": [
    "torch.save(all_image_embs, \"image_embs.pt\")\n",
    "torch.save(all_text_embs, \"text_embs.pt\")\n",
    "import numpy as np\n",
    "np.save(\"image_embs.npy\", all_image_embs.cpu().numpy())\n",
    "np.save(\"text_embs.npy\", all_text_embs.cpu().numpy())\n"
   ]
  }
 ],
 "metadata": {
  "kernelspec": {
   "display_name": ".venv",
   "language": "python",
   "name": "python3"
  },
  "language_info": {
   "codemirror_mode": {
    "name": "ipython",
    "version": 3
   },
   "file_extension": ".py",
   "mimetype": "text/x-python",
   "name": "python",
   "nbconvert_exporter": "python",
   "pygments_lexer": "ipython3",
   "version": "3.10.12"
  }
 },
 "nbformat": 4,
 "nbformat_minor": 5
}
